{
 "cells": [
  {
   "cell_type": "code",
   "execution_count": 106,
   "id": "ed17a4a7",
   "metadata": {},
   "outputs": [],
   "source": [
    "import math\n",
    "import statistics"
   ]
  },
  {
   "cell_type": "code",
   "execution_count": 107,
   "id": "6b6edf17",
   "metadata": {},
   "outputs": [
    {
     "name": "stdout",
     "output_type": "stream",
     "text": [
      "8.384615384615385\n",
      "[6.615384615384615, -4.384615384615385, -5.384615384615385, -0.384615384615385, 6.615384615384615, 13.615384615384615, -1.384615384615385, 0.615384615384615, -6.384615384615385, -5.384615384615385, -5.384615384615385, 3.615384615384615, -2.384615384615385]\n",
      "[43.76, 19.22, 28.99, 0.15, 43.76, 185.38, 1.92, 0.38, 40.76, 28.99, 28.99, 13.07, 5.69]\n",
      "Variance 33.9\n",
      "Standard Deviance 5.8\n"
     ]
    }
   ],
   "source": [
    "#in1=[5,5,5,5,5,5]\n",
    "in1=[15, 4, 3, 8, 15, 22, 7, 9, 2, 3, 3, 12, 6]\n",
    "mean_in1=statistics.mean(in1)\n",
    "print(mean_in1)\n",
    "dis_in1=[(i-mean_in1) for i in in1]\n",
    "print(dis_in1)\n",
    "sq_in1=[round(number ** 2,2) for number in dis_in1]\n",
    "print(sq_in1)\n",
    "var=round(statistics.mean(sq_in1),1)\n",
    "print(\"Variance\",var)\n",
    "sq=round(math.sqrt(var),1)\n",
    "print(\"Standard Deviance\",sq)"
   ]
  },
  {
   "cell_type": "code",
   "execution_count": 108,
   "id": "d1160ea2",
   "metadata": {},
   "outputs": [
    {
     "name": "stdout",
     "output_type": "stream",
     "text": [
      "N is: 13\n",
      "Sorting List: [2, 3, 3, 3, 4, 6, 7, 8, 9, 12, 15, 15, 22]\n",
      "mean is:  8.38\n",
      "Range is: 20\n"
     ]
    }
   ],
   "source": [
    "#Calculate the Mean, Median, n\n",
    "import math\n",
    "lst=[15, 4, 3, 8, 15, 22, 7, 9, 2, 3, 3, 12, 6]\n",
    "print(\"N is:\",len(lst))\n",
    "\n",
    "#Sorting List\n",
    "lst.sort()\n",
    "print(\"Sorting List:\",lst)\n",
    "\n",
    "#mean\n",
    "print(\"mean is: \", round(statistics.mean(lst),2))\n",
    "\n",
    "#rang\n",
    "print(\"Range is:\", max(lst)-min(lst))"
   ]
  }
 ],
 "metadata": {
  "kernelspec": {
   "display_name": "Python 3 (ipykernel)",
   "language": "python",
   "name": "python3"
  },
  "language_info": {
   "codemirror_mode": {
    "name": "ipython",
    "version": 3
   },
   "file_extension": ".py",
   "mimetype": "text/x-python",
   "name": "python",
   "nbconvert_exporter": "python",
   "pygments_lexer": "ipython3",
   "version": "3.8.12"
  }
 },
 "nbformat": 4,
 "nbformat_minor": 5
}
