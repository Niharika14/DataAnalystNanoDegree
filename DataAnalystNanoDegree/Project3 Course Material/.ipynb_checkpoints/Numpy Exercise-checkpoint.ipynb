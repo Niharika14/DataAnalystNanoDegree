{
 "cells": [
  {
   "cell_type": "markdown",
   "id": "6edaf8fa",
   "metadata": {},
   "source": [
    "# 1. Import numpy as np and see the version"
   ]
  },
  {
   "cell_type": "code",
   "execution_count": 13,
   "id": "b7bd211d",
   "metadata": {},
   "outputs": [
    {
     "name": "stdout",
     "output_type": "stream",
     "text": [
      "1.21.2\n",
      "1.21.2\n"
     ]
    }
   ],
   "source": [
    "import numpy as np\n",
    "print(np.version.version)\n",
    "print(np.__version__)"
   ]
  },
  {
   "cell_type": "markdown",
   "id": "a4600c08",
   "metadata": {},
   "source": [
    "# 2. How to create a 1D array?"
   ]
  },
  {
   "cell_type": "code",
   "execution_count": 16,
   "id": "fe0a0648",
   "metadata": {},
   "outputs": [
    {
     "data": {
      "text/plain": [
       "array([0, 1, 2, 3, 4, 5, 6, 7, 8, 9])"
      ]
     },
     "execution_count": 16,
     "metadata": {},
     "output_type": "execute_result"
    }
   ],
   "source": [
    "arr=np.arange(10)\n",
    "arr"
   ]
  },
  {
   "cell_type": "markdown",
   "id": "7272f1c8",
   "metadata": {},
   "source": [
    "# 3. How to create a boolean array?"
   ]
  },
  {
   "cell_type": "code",
   "execution_count": 22,
   "id": "68f75142",
   "metadata": {},
   "outputs": [
    {
     "name": "stdout",
     "output_type": "stream",
     "text": [
      "[[ True  True  True]\n",
      " [ True  True  True]\n",
      " [ True  True  True]]\n",
      "[[ True  True  True]\n",
      " [ True  True  True]\n",
      " [ True  True  True]]\n"
     ]
    }
   ],
   "source": [
    "arr3D=np.full((3, 3), True, dtype=bool)\n",
    "print(arr3D)\n",
    "\n",
    "# Alternate method:\n",
    "arr3DAlt=np.ones((3,3), dtype=bool)\n",
    "print(arr3DAlt)"
   ]
  },
  {
   "cell_type": "markdown",
   "id": "3990b492",
   "metadata": {},
   "source": [
    "# 4. How to extract items that satisfy a given condition from 1D array?\n",
    "\n",
    ">1) Difficulty Level: L1 Q. Extract all odd numbers from arr Input:::::\n",
    "arr = np.array([0, 1, 2, 3, 4, 5, 6, 7, 8, 9])\n",
    "\n",
    ">2) Desired output:::::\n",
    "#> array([1, 3, 5, 7, 9])"
   ]
  },
  {
   "cell_type": "code",
   "execution_count": 34,
   "id": "1c463f86",
   "metadata": {},
   "outputs": [
    {
     "name": "stdout",
     "output_type": "stream",
     "text": [
      "10\n",
      "[1, 3, 5, 7, 9]\n",
      "[1 3 5 7 9]\n",
      "[1 3 5 7 9]\n"
     ]
    }
   ],
   "source": [
    "arr=np.arange(10)\n",
    "print(len(arr))\n",
    "arr1=[]\n",
    "for i in range(len(arr)):\n",
    "    if i%2 != 0:\n",
    "        arr1.append(i)\n",
    "print(arr1)\n",
    "\n",
    "print(arr[arr % 2 != 0])\n",
    "print(arr[arr % 2 == 1])"
   ]
  },
  {
   "cell_type": "markdown",
   "id": "7c3496c8",
   "metadata": {},
   "source": [
    "# 5. How to replace items that satisfy a condition with another value in numpy array?\n",
    "> Difficulty Level: L1 Q. Replace all odd numbers in arr with -1 Input:::\n",
    "arr = np.array([0, 1, 2, 3, 4, 5, 6, 7, 8, 9])\n",
    "\n",
    ">Desired Output:::\n",
    "#>  array([ 0, -1,  2, -1,  4, -1,  6, -1,  8, -1])"
   ]
  },
  {
   "cell_type": "code",
   "execution_count": 35,
   "id": "2ec99d19",
   "metadata": {},
   "outputs": [
    {
     "data": {
      "text/plain": [
       "array([ 0, -1,  2, -1,  4, -1,  6, -1,  8, -1])"
      ]
     },
     "execution_count": 35,
     "metadata": {},
     "output_type": "execute_result"
    }
   ],
   "source": [
    "arr = np.array([0, 1, 2, 3, 4, 5, 6, 7, 8, 9])\n",
    "np.where(arr % 2 !=0 , -1, arr)"
   ]
  },
  {
   "cell_type": "markdown",
   "id": "26f9cb21",
   "metadata": {},
   "source": [
    "# 6. How to replace items that satisfy a condition without affecting the original array?\n",
    ">Difficulty Level: L2 Q. Replace all odd numbers in arr with -1 without changing arr Input:\n",
    "arr = np.array([0, 1, 2, 3, 4, 5, 6, 7, 8, 9])\n",
    "\n",
    ">Desired Output:\n",
    "out\n",
    "#>  array([ 0, -1,  2, -1,  4, -1,  6, -1,  8, -1])\n",
    "arr\n",
    "#>  array([0, 1, 2, 3, 4, 5, 6, 7, 8, 9])"
   ]
  },
  {
   "cell_type": "code",
   "execution_count": 39,
   "id": "2d99e66a",
   "metadata": {},
   "outputs": [
    {
     "name": "stdout",
     "output_type": "stream",
     "text": [
      "[ 0 -1  2 -1  4 -1  6 -1  8 -1]\n",
      "[0 1 2 3 4 5 6 7 8 9]\n"
     ]
    }
   ],
   "source": [
    "arr=np.array([0,1,2,3,4,5,6,7,8,9])\n",
    "out=np.where(arr%2 != 0, -1, arr)\n",
    "print(out)\n",
    "print(arr)"
   ]
  },
  {
   "cell_type": "markdown",
   "id": "3c13c0e8",
   "metadata": {},
   "source": [
    "# 7. How to reshape an array?\n",
    ">Difficulty Level: L1 Q. Convert a 1D array to a 2D array with 2 rows Input:\n",
    "np.arange(10)\n",
    "#> array([ 0, 1, 2, 3, 4, 5, 6, 7, 8, 9])\n",
    "\n",
    ">Desired Output:\n",
    "#> array([[0, 1, 2, 3, 4],\n",
    "#>        [5, 6, 7, 8, 9]])"
   ]
  },
  {
   "cell_type": "code",
   "execution_count": 51,
   "id": "9e4f5dc5",
   "metadata": {},
   "outputs": [
    {
     "name": "stdout",
     "output_type": "stream",
     "text": [
      "[0 1 2 3 4 5 6 7 8 9]\n",
      "[[0 1 2 3 4]\n",
      " [5 6 7 8 9]]\n"
     ]
    },
    {
     "data": {
      "text/plain": [
       "array([[0, 1, 2, 3, 4],\n",
       "       [5, 6, 7, 8, 9]])"
      ]
     },
     "execution_count": 51,
     "metadata": {},
     "output_type": "execute_result"
    }
   ],
   "source": [
    "arr=np.arange(10)\n",
    "print(arr)\n",
    "\n",
    "arr2D=np.reshape(arr,(2,5))\n",
    "print(arr2D)\n",
    "\n",
    "\n",
    "arr.reshape(2, -1)"
   ]
  },
  {
   "cell_type": "markdown",
   "id": "d44fa2c1",
   "metadata": {},
   "source": [
    "# 8. How to stack two arrays vertically?\n",
    "\n",
    ">Difficulty Level: L2 Q. Stack arrays a and b vertically Input\n",
    "a = np.arange(10).reshape(2,-1)\n",
    "b = np.repeat(1, 10).reshape(2,-1)\n",
    "\n",
    ">Desired Output:\n",
    "#> array([[0, 1, 2, 3, 4],\n",
    "#>        [5, 6, 7, 8, 9],\n",
    "#>        [1, 1, 1, 1, 1],\n",
    "#>        [1, 1, 1, 1, 1]])"
   ]
  },
  {
   "cell_type": "code",
   "execution_count": 64,
   "id": "64f77796",
   "metadata": {},
   "outputs": [
    {
     "name": "stdout",
     "output_type": "stream",
     "text": [
      "Array a: [[0 1 2 3 4]\n",
      " [5 6 7 8 9]]\n",
      "Array b: [[1 1 1 1 1]\n",
      " [1 1 1 1 1]]\n",
      "Method 1: [[0 1 2 3 4]\n",
      " [5 6 7 8 9]\n",
      " [1 1 1 1 1]\n",
      " [1 1 1 1 1]]\n",
      "Method 2: [[0 1 2 3 4]\n",
      " [5 6 7 8 9]\n",
      " [1 1 1 1 1]\n",
      " [1 1 1 1 1]]\n",
      "Method 3: [[0 1 2 3 4]\n",
      " [5 6 7 8 9]\n",
      " [1 1 1 1 1]\n",
      " [1 1 1 1 1]]\n"
     ]
    }
   ],
   "source": [
    "a = np.arange(10).reshape(2,-1)\n",
    "print(\"Array a:\",a)\n",
    "b = np.repeat(1, 10).reshape(2,-1)\n",
    "print(\"Array b:\",b)\n",
    "\n",
    "# Method 1:\n",
    "print(\"Method 1:\",np.concatenate((a,b), axis=0))\n",
    "\n",
    "# Method 2:\n",
    "print(\"Method 2:\",np.vstack((a,b)))\n",
    "\n",
    "# Method 3:\n",
    "print(\"Method 3:\",np.r_[a, b])"
   ]
  },
  {
   "cell_type": "markdown",
   "id": "f2a3ab1b",
   "metadata": {},
   "source": [
    "# 9.How to stack two arrays horizontally?\n",
    ">Difficulty Level: L2 Q. Stack the arrays a and b horizontally. Input\n",
    "a = np.arange(10).reshape(2,-1)\n",
    "b = np.repeat(1, 10).reshape(2,-1)\n",
    "\n",
    ">Desired Output:\n",
    "#> array([[0, 1, 2, 3, 4, 1, 1, 1, 1, 1],\n",
    "#>        [5, 6, 7, 8, 9, 1, 1, 1, 1, 1]])"
   ]
  },
  {
   "cell_type": "code",
   "execution_count": 70,
   "id": "872ed28c",
   "metadata": {},
   "outputs": [
    {
     "name": "stdout",
     "output_type": "stream",
     "text": [
      "Array a: [[0 1 2 3 4]\n",
      " [5 6 7 8 9]]\n",
      "Array b: [[1 1 1 1 1]\n",
      " [1 1 1 1 1]]\n",
      "Method 1: [[0 1 2 3 4 1 1 1 1 1]\n",
      " [5 6 7 8 9 1 1 1 1 1]]\n",
      "Methd 2: [[0 1 2 3 4 1 1 1 1 1]\n",
      " [5 6 7 8 9 1 1 1 1 1]]\n",
      "Method 3: [[0 1 2 3 4 1 1 1 1 1]\n",
      " [5 6 7 8 9 1 1 1 1 1]]\n"
     ]
    }
   ],
   "source": [
    "a=np.arange(10).reshape(2,-1)\n",
    "print(\"Array a:\",a)\n",
    "b=np.repeat(1,10).reshape(2,-1)\n",
    "print(\"Array b:\",b)\n",
    "\n",
    "#Method 1:\n",
    "print(\"Method 1:\",np.concatenate((a,b),axis=1))\n",
    "\n",
    "#Method2:\n",
    "print(\"Methd 2:\",np.hstack((a,b)))\n",
    "\n",
    "#Method3:\n",
    "print(\"Method 3:\",np.c_[a,b])"
   ]
  },
  {
   "cell_type": "markdown",
   "id": "6e9af151",
   "metadata": {},
   "source": [
    "10. How to generate custom sequences in numpy without hardcoding?\n",
    "Difficulty Level: L2 Q. Create the following pattern without hardcoding. Use only numpy functions and the below input array a. Input:\n",
    "a = np.array([1,2,3])`\n",
    "Desired Output:\n",
    "#> array([1, 1, 1, 2, 2, 2, 3, 3, 3, 1, 2, 3, 1, 2, 3, 1, 2, 3])"
   ]
  },
  {
   "cell_type": "code",
   "execution_count": null,
   "id": "9190a5fc",
   "metadata": {},
   "outputs": [],
   "source": []
  }
 ],
 "metadata": {
  "kernelspec": {
   "display_name": "Python 3 (ipykernel)",
   "language": "python",
   "name": "python3"
  },
  "language_info": {
   "codemirror_mode": {
    "name": "ipython",
    "version": 3
   },
   "file_extension": ".py",
   "mimetype": "text/x-python",
   "name": "python",
   "nbconvert_exporter": "python",
   "pygments_lexer": "ipython3",
   "version": "3.8.12"
  }
 },
 "nbformat": 4,
 "nbformat_minor": 5
}
