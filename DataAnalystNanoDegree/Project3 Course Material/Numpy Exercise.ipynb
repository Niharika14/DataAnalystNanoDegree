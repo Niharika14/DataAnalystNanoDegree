{
 "cells": [
  {
   "cell_type": "markdown",
   "id": "abd9fb18",
   "metadata": {},
   "source": [
    "# 1. Import numpy as np and see the version"
   ]
  },
  {
   "cell_type": "code",
   "execution_count": 13,
   "id": "52a66224",
   "metadata": {},
   "outputs": [
    {
     "name": "stdout",
     "output_type": "stream",
     "text": [
      "1.21.2\n",
      "1.21.2\n"
     ]
    }
   ],
   "source": [
    "import numpy as np\n",
    "print(np.version.version)\n",
    "print(np.__version__)"
   ]
  },
  {
   "cell_type": "markdown",
   "id": "eb9327ea",
   "metadata": {},
   "source": [
    "# 2. How to create a 1D array?"
   ]
  },
  {
   "cell_type": "code",
   "execution_count": 16,
   "id": "21c24813",
   "metadata": {},
   "outputs": [
    {
     "data": {
      "text/plain": [
       "array([0, 1, 2, 3, 4, 5, 6, 7, 8, 9])"
      ]
     },
     "execution_count": 16,
     "metadata": {},
     "output_type": "execute_result"
    }
   ],
   "source": [
    "arr=np.arange(10)\n",
    "arr"
   ]
  },
  {
   "cell_type": "markdown",
   "id": "d29d9324",
   "metadata": {},
   "source": [
    "# 3. How to create a boolean array?"
   ]
  },
  {
   "cell_type": "code",
   "execution_count": 22,
   "id": "c49a9427",
   "metadata": {},
   "outputs": [
    {
     "name": "stdout",
     "output_type": "stream",
     "text": [
      "[[ True  True  True]\n",
      " [ True  True  True]\n",
      " [ True  True  True]]\n",
      "[[ True  True  True]\n",
      " [ True  True  True]\n",
      " [ True  True  True]]\n"
     ]
    }
   ],
   "source": [
    "arr3D=np.full((3, 3), True, dtype=bool)\n",
    "print(arr3D)\n",
    "\n",
    "# Alternate method:\n",
    "arr3DAlt=np.ones((3,3), dtype=bool)\n",
    "print(arr3DAlt)"
   ]
  },
  {
   "cell_type": "markdown",
   "id": "5e439103",
   "metadata": {},
   "source": [
    "# 4. How to extract items that satisfy a given condition from 1D array?\n",
    "\n",
    ">1) Difficulty Level: L1 Q. Extract all odd numbers from arr Input:::::\n",
    "arr = np.array([0, 1, 2, 3, 4, 5, 6, 7, 8, 9])\n",
    "\n",
    ">2) Desired output:::::\n",
    "#> array([1, 3, 5, 7, 9])"
   ]
  },
  {
   "cell_type": "code",
   "execution_count": 34,
   "id": "1e0a8353",
   "metadata": {},
   "outputs": [
    {
     "name": "stdout",
     "output_type": "stream",
     "text": [
      "10\n",
      "[1, 3, 5, 7, 9]\n",
      "[1 3 5 7 9]\n",
      "[1 3 5 7 9]\n"
     ]
    }
   ],
   "source": [
    "arr=np.arange(10)\n",
    "print(len(arr))\n",
    "arr1=[]\n",
    "for i in range(len(arr)):\n",
    "    if i%2 != 0:\n",
    "        arr1.append(i)\n",
    "print(arr1)\n",
    "\n",
    "print(arr[arr % 2 != 0])\n",
    "print(arr[arr % 2 == 1])"
   ]
  },
  {
   "cell_type": "markdown",
   "id": "08ff72cc",
   "metadata": {},
   "source": [
    "# 5. How to replace items that satisfy a condition with another value in numpy array?\n",
    "> Difficulty Level: L1 Q. Replace all odd numbers in arr with -1 Input:::\n",
    "arr = np.array([0, 1, 2, 3, 4, 5, 6, 7, 8, 9])\n",
    "\n",
    ">Desired Output:::\n",
    "#>  array([ 0, -1,  2, -1,  4, -1,  6, -1,  8, -1])"
   ]
  },
  {
   "cell_type": "code",
   "execution_count": 35,
   "id": "96eb706c",
   "metadata": {},
   "outputs": [
    {
     "data": {
      "text/plain": [
       "array([ 0, -1,  2, -1,  4, -1,  6, -1,  8, -1])"
      ]
     },
     "execution_count": 35,
     "metadata": {},
     "output_type": "execute_result"
    }
   ],
   "source": [
    "arr = np.array([0, 1, 2, 3, 4, 5, 6, 7, 8, 9])\n",
    "np.where(arr % 2 !=0 , -1, arr)"
   ]
  },
  {
   "cell_type": "markdown",
   "id": "daecbf44",
   "metadata": {},
   "source": [
    "# 6. How to replace items that satisfy a condition without affecting the original array?\n",
    ">Difficulty Level: L2 Q. Replace all odd numbers in arr with -1 without changing arr Input:\n",
    "arr = np.array([0, 1, 2, 3, 4, 5, 6, 7, 8, 9])\n",
    "\n",
    ">Desired Output:\n",
    "out\n",
    "#>  array([ 0, -1,  2, -1,  4, -1,  6, -1,  8, -1])\n",
    "arr\n",
    "#>  array([0, 1, 2, 3, 4, 5, 6, 7, 8, 9])"
   ]
  },
  {
   "cell_type": "code",
   "execution_count": 39,
   "id": "26a89f14",
   "metadata": {},
   "outputs": [
    {
     "name": "stdout",
     "output_type": "stream",
     "text": [
      "[ 0 -1  2 -1  4 -1  6 -1  8 -1]\n",
      "[0 1 2 3 4 5 6 7 8 9]\n"
     ]
    }
   ],
   "source": [
    "arr=np.array([0,1,2,3,4,5,6,7,8,9])\n",
    "out=np.where(arr%2 != 0, -1, arr)\n",
    "print(out)\n",
    "print(arr)"
   ]
  },
  {
   "cell_type": "markdown",
   "id": "4e3f9754",
   "metadata": {},
   "source": [
    "# 7. How to reshape an array?\n",
    ">Difficulty Level: L1 Q. Convert a 1D array to a 2D array with 2 rows Input:\n",
    "np.arange(10)\n",
    "#> array([ 0, 1, 2, 3, 4, 5, 6, 7, 8, 9])\n",
    "\n",
    ">Desired Output:\n",
    "#> array([[0, 1, 2, 3, 4],\n",
    "#>        [5, 6, 7, 8, 9]])"
   ]
  },
  {
   "cell_type": "code",
   "execution_count": 51,
   "id": "44b77f46",
   "metadata": {},
   "outputs": [
    {
     "name": "stdout",
     "output_type": "stream",
     "text": [
      "[0 1 2 3 4 5 6 7 8 9]\n",
      "[[0 1 2 3 4]\n",
      " [5 6 7 8 9]]\n"
     ]
    },
    {
     "data": {
      "text/plain": [
       "array([[0, 1, 2, 3, 4],\n",
       "       [5, 6, 7, 8, 9]])"
      ]
     },
     "execution_count": 51,
     "metadata": {},
     "output_type": "execute_result"
    }
   ],
   "source": [
    "arr=np.arange(10)\n",
    "print(arr)\n",
    "\n",
    "arr2D=np.reshape(arr,(2,5))\n",
    "print(arr2D)\n",
    "\n",
    "\n",
    "arr.reshape(2, -1)"
   ]
  },
  {
   "cell_type": "markdown",
   "id": "c2e6663e",
   "metadata": {},
   "source": [
    "# 8. How to stack two arrays vertically?\n",
    "\n",
    ">Difficulty Level: L2 Q. Stack arrays a and b vertically Input\n",
    "a = np.arange(10).reshape(2,-1)\n",
    "b = np.repeat(1, 10).reshape(2,-1)\n",
    "\n",
    ">Desired Output:\n",
    "#> array([[0, 1, 2, 3, 4],\n",
    "#>        [5, 6, 7, 8, 9],\n",
    "#>        [1, 1, 1, 1, 1],\n",
    "#>        [1, 1, 1, 1, 1]])"
   ]
  },
  {
   "cell_type": "code",
   "execution_count": 64,
   "id": "fab98e58",
   "metadata": {},
   "outputs": [
    {
     "name": "stdout",
     "output_type": "stream",
     "text": [
      "Array a: [[0 1 2 3 4]\n",
      " [5 6 7 8 9]]\n",
      "Array b: [[1 1 1 1 1]\n",
      " [1 1 1 1 1]]\n",
      "Method 1: [[0 1 2 3 4]\n",
      " [5 6 7 8 9]\n",
      " [1 1 1 1 1]\n",
      " [1 1 1 1 1]]\n",
      "Method 2: [[0 1 2 3 4]\n",
      " [5 6 7 8 9]\n",
      " [1 1 1 1 1]\n",
      " [1 1 1 1 1]]\n",
      "Method 3: [[0 1 2 3 4]\n",
      " [5 6 7 8 9]\n",
      " [1 1 1 1 1]\n",
      " [1 1 1 1 1]]\n"
     ]
    }
   ],
   "source": [
    "a = np.arange(10).reshape(2,-1)\n",
    "print(\"Array a:\",a)\n",
    "b = np.repeat(1, 10).reshape(2,-1)\n",
    "print(\"Array b:\",b)\n",
    "\n",
    "# Method 1:\n",
    "print(\"Method 1:\",np.concatenate((a,b), axis=0))\n",
    "\n",
    "# Method 2:\n",
    "print(\"Method 2:\",np.vstack((a,b)))\n",
    "\n",
    "# Method 3:\n",
    "print(\"Method 3:\",np.r_[a, b])"
   ]
  },
  {
   "cell_type": "markdown",
   "id": "1d145e9e",
   "metadata": {},
   "source": [
    "# 9.How to stack two arrays horizontally?\n",
    ">Difficulty Level: L2 Q. Stack the arrays a and b horizontally. Input\n",
    "a = np.arange(10).reshape(2,-1)\n",
    "b = np.repeat(1, 10).reshape(2,-1)\n",
    "\n",
    ">Desired Output:\n",
    "#> array([[0, 1, 2, 3, 4, 1, 1, 1, 1, 1],\n",
    "#>        [5, 6, 7, 8, 9, 1, 1, 1, 1, 1]])"
   ]
  },
  {
   "cell_type": "code",
   "execution_count": 70,
   "id": "b41227d4",
   "metadata": {},
   "outputs": [
    {
     "name": "stdout",
     "output_type": "stream",
     "text": [
      "Array a: [[0 1 2 3 4]\n",
      " [5 6 7 8 9]]\n",
      "Array b: [[1 1 1 1 1]\n",
      " [1 1 1 1 1]]\n",
      "Method 1: [[0 1 2 3 4 1 1 1 1 1]\n",
      " [5 6 7 8 9 1 1 1 1 1]]\n",
      "Methd 2: [[0 1 2 3 4 1 1 1 1 1]\n",
      " [5 6 7 8 9 1 1 1 1 1]]\n",
      "Method 3: [[0 1 2 3 4 1 1 1 1 1]\n",
      " [5 6 7 8 9 1 1 1 1 1]]\n"
     ]
    }
   ],
   "source": [
    "a=np.arange(10).reshape(2,-1)\n",
    "print(\"Array a:\",a)\n",
    "b=np.repeat(1,10).reshape(2,-1)\n",
    "print(\"Array b:\",b)\n",
    "\n",
    "#Method 1:\n",
    "print(\"Method 1:\",np.concatenate((a,b),axis=1))\n",
    "\n",
    "#Method2:\n",
    "print(\"Methd 2:\",np.hstack((a,b)))\n",
    "\n",
    "#Method3:\n",
    "print(\"Method 3:\",np.c_[a,b])"
   ]
  },
  {
   "cell_type": "markdown",
   "id": "d7e9a081",
   "metadata": {},
   "source": [
    "# 10. How to generate custom sequences in numpy without hardcoding?\n",
    ">Difficulty Level: L2 Q. Create the following pattern without hardcoding. Use only numpy functions and the below input array a. Input:\n",
    "a = np.array([1,2,3])`\n",
    "\n",
    ">Desired Output:\n",
    "#> array([1, 1, 1, 2, 2, 2, 3, 3, 3, 1, 2, 3, 1, 2, 3, 1, 2, 3])"
   ]
  },
  {
   "cell_type": "code",
   "execution_count": 76,
   "id": "ed524848",
   "metadata": {},
   "outputs": [
    {
     "data": {
      "text/plain": [
       "array([1, 1, 1, 2, 2, 2, 3, 3, 3, 1, 2, 3, 1, 2, 3, 1, 2, 3])"
      ]
     },
     "execution_count": 76,
     "metadata": {},
     "output_type": "execute_result"
    }
   ],
   "source": [
    "a = np.array([1,2,3])\n",
    "np.r_[np.repeat(a,3),np.tile(a,3)]"
   ]
  },
  {
   "cell_type": "markdown",
   "id": "48f93293",
   "metadata": {},
   "source": [
    "# 11. How to get the common items between two python numpy arrays?\n",
    ">Difficulty Level: L2 Q. Get the common items between a and b Input:\n",
    "a = np.array([1,2,3,2,3,4,3,4,5,6])\n",
    "b = np.array([7,2,10,2,7,4,9,4,9,8])\n",
    "\n",
    ">Desired Output:\n",
    "array([2, 4])"
   ]
  },
  {
   "cell_type": "code",
   "execution_count": 82,
   "id": "7e92cc91",
   "metadata": {},
   "outputs": [
    {
     "name": "stdout",
     "output_type": "stream",
     "text": [
      "Array a: [1 2 3 2 3 4 3 4 5 6]\n",
      "Array b: [ 7  2 10  2  7  4  9  4  9  8]\n"
     ]
    },
    {
     "data": {
      "text/plain": [
       "array([2, 4])"
      ]
     },
     "execution_count": 82,
     "metadata": {},
     "output_type": "execute_result"
    }
   ],
   "source": [
    "a = np.array([1,2,3,2,3,4,3,4,5,6])\n",
    "print(\"Array a:\", a)\n",
    "b = np.array([7,2,10,2,7,4,9,4,9,8])\n",
    "print(\"Array b:\", b)\n",
    "np.intersect1d(a,b)"
   ]
  },
  {
   "cell_type": "code",
   "execution_count": null,
   "id": "64d99def",
   "metadata": {},
   "outputs": [],
   "source": []
  },
  {
   "cell_type": "code",
   "execution_count": null,
   "id": "0835b8d2",
   "metadata": {},
   "outputs": [],
   "source": []
  },
  {
   "cell_type": "code",
   "execution_count": null,
   "id": "2b0d0657",
   "metadata": {},
   "outputs": [],
   "source": []
  },
  {
   "cell_type": "code",
   "execution_count": null,
   "id": "23e201dc",
   "metadata": {},
   "outputs": [],
   "source": []
  }
 ],
 "metadata": {
  "kernelspec": {
   "display_name": "Python 3 (ipykernel)",
   "language": "python",
   "name": "python3"
  },
  "language_info": {
   "codemirror_mode": {
    "name": "ipython",
    "version": 3
   },
   "file_extension": ".py",
   "mimetype": "text/x-python",
   "name": "python",
   "nbconvert_exporter": "python",
   "pygments_lexer": "ipython3",
   "version": "3.8.12"
  }
 },
 "nbformat": 4,
 "nbformat_minor": 5
}
