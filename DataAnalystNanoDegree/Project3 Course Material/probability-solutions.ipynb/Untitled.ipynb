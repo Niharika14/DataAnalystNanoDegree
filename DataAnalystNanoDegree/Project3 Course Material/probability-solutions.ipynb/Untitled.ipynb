{
 "cells": [
  {
   "cell_type": "code",
   "execution_count": 2,
   "id": "123563d5",
   "metadata": {},
   "outputs": [],
   "source": [
    "# import numpy\n",
    "import numpy as np"
   ]
  },
  {
   "cell_type": "code",
   "execution_count": 26,
   "id": "9844ec62",
   "metadata": {},
   "outputs": [
    {
     "data": {
      "text/plain": [
       "array([[0, 0, 0],\n",
       "       [0, 1, 1],\n",
       "       [1, 1, 1],\n",
       "       [1, 1, 0],\n",
       "       [1, 0, 1],\n",
       "       [1, 0, 1],\n",
       "       [0, 0, 1],\n",
       "       [0, 1, 0],\n",
       "       [1, 0, 0],\n",
       "       [0, 0, 0]])"
      ]
     },
     "execution_count": 26,
     "metadata": {},
     "output_type": "execute_result"
    }
   ],
   "source": [
    "tests=np.random.randint(2,size=(10,3))\n",
    "tests"
   ]
  },
  {
   "cell_type": "code",
   "execution_count": 24,
   "id": "16d87a06",
   "metadata": {},
   "outputs": [
    {
     "data": {
      "text/plain": [
       "array([1, 1, 1, 1, 2, 0, 3, 0, 1, 1])"
      ]
     },
     "execution_count": 24,
     "metadata": {},
     "output_type": "execute_result"
    }
   ],
   "source": [
    "test_sums = tests.sum(axis=1)\n",
    "test_sums"
   ]
  },
  {
   "cell_type": "code",
   "execution_count": 25,
   "id": "666d5a15",
   "metadata": {},
   "outputs": [
    {
     "data": {
      "text/plain": [
       "array([False, False, False, False, False,  True, False,  True, False,\n",
       "       False])"
      ]
     },
     "execution_count": 25,
     "metadata": {},
     "output_type": "execute_result"
    }
   ],
   "source": [
    "(test_sums == 0)"
   ]
  },
  {
   "cell_type": "code",
   "execution_count": 32,
   "id": "4e31b94f",
   "metadata": {},
   "outputs": [
    {
     "data": {
      "text/plain": [
       "0.5"
      ]
     },
     "execution_count": 32,
     "metadata": {},
     "output_type": "execute_result"
    }
   ],
   "source": [
    "# simulate 1 million tests of one die roll\n",
    "tests = np.random.choice(np.arange(1, 7), size=int(10))\n",
    "tests\n",
    "# proportion of tests that produced an even number\n",
    "(tests % 2 == 0).mean()"
   ]
  },
  {
   "cell_type": "code",
   "execution_count": 49,
   "id": "462d359e",
   "metadata": {},
   "outputs": [
    {
     "name": "stdout",
     "output_type": "stream",
     "text": [
      "[3 2 1 6 1 1 5 3 2 3 3 5 5 5 2 3 3 3 2 5 3 4 5 1 3 4 1 5 3 6 6 4 4 6 4 4 3\n",
      " 2 4 1 5 2 1 6 1 6 1 3 1 1 6 3 2 2 1 1 4 2 1 1 3 1 3 4 6 2 1 6 6 5 1 3 6 2\n",
      " 5 2 6 6 5 4 4 4 5 4 1 1 1 3 5 4 1 6 1 5 5 1 2 4 1 4]\n",
      "[1 6 1 5 4 1 1 5 1 2 6 3 2 6 6 5 5 6 4 2 2 6 3 1 4 4 1 4 1 3 6 1 1 6 4 4 1\n",
      " 3 1 2 6 3 2 1 3 4 6 5 1 5 5 5 1 5 2 3 1 5 1 6 4 5 6 3 2 6 6 3 4 1 6 1 3 5\n",
      " 1 6 3 1 3 4 3 5 1 1 4 5 1 4 1 4 2 6 6 4 3 5 6 3 3 6]\n",
      "[False False  True False False  True False False False False False False\n",
      " False False False False False False False False False False False  True\n",
      " False  True  True False False False  True False False  True  True  True\n",
      " False False False False False False False False False False False False\n",
      "  True False False False False False False False False False  True False\n",
      " False False False False False False False False False False False False\n",
      " False False False False False False False  True False False False False\n",
      " False False  True False False  True False  True False False False False\n",
      " False False False False]\n"
     ]
    },
    {
     "data": {
      "text/plain": [
       "0.15"
      ]
     },
     "execution_count": 49,
     "metadata": {},
     "output_type": "execute_result"
    }
   ],
   "source": [
    "# simulate the first million die rolls\n",
    "first = np.random.choice(np.arange(1,7),size=(int(100)))\n",
    "\n",
    "# simulate the second million die rolls\n",
    "second = np.random.choice(np.arange(1,7),size=(int(100)))\n",
    "\n",
    "# proportion of tests where the 1st and 2nd die rolled the same number\n",
    "print(first)\n",
    "print(second)\n",
    "print(first==second)\n",
    "(first==second).mean()"
   ]
  },
  {
   "cell_type": "code",
   "execution_count": 50,
   "id": "e11c5b80",
   "metadata": {},
   "outputs": [
    {
     "data": {
      "text/plain": [
       "0.500312"
      ]
     },
     "execution_count": 50,
     "metadata": {},
     "output_type": "execute_result"
    }
   ],
   "source": [
    "# simulate 1 million tests of one fair coin flip\n",
    "# remember, the output of these tests are the # successes, or # heads\n",
    "tests = np.random.binomial(1, 0.5, int(1e6))\n",
    "\n",
    "# proportion of tests that produced heads\n",
    "(tests == 1).mean()"
   ]
  },
  {
   "cell_type": "markdown",
   "id": "026de355",
   "metadata": {},
   "source": [
    "### 2. Five fair coin flips produce exactly one head"
   ]
  },
  {
   "cell_type": "code",
   "execution_count": 58,
   "id": "8cea682f",
   "metadata": {},
   "outputs": [
    {
     "data": {
      "text/plain": [
       "0.13"
      ]
     },
     "execution_count": 58,
     "metadata": {},
     "output_type": "execute_result"
    }
   ],
   "source": [
    "# simulate 1 million tests of five fair coin flips\n",
    "tests = np.random.binomial(5,0.5,int(100))\n",
    "tests\n",
    "# proportion of tests that produced 1 head\n",
    "(tests == 1).mean()"
   ]
  },
  {
   "cell_type": "code",
   "execution_count": null,
   "id": "ce4e8781",
   "metadata": {},
   "outputs": [],
   "source": []
  },
  {
   "cell_type": "code",
   "execution_count": null,
   "id": "3af28765",
   "metadata": {},
   "outputs": [],
   "source": []
  }
 ],
 "metadata": {
  "kernelspec": {
   "display_name": "Python 3 (ipykernel)",
   "language": "python",
   "name": "python3"
  },
  "language_info": {
   "codemirror_mode": {
    "name": "ipython",
    "version": 3
   },
   "file_extension": ".py",
   "mimetype": "text/x-python",
   "name": "python",
   "nbconvert_exporter": "python",
   "pygments_lexer": "ipython3",
   "version": "3.8.12"
  }
 },
 "nbformat": 4,
 "nbformat_minor": 5
}
