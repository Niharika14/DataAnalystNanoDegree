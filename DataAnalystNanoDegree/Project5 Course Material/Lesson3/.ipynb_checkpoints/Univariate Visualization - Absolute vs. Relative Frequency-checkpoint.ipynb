{
 "cells": [
  {
   "cell_type": "code",
   "execution_count": 58,
   "id": "6b35681f",
   "metadata": {},
   "outputs": [],
   "source": [
    "import numpy as np\n",
    "import pandas as pd\n",
    "import seaborn as sb\n",
    "import matplotlib.pyplot as plt\n",
    "\n",
    "%matplotlib inline"
   ]
  },
  {
   "cell_type": "code",
   "execution_count": 59,
   "id": "519087c1",
   "metadata": {},
   "outputs": [],
   "source": [
    "from matplotlib import rcParams\n",
    "# Specify the figure size in inches, for both X, and Y axes\n",
    "rcParams['figure.figsize'] = 12,4"
   ]
  },
  {
   "cell_type": "code",
   "execution_count": 60,
   "id": "4b3a3b9a",
   "metadata": {},
   "outputs": [
    {
     "data": {
      "text/html": [
       "<div>\n",
       "<style scoped>\n",
       "    .dataframe tbody tr th:only-of-type {\n",
       "        vertical-align: middle;\n",
       "    }\n",
       "\n",
       "    .dataframe tbody tr th {\n",
       "        vertical-align: top;\n",
       "    }\n",
       "\n",
       "    .dataframe thead th {\n",
       "        text-align: right;\n",
       "    }\n",
       "</style>\n",
       "<table border=\"1\" class=\"dataframe\">\n",
       "  <thead>\n",
       "    <tr style=\"text-align: right;\">\n",
       "      <th></th>\n",
       "      <th>id</th>\n",
       "      <th>species</th>\n",
       "      <th>generation_id</th>\n",
       "      <th>height</th>\n",
       "      <th>weight</th>\n",
       "      <th>base_experience</th>\n",
       "      <th>type_1</th>\n",
       "      <th>type_2</th>\n",
       "      <th>hp</th>\n",
       "      <th>attack</th>\n",
       "      <th>defense</th>\n",
       "      <th>speed</th>\n",
       "      <th>special-attack</th>\n",
       "      <th>special-defense</th>\n",
       "    </tr>\n",
       "  </thead>\n",
       "  <tbody>\n",
       "    <tr>\n",
       "      <th>0</th>\n",
       "      <td>1</td>\n",
       "      <td>bulbasaur</td>\n",
       "      <td>1</td>\n",
       "      <td>0.7</td>\n",
       "      <td>6.9</td>\n",
       "      <td>64</td>\n",
       "      <td>grass</td>\n",
       "      <td>poison</td>\n",
       "      <td>45</td>\n",
       "      <td>49</td>\n",
       "      <td>49</td>\n",
       "      <td>45</td>\n",
       "      <td>65</td>\n",
       "      <td>65</td>\n",
       "    </tr>\n",
       "    <tr>\n",
       "      <th>1</th>\n",
       "      <td>2</td>\n",
       "      <td>ivysaur</td>\n",
       "      <td>1</td>\n",
       "      <td>1.0</td>\n",
       "      <td>13.0</td>\n",
       "      <td>142</td>\n",
       "      <td>grass</td>\n",
       "      <td>poison</td>\n",
       "      <td>60</td>\n",
       "      <td>62</td>\n",
       "      <td>63</td>\n",
       "      <td>60</td>\n",
       "      <td>80</td>\n",
       "      <td>80</td>\n",
       "    </tr>\n",
       "    <tr>\n",
       "      <th>2</th>\n",
       "      <td>3</td>\n",
       "      <td>venusaur</td>\n",
       "      <td>1</td>\n",
       "      <td>2.0</td>\n",
       "      <td>100.0</td>\n",
       "      <td>236</td>\n",
       "      <td>grass</td>\n",
       "      <td>poison</td>\n",
       "      <td>80</td>\n",
       "      <td>82</td>\n",
       "      <td>83</td>\n",
       "      <td>80</td>\n",
       "      <td>100</td>\n",
       "      <td>100</td>\n",
       "    </tr>\n",
       "    <tr>\n",
       "      <th>3</th>\n",
       "      <td>4</td>\n",
       "      <td>charmander</td>\n",
       "      <td>1</td>\n",
       "      <td>0.6</td>\n",
       "      <td>8.5</td>\n",
       "      <td>62</td>\n",
       "      <td>fire</td>\n",
       "      <td>NaN</td>\n",
       "      <td>39</td>\n",
       "      <td>52</td>\n",
       "      <td>43</td>\n",
       "      <td>65</td>\n",
       "      <td>60</td>\n",
       "      <td>50</td>\n",
       "    </tr>\n",
       "    <tr>\n",
       "      <th>4</th>\n",
       "      <td>5</td>\n",
       "      <td>charmeleon</td>\n",
       "      <td>1</td>\n",
       "      <td>1.1</td>\n",
       "      <td>19.0</td>\n",
       "      <td>142</td>\n",
       "      <td>fire</td>\n",
       "      <td>NaN</td>\n",
       "      <td>58</td>\n",
       "      <td>64</td>\n",
       "      <td>58</td>\n",
       "      <td>80</td>\n",
       "      <td>80</td>\n",
       "      <td>65</td>\n",
       "    </tr>\n",
       "  </tbody>\n",
       "</table>\n",
       "</div>"
      ],
      "text/plain": [
       "   id     species  generation_id  height  weight  base_experience type_1  \\\n",
       "0   1   bulbasaur              1     0.7     6.9               64  grass   \n",
       "1   2     ivysaur              1     1.0    13.0              142  grass   \n",
       "2   3    venusaur              1     2.0   100.0              236  grass   \n",
       "3   4  charmander              1     0.6     8.5               62   fire   \n",
       "4   5  charmeleon              1     1.1    19.0              142   fire   \n",
       "\n",
       "   type_2  hp  attack  defense  speed  special-attack  special-defense  \n",
       "0  poison  45      49       49     45              65               65  \n",
       "1  poison  60      62       63     60              80               80  \n",
       "2  poison  80      82       83     80             100              100  \n",
       "3     NaN  39      52       43     65              60               50  \n",
       "4     NaN  58      64       58     80              80               65  "
      ]
     },
     "execution_count": 60,
     "metadata": {},
     "output_type": "execute_result"
    }
   ],
   "source": [
    "pokemon =pd.read_csv('pokemon.csv')\n",
    "pokemon.head()"
   ]
  },
  {
   "cell_type": "code",
   "execution_count": 61,
   "id": "dc5d9281",
   "metadata": {},
   "outputs": [
    {
     "data": {
      "text/plain": [
       "Index(['id', 'species', 'generation_id', 'height', 'weight', 'base_experience',\n",
       "       'type_1', 'type_2', 'hp', 'attack', 'defense', 'speed',\n",
       "       'special-attack', 'special-defense'],\n",
       "      dtype='object')"
      ]
     },
     "execution_count": 61,
     "metadata": {},
     "output_type": "execute_result"
    }
   ],
   "source": [
    "pokemon.columns"
   ]
  },
  {
   "cell_type": "markdown",
   "id": "bdf28a54",
   "metadata": {},
   "source": [
    ">Data Wrangling Step\n"
   ]
  },
  {
   "cell_type": "code",
   "execution_count": 62,
   "id": "d1a84a93",
   "metadata": {},
   "outputs": [
    {
     "data": {
      "text/html": [
       "<div>\n",
       "<style scoped>\n",
       "    .dataframe tbody tr th:only-of-type {\n",
       "        vertical-align: middle;\n",
       "    }\n",
       "\n",
       "    .dataframe tbody tr th {\n",
       "        vertical-align: top;\n",
       "    }\n",
       "\n",
       "    .dataframe thead th {\n",
       "        text-align: right;\n",
       "    }\n",
       "</style>\n",
       "<table border=\"1\" class=\"dataframe\">\n",
       "  <thead>\n",
       "    <tr style=\"text-align: right;\">\n",
       "      <th></th>\n",
       "      <th>id</th>\n",
       "      <th>species</th>\n",
       "      <th>type_level</th>\n",
       "      <th>type</th>\n",
       "    </tr>\n",
       "  </thead>\n",
       "  <tbody>\n",
       "    <tr>\n",
       "      <th>46</th>\n",
       "      <td>47</td>\n",
       "      <td>parasect</td>\n",
       "      <td>type_1</td>\n",
       "      <td>bug</td>\n",
       "    </tr>\n",
       "    <tr>\n",
       "      <th>329</th>\n",
       "      <td>330</td>\n",
       "      <td>flygon</td>\n",
       "      <td>type_1</td>\n",
       "      <td>ground</td>\n",
       "    </tr>\n",
       "    <tr>\n",
       "      <th>688</th>\n",
       "      <td>689</td>\n",
       "      <td>barbaracle</td>\n",
       "      <td>type_1</td>\n",
       "      <td>rock</td>\n",
       "    </tr>\n",
       "    <tr>\n",
       "      <th>1047</th>\n",
       "      <td>241</td>\n",
       "      <td>miltank</td>\n",
       "      <td>type_2</td>\n",
       "      <td>NaN</td>\n",
       "    </tr>\n",
       "    <tr>\n",
       "      <th>684</th>\n",
       "      <td>685</td>\n",
       "      <td>slurpuff</td>\n",
       "      <td>type_1</td>\n",
       "      <td>fairy</td>\n",
       "    </tr>\n",
       "    <tr>\n",
       "      <th>526</th>\n",
       "      <td>527</td>\n",
       "      <td>woobat</td>\n",
       "      <td>type_1</td>\n",
       "      <td>psychic</td>\n",
       "    </tr>\n",
       "    <tr>\n",
       "      <th>1143</th>\n",
       "      <td>337</td>\n",
       "      <td>lunatone</td>\n",
       "      <td>type_2</td>\n",
       "      <td>psychic</td>\n",
       "    </tr>\n",
       "    <tr>\n",
       "      <th>1582</th>\n",
       "      <td>776</td>\n",
       "      <td>turtonator</td>\n",
       "      <td>type_2</td>\n",
       "      <td>dragon</td>\n",
       "    </tr>\n",
       "    <tr>\n",
       "      <th>308</th>\n",
       "      <td>309</td>\n",
       "      <td>electrike</td>\n",
       "      <td>type_1</td>\n",
       "      <td>electric</td>\n",
       "    </tr>\n",
       "    <tr>\n",
       "      <th>582</th>\n",
       "      <td>583</td>\n",
       "      <td>vanillish</td>\n",
       "      <td>type_1</td>\n",
       "      <td>ice</td>\n",
       "    </tr>\n",
       "  </tbody>\n",
       "</table>\n",
       "</div>"
      ],
      "text/plain": [
       "       id     species type_level      type\n",
       "46     47    parasect     type_1       bug\n",
       "329   330      flygon     type_1    ground\n",
       "688   689  barbaracle     type_1      rock\n",
       "1047  241     miltank     type_2       NaN\n",
       "684   685    slurpuff     type_1     fairy\n",
       "526   527      woobat     type_1   psychic\n",
       "1143  337    lunatone     type_2   psychic\n",
       "1582  776  turtonator     type_2    dragon\n",
       "308   309   electrike     type_1  electric\n",
       "582   583   vanillish     type_1       ice"
      ]
     },
     "execution_count": 62,
     "metadata": {},
     "output_type": "execute_result"
    }
   ],
   "source": [
    "pokemon_types=pokemon.melt(id_vars=['id', 'species'],\n",
    "            value_vars=['type_1', 'type_2'],\n",
    "            var_name='type_level',\n",
    "            value_name='type')\n",
    "pokemon_types.sample(10)"
   ]
  },
  {
   "cell_type": "markdown",
   "id": "7cbb4d0d",
   "metadata": {},
   "source": [
    ">Example 1 - Step 3. Find the frequency of unique values in the type column\n"
   ]
  },
  {
   "cell_type": "code",
   "execution_count": 63,
   "id": "1990569c",
   "metadata": {},
   "outputs": [],
   "source": [
    "type_counts=pokemon_types['type'].value_counts()\n",
    "type_orders=type_counts.index"
   ]
  },
  {
   "cell_type": "markdown",
   "id": "7d679dd8",
   "metadata": {},
   "source": [
    ">Example 1 - Step 4. Plot the horizontal bar charts\n"
   ]
  },
  {
   "cell_type": "code",
   "execution_count": 64,
   "id": "97e16851",
   "metadata": {},
   "outputs": [
    {
     "data": {
      "image/png": "[encoded data removed]",
      "text/plain": [
       "<Figure size 864x288 with 1 Axes>"
      ]
     },
     "metadata": {
      "needs_background": "light"
     },
     "output_type": "display_data"
    }
   ],
   "source": [
    "basecolor=sb.color_palette()[8]\n",
    "sb.countplot(data=pokemon_types, y='type', color=basecolor,\n",
    "            order=type_orders);"
   ]
  },
  {
   "cell_type": "markdown",
   "id": "e1ab9a29",
   "metadata": {},
   "source": [
    ">Example 2. Plot a bar chart having the proportions, instead of the actual count, on one of the axes.\n",
    "<br>Example 2 - Step 1. Find the Correction 1: the variable 'identifier' shown in the video is actually the 'species' column in the dataset."
   ]
  },
  {
   "cell_type": "code",
   "execution_count": 65,
   "id": "075ef393",
   "metadata": {},
   "outputs": [
    {
     "name": "stdout",
     "output_type": "stream",
     "text": [
      "water       131\n",
      "normal      109\n",
      "flying       98\n",
      "grass        97\n",
      "psychic      82\n",
      "bug          77\n",
      "poison       66\n",
      "ground       64\n",
      "fire         64\n",
      "rock         60\n",
      "fighting     54\n",
      "electric     48\n",
      "fairy        47\n",
      "steel        47\n",
      "dark         46\n",
      "dragon       45\n",
      "ghost        43\n",
      "ice          34\n",
      "Name: type, dtype: int64\n",
      "1212\n",
      "131\n",
      "0.10808580858085809\n"
     ]
    }
   ],
   "source": [
    "print(pokemon_types['type'].value_counts())\n",
    "\n",
    "# Returns the sum of all not-null values in `type` column\n",
    "n_pokemon = pokemon_types['type'].value_counts().sum()\n",
    "print(n_pokemon)\n",
    "\n",
    "\n",
    "# Return the highest frequency in the `type` column\n",
    "max_type_count = type_counts[0]\n",
    "print(max_type_count)\n",
    "\n",
    "\n",
    "# Return the maximum proportion, or in other words, \n",
    "# compute the length of the longest bar in terms of the proportion\n",
    "max_prop = max_type_count / n_pokemon\n",
    "print(max_prop)"
   ]
  },
  {
   "cell_type": "markdown",
   "id": "1a9b4cd1",
   "metadata": {},
   "source": [
    ">Example 2 - Step 2. Create an array of evenly spaced proportioned values\n"
   ]
  },
  {
   "cell_type": "code",
   "execution_count": 66,
   "id": "acc840c3",
   "metadata": {},
   "outputs": [
    {
     "data": {
      "text/plain": [
       "array([0.  , 0.02, 0.04, 0.06, 0.08, 0.1 ])"
      ]
     },
     "execution_count": 66,
     "metadata": {},
     "output_type": "execute_result"
    }
   ],
   "source": [
    "ticks_props=np.arange(0,max_prop,0.02)\n",
    "ticks_props"
   ]
  },
  {
   "cell_type": "markdown",
   "id": "6c44bc03",
   "metadata": {},
   "source": [
    ">Example 2 - Step 3. Create a list of String values that can be used as tick labels."
   ]
  },
  {
   "cell_type": "code",
   "execution_count": 67,
   "id": "1e2c7dcb",
   "metadata": {},
   "outputs": [
    {
     "data": {
      "text/plain": [
       "['0.00', '0.02', '0.04', '0.06', '0.08', '0.10']"
      ]
     },
     "execution_count": 67,
     "metadata": {},
     "output_type": "execute_result"
    }
   ],
   "source": [
    "# Use a list comprehension to create tick_names that we will apply to the tick labels. \n",
    "# Pick each element `v` from the `tick_props`, and convert it into a formatted string.\n",
    "# `{:0.2f}` denotes that before formatting, we 2 digits of precision and `f` is used to represent floating point number.\n",
    "# Refer [here](https://docs.python.org/2/library/string.html#format-string-syntax) for more details\n",
    "\n",
    "ticks_names=['{:0.2f}'.format(v) for v in ticks_props]\n",
    "ticks_names"
   ]
  },
  {
   "cell_type": "markdown",
   "id": "439edd83",
   "metadata": {},
   "source": [
    ">Example 2 - Step 4. Plot the bar chart, with new x-tick labels\n"
   ]
  },
  {
   "cell_type": "code",
   "execution_count": 68,
   "id": "ad3a0aec",
   "metadata": {},
   "outputs": [
    {
     "data": {
      "image/png": "[encoded data removed]",
      "text/plain": [
       "<Figure size 864x288 with 1 Axes>"
      ]
     },
     "metadata": {
      "needs_background": "light"
     },
     "output_type": "display_data"
    }
   ],
   "source": [
    "sb.countplot(data= pokemon_types, y='type', color=basecolor,\n",
    "            order=type_orders);\n",
    "plt.xticks(ticks_props*n_pokemon, ticks_names);"
   ]
  },
  {
   "cell_type": "markdown",
   "id": "eed88d3a",
   "metadata": {},
   "source": [
    ">Example 3. Print the text (proportion) on the bars of a horizontal plot.\n"
   ]
  },
  {
   "cell_type": "code",
   "execution_count": 69,
   "id": "04f1fdfa",
   "metadata": {},
   "outputs": [
    {
     "data": {
      "image/png": "[encoded data removed]",
      "text/plain": [
       "<Figure size 864x288 with 1 Axes>"
      ]
     },
     "metadata": {
      "needs_background": "light"
     },
     "output_type": "display_data"
    }
   ],
   "source": [
    "sb.countplot(data=pokemon_types, y='type', color=basecolor, order=type_orders);\n",
    "\n",
    "for i in range(type_counts.shape[0]):\n",
    "    count=type_counts[i]\n",
    "    pcs_string='{:0.1f}'.format(100*count/n_pokemon)\n",
    "    plt.text(count+1, i, pcs_string, va='center')"
   ]
  },
  {
   "cell_type": "markdown",
   "id": "f0f56bcd",
   "metadata": {},
   "source": [
    ">Example 4. Print the text (proportion) below the bars of a Vertical plot.\n"
   ]
  },
  {
   "cell_type": "code",
   "execution_count": 70,
   "id": "187ac2de",
   "metadata": {},
   "outputs": [
    {
     "data": {
      "image/png": "[encoded data removed]",
      "text/plain": [
       "<Figure size 864x288 with 1 Axes>"
      ]
     },
     "metadata": {
      "needs_background": "light"
     },
     "output_type": "display_data"
    }
   ],
   "source": [
    "sb.countplot(data=pokemon_types, x='type', color=basecolor, order=type_orders);\n",
    "\n",
    "type_counts=pokemon_types['type'].value_counts()\n",
    "\n",
    "locs,labels = plt.xticks(rotation=90)\n",
    "\n",
    "for loc, label in zip(locs, labels):\n",
    "    count=type_counts[label.get_text()]\n",
    "    pcs_string='{:0.1f}%'.format(100*count/n_pokemon)\n",
    "    \n",
    "    plt.text(loc, count+2, pcs_string, ha='center', color='black')"
   ]
  },
  {
   "cell_type": "code",
   "execution_count": null,
   "id": "69cab6b1",
   "metadata": {},
   "outputs": [],
   "source": []
  }
 ],
 "metadata": {
  "kernelspec": {
   "display_name": "Python 3 (ipykernel)",
   "language": "python",
   "name": "python3"
  },
  "language_info": {
   "codemirror_mode": {
    "name": "ipython",
    "version": 3
   },
   "file_extension": ".py",
   "mimetype": "text/x-python",
   "name": "python",
   "nbconvert_exporter": "python",
   "pygments_lexer": "ipython3",
   "version": "3.8.12"
  }
 },
 "nbformat": 4,
 "nbformat_minor": 5
}
