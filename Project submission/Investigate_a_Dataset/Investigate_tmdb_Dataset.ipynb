{
 "cells": [
  {
   "cell_type": "markdown",
   "metadata": {},
   "source": [
    "# Project: Investigate a Dataset - [tmdb-movies]\n",
    "\n",
    "## Table of Contents\n",
    "\n",
    "<ul>\n",
    "<li><a href=\"#intro\">Introduction</a></li>\n",
    "<li><a href=\"#wrangling\">Data Wrangling</a></li>\n",
    "<li><a href=\"#eda\">Exploratory Data Analysis</a></li>\n",
    "<li><a href=\"#conclusions\">Conclusions</a></li>\n",
    "</ul>"
   ]
  },
  {
   "cell_type": "markdown",
   "metadata": {},
   "source": [
    "# <a id='intro'></a>\n",
    "# Introduction\n",
    "\n",
    "In this project, we're looking at over 10,000 movies from The Movie Database (TMDb) that were released between 1960 and 2015. We're looking at the total number of films released in the last 15 years, as well as the top 15 directors based on the number of films released. We're also looking into how much money, how popular movies are, and how much money they cost."
   ]
  },
  {
   "cell_type": "code",
   "execution_count": 10,
   "metadata": {},
   "outputs": [
    {
     "name": "stdout",
     "output_type": "stream",
     "text": [
      "Requirement already satisfied: setuptools in c:\\users\\nihar\\anaconda3\\lib\\site-packages (59.2.0)\n",
      "Note: you may need to restart the kernel to use updated packages.\n"
     ]
    }
   ],
   "source": [
    "pip install --upgrade setuptools"
   ]
  },
  {
   "cell_type": "code",
   "execution_count": 7,
   "metadata": {},
   "outputs": [
    {
     "ename": "ModuleNotFoundError",
     "evalue": "No module named 'pandas'",
     "output_type": "error",
     "traceback": [
      "\u001b[1;31m---------------------------------------------------------------------------\u001b[0m",
      "\u001b[1;31mModuleNotFoundError\u001b[0m                       Traceback (most recent call last)",
      "\u001b[1;32m~\\AppData\\Local\\Temp/ipykernel_11864/3413761733.py\u001b[0m in \u001b[0;36m<module>\u001b[1;34m\u001b[0m\n\u001b[0;32m      2\u001b[0m \u001b[1;33m\u001b[0m\u001b[0m\n\u001b[0;32m      3\u001b[0m \u001b[1;32mimport\u001b[0m \u001b[0mnumpy\u001b[0m \u001b[1;32mas\u001b[0m \u001b[0mnp\u001b[0m\u001b[1;33m\u001b[0m\u001b[1;33m\u001b[0m\u001b[0m\n\u001b[1;32m----> 4\u001b[1;33m \u001b[1;32mimport\u001b[0m \u001b[0mpandas\u001b[0m \u001b[1;32mas\u001b[0m \u001b[0mpd\u001b[0m\u001b[1;33m\u001b[0m\u001b[1;33m\u001b[0m\u001b[0m\n\u001b[0m\u001b[0;32m      5\u001b[0m \u001b[1;32mimport\u001b[0m \u001b[0mmatplotlib\u001b[0m\u001b[1;33m.\u001b[0m\u001b[0mpyplot\u001b[0m \u001b[1;32mas\u001b[0m \u001b[0mplt\u001b[0m\u001b[1;33m\u001b[0m\u001b[1;33m\u001b[0m\u001b[0m\n\u001b[0;32m      6\u001b[0m \u001b[0mget_ipython\u001b[0m\u001b[1;33m(\u001b[0m\u001b[1;33m)\u001b[0m\u001b[1;33m.\u001b[0m\u001b[0mrun_line_magic\u001b[0m\u001b[1;33m(\u001b[0m\u001b[1;34m'matplotlib'\u001b[0m\u001b[1;33m,\u001b[0m \u001b[1;34m'inline'\u001b[0m\u001b[1;33m)\u001b[0m\u001b[1;33m\u001b[0m\u001b[1;33m\u001b[0m\u001b[0m\n",
      "\u001b[1;31mModuleNotFoundError\u001b[0m: No module named 'pandas'"
     ]
    }
   ],
   "source": [
    "#importing important libraries for this project\n",
    "\n",
    "import numpy as np\n",
    "import pandas as pd\n",
    "import matplotlib.pyplot as plt\n",
    "%matplotlib inline"
   ]
  },
  {
   "cell_type": "markdown",
   "metadata": {},
   "source": [
    "<a id='wrangling'></a>\n",
    "# Data Wrangling\n",
    "\n",
    "1. First we will import CSV file.\n",
    "2. After importing CSV file we will analyse the dataset using basic commands.(Check Column Names, Datatypes, Null Values and Dataset)"
   ]
  },
  {
   "cell_type": "code",
   "execution_count": null,
   "metadata": {},
   "outputs": [],
   "source": [
    "# Importing CSV file and Fetching information\n",
    "mov_df=pd.read_csv('tmdb-movies.csv')\n",
    "\n",
    "mov_df.head() #analysing dataset with top 5 rows\n",
    "mov_df.info() #analysing datatypes and values"
   ]
  },
  {
   "cell_type": "code",
   "execution_count": null,
   "metadata": {},
   "outputs": [],
   "source": [
    "#Total number of data available in imported dataset\n",
    "print(mov_df.shape)"
   ]
  },
  {
   "cell_type": "markdown",
   "metadata": {},
   "source": [
    "\n",
    "## Data Cleaning\n",
    "1. In the previous section, several columns contain worthless information which we did not use for current analysis, so we need to remove unuseful ones.\n",
    "2. Getting rid of null and dulicate values"
   ]
  },
  {
   "cell_type": "markdown",
   "metadata": {},
   "source": [
    "## 1) Removing Columns"
   ]
  },
  {
   "cell_type": "code",
   "execution_count": null,
   "metadata": {},
   "outputs": [],
   "source": [
    "#Removing columns which we will not use in this analysis\n",
    "\n",
    "mov_df.drop(columns=['id','imdb_id','budget_adj','revenue_adj','cast','homepage','tagline','overview','release_date','keywords'],inplace=True)\n",
    "mov_df.dtypes"
   ]
  },
  {
   "cell_type": "markdown",
   "metadata": {},
   "source": [
    "## 2) Removing Null & Duplicate Values"
   ]
  },
  {
   "cell_type": "code",
   "execution_count": null,
   "metadata": {
    "scrolled": true
   },
   "outputs": [],
   "source": [
    "#Checking for null values and duplicated values\n",
    "print(\"Total no of Null values: \",mov_df.isnull().sum().sum())\n",
    "print(\"Total no of Duplicate values: \",mov_df.duplicated().sum())\n",
    "\n",
    "#Removing Null & duplicate Values\n",
    "mov_df.dropna(inplace=True)\n",
    "mov_df.drop_duplicates(inplace=True)\n",
    "\n",
    "\n",
    "#Verifying for null values and duplicated values\n",
    "print(\"Total no of Null values after removing all null vlaues: \",mov_df.isnull().sum().sum())\n",
    "print(\"Total no of Duplicate values after removing all duplicate vlaues: \",mov_df.duplicated().sum())\n",
    "\n",
    "#Remaining number of data available in dataset\n",
    "print('Total no of Rows in Dataset: ',len(mov_df))\n",
    "print('Total no of Columns in Dataset: ',len(mov_df.columns))"
   ]
  },
  {
   "cell_type": "markdown",
   "metadata": {},
   "source": [
    "# <a id='eda'></a>\n",
    "# Exploratory Data Analysis\n",
    "\n",
    "\n",
    "\n",
    "## Research Question 1 (NUMBER OF MOVIES RELEASED IN LAST 15 YEARS)\n",
    "> The \"Total Number of Movies Released in the Last 15 Years\" is the first study. Will graph this and determine which year had the lowest and highest movie count in the previous 15 years."
   ]
  },
  {
   "cell_type": "code",
   "execution_count": null,
   "metadata": {},
   "outputs": [],
   "source": [
    "#In this we are using Group By & Tail command to find out last 15 years Dataset\n",
    "# Grouped Release Year and count total no of movies\n",
    "\n",
    "release_count = mov_df.groupby('release_year').original_title.count()\n",
    "\n",
    "release_count_by_year = release_count.tail(16) #With the Help of Tail, extracting only top 15 Years\n",
    "release_count_by_year"
   ]
  },
  {
   "cell_type": "code",
   "execution_count": null,
   "metadata": {},
   "outputs": [],
   "source": [
    "#Showing Bar Chart of No of Movies Released in last 15 Years\n",
    "# For color grid I referred https://matplotlib.org/stable/gallery/color/named_colors.html\n",
    "\n",
    "plt.subplots(figsize=(15,8))\n",
    "plt.bar(release_count_by_year.index,release_count_by_year,\n",
    "        color=[ 'gold','peachpuff','lightcoral', 'cornflowerblue','greenyellow'],\n",
    "        edgecolor='black',tick_label=release_count_by_year.index)\n",
    "plt.title(\"NO OF MOVIES RELEASED IN LAST 15 YEARS\",fontsize=18)\n",
    "plt.xlabel(\"YEARS\",fontsize=15)\n",
    "plt.ylabel(\"COUNT\",fontsize=15)"
   ]
  },
  {
   "cell_type": "code",
   "execution_count": null,
   "metadata": {},
   "outputs": [],
   "source": [
    "#Printing in which year the largest and lowest no of movies released.\n",
    "\n",
    "print(\"With a total of\",\n",
    "      release_count_by_year.max(), \n",
    "      \"films released in the last 15 years,\",\n",
    "      release_count_by_year.idxmax(),\n",
    "      \"is the year with the most, and\",\n",
    "      release_count_by_year.idxmin(),\n",
    "      \"is the year with the least, with just\",\n",
    "      release_count_by_year.min(),\n",
    "      \"films made.\")\n"
   ]
  },
  {
   "cell_type": "markdown",
   "metadata": {},
   "source": [
    "## Research Question 2  (TOP 15 DIRECTORS LIST THE ON BASIS OF NO OF MOVIES)\n",
    "\n",
    "> A second analysis was performed to determine the top 15 directors based on the total number of films in the dataset. The TOP 15 directors will determine how many films they will direct.\n",
    "\n",
    ">We will present the final result bar chart, and then will look up the director's name and the total number of films."
   ]
  },
  {
   "cell_type": "code",
   "execution_count": null,
   "metadata": {},
   "outputs": [],
   "source": [
    "#For this Top 15 Director List we are using iloc command.\n",
    "\n",
    "#Finding Top 15 Director List\n",
    "\n",
    "top_directors = mov_df.director.value_counts().iloc[:15]\n",
    "top_directors"
   ]
  },
  {
   "cell_type": "code",
   "execution_count": null,
   "metadata": {},
   "outputs": [],
   "source": [
    "#Showing Bar Chart of Top 15 Directos\n",
    "plt.subplots(figsize=(18,10))\n",
    "plt.bar(top_directors.index,top_directors,color=[ 'lightcoral', 'greenyellow', 'cornflowerblue', 'gold','peachpuff'],edgecolor='black',tick_label=top_directors.index)\n",
    "plt.title(\"TOP 15 DIRECTORS\",fontsize=18)\n",
    "plt.xlabel(\"DIRECTORS\",fontsize=15)\n",
    "plt.ylabel(\"NO OF MOVIES\",fontsize=15)\n",
    "plt.xticks(rotation=60);"
   ]
  },
  {
   "cell_type": "code",
   "execution_count": null,
   "metadata": {},
   "outputs": [],
   "source": [
    "#Priting Top Director Name with no of Movies\n",
    "print(mov_df.director.value_counts().idxmax(),\n",
    "      'has directed the most films of any of the Top 15 filmmakers, with',\n",
    "      mov_df.director.value_counts().max(),\n",
    "     \"count.\")\n",
    "\n",
    "#Lowest no of movies count same for 4 Directors and I want to print print all 4 Directors Name. \n",
    "#With the help of previous function only 1 value return so we need to fetch all 4 values.\n",
    "#[df.director.value_counts().iloc[:15]==df.director.value_counts().iloc[:15].min()] will fetch all min values\n",
    "min_movie_dir_name=mov_df.director.value_counts().iloc[:15][mov_df.director.value_counts().iloc[:15]==mov_df.director.value_counts().iloc[:15].min()]\n",
    "print(min_movie_dir_name.index.values,'have directed',\n",
    "      mov_df.director.value_counts().iloc[:15].min(),\n",
    "      \"films, the fewest among the Top 15.\")"
   ]
  },
  {
   "cell_type": "markdown",
   "metadata": {},
   "source": [
    "## Research Question 3  (MOST FAMOUS GENRE IN FILM INDUSTRY)\n",
    "> The next step in the research process is to determine which genre is the most well-known in the film industry.\n",
    "\n",
    "> Based on the information provided, we do not have a dataset with a single genre. The information for more than one genre is separated by a \"|\" in one row. So, before we move on, we'll divide each row into distinct genres."
   ]
  },
  {
   "cell_type": "code",
   "execution_count": null,
   "metadata": {},
   "outputs": [],
   "source": [
    "mov_df.shape"
   ]
  },
  {
   "cell_type": "code",
   "execution_count": null,
   "metadata": {},
   "outputs": [],
   "source": [
    "#Refrence used for this code\n",
    "#https://programmer.ink/think/pandas-how-do-i-split-text-in-a-column-into-multiple-lines-python.html\n",
    "\n",
    "mov_df=mov_df['genres'].str.split('|', expand=True).stack().reset_index(level=0).set_index('level_0').rename(columns={0:'genres'}).join(mov_df.drop('genres', axis=1))\n",
    "print('Total no of Rows in Dataset: ',len(mov_df))\n",
    "print('Total no of Columns in Dataset: ',len(mov_df.columns))\n",
    "mov_df.head()"
   ]
  },
  {
   "cell_type": "code",
   "execution_count": null,
   "metadata": {},
   "outputs": [],
   "source": [
    "#Showing Bar Chart of Genre Production\n",
    "plt.subplots(figsize=(18,10))\n",
    "plt.bar(mov_df.genres.value_counts().index,\n",
    "        mov_df.genres.value_counts(),\n",
    "        color=[ 'greenyellow', 'cornflowerblue', 'gold','peachpuff','lightcoral'],\n",
    "        edgecolor='black',\n",
    "        tick_label=mov_df.genres.value_counts().index)\n",
    "plt.title(\"Genere production\",fontsize=18)\n",
    "plt.xlabel('GENRES',fontsize=18);\n",
    "plt.ylabel('TOTAL NO OF MOVIES',fontsize=18);\n",
    "plt.xticks(rotation=60);"
   ]
  },
  {
   "cell_type": "code",
   "execution_count": null,
   "metadata": {},
   "outputs": [],
   "source": [
    "#Printing Lowest and highest No of movies prodcued by which Genres.\n",
    "\n",
    "print(\"The\",\n",
    "      mov_df.genres.value_counts().idxmax(),\n",
    "      \"genre has produced\",\n",
    "      mov_df.genres.value_counts().max(),\n",
    "      \"films, whereas the\",\n",
    "      mov_df.genres.value_counts().idxmin(),\n",
    "      \"genre has produced only\",\n",
    "      mov_df.genres.value_counts().min())"
   ]
  },
  {
   "cell_type": "markdown",
   "metadata": {},
   "source": [
    "## Research Question 4  (SHOWING MOVIE GENRES IN PIE CHART)"
   ]
  },
  {
   "cell_type": "code",
   "execution_count": null,
   "metadata": {},
   "outputs": [],
   "source": [
    "#Generating the pie Chart for Movie Genre\n",
    "\n",
    "labels=mov_df.genres.value_counts().index\n",
    "sizes=mov_df.genres.value_counts()\n",
    "plt.figure(figsize = (25,25))\n",
    "my_colors = ['lightblue','lightsteelblue','lightcoral', 'cornflowerblue', 'gold','peachpuff','#4F6272', '#B7C3F3', '#DD7596', '#8EB897']\n",
    "my_explode = (0.05, 0.05,0.05,0,0,0, 0.08,0.08,0,0,0, 0,0,0,0,0, 0,0.3,0.2,0.3)\n",
    "plt.pie(sizes, labels=labels, \n",
    "        wedgeprops = { 'linewidth' : 1.5, 'edgecolor' : 'white' },\n",
    "        autopct='%.1f%%', \n",
    "        startangle=60, shadow = True,\n",
    "        explode=my_explode,\n",
    "        colors=my_colors,\n",
    "        textprops={'fontsize': 23},\n",
    "        labeldistance=0.7,\n",
    "        rotatelabels =True)\n",
    "plt.title(\"MOVIE GENRES PIE CHART\",fontsize=25)\n",
    "plt.tight_layout() \n",
    "plt.legend(mov_df.genres.value_counts().index, loc = 'upper left',fontsize=16)\n",
    "plt.tight_layout()\n",
    "plt.axis('equal')\n",
    "plt.show()\n"
   ]
  },
  {
   "cell_type": "code",
   "execution_count": null,
   "metadata": {},
   "outputs": [],
   "source": [
    "#I am trying to print Genres on basis of %. \n",
    "\n",
    "#Creating 3 emplty List for 3 different category\n",
    "per10=[] #for more than 10 %\n",
    "per5=[] #for 5-6%\n",
    "per1=[] #for less than 1 %\n",
    "total=sum(mov_df.genres.value_counts())\n",
    "perValue=round((((mov_df.genres.value_counts())/total)*100.0),1) #calculating % of Gernes\n",
    "\n",
    "#Adding loop to find out categories\n",
    "for i in range(len(perValue)): \n",
    "    \n",
    "    # If % is more than 10% then value append in per10 List.\n",
    "    if (perValue.iloc[i:i+1].values) >= 10.0:\n",
    "        per10.append(list(perValue.iloc[i:i+1].index))\n",
    "        \n",
    "    # If % between 5-6% then value append in per5 List.\n",
    "    elif ((perValue.iloc[i:i+1].values) <= 6.0) and ((perValue.iloc[i:i+1].values) >= 5.0):\n",
    "        per5.append(list(perValue.iloc[i:i+1].index))\n",
    "    \n",
    "    # If % is less than 1% then value append in per1 List.\n",
    "    elif (perValue.iloc[i:i+1].values) < 1.0:\n",
    "        per1.append(list(perValue.iloc[i:i+1].index))\n",
    "\n",
    "print(\"According to the about grapgh, more than 10% of films are produced in the genres of\",per10[0], per10[1], \"and\", per10[2],\".\")\n",
    "print(\"5 percent of films produced in the genres of\",per5[0], \"and\", per5[1],\".\")\n",
    "print(\"In\",per1[0], per1[1], \"and\", per1[2],\"less than 1% of films are created.\")"
   ]
  },
  {
   "cell_type": "markdown",
   "metadata": {},
   "source": [
    "## Research Question 5  \n",
    "\n",
    "## SHOWING 3 DIFFERENT CHARTS FOR REVENUE, BUDGET, POPULARITY & GENRE COMPARISION OVER YEARS\n",
    "\n",
    "## 1) REVENUE & GENRE LINE CHART OVER YEAR"
   ]
  },
  {
   "cell_type": "code",
   "execution_count": null,
   "metadata": {},
   "outputs": [],
   "source": [
    "#Showing Line chart for Revenue & Genre Over Year\n",
    "label=(mov_df.release_year)\n",
    "mov_df.groupby([\"release_year\",\"genres\"]).sum()[\"revenue\"].unstack().plot(figsize=(20,15))\n",
    "plt.title(\"REVENUE & GENRE GPARH OVER YEARS\",fontsize=18)\n",
    "plt.xlabel('YEARS',fontsize=18);\n",
    "plt.ylabel('REVENUE',fontsize=18);\n",
    "plt.legend( loc = 'upper left',fontsize=20,title=\"Genre\")\n",
    "plt.xticks(label,rotation=60);"
   ]
  },
  {
   "cell_type": "code",
   "execution_count": null,
   "metadata": {},
   "outputs": [],
   "source": [
    "print(\"The revenue of all genres varies from year to year, however the\"\n",
    "      ,mov_df.groupby([\"release_year\",\"genres\"]).sum()[\"revenue\"].idxmax()[1],\n",
    "      \"genre now has the most revenue among them in\",\n",
    "     mov_df.groupby([\"release_year\",\"genres\"]).sum()[\"revenue\"].idxmax()[0])"
   ]
  },
  {
   "cell_type": "markdown",
   "metadata": {},
   "source": [
    "## 2) POPULARITY & GENRE LINE CHART OVER YEAR"
   ]
  },
  {
   "cell_type": "code",
   "execution_count": null,
   "metadata": {},
   "outputs": [],
   "source": [
    "#Showing Line chart for Popularity & Genre Over Year\n",
    "label=(mov_df.release_year)\n",
    "mov_df.groupby([\"release_year\",\"genres\"]).sum()[\"popularity\"].unstack().plot(figsize=(20,15))\n",
    "plt.title(\"POPULARITY & GENRE GPARH OVER YEARS\",fontsize=18)\n",
    "plt.xlabel('YEARS',fontsize=18);\n",
    "plt.ylabel('POPULARITY',fontsize=18);\n",
    "plt.legend( loc = 'upper left',fontsize=20,title=\"Genre\")\n",
    "plt.xticks(label,rotation=60);"
   ]
  },
  {
   "cell_type": "code",
   "execution_count": null,
   "metadata": {},
   "outputs": [],
   "source": [
    "print(\"The popularity of each genre varies from year to year, although the\",\n",
    "      mov_df.groupby([\"release_year\",\"genres\"]).sum()[\"popularity\"].idxmax()[1],\n",
    "      \"genre has seen a surge in popularity in\",\n",
    "      mov_df.groupby([\"release_year\",\"genres\"]).sum()[\"popularity\"].idxmax()[0])"
   ]
  },
  {
   "cell_type": "markdown",
   "metadata": {},
   "source": [
    "## 3) BUDGET & GENRE LINE CHART OVER YEAR"
   ]
  },
  {
   "cell_type": "code",
   "execution_count": null,
   "metadata": {},
   "outputs": [],
   "source": [
    "#Showing Line chart for Budget & Genre Over Year\n",
    "label=(mov_df.release_year)\n",
    "mov_df.groupby([\"release_year\",\"genres\"]).sum()[\"budget\"].unstack().plot(figsize=(20,15))\n",
    "plt.title(\"BUDGET & GENRE GPARH OVER YEARS\",fontsize=18)\n",
    "plt.xlabel('YEARS',fontsize=18);\n",
    "plt.ylabel('BUDGET',fontsize=18);\n",
    "plt.legend( loc = 'upper left',fontsize=20,title=\"Genre\")\n",
    "plt.xticks(label,rotation=60);"
   ]
  },
  {
   "cell_type": "code",
   "execution_count": null,
   "metadata": {},
   "outputs": [],
   "source": [
    "print(\"The budget varies greatly from year to year, although the\",\n",
    "      mov_df.groupby([\"release_year\",\"genres\"]).sum()[\"budget\"].idxmax()[1],\n",
    "      \"Genre had the largest budget in\",\n",
    "      mov_df.groupby([\"release_year\",\"genres\"]).sum()[\"budget\"].idxmax()[0])"
   ]
  },
  {
   "cell_type": "markdown",
   "metadata": {},
   "source": [
    "# <a id='conclusions'></a>\n",
    "# Conclusions\n",
    "\n",
    "1) People are interested in watching Adventure and Drama genres, according to this data. Even in the Drama genre, more than 4000 films were released, accounting for around 10% of all genres. Only 5% of movies are produced in the adventure genre, yet it generates a lot of money. In 2014, more than 600 films were released, compared to only 197 in 2000. The budget changes from year to year, however in 2013, the most money was spent on an action film.\n",
    "\n",
    "\n",
    "#### 1) There are 10866 rows and 21 columns in the actual dataset.\n",
    "#### 2)The year with the most movies produced is 2014, with over 600 films.\n",
    "#### 3)Drama is the genre that produces the most movies year after year, followed by comedy and thrillers, with the Foreign, Western, and TV Movie genres producing the least.\n",
    "#### 4)With 45 films under his belt, filmmaker 'Woody Allen' holds the record for most directors.\n",
    "\n",
    "## Limitations\n",
    "1) We had to eliminate unnecessary columns and rows with null values before we could analyze the data, which resulted in a smaller dataset.\n",
    "\n",
    "2) We need to split Genres value because the proper Genre category is not provided. Dataset values grew by 2-3%, affecting the result.\n",
    "\n",
    "THANK YOU !!"
   ]
  },
  {
   "cell_type": "code",
   "execution_count": null,
   "metadata": {},
   "outputs": [],
   "source": [
    "from subprocess import call\n",
    "call(['python', '-m', 'nbconvert', 'Investigate_a_Dataset.ipynb'])"
   ]
  }
 ],
 "metadata": {
  "kernelspec": {
   "display_name": "Python 3 (ipykernel)",
   "language": "python",
   "name": "python3"
  },
  "language_info": {
   "codemirror_mode": {
    "name": "ipython",
    "version": 3
   },
   "file_extension": ".py",
   "mimetype": "text/x-python",
   "name": "python",
   "nbconvert_exporter": "python",
   "pygments_lexer": "ipython3",
   "version": "3.8.12"
  }
 },
 "nbformat": 4,
 "nbformat_minor": 2
}
