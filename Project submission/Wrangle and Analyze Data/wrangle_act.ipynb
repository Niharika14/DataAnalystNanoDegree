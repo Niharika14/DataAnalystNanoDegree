{
 "cells": [
  {
   "cell_type": "markdown",
   "metadata": {
    "extensions": {
     "jupyter_dashboards": {
      "version": 1,
      "views": {
       "grid_default": {
        "col": 0,
        "height": 4,
        "hidden": false,
        "row": 0,
        "width": 4
       },
       "report_default": {
        "hidden": false
       }
      }
     }
    }
   },
   "source": [
    "# Project: Wrangling and Analyze Data"
   ]
  },
  {
   "cell_type": "code",
   "execution_count": 1,
   "metadata": {},
   "outputs": [],
   "source": [
    "#import all neccessary packages\n",
    "import pandas as pd\n",
    "import numpy as np\n",
    "import matplotlib.pyplot as plt\n",
    "%matplotlib inline\n",
    "import requests\n",
    "import tweepy\n",
    "import json\n",
    "from timeit import default_timer as timer"
   ]
  },
  {
   "cell_type": "markdown",
   "metadata": {},
   "source": [
    "## Data Gathering\n",
    "In the cell below, gather **all** three pieces of data for this project and load them in the notebook. **Note:** the methods required to gather each data are different.\n",
    "1. Directly download the WeRateDogs Twitter archive data (twitter_archive_enhanced.csv)"
   ]
  },
  {
   "cell_type": "code",
   "execution_count": 2,
   "metadata": {
    "extensions": {
     "jupyter_dashboards": {
      "version": 1,
      "views": {
       "grid_default": {
        "hidden": true
       },
       "report_default": {
        "hidden": true
       }
      }
     }
    }
   },
   "outputs": [],
   "source": [
    "twitter_archive = pd.read_csv('twitter-archive-enhanced.csv')"
   ]
  },
  {
   "cell_type": "markdown",
   "metadata": {},
   "source": [
    "2. Use the Requests library to download the tweet image prediction (image_predictions.tsv)"
   ]
  },
  {
   "cell_type": "code",
   "execution_count": 3,
   "metadata": {},
   "outputs": [],
   "source": [
    "url=\"https://d17h27t6h515a5.cloudfront.net/topher/2017/August/599fd2ad_image-predictions/image-predictions.tsv\"\n",
    "tweet_image_request =requests.get(url)\n",
    "\n",
    "# Save HTML to file\n",
    "with open('image-predictions.tsv', mode = 'wb') as file:\n",
    "    file.write(tweet_image_request.content)\n",
    "    \n",
    "# Create dataframe from image_predictions.tsv \n",
    "image_predictions = pd.read_csv('image-predictions.tsv', sep = '\\t')"
   ]
  },
  {
   "cell_type": "markdown",
   "metadata": {},
   "source": [
    "3. Use the Tweepy library to query additional data via the Twitter API (tweet_json.txt)"
   ]
  },
  {
   "cell_type": "code",
   "execution_count": 4,
   "metadata": {
    "scrolled": true
   },
   "outputs": [],
   "source": [
    "consumer_key = 'HIDDEN'\n",
    "consumer_secret = 'HIDDEN'\n",
    "access_token = 'HIDDEN'\n",
    "access_secret = 'HIDDEN'\n",
    "\n",
    "auth = tweepy.OAuthHandler(consumer_key, consumer_secret)\n",
    "auth.set_access_token(access_token, access_secret)\n",
    "api = tweepy.API(auth, wait_on_rate_limit=True)\n",
    "\n",
    "tweet_ids = twitter_archive['tweet_id']"
   ]
  },
  {
   "cell_type": "code",
   "execution_count": 5,
   "metadata": {},
   "outputs": [
    {
     "name": "stderr",
     "output_type": "stream",
     "text": [
      "Rate limit reached. Sleeping for: 781\n",
      "Rate limit reached. Sleeping for: 782\n"
     ]
    }
   ],
   "source": [
    "exceptions=[]\n",
    "with open('tweet_json.txt', 'w') as outfile:\n",
    "    for id in tweet_ids:\n",
    "        try:\n",
    "            tweet = api.get_status(id, tweet_mode='extended')\n",
    "            json.dump(tweet._json, outfile)\n",
    "            outfile.write('\\n')        \n",
    "        except Exception as e:\n",
    "            exceptions.append(e)"
   ]
  },
  {
   "cell_type": "code",
   "execution_count": 6,
   "metadata": {},
   "outputs": [
    {
     "data": {
      "text/html": [
       "<div>\n",
       "<style scoped>\n",
       "    .dataframe tbody tr th:only-of-type {\n",
       "        vertical-align: middle;\n",
       "    }\n",
       "\n",
       "    .dataframe tbody tr th {\n",
       "        vertical-align: top;\n",
       "    }\n",
       "\n",
       "    .dataframe thead th {\n",
       "        text-align: right;\n",
       "    }\n",
       "</style>\n",
       "<table border=\"1\" class=\"dataframe\">\n",
       "  <thead>\n",
       "    <tr style=\"text-align: right;\">\n",
       "      <th></th>\n",
       "      <th>tweet_id</th>\n",
       "      <th>retweet_count</th>\n",
       "      <th>favourite_count</th>\n",
       "    </tr>\n",
       "  </thead>\n",
       "  <tbody>\n",
       "    <tr>\n",
       "      <th>0</th>\n",
       "      <td>892420643555336193</td>\n",
       "      <td>7117</td>\n",
       "      <td>34240</td>\n",
       "    </tr>\n",
       "    <tr>\n",
       "      <th>1</th>\n",
       "      <td>892177421306343426</td>\n",
       "      <td>5359</td>\n",
       "      <td>29677</td>\n",
       "    </tr>\n",
       "    <tr>\n",
       "      <th>2</th>\n",
       "      <td>891815181378084864</td>\n",
       "      <td>3526</td>\n",
       "      <td>22351</td>\n",
       "    </tr>\n",
       "    <tr>\n",
       "      <th>3</th>\n",
       "      <td>891689557279858688</td>\n",
       "      <td>7308</td>\n",
       "      <td>37383</td>\n",
       "    </tr>\n",
       "    <tr>\n",
       "      <th>4</th>\n",
       "      <td>891327558926688256</td>\n",
       "      <td>7862</td>\n",
       "      <td>35723</td>\n",
       "    </tr>\n",
       "    <tr>\n",
       "      <th>...</th>\n",
       "      <td>...</td>\n",
       "      <td>...</td>\n",
       "      <td>...</td>\n",
       "    </tr>\n",
       "    <tr>\n",
       "      <th>2323</th>\n",
       "      <td>666049248165822465</td>\n",
       "      <td>37</td>\n",
       "      <td>91</td>\n",
       "    </tr>\n",
       "    <tr>\n",
       "      <th>2324</th>\n",
       "      <td>666044226329800704</td>\n",
       "      <td>117</td>\n",
       "      <td>251</td>\n",
       "    </tr>\n",
       "    <tr>\n",
       "      <th>2325</th>\n",
       "      <td>666033412701032449</td>\n",
       "      <td>36</td>\n",
       "      <td>102</td>\n",
       "    </tr>\n",
       "    <tr>\n",
       "      <th>2326</th>\n",
       "      <td>666029285002620928</td>\n",
       "      <td>39</td>\n",
       "      <td>115</td>\n",
       "    </tr>\n",
       "    <tr>\n",
       "      <th>2327</th>\n",
       "      <td>666020888022790149</td>\n",
       "      <td>430</td>\n",
       "      <td>2307</td>\n",
       "    </tr>\n",
       "  </tbody>\n",
       "</table>\n",
       "<p>2328 rows × 3 columns</p>\n",
       "</div>"
      ],
      "text/plain": [
       "                tweet_id  retweet_count  favourite_count\n",
       "0     892420643555336193           7117            34240\n",
       "1     892177421306343426           5359            29677\n",
       "2     891815181378084864           3526            22351\n",
       "3     891689557279858688           7308            37383\n",
       "4     891327558926688256           7862            35723\n",
       "...                  ...            ...              ...\n",
       "2323  666049248165822465             37               91\n",
       "2324  666044226329800704            117              251\n",
       "2325  666033412701032449             36              102\n",
       "2326  666029285002620928             39              115\n",
       "2327  666020888022790149            430             2307\n",
       "\n",
       "[2328 rows x 3 columns]"
      ]
     },
     "execution_count": 6,
     "metadata": {},
     "output_type": "execute_result"
    }
   ],
   "source": [
    "selected_attr = []\n",
    "\n",
    "with open('tweet_json.txt', 'r') as json_file:\n",
    "    for line in json_file:\n",
    "        json_data = json.loads(line)\n",
    "        selected_attr.append({'tweet_id':json_data['id_str'],\n",
    "                              'retweet_count': json_data['retweet_count'],\n",
    "                              'favourite_count':json_data['favorite_count']\n",
    "        }\n",
    "        )\n",
    "\n",
    "tweet_json = pd.DataFrame(selected_attr, columns = ['tweet_id',\n",
    "                                                   'retweet_count',\n",
    "                                                   'favourite_count'])\n",
    "tweet_json"
   ]
  },
  {
   "cell_type": "markdown",
   "metadata": {
    "extensions": {
     "jupyter_dashboards": {
      "version": 1,
      "views": {
       "grid_default": {
        "col": 4,
        "height": 4,
        "hidden": false,
        "row": 28,
        "width": 4
       },
       "report_default": {
        "hidden": false
       }
      }
     }
    }
   },
   "source": [
    "## Assessing Data\n",
    "In this section, detect and document at least **eight (8) quality issues and two (2) tidiness issue**. You must use **both** visual assessment\n",
    "programmatic assessement to assess the data.\n",
    "\n",
    "**Note:** pay attention to the following key points when you access the data.\n",
    "\n",
    "* You only want original ratings (no retweets) that have images. Though there are 5000+ tweets in the dataset, not all are dog ratings and some are retweets.\n",
    "* Assessing and cleaning the entire dataset completely would require a lot of time, and is not necessary to practice and demonstrate your skills in data wrangling. Therefore, the requirements of this project are only to assess and clean at least 8 quality issues and at least 2 tidiness issues in this dataset.\n",
    "* The fact that the rating numerators are greater than the denominators does not need to be cleaned. This [unique rating system](http://knowyourmeme.com/memes/theyre-good-dogs-brent) is a big part of the popularity of WeRateDogs.\n",
    "* You do not need to gather the tweets beyond August 1st, 2017. You can, but note that you won't be able to gather the image predictions for these tweets since you don't have access to the algorithm used.\n",
    "\n"
   ]
  },
  {
   "cell_type": "code",
   "execution_count": 7,
   "metadata": {},
   "outputs": [
    {
     "data": {
      "text/html": [
       "<div>\n",
       "<style scoped>\n",
       "    .dataframe tbody tr th:only-of-type {\n",
       "        vertical-align: middle;\n",
       "    }\n",
       "\n",
       "    .dataframe tbody tr th {\n",
       "        vertical-align: top;\n",
       "    }\n",
       "\n",
       "    .dataframe thead th {\n",
       "        text-align: right;\n",
       "    }\n",
       "</style>\n",
       "<table border=\"1\" class=\"dataframe\">\n",
       "  <thead>\n",
       "    <tr style=\"text-align: right;\">\n",
       "      <th></th>\n",
       "      <th>tweet_id</th>\n",
       "      <th>in_reply_to_status_id</th>\n",
       "      <th>in_reply_to_user_id</th>\n",
       "      <th>timestamp</th>\n",
       "      <th>source</th>\n",
       "      <th>text</th>\n",
       "      <th>retweeted_status_id</th>\n",
       "      <th>retweeted_status_user_id</th>\n",
       "      <th>retweeted_status_timestamp</th>\n",
       "      <th>expanded_urls</th>\n",
       "      <th>rating_numerator</th>\n",
       "      <th>rating_denominator</th>\n",
       "      <th>name</th>\n",
       "      <th>doggo</th>\n",
       "      <th>floofer</th>\n",
       "      <th>pupper</th>\n",
       "      <th>puppo</th>\n",
       "    </tr>\n",
       "  </thead>\n",
       "  <tbody>\n",
       "    <tr>\n",
       "      <th>1215</th>\n",
       "      <td>715009755312439296</td>\n",
       "      <td>NaN</td>\n",
       "      <td>NaN</td>\n",
       "      <td>2016-03-30 02:56:24 +0000</td>\n",
       "      <td>&lt;a href=\"http://twitter.com/download/iphone\" r...</td>\n",
       "      <td>This is Siba. She's remarkably mobile. Very sl...</td>\n",
       "      <td>NaN</td>\n",
       "      <td>NaN</td>\n",
       "      <td>NaN</td>\n",
       "      <td>https://twitter.com/dog_rates/status/715009755...</td>\n",
       "      <td>12</td>\n",
       "      <td>10</td>\n",
       "      <td>Siba</td>\n",
       "      <td>None</td>\n",
       "      <td>None</td>\n",
       "      <td>None</td>\n",
       "      <td>None</td>\n",
       "    </tr>\n",
       "    <tr>\n",
       "      <th>409</th>\n",
       "      <td>823333489516937216</td>\n",
       "      <td>8.233264e+17</td>\n",
       "      <td>1.582854e+09</td>\n",
       "      <td>2017-01-23 00:56:15 +0000</td>\n",
       "      <td>&lt;a href=\"http://twitter.com/download/iphone\" r...</td>\n",
       "      <td>@HistoryInPics 13/10</td>\n",
       "      <td>NaN</td>\n",
       "      <td>NaN</td>\n",
       "      <td>NaN</td>\n",
       "      <td>NaN</td>\n",
       "      <td>13</td>\n",
       "      <td>10</td>\n",
       "      <td>None</td>\n",
       "      <td>None</td>\n",
       "      <td>None</td>\n",
       "      <td>None</td>\n",
       "      <td>None</td>\n",
       "    </tr>\n",
       "    <tr>\n",
       "      <th>2162</th>\n",
       "      <td>669393256313184256</td>\n",
       "      <td>NaN</td>\n",
       "      <td>NaN</td>\n",
       "      <td>2015-11-25 05:52:43 +0000</td>\n",
       "      <td>&lt;a href=\"http://twitter.com/download/iphone\" r...</td>\n",
       "      <td>Meet Ronduh. She's a Finnish Checkered Blitzkr...</td>\n",
       "      <td>NaN</td>\n",
       "      <td>NaN</td>\n",
       "      <td>NaN</td>\n",
       "      <td>https://twitter.com/dog_rates/status/669393256...</td>\n",
       "      <td>10</td>\n",
       "      <td>10</td>\n",
       "      <td>Ronduh</td>\n",
       "      <td>None</td>\n",
       "      <td>None</td>\n",
       "      <td>None</td>\n",
       "      <td>None</td>\n",
       "    </tr>\n",
       "    <tr>\n",
       "      <th>2040</th>\n",
       "      <td>671544874165002241</td>\n",
       "      <td>NaN</td>\n",
       "      <td>NaN</td>\n",
       "      <td>2015-12-01 04:22:29 +0000</td>\n",
       "      <td>&lt;a href=\"http://twitter.com/download/iphone\" r...</td>\n",
       "      <td>Interesting dog here. Very large. Purple. Mani...</td>\n",
       "      <td>NaN</td>\n",
       "      <td>NaN</td>\n",
       "      <td>NaN</td>\n",
       "      <td>https://twitter.com/dog_rates/status/671544874...</td>\n",
       "      <td>6</td>\n",
       "      <td>10</td>\n",
       "      <td>None</td>\n",
       "      <td>None</td>\n",
       "      <td>None</td>\n",
       "      <td>None</td>\n",
       "      <td>None</td>\n",
       "    </tr>\n",
       "  </tbody>\n",
       "</table>\n",
       "</div>"
      ],
      "text/plain": [
       "                tweet_id  in_reply_to_status_id  in_reply_to_user_id  \\\n",
       "1215  715009755312439296                    NaN                  NaN   \n",
       "409   823333489516937216           8.233264e+17         1.582854e+09   \n",
       "2162  669393256313184256                    NaN                  NaN   \n",
       "2040  671544874165002241                    NaN                  NaN   \n",
       "\n",
       "                      timestamp  \\\n",
       "1215  2016-03-30 02:56:24 +0000   \n",
       "409   2017-01-23 00:56:15 +0000   \n",
       "2162  2015-11-25 05:52:43 +0000   \n",
       "2040  2015-12-01 04:22:29 +0000   \n",
       "\n",
       "                                                 source  \\\n",
       "1215  <a href=\"http://twitter.com/download/iphone\" r...   \n",
       "409   <a href=\"http://twitter.com/download/iphone\" r...   \n",
       "2162  <a href=\"http://twitter.com/download/iphone\" r...   \n",
       "2040  <a href=\"http://twitter.com/download/iphone\" r...   \n",
       "\n",
       "                                                   text  retweeted_status_id  \\\n",
       "1215  This is Siba. She's remarkably mobile. Very sl...                  NaN   \n",
       "409                                @HistoryInPics 13/10                  NaN   \n",
       "2162  Meet Ronduh. She's a Finnish Checkered Blitzkr...                  NaN   \n",
       "2040  Interesting dog here. Very large. Purple. Mani...                  NaN   \n",
       "\n",
       "      retweeted_status_user_id retweeted_status_timestamp  \\\n",
       "1215                       NaN                        NaN   \n",
       "409                        NaN                        NaN   \n",
       "2162                       NaN                        NaN   \n",
       "2040                       NaN                        NaN   \n",
       "\n",
       "                                          expanded_urls  rating_numerator  \\\n",
       "1215  https://twitter.com/dog_rates/status/715009755...                12   \n",
       "409                                                 NaN                13   \n",
       "2162  https://twitter.com/dog_rates/status/669393256...                10   \n",
       "2040  https://twitter.com/dog_rates/status/671544874...                 6   \n",
       "\n",
       "      rating_denominator    name doggo floofer pupper puppo  \n",
       "1215                  10    Siba  None    None   None  None  \n",
       "409                   10    None  None    None   None  None  \n",
       "2162                  10  Ronduh  None    None   None  None  \n",
       "2040                  10    None  None    None   None  None  "
      ]
     },
     "execution_count": 7,
     "metadata": {},
     "output_type": "execute_result"
    }
   ],
   "source": [
    "twitter_archive.sample(4)"
   ]
  },
  {
   "cell_type": "code",
   "execution_count": 8,
   "metadata": {},
   "outputs": [
    {
     "data": {
      "text/html": [
       "<div>\n",
       "<style scoped>\n",
       "    .dataframe tbody tr th:only-of-type {\n",
       "        vertical-align: middle;\n",
       "    }\n",
       "\n",
       "    .dataframe tbody tr th {\n",
       "        vertical-align: top;\n",
       "    }\n",
       "\n",
       "    .dataframe thead th {\n",
       "        text-align: right;\n",
       "    }\n",
       "</style>\n",
       "<table border=\"1\" class=\"dataframe\">\n",
       "  <thead>\n",
       "    <tr style=\"text-align: right;\">\n",
       "      <th></th>\n",
       "      <th>tweet_id</th>\n",
       "      <th>jpg_url</th>\n",
       "      <th>img_num</th>\n",
       "      <th>p1</th>\n",
       "      <th>p1_conf</th>\n",
       "      <th>p1_dog</th>\n",
       "      <th>p2</th>\n",
       "      <th>p2_conf</th>\n",
       "      <th>p2_dog</th>\n",
       "      <th>p3</th>\n",
       "      <th>p3_conf</th>\n",
       "      <th>p3_dog</th>\n",
       "    </tr>\n",
       "  </thead>\n",
       "  <tbody>\n",
       "    <tr>\n",
       "      <th>1303</th>\n",
       "      <td>753026973505581056</td>\n",
       "      <td>https://pbs.twimg.com/media/CnNKCKKWEAASCMI.jpg</td>\n",
       "      <td>3</td>\n",
       "      <td>Pembroke</td>\n",
       "      <td>0.868511</td>\n",
       "      <td>True</td>\n",
       "      <td>Cardigan</td>\n",
       "      <td>0.103708</td>\n",
       "      <td>True</td>\n",
       "      <td>Shetland_sheepdog</td>\n",
       "      <td>0.018142</td>\n",
       "      <td>True</td>\n",
       "    </tr>\n",
       "    <tr>\n",
       "      <th>1375</th>\n",
       "      <td>763103485927849985</td>\n",
       "      <td>https://pbs.twimg.com/media/CpcWknPXYAAeLP9.jpg</td>\n",
       "      <td>2</td>\n",
       "      <td>seat_belt</td>\n",
       "      <td>0.685821</td>\n",
       "      <td>False</td>\n",
       "      <td>ice_bear</td>\n",
       "      <td>0.081597</td>\n",
       "      <td>False</td>\n",
       "      <td>chow</td>\n",
       "      <td>0.039085</td>\n",
       "      <td>True</td>\n",
       "    </tr>\n",
       "    <tr>\n",
       "      <th>732</th>\n",
       "      <td>686730991906516992</td>\n",
       "      <td>https://pbs.twimg.com/media/CYfCMdFWAAA44YA.jpg</td>\n",
       "      <td>1</td>\n",
       "      <td>Tibetan_mastiff</td>\n",
       "      <td>0.338812</td>\n",
       "      <td>True</td>\n",
       "      <td>Newfoundland</td>\n",
       "      <td>0.180925</td>\n",
       "      <td>True</td>\n",
       "      <td>golden_retriever</td>\n",
       "      <td>0.180023</td>\n",
       "      <td>True</td>\n",
       "    </tr>\n",
       "    <tr>\n",
       "      <th>1141</th>\n",
       "      <td>729838605770891264</td>\n",
       "      <td>https://pbs.twimg.com/ext_tw_video_thumb/72983...</td>\n",
       "      <td>1</td>\n",
       "      <td>stone_wall</td>\n",
       "      <td>0.758218</td>\n",
       "      <td>False</td>\n",
       "      <td>patio</td>\n",
       "      <td>0.074205</td>\n",
       "      <td>False</td>\n",
       "      <td>prison</td>\n",
       "      <td>0.013826</td>\n",
       "      <td>False</td>\n",
       "    </tr>\n",
       "  </tbody>\n",
       "</table>\n",
       "</div>"
      ],
      "text/plain": [
       "                tweet_id                                            jpg_url  \\\n",
       "1303  753026973505581056    https://pbs.twimg.com/media/CnNKCKKWEAASCMI.jpg   \n",
       "1375  763103485927849985    https://pbs.twimg.com/media/CpcWknPXYAAeLP9.jpg   \n",
       "732   686730991906516992    https://pbs.twimg.com/media/CYfCMdFWAAA44YA.jpg   \n",
       "1141  729838605770891264  https://pbs.twimg.com/ext_tw_video_thumb/72983...   \n",
       "\n",
       "      img_num               p1   p1_conf  p1_dog            p2   p2_conf  \\\n",
       "1303        3         Pembroke  0.868511    True      Cardigan  0.103708   \n",
       "1375        2        seat_belt  0.685821   False      ice_bear  0.081597   \n",
       "732         1  Tibetan_mastiff  0.338812    True  Newfoundland  0.180925   \n",
       "1141        1       stone_wall  0.758218   False         patio  0.074205   \n",
       "\n",
       "      p2_dog                 p3   p3_conf  p3_dog  \n",
       "1303    True  Shetland_sheepdog  0.018142    True  \n",
       "1375   False               chow  0.039085    True  \n",
       "732     True   golden_retriever  0.180023    True  \n",
       "1141   False             prison  0.013826   False  "
      ]
     },
     "execution_count": 8,
     "metadata": {},
     "output_type": "execute_result"
    }
   ],
   "source": [
    "image_predictions.sample(4)"
   ]
  },
  {
   "cell_type": "code",
   "execution_count": 9,
   "metadata": {},
   "outputs": [
    {
     "data": {
      "text/html": [
       "<div>\n",
       "<style scoped>\n",
       "    .dataframe tbody tr th:only-of-type {\n",
       "        vertical-align: middle;\n",
       "    }\n",
       "\n",
       "    .dataframe tbody tr th {\n",
       "        vertical-align: top;\n",
       "    }\n",
       "\n",
       "    .dataframe thead th {\n",
       "        text-align: right;\n",
       "    }\n",
       "</style>\n",
       "<table border=\"1\" class=\"dataframe\">\n",
       "  <thead>\n",
       "    <tr style=\"text-align: right;\">\n",
       "      <th></th>\n",
       "      <th>tweet_id</th>\n",
       "      <th>retweet_count</th>\n",
       "      <th>favourite_count</th>\n",
       "    </tr>\n",
       "  </thead>\n",
       "  <tbody>\n",
       "    <tr>\n",
       "      <th>1018</th>\n",
       "      <td>743595368194129920</td>\n",
       "      <td>6043</td>\n",
       "      <td>17195</td>\n",
       "    </tr>\n",
       "    <tr>\n",
       "      <th>1640</th>\n",
       "      <td>682662431982772225</td>\n",
       "      <td>1003</td>\n",
       "      <td>2856</td>\n",
       "    </tr>\n",
       "    <tr>\n",
       "      <th>969</th>\n",
       "      <td>748337862848962560</td>\n",
       "      <td>3800</td>\n",
       "      <td>7156</td>\n",
       "    </tr>\n",
       "    <tr>\n",
       "      <th>38</th>\n",
       "      <td>884876753390489601</td>\n",
       "      <td>4726</td>\n",
       "      <td>24700</td>\n",
       "    </tr>\n",
       "  </tbody>\n",
       "</table>\n",
       "</div>"
      ],
      "text/plain": [
       "                tweet_id  retweet_count  favourite_count\n",
       "1018  743595368194129920           6043            17195\n",
       "1640  682662431982772225           1003             2856\n",
       "969   748337862848962560           3800             7156\n",
       "38    884876753390489601           4726            24700"
      ]
     },
     "execution_count": 9,
     "metadata": {},
     "output_type": "execute_result"
    }
   ],
   "source": [
    "tweet_json.sample(4)"
   ]
  },
  {
   "cell_type": "markdown",
   "metadata": {},
   "source": [
    "> #### Checking twitter_archive data"
   ]
  },
  {
   "cell_type": "code",
   "execution_count": 10,
   "metadata": {},
   "outputs": [
    {
     "name": "stdout",
     "output_type": "stream",
     "text": [
      "<class 'pandas.core.frame.DataFrame'>\n",
      "RangeIndex: 2356 entries, 0 to 2355\n",
      "Data columns (total 17 columns):\n",
      " #   Column                      Non-Null Count  Dtype  \n",
      "---  ------                      --------------  -----  \n",
      " 0   tweet_id                    2356 non-null   int64  \n",
      " 1   in_reply_to_status_id       78 non-null     float64\n",
      " 2   in_reply_to_user_id         78 non-null     float64\n",
      " 3   timestamp                   2356 non-null   object \n",
      " 4   source                      2356 non-null   object \n",
      " 5   text                        2356 non-null   object \n",
      " 6   retweeted_status_id         181 non-null    float64\n",
      " 7   retweeted_status_user_id    181 non-null    float64\n",
      " 8   retweeted_status_timestamp  181 non-null    object \n",
      " 9   expanded_urls               2297 non-null   object \n",
      " 10  rating_numerator            2356 non-null   int64  \n",
      " 11  rating_denominator          2356 non-null   int64  \n",
      " 12  name                        2356 non-null   object \n",
      " 13  doggo                       2356 non-null   object \n",
      " 14  floofer                     2356 non-null   object \n",
      " 15  pupper                      2356 non-null   object \n",
      " 16  puppo                       2356 non-null   object \n",
      "dtypes: float64(4), int64(3), object(10)\n",
      "memory usage: 313.0+ KB\n"
     ]
    }
   ],
   "source": [
    "twitter_archive.info()"
   ]
  },
  {
   "cell_type": "markdown",
   "metadata": {},
   "source": [
    ">- **tweet_id column datatype need to be change to sting.**\n",
    ">- **rating_numerator column datatype need to be change to float.**\n",
    ">- **rating_denominator column datatype need to be change to float.**\n",
    ">- **timestamp column datatype need to be change to datetime.**"
   ]
  },
  {
   "cell_type": "code",
   "execution_count": 11,
   "metadata": {},
   "outputs": [
    {
     "name": "stdout",
     "output_type": "stream",
     "text": [
      "Checking Null Value in Twitter Archive\n",
      " tweet_id                         0\n",
      "in_reply_to_status_id         2278\n",
      "in_reply_to_user_id           2278\n",
      "timestamp                        0\n",
      "source                           0\n",
      "text                             0\n",
      "retweeted_status_id           2175\n",
      "retweeted_status_user_id      2175\n",
      "retweeted_status_timestamp    2175\n",
      "expanded_urls                   59\n",
      "rating_numerator                 0\n",
      "rating_denominator               0\n",
      "name                             0\n",
      "doggo                            0\n",
      "floofer                          0\n",
      "pupper                           0\n",
      "puppo                            0\n",
      "dtype: int64\n"
     ]
    }
   ],
   "source": [
    "#Checking Null Values\n",
    "print(\"Checking Null Value in Twitter Archive\\n\",twitter_archive.isnull().sum())"
   ]
  },
  {
   "cell_type": "markdown",
   "metadata": {},
   "source": [
    "> **As per requirement we don't need to analysis Reweet data. In our dataset reweets columns have lots of Null values so we need to remove all columns with retweet information.**"
   ]
  },
  {
   "cell_type": "code",
   "execution_count": 12,
   "metadata": {},
   "outputs": [
    {
     "name": "stdout",
     "output_type": "stream",
     "text": [
      "Checking Duplicate Value of Tweet ID in Twitter Archive 0\n"
     ]
    }
   ],
   "source": [
    "# Checking Duplicate Values\n",
    "\n",
    "print(\"Checking Duplicate Value of Tweet ID in Twitter Archive\",twitter_archive.tweet_id.duplicated().sum())"
   ]
  },
  {
   "cell_type": "code",
   "execution_count": 13,
   "metadata": {},
   "outputs": [
    {
     "name": "stdout",
     "output_type": "stream",
     "text": [
      "Checking Duplicate Value of Name in Twitter Archive\n",
      " None          745\n",
      "a              55\n",
      "Charlie        12\n",
      "Cooper         11\n",
      "Lucy           11\n",
      "             ... \n",
      "Dex             1\n",
      "Ace             1\n",
      "Tayzie          1\n",
      "Grizzie         1\n",
      "Christoper      1\n",
      "Name: name, Length: 957, dtype: int64\n"
     ]
    }
   ],
   "source": [
    "print(\"Checking Duplicate Value of Name in Twitter Archive\\n\",twitter_archive.name.value_counts())"
   ]
  },
  {
   "cell_type": "code",
   "execution_count": 14,
   "metadata": {},
   "outputs": [
    {
     "data": {
      "text/html": [
       "<div>\n",
       "<style scoped>\n",
       "    .dataframe tbody tr th:only-of-type {\n",
       "        vertical-align: middle;\n",
       "    }\n",
       "\n",
       "    .dataframe tbody tr th {\n",
       "        vertical-align: top;\n",
       "    }\n",
       "\n",
       "    .dataframe thead th {\n",
       "        text-align: right;\n",
       "    }\n",
       "</style>\n",
       "<table border=\"1\" class=\"dataframe\">\n",
       "  <thead>\n",
       "    <tr style=\"text-align: right;\">\n",
       "      <th></th>\n",
       "      <th>tweet_id</th>\n",
       "      <th>in_reply_to_status_id</th>\n",
       "      <th>in_reply_to_user_id</th>\n",
       "      <th>timestamp</th>\n",
       "      <th>source</th>\n",
       "      <th>text</th>\n",
       "      <th>retweeted_status_id</th>\n",
       "      <th>retweeted_status_user_id</th>\n",
       "      <th>retweeted_status_timestamp</th>\n",
       "      <th>expanded_urls</th>\n",
       "      <th>rating_numerator</th>\n",
       "      <th>rating_denominator</th>\n",
       "      <th>name</th>\n",
       "      <th>doggo</th>\n",
       "      <th>floofer</th>\n",
       "      <th>pupper</th>\n",
       "      <th>puppo</th>\n",
       "    </tr>\n",
       "  </thead>\n",
       "  <tbody>\n",
       "    <tr>\n",
       "      <th>7</th>\n",
       "      <td>890729181411237888</td>\n",
       "      <td>NaN</td>\n",
       "      <td>NaN</td>\n",
       "      <td>2017-07-28 00:22:40 +0000</td>\n",
       "      <td>&lt;a href=\"http://twitter.com/download/iphone\" r...</td>\n",
       "      <td>When you watch your owner call another dog a g...</td>\n",
       "      <td>NaN</td>\n",
       "      <td>NaN</td>\n",
       "      <td>NaN</td>\n",
       "      <td>https://twitter.com/dog_rates/status/890729181...</td>\n",
       "      <td>13</td>\n",
       "      <td>10</td>\n",
       "      <td>None</td>\n",
       "      <td>None</td>\n",
       "      <td>None</td>\n",
       "      <td>None</td>\n",
       "      <td>None</td>\n",
       "    </tr>\n",
       "    <tr>\n",
       "      <th>12</th>\n",
       "      <td>889665388333682689</td>\n",
       "      <td>NaN</td>\n",
       "      <td>NaN</td>\n",
       "      <td>2017-07-25 01:55:32 +0000</td>\n",
       "      <td>&lt;a href=\"http://twitter.com/download/iphone\" r...</td>\n",
       "      <td>Here's a puppo that seems to be on the fence a...</td>\n",
       "      <td>NaN</td>\n",
       "      <td>NaN</td>\n",
       "      <td>NaN</td>\n",
       "      <td>https://twitter.com/dog_rates/status/889665388...</td>\n",
       "      <td>13</td>\n",
       "      <td>10</td>\n",
       "      <td>None</td>\n",
       "      <td>None</td>\n",
       "      <td>None</td>\n",
       "      <td>None</td>\n",
       "      <td>puppo</td>\n",
       "    </tr>\n",
       "    <tr>\n",
       "      <th>23</th>\n",
       "      <td>887473957103951883</td>\n",
       "      <td>NaN</td>\n",
       "      <td>NaN</td>\n",
       "      <td>2017-07-19 00:47:34 +0000</td>\n",
       "      <td>&lt;a href=\"http://twitter.com/download/iphone\" r...</td>\n",
       "      <td>This is Canela. She attempted some fancy porch...</td>\n",
       "      <td>NaN</td>\n",
       "      <td>NaN</td>\n",
       "      <td>NaN</td>\n",
       "      <td>https://twitter.com/dog_rates/status/887473957...</td>\n",
       "      <td>13</td>\n",
       "      <td>10</td>\n",
       "      <td>Canela</td>\n",
       "      <td>None</td>\n",
       "      <td>None</td>\n",
       "      <td>None</td>\n",
       "      <td>None</td>\n",
       "    </tr>\n",
       "    <tr>\n",
       "      <th>24</th>\n",
       "      <td>887343217045368832</td>\n",
       "      <td>NaN</td>\n",
       "      <td>NaN</td>\n",
       "      <td>2017-07-18 16:08:03 +0000</td>\n",
       "      <td>&lt;a href=\"http://twitter.com/download/iphone\" r...</td>\n",
       "      <td>You may not have known you needed to see this ...</td>\n",
       "      <td>NaN</td>\n",
       "      <td>NaN</td>\n",
       "      <td>NaN</td>\n",
       "      <td>https://twitter.com/dog_rates/status/887343217...</td>\n",
       "      <td>13</td>\n",
       "      <td>10</td>\n",
       "      <td>None</td>\n",
       "      <td>None</td>\n",
       "      <td>None</td>\n",
       "      <td>None</td>\n",
       "      <td>None</td>\n",
       "    </tr>\n",
       "    <tr>\n",
       "      <th>25</th>\n",
       "      <td>887101392804085760</td>\n",
       "      <td>NaN</td>\n",
       "      <td>NaN</td>\n",
       "      <td>2017-07-18 00:07:08 +0000</td>\n",
       "      <td>&lt;a href=\"http://twitter.com/download/iphone\" r...</td>\n",
       "      <td>This... is a Jubilant Antarctic House Bear. We...</td>\n",
       "      <td>NaN</td>\n",
       "      <td>NaN</td>\n",
       "      <td>NaN</td>\n",
       "      <td>https://twitter.com/dog_rates/status/887101392...</td>\n",
       "      <td>12</td>\n",
       "      <td>10</td>\n",
       "      <td>None</td>\n",
       "      <td>None</td>\n",
       "      <td>None</td>\n",
       "      <td>None</td>\n",
       "      <td>None</td>\n",
       "    </tr>\n",
       "    <tr>\n",
       "      <th>...</th>\n",
       "      <td>...</td>\n",
       "      <td>...</td>\n",
       "      <td>...</td>\n",
       "      <td>...</td>\n",
       "      <td>...</td>\n",
       "      <td>...</td>\n",
       "      <td>...</td>\n",
       "      <td>...</td>\n",
       "      <td>...</td>\n",
       "      <td>...</td>\n",
       "      <td>...</td>\n",
       "      <td>...</td>\n",
       "      <td>...</td>\n",
       "      <td>...</td>\n",
       "      <td>...</td>\n",
       "      <td>...</td>\n",
       "      <td>...</td>\n",
       "    </tr>\n",
       "    <tr>\n",
       "      <th>2351</th>\n",
       "      <td>666049248165822465</td>\n",
       "      <td>NaN</td>\n",
       "      <td>NaN</td>\n",
       "      <td>2015-11-16 00:24:50 +0000</td>\n",
       "      <td>&lt;a href=\"http://twitter.com/download/iphone\" r...</td>\n",
       "      <td>Here we have a 1949 1st generation vulpix. Enj...</td>\n",
       "      <td>NaN</td>\n",
       "      <td>NaN</td>\n",
       "      <td>NaN</td>\n",
       "      <td>https://twitter.com/dog_rates/status/666049248...</td>\n",
       "      <td>5</td>\n",
       "      <td>10</td>\n",
       "      <td>None</td>\n",
       "      <td>None</td>\n",
       "      <td>None</td>\n",
       "      <td>None</td>\n",
       "      <td>None</td>\n",
       "    </tr>\n",
       "    <tr>\n",
       "      <th>2352</th>\n",
       "      <td>666044226329800704</td>\n",
       "      <td>NaN</td>\n",
       "      <td>NaN</td>\n",
       "      <td>2015-11-16 00:04:52 +0000</td>\n",
       "      <td>&lt;a href=\"http://twitter.com/download/iphone\" r...</td>\n",
       "      <td>This is a purebred Piers Morgan. Loves to Netf...</td>\n",
       "      <td>NaN</td>\n",
       "      <td>NaN</td>\n",
       "      <td>NaN</td>\n",
       "      <td>https://twitter.com/dog_rates/status/666044226...</td>\n",
       "      <td>6</td>\n",
       "      <td>10</td>\n",
       "      <td>a</td>\n",
       "      <td>None</td>\n",
       "      <td>None</td>\n",
       "      <td>None</td>\n",
       "      <td>None</td>\n",
       "    </tr>\n",
       "    <tr>\n",
       "      <th>2353</th>\n",
       "      <td>666033412701032449</td>\n",
       "      <td>NaN</td>\n",
       "      <td>NaN</td>\n",
       "      <td>2015-11-15 23:21:54 +0000</td>\n",
       "      <td>&lt;a href=\"http://twitter.com/download/iphone\" r...</td>\n",
       "      <td>Here is a very happy pup. Big fan of well-main...</td>\n",
       "      <td>NaN</td>\n",
       "      <td>NaN</td>\n",
       "      <td>NaN</td>\n",
       "      <td>https://twitter.com/dog_rates/status/666033412...</td>\n",
       "      <td>9</td>\n",
       "      <td>10</td>\n",
       "      <td>a</td>\n",
       "      <td>None</td>\n",
       "      <td>None</td>\n",
       "      <td>None</td>\n",
       "      <td>None</td>\n",
       "    </tr>\n",
       "    <tr>\n",
       "      <th>2354</th>\n",
       "      <td>666029285002620928</td>\n",
       "      <td>NaN</td>\n",
       "      <td>NaN</td>\n",
       "      <td>2015-11-15 23:05:30 +0000</td>\n",
       "      <td>&lt;a href=\"http://twitter.com/download/iphone\" r...</td>\n",
       "      <td>This is a western brown Mitsubishi terrier. Up...</td>\n",
       "      <td>NaN</td>\n",
       "      <td>NaN</td>\n",
       "      <td>NaN</td>\n",
       "      <td>https://twitter.com/dog_rates/status/666029285...</td>\n",
       "      <td>7</td>\n",
       "      <td>10</td>\n",
       "      <td>a</td>\n",
       "      <td>None</td>\n",
       "      <td>None</td>\n",
       "      <td>None</td>\n",
       "      <td>None</td>\n",
       "    </tr>\n",
       "    <tr>\n",
       "      <th>2355</th>\n",
       "      <td>666020888022790149</td>\n",
       "      <td>NaN</td>\n",
       "      <td>NaN</td>\n",
       "      <td>2015-11-15 22:32:08 +0000</td>\n",
       "      <td>&lt;a href=\"http://twitter.com/download/iphone\" r...</td>\n",
       "      <td>Here we have a Japanese Irish Setter. Lost eye...</td>\n",
       "      <td>NaN</td>\n",
       "      <td>NaN</td>\n",
       "      <td>NaN</td>\n",
       "      <td>https://twitter.com/dog_rates/status/666020888...</td>\n",
       "      <td>8</td>\n",
       "      <td>10</td>\n",
       "      <td>None</td>\n",
       "      <td>None</td>\n",
       "      <td>None</td>\n",
       "      <td>None</td>\n",
       "      <td>None</td>\n",
       "    </tr>\n",
       "  </tbody>\n",
       "</table>\n",
       "<p>1399 rows × 17 columns</p>\n",
       "</div>"
      ],
      "text/plain": [
       "                tweet_id  in_reply_to_status_id  in_reply_to_user_id  \\\n",
       "7     890729181411237888                    NaN                  NaN   \n",
       "12    889665388333682689                    NaN                  NaN   \n",
       "23    887473957103951883                    NaN                  NaN   \n",
       "24    887343217045368832                    NaN                  NaN   \n",
       "25    887101392804085760                    NaN                  NaN   \n",
       "...                  ...                    ...                  ...   \n",
       "2351  666049248165822465                    NaN                  NaN   \n",
       "2352  666044226329800704                    NaN                  NaN   \n",
       "2353  666033412701032449                    NaN                  NaN   \n",
       "2354  666029285002620928                    NaN                  NaN   \n",
       "2355  666020888022790149                    NaN                  NaN   \n",
       "\n",
       "                      timestamp  \\\n",
       "7     2017-07-28 00:22:40 +0000   \n",
       "12    2017-07-25 01:55:32 +0000   \n",
       "23    2017-07-19 00:47:34 +0000   \n",
       "24    2017-07-18 16:08:03 +0000   \n",
       "25    2017-07-18 00:07:08 +0000   \n",
       "...                         ...   \n",
       "2351  2015-11-16 00:24:50 +0000   \n",
       "2352  2015-11-16 00:04:52 +0000   \n",
       "2353  2015-11-15 23:21:54 +0000   \n",
       "2354  2015-11-15 23:05:30 +0000   \n",
       "2355  2015-11-15 22:32:08 +0000   \n",
       "\n",
       "                                                 source  \\\n",
       "7     <a href=\"http://twitter.com/download/iphone\" r...   \n",
       "12    <a href=\"http://twitter.com/download/iphone\" r...   \n",
       "23    <a href=\"http://twitter.com/download/iphone\" r...   \n",
       "24    <a href=\"http://twitter.com/download/iphone\" r...   \n",
       "25    <a href=\"http://twitter.com/download/iphone\" r...   \n",
       "...                                                 ...   \n",
       "2351  <a href=\"http://twitter.com/download/iphone\" r...   \n",
       "2352  <a href=\"http://twitter.com/download/iphone\" r...   \n",
       "2353  <a href=\"http://twitter.com/download/iphone\" r...   \n",
       "2354  <a href=\"http://twitter.com/download/iphone\" r...   \n",
       "2355  <a href=\"http://twitter.com/download/iphone\" r...   \n",
       "\n",
       "                                                   text  retweeted_status_id  \\\n",
       "7     When you watch your owner call another dog a g...                  NaN   \n",
       "12    Here's a puppo that seems to be on the fence a...                  NaN   \n",
       "23    This is Canela. She attempted some fancy porch...                  NaN   \n",
       "24    You may not have known you needed to see this ...                  NaN   \n",
       "25    This... is a Jubilant Antarctic House Bear. We...                  NaN   \n",
       "...                                                 ...                  ...   \n",
       "2351  Here we have a 1949 1st generation vulpix. Enj...                  NaN   \n",
       "2352  This is a purebred Piers Morgan. Loves to Netf...                  NaN   \n",
       "2353  Here is a very happy pup. Big fan of well-main...                  NaN   \n",
       "2354  This is a western brown Mitsubishi terrier. Up...                  NaN   \n",
       "2355  Here we have a Japanese Irish Setter. Lost eye...                  NaN   \n",
       "\n",
       "      retweeted_status_user_id retweeted_status_timestamp  \\\n",
       "7                          NaN                        NaN   \n",
       "12                         NaN                        NaN   \n",
       "23                         NaN                        NaN   \n",
       "24                         NaN                        NaN   \n",
       "25                         NaN                        NaN   \n",
       "...                        ...                        ...   \n",
       "2351                       NaN                        NaN   \n",
       "2352                       NaN                        NaN   \n",
       "2353                       NaN                        NaN   \n",
       "2354                       NaN                        NaN   \n",
       "2355                       NaN                        NaN   \n",
       "\n",
       "                                          expanded_urls  rating_numerator  \\\n",
       "7     https://twitter.com/dog_rates/status/890729181...                13   \n",
       "12    https://twitter.com/dog_rates/status/889665388...                13   \n",
       "23    https://twitter.com/dog_rates/status/887473957...                13   \n",
       "24    https://twitter.com/dog_rates/status/887343217...                13   \n",
       "25    https://twitter.com/dog_rates/status/887101392...                12   \n",
       "...                                                 ...               ...   \n",
       "2351  https://twitter.com/dog_rates/status/666049248...                 5   \n",
       "2352  https://twitter.com/dog_rates/status/666044226...                 6   \n",
       "2353  https://twitter.com/dog_rates/status/666033412...                 9   \n",
       "2354  https://twitter.com/dog_rates/status/666029285...                 7   \n",
       "2355  https://twitter.com/dog_rates/status/666020888...                 8   \n",
       "\n",
       "      rating_denominator    name doggo floofer pupper  puppo  \n",
       "7                     10    None  None    None   None   None  \n",
       "12                    10    None  None    None   None  puppo  \n",
       "23                    10  Canela  None    None   None   None  \n",
       "24                    10    None  None    None   None   None  \n",
       "25                    10    None  None    None   None   None  \n",
       "...                  ...     ...   ...     ...    ...    ...  \n",
       "2351                  10    None  None    None   None   None  \n",
       "2352                  10       a  None    None   None   None  \n",
       "2353                  10       a  None    None   None   None  \n",
       "2354                  10       a  None    None   None   None  \n",
       "2355                  10    None  None    None   None   None  \n",
       "\n",
       "[1399 rows x 17 columns]"
      ]
     },
     "execution_count": 14,
     "metadata": {},
     "output_type": "execute_result"
    }
   ],
   "source": [
    "twitter_archive[twitter_archive.name.duplicated()]"
   ]
  },
  {
   "cell_type": "code",
   "execution_count": 15,
   "metadata": {},
   "outputs": [
    {
     "data": {
      "text/html": [
       "<div>\n",
       "<style scoped>\n",
       "    .dataframe tbody tr th:only-of-type {\n",
       "        vertical-align: middle;\n",
       "    }\n",
       "\n",
       "    .dataframe tbody tr th {\n",
       "        vertical-align: top;\n",
       "    }\n",
       "\n",
       "    .dataframe thead th {\n",
       "        text-align: right;\n",
       "    }\n",
       "</style>\n",
       "<table border=\"1\" class=\"dataframe\">\n",
       "  <thead>\n",
       "    <tr style=\"text-align: right;\">\n",
       "      <th></th>\n",
       "      <th>tweet_id</th>\n",
       "      <th>in_reply_to_status_id</th>\n",
       "      <th>in_reply_to_user_id</th>\n",
       "      <th>timestamp</th>\n",
       "      <th>source</th>\n",
       "      <th>text</th>\n",
       "      <th>retweeted_status_id</th>\n",
       "      <th>retweeted_status_user_id</th>\n",
       "      <th>retweeted_status_timestamp</th>\n",
       "      <th>expanded_urls</th>\n",
       "      <th>rating_numerator</th>\n",
       "      <th>rating_denominator</th>\n",
       "      <th>name</th>\n",
       "      <th>doggo</th>\n",
       "      <th>floofer</th>\n",
       "      <th>pupper</th>\n",
       "      <th>puppo</th>\n",
       "    </tr>\n",
       "  </thead>\n",
       "  <tbody>\n",
       "    <tr>\n",
       "      <th>5</th>\n",
       "      <td>891087950875897856</td>\n",
       "      <td>NaN</td>\n",
       "      <td>NaN</td>\n",
       "      <td>2017-07-29 00:08:17 +0000</td>\n",
       "      <td>&lt;a href=\"http://twitter.com/download/iphone\" r...</td>\n",
       "      <td>Here we have a majestic great white breaching ...</td>\n",
       "      <td>NaN</td>\n",
       "      <td>NaN</td>\n",
       "      <td>NaN</td>\n",
       "      <td>https://twitter.com/dog_rates/status/891087950...</td>\n",
       "      <td>13</td>\n",
       "      <td>10</td>\n",
       "      <td>None</td>\n",
       "      <td>None</td>\n",
       "      <td>None</td>\n",
       "      <td>None</td>\n",
       "      <td>None</td>\n",
       "    </tr>\n",
       "    <tr>\n",
       "      <th>7</th>\n",
       "      <td>890729181411237888</td>\n",
       "      <td>NaN</td>\n",
       "      <td>NaN</td>\n",
       "      <td>2017-07-28 00:22:40 +0000</td>\n",
       "      <td>&lt;a href=\"http://twitter.com/download/iphone\" r...</td>\n",
       "      <td>When you watch your owner call another dog a g...</td>\n",
       "      <td>NaN</td>\n",
       "      <td>NaN</td>\n",
       "      <td>NaN</td>\n",
       "      <td>https://twitter.com/dog_rates/status/890729181...</td>\n",
       "      <td>13</td>\n",
       "      <td>10</td>\n",
       "      <td>None</td>\n",
       "      <td>None</td>\n",
       "      <td>None</td>\n",
       "      <td>None</td>\n",
       "      <td>None</td>\n",
       "    </tr>\n",
       "    <tr>\n",
       "      <th>12</th>\n",
       "      <td>889665388333682689</td>\n",
       "      <td>NaN</td>\n",
       "      <td>NaN</td>\n",
       "      <td>2017-07-25 01:55:32 +0000</td>\n",
       "      <td>&lt;a href=\"http://twitter.com/download/iphone\" r...</td>\n",
       "      <td>Here's a puppo that seems to be on the fence a...</td>\n",
       "      <td>NaN</td>\n",
       "      <td>NaN</td>\n",
       "      <td>NaN</td>\n",
       "      <td>https://twitter.com/dog_rates/status/889665388...</td>\n",
       "      <td>13</td>\n",
       "      <td>10</td>\n",
       "      <td>None</td>\n",
       "      <td>None</td>\n",
       "      <td>None</td>\n",
       "      <td>None</td>\n",
       "      <td>puppo</td>\n",
       "    </tr>\n",
       "    <tr>\n",
       "      <th>24</th>\n",
       "      <td>887343217045368832</td>\n",
       "      <td>NaN</td>\n",
       "      <td>NaN</td>\n",
       "      <td>2017-07-18 16:08:03 +0000</td>\n",
       "      <td>&lt;a href=\"http://twitter.com/download/iphone\" r...</td>\n",
       "      <td>You may not have known you needed to see this ...</td>\n",
       "      <td>NaN</td>\n",
       "      <td>NaN</td>\n",
       "      <td>NaN</td>\n",
       "      <td>https://twitter.com/dog_rates/status/887343217...</td>\n",
       "      <td>13</td>\n",
       "      <td>10</td>\n",
       "      <td>None</td>\n",
       "      <td>None</td>\n",
       "      <td>None</td>\n",
       "      <td>None</td>\n",
       "      <td>None</td>\n",
       "    </tr>\n",
       "    <tr>\n",
       "      <th>25</th>\n",
       "      <td>887101392804085760</td>\n",
       "      <td>NaN</td>\n",
       "      <td>NaN</td>\n",
       "      <td>2017-07-18 00:07:08 +0000</td>\n",
       "      <td>&lt;a href=\"http://twitter.com/download/iphone\" r...</td>\n",
       "      <td>This... is a Jubilant Antarctic House Bear. We...</td>\n",
       "      <td>NaN</td>\n",
       "      <td>NaN</td>\n",
       "      <td>NaN</td>\n",
       "      <td>https://twitter.com/dog_rates/status/887101392...</td>\n",
       "      <td>12</td>\n",
       "      <td>10</td>\n",
       "      <td>None</td>\n",
       "      <td>None</td>\n",
       "      <td>None</td>\n",
       "      <td>None</td>\n",
       "      <td>None</td>\n",
       "    </tr>\n",
       "    <tr>\n",
       "      <th>...</th>\n",
       "      <td>...</td>\n",
       "      <td>...</td>\n",
       "      <td>...</td>\n",
       "      <td>...</td>\n",
       "      <td>...</td>\n",
       "      <td>...</td>\n",
       "      <td>...</td>\n",
       "      <td>...</td>\n",
       "      <td>...</td>\n",
       "      <td>...</td>\n",
       "      <td>...</td>\n",
       "      <td>...</td>\n",
       "      <td>...</td>\n",
       "      <td>...</td>\n",
       "      <td>...</td>\n",
       "      <td>...</td>\n",
       "      <td>...</td>\n",
       "    </tr>\n",
       "    <tr>\n",
       "      <th>2342</th>\n",
       "      <td>666082916733198337</td>\n",
       "      <td>NaN</td>\n",
       "      <td>NaN</td>\n",
       "      <td>2015-11-16 02:38:37 +0000</td>\n",
       "      <td>&lt;a href=\"http://twitter.com/download/iphone\" r...</td>\n",
       "      <td>Here we have a well-established sunblockerspan...</td>\n",
       "      <td>NaN</td>\n",
       "      <td>NaN</td>\n",
       "      <td>NaN</td>\n",
       "      <td>https://twitter.com/dog_rates/status/666082916...</td>\n",
       "      <td>6</td>\n",
       "      <td>10</td>\n",
       "      <td>None</td>\n",
       "      <td>None</td>\n",
       "      <td>None</td>\n",
       "      <td>None</td>\n",
       "      <td>None</td>\n",
       "    </tr>\n",
       "    <tr>\n",
       "      <th>2343</th>\n",
       "      <td>666073100786774016</td>\n",
       "      <td>NaN</td>\n",
       "      <td>NaN</td>\n",
       "      <td>2015-11-16 01:59:36 +0000</td>\n",
       "      <td>&lt;a href=\"http://twitter.com/download/iphone\" r...</td>\n",
       "      <td>Let's hope this flight isn't Malaysian (lol). ...</td>\n",
       "      <td>NaN</td>\n",
       "      <td>NaN</td>\n",
       "      <td>NaN</td>\n",
       "      <td>https://twitter.com/dog_rates/status/666073100...</td>\n",
       "      <td>10</td>\n",
       "      <td>10</td>\n",
       "      <td>None</td>\n",
       "      <td>None</td>\n",
       "      <td>None</td>\n",
       "      <td>None</td>\n",
       "      <td>None</td>\n",
       "    </tr>\n",
       "    <tr>\n",
       "      <th>2344</th>\n",
       "      <td>666071193221509120</td>\n",
       "      <td>NaN</td>\n",
       "      <td>NaN</td>\n",
       "      <td>2015-11-16 01:52:02 +0000</td>\n",
       "      <td>&lt;a href=\"http://twitter.com/download/iphone\" r...</td>\n",
       "      <td>Here we have a northern speckled Rhododendron....</td>\n",
       "      <td>NaN</td>\n",
       "      <td>NaN</td>\n",
       "      <td>NaN</td>\n",
       "      <td>https://twitter.com/dog_rates/status/666071193...</td>\n",
       "      <td>9</td>\n",
       "      <td>10</td>\n",
       "      <td>None</td>\n",
       "      <td>None</td>\n",
       "      <td>None</td>\n",
       "      <td>None</td>\n",
       "      <td>None</td>\n",
       "    </tr>\n",
       "    <tr>\n",
       "      <th>2351</th>\n",
       "      <td>666049248165822465</td>\n",
       "      <td>NaN</td>\n",
       "      <td>NaN</td>\n",
       "      <td>2015-11-16 00:24:50 +0000</td>\n",
       "      <td>&lt;a href=\"http://twitter.com/download/iphone\" r...</td>\n",
       "      <td>Here we have a 1949 1st generation vulpix. Enj...</td>\n",
       "      <td>NaN</td>\n",
       "      <td>NaN</td>\n",
       "      <td>NaN</td>\n",
       "      <td>https://twitter.com/dog_rates/status/666049248...</td>\n",
       "      <td>5</td>\n",
       "      <td>10</td>\n",
       "      <td>None</td>\n",
       "      <td>None</td>\n",
       "      <td>None</td>\n",
       "      <td>None</td>\n",
       "      <td>None</td>\n",
       "    </tr>\n",
       "    <tr>\n",
       "      <th>2355</th>\n",
       "      <td>666020888022790149</td>\n",
       "      <td>NaN</td>\n",
       "      <td>NaN</td>\n",
       "      <td>2015-11-15 22:32:08 +0000</td>\n",
       "      <td>&lt;a href=\"http://twitter.com/download/iphone\" r...</td>\n",
       "      <td>Here we have a Japanese Irish Setter. Lost eye...</td>\n",
       "      <td>NaN</td>\n",
       "      <td>NaN</td>\n",
       "      <td>NaN</td>\n",
       "      <td>https://twitter.com/dog_rates/status/666020888...</td>\n",
       "      <td>8</td>\n",
       "      <td>10</td>\n",
       "      <td>None</td>\n",
       "      <td>None</td>\n",
       "      <td>None</td>\n",
       "      <td>None</td>\n",
       "      <td>None</td>\n",
       "    </tr>\n",
       "  </tbody>\n",
       "</table>\n",
       "<p>745 rows × 17 columns</p>\n",
       "</div>"
      ],
      "text/plain": [
       "                tweet_id  in_reply_to_status_id  in_reply_to_user_id  \\\n",
       "5     891087950875897856                    NaN                  NaN   \n",
       "7     890729181411237888                    NaN                  NaN   \n",
       "12    889665388333682689                    NaN                  NaN   \n",
       "24    887343217045368832                    NaN                  NaN   \n",
       "25    887101392804085760                    NaN                  NaN   \n",
       "...                  ...                    ...                  ...   \n",
       "2342  666082916733198337                    NaN                  NaN   \n",
       "2343  666073100786774016                    NaN                  NaN   \n",
       "2344  666071193221509120                    NaN                  NaN   \n",
       "2351  666049248165822465                    NaN                  NaN   \n",
       "2355  666020888022790149                    NaN                  NaN   \n",
       "\n",
       "                      timestamp  \\\n",
       "5     2017-07-29 00:08:17 +0000   \n",
       "7     2017-07-28 00:22:40 +0000   \n",
       "12    2017-07-25 01:55:32 +0000   \n",
       "24    2017-07-18 16:08:03 +0000   \n",
       "25    2017-07-18 00:07:08 +0000   \n",
       "...                         ...   \n",
       "2342  2015-11-16 02:38:37 +0000   \n",
       "2343  2015-11-16 01:59:36 +0000   \n",
       "2344  2015-11-16 01:52:02 +0000   \n",
       "2351  2015-11-16 00:24:50 +0000   \n",
       "2355  2015-11-15 22:32:08 +0000   \n",
       "\n",
       "                                                 source  \\\n",
       "5     <a href=\"http://twitter.com/download/iphone\" r...   \n",
       "7     <a href=\"http://twitter.com/download/iphone\" r...   \n",
       "12    <a href=\"http://twitter.com/download/iphone\" r...   \n",
       "24    <a href=\"http://twitter.com/download/iphone\" r...   \n",
       "25    <a href=\"http://twitter.com/download/iphone\" r...   \n",
       "...                                                 ...   \n",
       "2342  <a href=\"http://twitter.com/download/iphone\" r...   \n",
       "2343  <a href=\"http://twitter.com/download/iphone\" r...   \n",
       "2344  <a href=\"http://twitter.com/download/iphone\" r...   \n",
       "2351  <a href=\"http://twitter.com/download/iphone\" r...   \n",
       "2355  <a href=\"http://twitter.com/download/iphone\" r...   \n",
       "\n",
       "                                                   text  retweeted_status_id  \\\n",
       "5     Here we have a majestic great white breaching ...                  NaN   \n",
       "7     When you watch your owner call another dog a g...                  NaN   \n",
       "12    Here's a puppo that seems to be on the fence a...                  NaN   \n",
       "24    You may not have known you needed to see this ...                  NaN   \n",
       "25    This... is a Jubilant Antarctic House Bear. We...                  NaN   \n",
       "...                                                 ...                  ...   \n",
       "2342  Here we have a well-established sunblockerspan...                  NaN   \n",
       "2343  Let's hope this flight isn't Malaysian (lol). ...                  NaN   \n",
       "2344  Here we have a northern speckled Rhododendron....                  NaN   \n",
       "2351  Here we have a 1949 1st generation vulpix. Enj...                  NaN   \n",
       "2355  Here we have a Japanese Irish Setter. Lost eye...                  NaN   \n",
       "\n",
       "      retweeted_status_user_id retweeted_status_timestamp  \\\n",
       "5                          NaN                        NaN   \n",
       "7                          NaN                        NaN   \n",
       "12                         NaN                        NaN   \n",
       "24                         NaN                        NaN   \n",
       "25                         NaN                        NaN   \n",
       "...                        ...                        ...   \n",
       "2342                       NaN                        NaN   \n",
       "2343                       NaN                        NaN   \n",
       "2344                       NaN                        NaN   \n",
       "2351                       NaN                        NaN   \n",
       "2355                       NaN                        NaN   \n",
       "\n",
       "                                          expanded_urls  rating_numerator  \\\n",
       "5     https://twitter.com/dog_rates/status/891087950...                13   \n",
       "7     https://twitter.com/dog_rates/status/890729181...                13   \n",
       "12    https://twitter.com/dog_rates/status/889665388...                13   \n",
       "24    https://twitter.com/dog_rates/status/887343217...                13   \n",
       "25    https://twitter.com/dog_rates/status/887101392...                12   \n",
       "...                                                 ...               ...   \n",
       "2342  https://twitter.com/dog_rates/status/666082916...                 6   \n",
       "2343  https://twitter.com/dog_rates/status/666073100...                10   \n",
       "2344  https://twitter.com/dog_rates/status/666071193...                 9   \n",
       "2351  https://twitter.com/dog_rates/status/666049248...                 5   \n",
       "2355  https://twitter.com/dog_rates/status/666020888...                 8   \n",
       "\n",
       "      rating_denominator  name doggo floofer pupper  puppo  \n",
       "5                     10  None  None    None   None   None  \n",
       "7                     10  None  None    None   None   None  \n",
       "12                    10  None  None    None   None  puppo  \n",
       "24                    10  None  None    None   None   None  \n",
       "25                    10  None  None    None   None   None  \n",
       "...                  ...   ...   ...     ...    ...    ...  \n",
       "2342                  10  None  None    None   None   None  \n",
       "2343                  10  None  None    None   None   None  \n",
       "2344                  10  None  None    None   None   None  \n",
       "2351                  10  None  None    None   None   None  \n",
       "2355                  10  None  None    None   None   None  \n",
       "\n",
       "[745 rows x 17 columns]"
      ]
     },
     "execution_count": 15,
     "metadata": {},
     "output_type": "execute_result"
    }
   ],
   "source": [
    "twitter_archive[twitter_archive.name == 'None']"
   ]
  },
  {
   "cell_type": "markdown",
   "metadata": {},
   "source": [
    ">- **More than 700 Dog Name is 'None' and More than 50 Dogs Name is 'a'**\n",
    ">- **\"Doggo', 'Floofer', 'Pipper', 'Puppo' columns contains None instead of NaN**\n",
    ">- **Need to combine 4 Columns(dog stages) and Make it one.** Tidiness"
   ]
  },
  {
   "cell_type": "code",
   "execution_count": 16,
   "metadata": {},
   "outputs": [
    {
     "data": {
      "text/plain": [
       "12      558\n",
       "11      464\n",
       "10      461\n",
       "13      351\n",
       "9       158\n",
       "8       102\n",
       "7        55\n",
       "14       54\n",
       "5        37\n",
       "6        32\n",
       "3        19\n",
       "4        17\n",
       "2         9\n",
       "1         9\n",
       "75        2\n",
       "15        2\n",
       "420       2\n",
       "0         2\n",
       "80        1\n",
       "144       1\n",
       "17        1\n",
       "26        1\n",
       "20        1\n",
       "121       1\n",
       "143       1\n",
       "44        1\n",
       "60        1\n",
       "45        1\n",
       "50        1\n",
       "99        1\n",
       "204       1\n",
       "1776      1\n",
       "165       1\n",
       "666       1\n",
       "27        1\n",
       "182       1\n",
       "24        1\n",
       "960       1\n",
       "84        1\n",
       "88        1\n",
       "Name: rating_numerator, dtype: int64"
      ]
     },
     "execution_count": 16,
     "metadata": {},
     "output_type": "execute_result"
    }
   ],
   "source": [
    "twitter_archive.rating_numerator.value_counts()"
   ]
  },
  {
   "cell_type": "code",
   "execution_count": 17,
   "metadata": {},
   "outputs": [
    {
     "data": {
      "text/plain": [
       "10     2333\n",
       "11        3\n",
       "50        3\n",
       "20        2\n",
       "80        2\n",
       "70        1\n",
       "7         1\n",
       "15        1\n",
       "150       1\n",
       "170       1\n",
       "0         1\n",
       "90        1\n",
       "40        1\n",
       "130       1\n",
       "110       1\n",
       "16        1\n",
       "120       1\n",
       "2         1\n",
       "Name: rating_denominator, dtype: int64"
      ]
     },
     "execution_count": 17,
     "metadata": {},
     "output_type": "execute_result"
    }
   ],
   "source": [
    "twitter_archive.rating_denominator.value_counts()"
   ]
  },
  {
   "cell_type": "markdown",
   "metadata": {},
   "source": [
    ">- **rating_numerator & rating_denominator values are incorrect** (Correct values are available in Text column)"
   ]
  },
  {
   "cell_type": "code",
   "execution_count": 18,
   "metadata": {},
   "outputs": [
    {
     "data": {
      "text/plain": [
       "<a href=\"http://twitter.com/download/iphone\" rel=\"nofollow\">Twitter for iPhone</a>     2221\n",
       "<a href=\"http://vine.co\" rel=\"nofollow\">Vine - Make a Scene</a>                          91\n",
       "<a href=\"http://twitter.com\" rel=\"nofollow\">Twitter Web Client</a>                       33\n",
       "<a href=\"https://about.twitter.com/products/tweetdeck\" rel=\"nofollow\">TweetDeck</a>      11\n",
       "Name: source, dtype: int64"
      ]
     },
     "execution_count": 18,
     "metadata": {},
     "output_type": "execute_result"
    }
   ],
   "source": [
    "twitter_archive.source.value_counts()"
   ]
  },
  {
   "cell_type": "markdown",
   "metadata": {},
   "source": [
    ">- **It is difficult to read source value.**"
   ]
  },
  {
   "cell_type": "markdown",
   "metadata": {},
   "source": [
    "> ### Checking Image Predictions Dataset"
   ]
  },
  {
   "cell_type": "code",
   "execution_count": 19,
   "metadata": {},
   "outputs": [
    {
     "data": {
      "text/html": [
       "<div>\n",
       "<style scoped>\n",
       "    .dataframe tbody tr th:only-of-type {\n",
       "        vertical-align: middle;\n",
       "    }\n",
       "\n",
       "    .dataframe tbody tr th {\n",
       "        vertical-align: top;\n",
       "    }\n",
       "\n",
       "    .dataframe thead th {\n",
       "        text-align: right;\n",
       "    }\n",
       "</style>\n",
       "<table border=\"1\" class=\"dataframe\">\n",
       "  <thead>\n",
       "    <tr style=\"text-align: right;\">\n",
       "      <th></th>\n",
       "      <th>tweet_id</th>\n",
       "      <th>jpg_url</th>\n",
       "      <th>img_num</th>\n",
       "      <th>p1</th>\n",
       "      <th>p1_conf</th>\n",
       "      <th>p1_dog</th>\n",
       "      <th>p2</th>\n",
       "      <th>p2_conf</th>\n",
       "      <th>p2_dog</th>\n",
       "      <th>p3</th>\n",
       "      <th>p3_conf</th>\n",
       "      <th>p3_dog</th>\n",
       "    </tr>\n",
       "  </thead>\n",
       "  <tbody>\n",
       "    <tr>\n",
       "      <th>928</th>\n",
       "      <td>702684942141153280</td>\n",
       "      <td>https://pbs.twimg.com/media/CcBwOn0XEAA7bNQ.jpg</td>\n",
       "      <td>1</td>\n",
       "      <td>golden_retriever</td>\n",
       "      <td>0.514085</td>\n",
       "      <td>True</td>\n",
       "      <td>Chesapeake_Bay_retriever</td>\n",
       "      <td>0.173224</td>\n",
       "      <td>True</td>\n",
       "      <td>Brittany_spaniel</td>\n",
       "      <td>0.118384</td>\n",
       "      <td>True</td>\n",
       "    </tr>\n",
       "    <tr>\n",
       "      <th>1477</th>\n",
       "      <td>780543529827336192</td>\n",
       "      <td>https://pbs.twimg.com/media/CtUMLzRXgAAbZK5.jpg</td>\n",
       "      <td>1</td>\n",
       "      <td>golden_retriever</td>\n",
       "      <td>0.628312</td>\n",
       "      <td>True</td>\n",
       "      <td>Labrador_retriever</td>\n",
       "      <td>0.317365</td>\n",
       "      <td>True</td>\n",
       "      <td>Tibetan_mastiff</td>\n",
       "      <td>0.012260</td>\n",
       "      <td>True</td>\n",
       "    </tr>\n",
       "    <tr>\n",
       "      <th>1791</th>\n",
       "      <td>830583320585068544</td>\n",
       "      <td>https://pbs.twimg.com/media/C4bTH6nWMAAX_bJ.jpg</td>\n",
       "      <td>1</td>\n",
       "      <td>Labrador_retriever</td>\n",
       "      <td>0.908703</td>\n",
       "      <td>True</td>\n",
       "      <td>seat_belt</td>\n",
       "      <td>0.057091</td>\n",
       "      <td>False</td>\n",
       "      <td>pug</td>\n",
       "      <td>0.011933</td>\n",
       "      <td>True</td>\n",
       "    </tr>\n",
       "    <tr>\n",
       "      <th>228</th>\n",
       "      <td>670385711116361728</td>\n",
       "      <td>https://pbs.twimg.com/media/CU2wPyWWUAAb1MJ.jpg</td>\n",
       "      <td>1</td>\n",
       "      <td>whippet</td>\n",
       "      <td>0.178027</td>\n",
       "      <td>True</td>\n",
       "      <td>Chesapeake_Bay_retriever</td>\n",
       "      <td>0.105969</td>\n",
       "      <td>True</td>\n",
       "      <td>beagle</td>\n",
       "      <td>0.078720</td>\n",
       "      <td>True</td>\n",
       "    </tr>\n",
       "    <tr>\n",
       "      <th>732</th>\n",
       "      <td>686730991906516992</td>\n",
       "      <td>https://pbs.twimg.com/media/CYfCMdFWAAA44YA.jpg</td>\n",
       "      <td>1</td>\n",
       "      <td>Tibetan_mastiff</td>\n",
       "      <td>0.338812</td>\n",
       "      <td>True</td>\n",
       "      <td>Newfoundland</td>\n",
       "      <td>0.180925</td>\n",
       "      <td>True</td>\n",
       "      <td>golden_retriever</td>\n",
       "      <td>0.180023</td>\n",
       "      <td>True</td>\n",
       "    </tr>\n",
       "    <tr>\n",
       "      <th>746</th>\n",
       "      <td>687664829264453632</td>\n",
       "      <td>https://pbs.twimg.com/media/CYsTg1XUsAEPjxE.jpg</td>\n",
       "      <td>1</td>\n",
       "      <td>pug</td>\n",
       "      <td>0.957365</td>\n",
       "      <td>True</td>\n",
       "      <td>French_bulldog</td>\n",
       "      <td>0.038559</td>\n",
       "      <td>True</td>\n",
       "      <td>toy_poodle</td>\n",
       "      <td>0.000667</td>\n",
       "      <td>True</td>\n",
       "    </tr>\n",
       "  </tbody>\n",
       "</table>\n",
       "</div>"
      ],
      "text/plain": [
       "                tweet_id                                          jpg_url  \\\n",
       "928   702684942141153280  https://pbs.twimg.com/media/CcBwOn0XEAA7bNQ.jpg   \n",
       "1477  780543529827336192  https://pbs.twimg.com/media/CtUMLzRXgAAbZK5.jpg   \n",
       "1791  830583320585068544  https://pbs.twimg.com/media/C4bTH6nWMAAX_bJ.jpg   \n",
       "228   670385711116361728  https://pbs.twimg.com/media/CU2wPyWWUAAb1MJ.jpg   \n",
       "732   686730991906516992  https://pbs.twimg.com/media/CYfCMdFWAAA44YA.jpg   \n",
       "746   687664829264453632  https://pbs.twimg.com/media/CYsTg1XUsAEPjxE.jpg   \n",
       "\n",
       "      img_num                  p1   p1_conf  p1_dog                        p2  \\\n",
       "928         1    golden_retriever  0.514085    True  Chesapeake_Bay_retriever   \n",
       "1477        1    golden_retriever  0.628312    True        Labrador_retriever   \n",
       "1791        1  Labrador_retriever  0.908703    True                 seat_belt   \n",
       "228         1             whippet  0.178027    True  Chesapeake_Bay_retriever   \n",
       "732         1     Tibetan_mastiff  0.338812    True              Newfoundland   \n",
       "746         1                 pug  0.957365    True            French_bulldog   \n",
       "\n",
       "       p2_conf  p2_dog                p3   p3_conf  p3_dog  \n",
       "928   0.173224    True  Brittany_spaniel  0.118384    True  \n",
       "1477  0.317365    True   Tibetan_mastiff  0.012260    True  \n",
       "1791  0.057091   False               pug  0.011933    True  \n",
       "228   0.105969    True            beagle  0.078720    True  \n",
       "732   0.180925    True  golden_retriever  0.180023    True  \n",
       "746   0.038559    True        toy_poodle  0.000667    True  "
      ]
     },
     "execution_count": 19,
     "metadata": {},
     "output_type": "execute_result"
    }
   ],
   "source": [
    "image_predictions.sample(6)"
   ]
  },
  {
   "cell_type": "markdown",
   "metadata": {},
   "source": [
    ">- **P1, P2 and P3 have inconsisitent capital words.**\n",
    ">- **P1, p2 and P3 have unnessary underscore instead of space.**\n",
    ">- **p1,p1_conf,p1_dog column names are not understandable** //Tidiness"
   ]
  },
  {
   "cell_type": "code",
   "execution_count": 20,
   "metadata": {},
   "outputs": [
    {
     "name": "stdout",
     "output_type": "stream",
     "text": [
      "<class 'pandas.core.frame.DataFrame'>\n",
      "RangeIndex: 2075 entries, 0 to 2074\n",
      "Data columns (total 12 columns):\n",
      " #   Column    Non-Null Count  Dtype  \n",
      "---  ------    --------------  -----  \n",
      " 0   tweet_id  2075 non-null   int64  \n",
      " 1   jpg_url   2075 non-null   object \n",
      " 2   img_num   2075 non-null   int64  \n",
      " 3   p1        2075 non-null   object \n",
      " 4   p1_conf   2075 non-null   float64\n",
      " 5   p1_dog    2075 non-null   bool   \n",
      " 6   p2        2075 non-null   object \n",
      " 7   p2_conf   2075 non-null   float64\n",
      " 8   p2_dog    2075 non-null   bool   \n",
      " 9   p3        2075 non-null   object \n",
      " 10  p3_conf   2075 non-null   float64\n",
      " 11  p3_dog    2075 non-null   bool   \n",
      "dtypes: bool(3), float64(3), int64(2), object(4)\n",
      "memory usage: 152.1+ KB\n"
     ]
    }
   ],
   "source": [
    "image_predictions.info()"
   ]
  },
  {
   "cell_type": "markdown",
   "metadata": {},
   "source": [
    "> **tweet_id column datatype need to be change to sting.**"
   ]
  },
  {
   "cell_type": "code",
   "execution_count": 21,
   "metadata": {},
   "outputs": [
    {
     "name": "stdout",
     "output_type": "stream",
     "text": [
      "Checking Null Value in Image Prediction \n",
      " tweet_id    0\n",
      "jpg_url     0\n",
      "img_num     0\n",
      "p1          0\n",
      "p1_conf     0\n",
      "p1_dog      0\n",
      "p2          0\n",
      "p2_conf     0\n",
      "p2_dog      0\n",
      "p3          0\n",
      "p3_conf     0\n",
      "p3_dog      0\n",
      "dtype: int64\n"
     ]
    }
   ],
   "source": [
    "#Checking Null Values\n",
    "print(\"Checking Null Value in Image Prediction \\n\",image_predictions.isnull().sum())"
   ]
  },
  {
   "cell_type": "code",
   "execution_count": 22,
   "metadata": {},
   "outputs": [
    {
     "name": "stdout",
     "output_type": "stream",
     "text": [
      "Checking Duplicate Value of Tweet Id in image predictions:  0\n",
      "Checking Duplicate Value of Jpg URL in image predictions:  66\n"
     ]
    },
    {
     "data": {
      "text/html": [
       "<div>\n",
       "<style scoped>\n",
       "    .dataframe tbody tr th:only-of-type {\n",
       "        vertical-align: middle;\n",
       "    }\n",
       "\n",
       "    .dataframe tbody tr th {\n",
       "        vertical-align: top;\n",
       "    }\n",
       "\n",
       "    .dataframe thead th {\n",
       "        text-align: right;\n",
       "    }\n",
       "</style>\n",
       "<table border=\"1\" class=\"dataframe\">\n",
       "  <thead>\n",
       "    <tr style=\"text-align: right;\">\n",
       "      <th></th>\n",
       "      <th>tweet_id</th>\n",
       "      <th>jpg_url</th>\n",
       "      <th>img_num</th>\n",
       "      <th>p1</th>\n",
       "      <th>p1_conf</th>\n",
       "      <th>p1_dog</th>\n",
       "      <th>p2</th>\n",
       "      <th>p2_conf</th>\n",
       "      <th>p2_dog</th>\n",
       "      <th>p3</th>\n",
       "      <th>p3_conf</th>\n",
       "      <th>p3_dog</th>\n",
       "    </tr>\n",
       "  </thead>\n",
       "  <tbody>\n",
       "    <tr>\n",
       "      <th>1297</th>\n",
       "      <td>752309394570878976</td>\n",
       "      <td>https://pbs.twimg.com/ext_tw_video_thumb/67535...</td>\n",
       "      <td>1</td>\n",
       "      <td>upright</td>\n",
       "      <td>0.303415</td>\n",
       "      <td>False</td>\n",
       "      <td>golden_retriever</td>\n",
       "      <td>0.181351</td>\n",
       "      <td>True</td>\n",
       "      <td>Brittany_spaniel</td>\n",
       "      <td>0.162084</td>\n",
       "      <td>True</td>\n",
       "    </tr>\n",
       "    <tr>\n",
       "      <th>1315</th>\n",
       "      <td>754874841593970688</td>\n",
       "      <td>https://pbs.twimg.com/media/CWza7kpWcAAdYLc.jpg</td>\n",
       "      <td>1</td>\n",
       "      <td>pug</td>\n",
       "      <td>0.272205</td>\n",
       "      <td>True</td>\n",
       "      <td>bull_mastiff</td>\n",
       "      <td>0.251530</td>\n",
       "      <td>True</td>\n",
       "      <td>bath_towel</td>\n",
       "      <td>0.116806</td>\n",
       "      <td>False</td>\n",
       "    </tr>\n",
       "    <tr>\n",
       "      <th>1333</th>\n",
       "      <td>757729163776290825</td>\n",
       "      <td>https://pbs.twimg.com/media/CWyD2HGUYAQ1Xa7.jpg</td>\n",
       "      <td>2</td>\n",
       "      <td>cash_machine</td>\n",
       "      <td>0.802333</td>\n",
       "      <td>False</td>\n",
       "      <td>schipperke</td>\n",
       "      <td>0.045519</td>\n",
       "      <td>True</td>\n",
       "      <td>German_shepherd</td>\n",
       "      <td>0.023353</td>\n",
       "      <td>True</td>\n",
       "    </tr>\n",
       "    <tr>\n",
       "      <th>1345</th>\n",
       "      <td>759159934323924993</td>\n",
       "      <td>https://pbs.twimg.com/media/CU1zsMSUAAAS0qW.jpg</td>\n",
       "      <td>1</td>\n",
       "      <td>Irish_terrier</td>\n",
       "      <td>0.254856</td>\n",
       "      <td>True</td>\n",
       "      <td>briard</td>\n",
       "      <td>0.227716</td>\n",
       "      <td>True</td>\n",
       "      <td>soft-coated_wheaten_terrier</td>\n",
       "      <td>0.223263</td>\n",
       "      <td>True</td>\n",
       "    </tr>\n",
       "    <tr>\n",
       "      <th>1349</th>\n",
       "      <td>759566828574212096</td>\n",
       "      <td>https://pbs.twimg.com/media/CkNjahBXAAQ2kWo.jpg</td>\n",
       "      <td>1</td>\n",
       "      <td>Labrador_retriever</td>\n",
       "      <td>0.967397</td>\n",
       "      <td>True</td>\n",
       "      <td>golden_retriever</td>\n",
       "      <td>0.016641</td>\n",
       "      <td>True</td>\n",
       "      <td>ice_bear</td>\n",
       "      <td>0.014858</td>\n",
       "      <td>False</td>\n",
       "    </tr>\n",
       "    <tr>\n",
       "      <th>...</th>\n",
       "      <td>...</td>\n",
       "      <td>...</td>\n",
       "      <td>...</td>\n",
       "      <td>...</td>\n",
       "      <td>...</td>\n",
       "      <td>...</td>\n",
       "      <td>...</td>\n",
       "      <td>...</td>\n",
       "      <td>...</td>\n",
       "      <td>...</td>\n",
       "      <td>...</td>\n",
       "      <td>...</td>\n",
       "    </tr>\n",
       "    <tr>\n",
       "      <th>1903</th>\n",
       "      <td>851953902622658560</td>\n",
       "      <td>https://pbs.twimg.com/media/C4KHj-nWQAA3poV.jpg</td>\n",
       "      <td>1</td>\n",
       "      <td>Staffordshire_bullterrier</td>\n",
       "      <td>0.757547</td>\n",
       "      <td>True</td>\n",
       "      <td>American_Staffordshire_terrier</td>\n",
       "      <td>0.149950</td>\n",
       "      <td>True</td>\n",
       "      <td>Chesapeake_Bay_retriever</td>\n",
       "      <td>0.047523</td>\n",
       "      <td>True</td>\n",
       "    </tr>\n",
       "    <tr>\n",
       "      <th>1944</th>\n",
       "      <td>861769973181624320</td>\n",
       "      <td>https://pbs.twimg.com/media/CzG425nWgAAnP7P.jpg</td>\n",
       "      <td>2</td>\n",
       "      <td>Arabian_camel</td>\n",
       "      <td>0.366248</td>\n",
       "      <td>False</td>\n",
       "      <td>house_finch</td>\n",
       "      <td>0.209852</td>\n",
       "      <td>False</td>\n",
       "      <td>cocker_spaniel</td>\n",
       "      <td>0.046403</td>\n",
       "      <td>True</td>\n",
       "    </tr>\n",
       "    <tr>\n",
       "      <th>1992</th>\n",
       "      <td>873697596434513921</td>\n",
       "      <td>https://pbs.twimg.com/media/DA7iHL5U0AA1OQo.jpg</td>\n",
       "      <td>1</td>\n",
       "      <td>laptop</td>\n",
       "      <td>0.153718</td>\n",
       "      <td>False</td>\n",
       "      <td>French_bulldog</td>\n",
       "      <td>0.099984</td>\n",
       "      <td>True</td>\n",
       "      <td>printer</td>\n",
       "      <td>0.077130</td>\n",
       "      <td>False</td>\n",
       "    </tr>\n",
       "    <tr>\n",
       "      <th>2041</th>\n",
       "      <td>885311592912609280</td>\n",
       "      <td>https://pbs.twimg.com/media/C4bTH6nWMAAX_bJ.jpg</td>\n",
       "      <td>1</td>\n",
       "      <td>Labrador_retriever</td>\n",
       "      <td>0.908703</td>\n",
       "      <td>True</td>\n",
       "      <td>seat_belt</td>\n",
       "      <td>0.057091</td>\n",
       "      <td>False</td>\n",
       "      <td>pug</td>\n",
       "      <td>0.011933</td>\n",
       "      <td>True</td>\n",
       "    </tr>\n",
       "    <tr>\n",
       "      <th>2055</th>\n",
       "      <td>888202515573088257</td>\n",
       "      <td>https://pbs.twimg.com/media/DFDw2tyUQAAAFke.jpg</td>\n",
       "      <td>2</td>\n",
       "      <td>Pembroke</td>\n",
       "      <td>0.809197</td>\n",
       "      <td>True</td>\n",
       "      <td>Rhodesian_ridgeback</td>\n",
       "      <td>0.054950</td>\n",
       "      <td>True</td>\n",
       "      <td>beagle</td>\n",
       "      <td>0.038915</td>\n",
       "      <td>True</td>\n",
       "    </tr>\n",
       "  </tbody>\n",
       "</table>\n",
       "<p>66 rows × 12 columns</p>\n",
       "</div>"
      ],
      "text/plain": [
       "                tweet_id                                            jpg_url  \\\n",
       "1297  752309394570878976  https://pbs.twimg.com/ext_tw_video_thumb/67535...   \n",
       "1315  754874841593970688    https://pbs.twimg.com/media/CWza7kpWcAAdYLc.jpg   \n",
       "1333  757729163776290825    https://pbs.twimg.com/media/CWyD2HGUYAQ1Xa7.jpg   \n",
       "1345  759159934323924993    https://pbs.twimg.com/media/CU1zsMSUAAAS0qW.jpg   \n",
       "1349  759566828574212096    https://pbs.twimg.com/media/CkNjahBXAAQ2kWo.jpg   \n",
       "...                  ...                                                ...   \n",
       "1903  851953902622658560    https://pbs.twimg.com/media/C4KHj-nWQAA3poV.jpg   \n",
       "1944  861769973181624320    https://pbs.twimg.com/media/CzG425nWgAAnP7P.jpg   \n",
       "1992  873697596434513921    https://pbs.twimg.com/media/DA7iHL5U0AA1OQo.jpg   \n",
       "2041  885311592912609280    https://pbs.twimg.com/media/C4bTH6nWMAAX_bJ.jpg   \n",
       "2055  888202515573088257    https://pbs.twimg.com/media/DFDw2tyUQAAAFke.jpg   \n",
       "\n",
       "      img_num                         p1   p1_conf  p1_dog  \\\n",
       "1297        1                    upright  0.303415   False   \n",
       "1315        1                        pug  0.272205    True   \n",
       "1333        2               cash_machine  0.802333   False   \n",
       "1345        1              Irish_terrier  0.254856    True   \n",
       "1349        1         Labrador_retriever  0.967397    True   \n",
       "...       ...                        ...       ...     ...   \n",
       "1903        1  Staffordshire_bullterrier  0.757547    True   \n",
       "1944        2              Arabian_camel  0.366248   False   \n",
       "1992        1                     laptop  0.153718   False   \n",
       "2041        1         Labrador_retriever  0.908703    True   \n",
       "2055        2                   Pembroke  0.809197    True   \n",
       "\n",
       "                                  p2   p2_conf  p2_dog  \\\n",
       "1297                golden_retriever  0.181351    True   \n",
       "1315                    bull_mastiff  0.251530    True   \n",
       "1333                      schipperke  0.045519    True   \n",
       "1345                          briard  0.227716    True   \n",
       "1349                golden_retriever  0.016641    True   \n",
       "...                              ...       ...     ...   \n",
       "1903  American_Staffordshire_terrier  0.149950    True   \n",
       "1944                     house_finch  0.209852   False   \n",
       "1992                  French_bulldog  0.099984    True   \n",
       "2041                       seat_belt  0.057091   False   \n",
       "2055             Rhodesian_ridgeback  0.054950    True   \n",
       "\n",
       "                               p3   p3_conf  p3_dog  \n",
       "1297             Brittany_spaniel  0.162084    True  \n",
       "1315                   bath_towel  0.116806   False  \n",
       "1333              German_shepherd  0.023353    True  \n",
       "1345  soft-coated_wheaten_terrier  0.223263    True  \n",
       "1349                     ice_bear  0.014858   False  \n",
       "...                           ...       ...     ...  \n",
       "1903     Chesapeake_Bay_retriever  0.047523    True  \n",
       "1944               cocker_spaniel  0.046403    True  \n",
       "1992                      printer  0.077130   False  \n",
       "2041                          pug  0.011933    True  \n",
       "2055                       beagle  0.038915    True  \n",
       "\n",
       "[66 rows x 12 columns]"
      ]
     },
     "execution_count": 22,
     "metadata": {},
     "output_type": "execute_result"
    }
   ],
   "source": [
    "#Duplicate Value\n",
    "print(\"Checking Duplicate Value of Tweet Id in image predictions: \",image_predictions.tweet_id.duplicated().sum())\n",
    "print(\"Checking Duplicate Value of Jpg URL in image predictions: \",image_predictions.jpg_url.duplicated().sum())\n",
    "\n",
    "image_predictions[image_predictions.jpg_url.duplicated()]"
   ]
  },
  {
   "cell_type": "markdown",
   "metadata": {},
   "source": [
    "> **jpg_url have dupliacte entries.**"
   ]
  },
  {
   "cell_type": "code",
   "execution_count": 23,
   "metadata": {},
   "outputs": [
    {
     "name": "stdout",
     "output_type": "stream",
     "text": [
      "Image Num Count\n",
      " 1    1780\n",
      "2     198\n",
      "3      66\n",
      "4      31\n",
      "Name: img_num, dtype: int64\n"
     ]
    }
   ],
   "source": [
    "print(\"Image Num Count\\n\", image_predictions.img_num.value_counts())"
   ]
  },
  {
   "cell_type": "code",
   "execution_count": 24,
   "metadata": {},
   "outputs": [
    {
     "name": "stdout",
     "output_type": "stream",
     "text": [
      "0.721188    2\n",
      "0.676439    2\n",
      "0.505370    2\n",
      "0.777468    2\n",
      "0.254856    2\n",
      "           ..\n",
      "0.141432    1\n",
      "0.722218    1\n",
      "0.278600    1\n",
      "0.375610    1\n",
      "0.097049    1\n",
      "Name: p1_conf, Length: 2006, dtype: int64\n",
      "0.069362    3\n",
      "0.001186    2\n",
      "0.181351    2\n",
      "0.016641    2\n",
      "0.112943    2\n",
      "           ..\n",
      "0.053008    1\n",
      "0.094044    1\n",
      "0.193804    1\n",
      "0.155207    1\n",
      "0.085851    1\n",
      "Name: p2_conf, Length: 2004, dtype: int64\n",
      "0.023353    2\n",
      "0.046403    2\n",
      "0.077008    2\n",
      "0.017492    2\n",
      "0.223263    2\n",
      "           ..\n",
      "0.037881    1\n",
      "0.085237    1\n",
      "0.055194    1\n",
      "0.153598    1\n",
      "0.076110    1\n",
      "Name: p3_conf, Length: 2006, dtype: int64\n"
     ]
    }
   ],
   "source": [
    "print(image_predictions.p1_conf.value_counts()) #Checking p1 conf should be not be more than 1 \n",
    "print(image_predictions.p2_conf.value_counts()) #Checking p2 conf should be not be more than 1\n",
    "print(image_predictions.p3_conf.value_counts()) #Checking p3 conf should be not be more than 1"
   ]
  },
  {
   "cell_type": "markdown",
   "metadata": {},
   "source": [
    "> #### Checking Tweet Json Dataset"
   ]
  },
  {
   "cell_type": "code",
   "execution_count": 25,
   "metadata": {},
   "outputs": [
    {
     "data": {
      "text/html": [
       "<div>\n",
       "<style scoped>\n",
       "    .dataframe tbody tr th:only-of-type {\n",
       "        vertical-align: middle;\n",
       "    }\n",
       "\n",
       "    .dataframe tbody tr th {\n",
       "        vertical-align: top;\n",
       "    }\n",
       "\n",
       "    .dataframe thead th {\n",
       "        text-align: right;\n",
       "    }\n",
       "</style>\n",
       "<table border=\"1\" class=\"dataframe\">\n",
       "  <thead>\n",
       "    <tr style=\"text-align: right;\">\n",
       "      <th></th>\n",
       "      <th>tweet_id</th>\n",
       "      <th>retweet_count</th>\n",
       "      <th>favourite_count</th>\n",
       "    </tr>\n",
       "  </thead>\n",
       "  <tbody>\n",
       "    <tr>\n",
       "      <th>2065</th>\n",
       "      <td>670780561024270336</td>\n",
       "      <td>257</td>\n",
       "      <td>716</td>\n",
       "    </tr>\n",
       "    <tr>\n",
       "      <th>122</th>\n",
       "      <td>867900495410671616</td>\n",
       "      <td>3620</td>\n",
       "      <td>21871</td>\n",
       "    </tr>\n",
       "    <tr>\n",
       "      <th>262</th>\n",
       "      <td>840696689258311684</td>\n",
       "      <td>901</td>\n",
       "      <td>11631</td>\n",
       "    </tr>\n",
       "    <tr>\n",
       "      <th>42</th>\n",
       "      <td>884162670584377345</td>\n",
       "      <td>2523</td>\n",
       "      <td>18162</td>\n",
       "    </tr>\n",
       "    <tr>\n",
       "      <th>43</th>\n",
       "      <td>883838122936631299</td>\n",
       "      <td>2901</td>\n",
       "      <td>19427</td>\n",
       "    </tr>\n",
       "    <tr>\n",
       "      <th>818</th>\n",
       "      <td>766793450729734144</td>\n",
       "      <td>1274</td>\n",
       "      <td>4815</td>\n",
       "    </tr>\n",
       "  </tbody>\n",
       "</table>\n",
       "</div>"
      ],
      "text/plain": [
       "                tweet_id  retweet_count  favourite_count\n",
       "2065  670780561024270336            257              716\n",
       "122   867900495410671616           3620            21871\n",
       "262   840696689258311684            901            11631\n",
       "42    884162670584377345           2523            18162\n",
       "43    883838122936631299           2901            19427\n",
       "818   766793450729734144           1274             4815"
      ]
     },
     "execution_count": 25,
     "metadata": {},
     "output_type": "execute_result"
    }
   ],
   "source": [
    "tweet_json.sample(6)"
   ]
  },
  {
   "cell_type": "code",
   "execution_count": 26,
   "metadata": {},
   "outputs": [
    {
     "name": "stdout",
     "output_type": "stream",
     "text": [
      "<class 'pandas.core.frame.DataFrame'>\n",
      "RangeIndex: 2328 entries, 0 to 2327\n",
      "Data columns (total 3 columns):\n",
      " #   Column           Non-Null Count  Dtype \n",
      "---  ------           --------------  ----- \n",
      " 0   tweet_id         2328 non-null   object\n",
      " 1   retweet_count    2328 non-null   int64 \n",
      " 2   favourite_count  2328 non-null   int64 \n",
      "dtypes: int64(2), object(1)\n",
      "memory usage: 54.7+ KB\n"
     ]
    }
   ],
   "source": [
    "tweet_json.info()"
   ]
  },
  {
   "cell_type": "code",
   "execution_count": 27,
   "metadata": {},
   "outputs": [
    {
     "name": "stdout",
     "output_type": "stream",
     "text": [
      "Checking Null Value in Json Tweet \n",
      " tweet_id           0\n",
      "retweet_count      0\n",
      "favourite_count    0\n",
      "dtype: int64\n"
     ]
    }
   ],
   "source": [
    "#Checking Null value\n",
    "print(\"Checking Null Value in Json Tweet \\n\",tweet_json.isnull().sum())"
   ]
  },
  {
   "cell_type": "code",
   "execution_count": 28,
   "metadata": {},
   "outputs": [
    {
     "name": "stdout",
     "output_type": "stream",
     "text": [
      "Checking Duplicate Value of Tweet ID in tweet_json\n",
      " 892420643555336193    1\n",
      "888804989199671297    1\n",
      "890609185150312448    1\n",
      "891815181378084864    1\n",
      "891689557279858688    1\n",
      "                     ..\n",
      "666050758794694657    1\n",
      "666049248165822465    1\n",
      "666044226329800704    1\n",
      "666273097616637952    1\n",
      "666020888022790149    1\n",
      "Name: tweet_id, Length: 2328, dtype: int64\n"
     ]
    }
   ],
   "source": [
    "#tweet_json\n",
    "print(\"Checking Duplicate Value of Tweet ID in tweet_json\\n\",tweet_json.tweet_id.value_counts().sort_values())"
   ]
  },
  {
   "cell_type": "code",
   "execution_count": 29,
   "metadata": {},
   "outputs": [
    {
     "data": {
      "text/plain": [
       "480     5\n",
       "81      5\n",
       "465     5\n",
       "208     5\n",
       "203     4\n",
       "       ..\n",
       "1520    1\n",
       "3635    1\n",
       "1680    1\n",
       "2767    1\n",
       "117     1\n",
       "Name: retweet_count, Length: 1657, dtype: int64"
      ]
     },
     "execution_count": 29,
     "metadata": {},
     "output_type": "execute_result"
    }
   ],
   "source": [
    "tweet_json.retweet_count.value_counts()"
   ]
  },
  {
   "cell_type": "code",
   "execution_count": 30,
   "metadata": {},
   "outputs": [
    {
     "data": {
      "text/html": [
       "<div>\n",
       "<style scoped>\n",
       "    .dataframe tbody tr th:only-of-type {\n",
       "        vertical-align: middle;\n",
       "    }\n",
       "\n",
       "    .dataframe tbody tr th {\n",
       "        vertical-align: top;\n",
       "    }\n",
       "\n",
       "    .dataframe thead th {\n",
       "        text-align: right;\n",
       "    }\n",
       "</style>\n",
       "<table border=\"1\" class=\"dataframe\">\n",
       "  <thead>\n",
       "    <tr style=\"text-align: right;\">\n",
       "      <th></th>\n",
       "      <th>tweet_id</th>\n",
       "      <th>retweet_count</th>\n",
       "      <th>favourite_count</th>\n",
       "    </tr>\n",
       "  </thead>\n",
       "  <tbody>\n",
       "    <tr>\n",
       "      <th>31</th>\n",
       "      <td>886054160059072513</td>\n",
       "      <td>93</td>\n",
       "      <td>0</td>\n",
       "    </tr>\n",
       "    <tr>\n",
       "      <th>35</th>\n",
       "      <td>885311592912609280</td>\n",
       "      <td>15659</td>\n",
       "      <td>0</td>\n",
       "    </tr>\n",
       "    <tr>\n",
       "      <th>67</th>\n",
       "      <td>879130579576475649</td>\n",
       "      <td>5809</td>\n",
       "      <td>0</td>\n",
       "    </tr>\n",
       "    <tr>\n",
       "      <th>72</th>\n",
       "      <td>878404777348136964</td>\n",
       "      <td>1084</td>\n",
       "      <td>0</td>\n",
       "    </tr>\n",
       "    <tr>\n",
       "      <th>73</th>\n",
       "      <td>878316110768087041</td>\n",
       "      <td>5614</td>\n",
       "      <td>0</td>\n",
       "    </tr>\n",
       "    <tr>\n",
       "      <th>...</th>\n",
       "      <td>...</td>\n",
       "      <td>...</td>\n",
       "      <td>...</td>\n",
       "    </tr>\n",
       "    <tr>\n",
       "      <th>996</th>\n",
       "      <td>746521445350707200</td>\n",
       "      <td>914</td>\n",
       "      <td>0</td>\n",
       "    </tr>\n",
       "    <tr>\n",
       "      <th>1016</th>\n",
       "      <td>743835915802583040</td>\n",
       "      <td>1905</td>\n",
       "      <td>0</td>\n",
       "    </tr>\n",
       "    <tr>\n",
       "      <th>1215</th>\n",
       "      <td>711998809858043904</td>\n",
       "      <td>122</td>\n",
       "      <td>0</td>\n",
       "    </tr>\n",
       "    <tr>\n",
       "      <th>2231</th>\n",
       "      <td>667550904950915073</td>\n",
       "      <td>29</td>\n",
       "      <td>0</td>\n",
       "    </tr>\n",
       "    <tr>\n",
       "      <th>2232</th>\n",
       "      <td>667550882905632768</td>\n",
       "      <td>26</td>\n",
       "      <td>0</td>\n",
       "    </tr>\n",
       "  </tbody>\n",
       "</table>\n",
       "<p>161 rows × 3 columns</p>\n",
       "</div>"
      ],
      "text/plain": [
       "                tweet_id  retweet_count  favourite_count\n",
       "31    886054160059072513             93                0\n",
       "35    885311592912609280          15659                0\n",
       "67    879130579576475649           5809                0\n",
       "72    878404777348136964           1084                0\n",
       "73    878316110768087041           5614                0\n",
       "...                  ...            ...              ...\n",
       "996   746521445350707200            914                0\n",
       "1016  743835915802583040           1905                0\n",
       "1215  711998809858043904            122                0\n",
       "2231  667550904950915073             29                0\n",
       "2232  667550882905632768             26                0\n",
       "\n",
       "[161 rows x 3 columns]"
      ]
     },
     "execution_count": 30,
     "metadata": {},
     "output_type": "execute_result"
    }
   ],
   "source": [
    "tweet_json.favourite_count.value_counts()\n",
    "tweet_json[tweet_json['favourite_count']==0]"
   ]
  },
  {
   "cell_type": "code",
   "execution_count": 31,
   "metadata": {},
   "outputs": [
    {
     "data": {
      "text/plain": [
       "17    tweet_id\n",
       "29    tweet_id\n",
       "dtype: object"
      ]
     },
     "execution_count": 31,
     "metadata": {},
     "output_type": "execute_result"
    }
   ],
   "source": [
    "#Tidiness\n",
    "all_columns=pd.Series(list(twitter_archive)+list(image_predictions)+list(tweet_json))\n",
    "all_columns[all_columns.duplicated()]"
   ]
  },
  {
   "cell_type": "markdown",
   "metadata": {},
   "source": [
    " > **Join Twitter_json table with the twitter_archive table.**"
   ]
  },
  {
   "cell_type": "markdown",
   "metadata": {},
   "source": [
    "### Quality Issues\n",
    "##### Twitter Archieve:\n",
    "1. tweet_id column datatype need to be change to sting.\n",
    "\n",
    "1. timestamp column datatype need to be change to datetime.\n",
    "\n",
    "1. As per requirement we don't need to analysis Reweet data. In our dataset reweets columns have lots of Null values so we need to remove all columns with retweet information.\n",
    "\n",
    "1. It is difficult to read source value.\n",
    "\n",
    "1.  \"Doggo', 'Floofer', 'Pipper', 'Puppo' columns contains None instead of NaN\n",
    "\n",
    "1. rating_numerator & rating_denominator values are incorrect\n",
    "\n",
    "1. More than 700 Dog Name is 'None' and More than 50 Dogs Name is 'a'\n",
    "\n",
    "\n",
    "##### Image Predictions:\n",
    "1. P1, P2 and P3 have inconsisitent capital words.\n",
    "\n",
    "1. P1, p2 and P3 have unnessary underscore instead of space.\n",
    "\n",
    "1. tweet_id column datatype need to be change to sting.\n",
    "\n",
    "1. jpg_url have dupliacte entries."
   ]
  },
  {
   "cell_type": "markdown",
   "metadata": {
    "extensions": {
     "jupyter_dashboards": {
      "version": 1,
      "views": {
       "grid_default": {
        "col": 0,
        "height": 7,
        "hidden": false,
        "row": 40,
        "width": 12
       },
       "report_default": {
        "hidden": false
       }
      }
     }
    }
   },
   "source": [
    "### Tidiness Issues\n",
    "\n",
    "1. Need to combine 4 Columns(dog stages) and Make it one. (Twitter Archive)\n",
    "\n",
    "1. Join Tweet Json & Image Predictions datasets with the twitter_archive. (Tweet Json)\n",
    "\n",
    "1. p1 column name is not descriptive. (Image Predictions)"
   ]
  },
  {
   "cell_type": "markdown",
   "metadata": {
    "extensions": {
     "jupyter_dashboards": {
      "version": 1,
      "views": {
       "grid_default": {
        "col": 4,
        "height": 4,
        "hidden": false,
        "row": 32,
        "width": 4
       },
       "report_default": {
        "hidden": false
       }
      }
     }
    }
   },
   "source": [
    "## Cleaning Data\n",
    "In this section, clean **all** of the issues you documented while assessing. \n",
    "\n",
    "**Note:** Make a copy of the original data before cleaning. Cleaning includes merging individual pieces of data according to the rules of [tidy data](https://cran.r-project.org/web/packages/tidyr/vignettes/tidy-data.html). The result should be a high-quality and tidy master pandas DataFrame (or DataFrames, if appropriate)."
   ]
  },
  {
   "cell_type": "code",
   "execution_count": 32,
   "metadata": {},
   "outputs": [],
   "source": [
    "# Make copies of original pieces of data\n",
    "twitter_archive_clean = twitter_archive.copy()\n",
    "image_predictions_clean = image_predictions.copy()\n",
    "tweet_json_clean = tweet_json.copy()"
   ]
  },
  {
   "cell_type": "markdown",
   "metadata": {},
   "source": [
    "### Issue #1 - #2:"
   ]
  },
  {
   "cell_type": "markdown",
   "metadata": {},
   "source": [
    "#### Define: \n",
    "\n",
    "> ##### Correcting Datatype of Twitter Archieve Dataset.\n",
    "> 1. tweet_id column datatype need to be change to sting.\n",
    "> 1. timestamp column datatype need to be change to datetime."
   ]
  },
  {
   "cell_type": "markdown",
   "metadata": {},
   "source": [
    "#### Code"
   ]
  },
  {
   "cell_type": "code",
   "execution_count": 33,
   "metadata": {},
   "outputs": [
    {
     "data": {
      "text/html": [
       "<div>\n",
       "<style scoped>\n",
       "    .dataframe tbody tr th:only-of-type {\n",
       "        vertical-align: middle;\n",
       "    }\n",
       "\n",
       "    .dataframe tbody tr th {\n",
       "        vertical-align: top;\n",
       "    }\n",
       "\n",
       "    .dataframe thead th {\n",
       "        text-align: right;\n",
       "    }\n",
       "</style>\n",
       "<table border=\"1\" class=\"dataframe\">\n",
       "  <thead>\n",
       "    <tr style=\"text-align: right;\">\n",
       "      <th></th>\n",
       "      <th>tweet_id</th>\n",
       "      <th>in_reply_to_status_id</th>\n",
       "      <th>in_reply_to_user_id</th>\n",
       "      <th>timestamp</th>\n",
       "      <th>source</th>\n",
       "      <th>text</th>\n",
       "      <th>retweeted_status_id</th>\n",
       "      <th>retweeted_status_user_id</th>\n",
       "      <th>retweeted_status_timestamp</th>\n",
       "      <th>expanded_urls</th>\n",
       "      <th>rating_numerator</th>\n",
       "      <th>rating_denominator</th>\n",
       "      <th>name</th>\n",
       "      <th>doggo</th>\n",
       "      <th>floofer</th>\n",
       "      <th>pupper</th>\n",
       "      <th>puppo</th>\n",
       "    </tr>\n",
       "  </thead>\n",
       "  <tbody>\n",
       "    <tr>\n",
       "      <th>119</th>\n",
       "      <td>869772420881756160</td>\n",
       "      <td>NaN</td>\n",
       "      <td>NaN</td>\n",
       "      <td>2017-05-31 04:27:59 +0000</td>\n",
       "      <td>&lt;a href=\"http://twitter.com/download/iphone\" r...</td>\n",
       "      <td>This is Dewey (pronounced \"covfefe\"). He's hav...</td>\n",
       "      <td>NaN</td>\n",
       "      <td>NaN</td>\n",
       "      <td>NaN</td>\n",
       "      <td>https://twitter.com/dog_rates/status/869772420...</td>\n",
       "      <td>13</td>\n",
       "      <td>10</td>\n",
       "      <td>Dewey</td>\n",
       "      <td>None</td>\n",
       "      <td>None</td>\n",
       "      <td>None</td>\n",
       "      <td>None</td>\n",
       "    </tr>\n",
       "  </tbody>\n",
       "</table>\n",
       "</div>"
      ],
      "text/plain": [
       "               tweet_id  in_reply_to_status_id  in_reply_to_user_id  \\\n",
       "119  869772420881756160                    NaN                  NaN   \n",
       "\n",
       "                     timestamp  \\\n",
       "119  2017-05-31 04:27:59 +0000   \n",
       "\n",
       "                                                source  \\\n",
       "119  <a href=\"http://twitter.com/download/iphone\" r...   \n",
       "\n",
       "                                                  text  retweeted_status_id  \\\n",
       "119  This is Dewey (pronounced \"covfefe\"). He's hav...                  NaN   \n",
       "\n",
       "     retweeted_status_user_id retweeted_status_timestamp  \\\n",
       "119                       NaN                        NaN   \n",
       "\n",
       "                                         expanded_urls  rating_numerator  \\\n",
       "119  https://twitter.com/dog_rates/status/869772420...                13   \n",
       "\n",
       "     rating_denominator   name doggo floofer pupper puppo  \n",
       "119                  10  Dewey  None    None   None  None  "
      ]
     },
     "execution_count": 33,
     "metadata": {},
     "output_type": "execute_result"
    }
   ],
   "source": [
    "twitter_archive_clean.sample()"
   ]
  },
  {
   "cell_type": "code",
   "execution_count": 34,
   "metadata": {},
   "outputs": [
    {
     "name": "stdout",
     "output_type": "stream",
     "text": [
      "<class 'pandas.core.frame.DataFrame'>\n",
      "RangeIndex: 2356 entries, 0 to 2355\n",
      "Data columns (total 17 columns):\n",
      " #   Column                      Non-Null Count  Dtype  \n",
      "---  ------                      --------------  -----  \n",
      " 0   tweet_id                    2356 non-null   int64  \n",
      " 1   in_reply_to_status_id       78 non-null     float64\n",
      " 2   in_reply_to_user_id         78 non-null     float64\n",
      " 3   timestamp                   2356 non-null   object \n",
      " 4   source                      2356 non-null   object \n",
      " 5   text                        2356 non-null   object \n",
      " 6   retweeted_status_id         181 non-null    float64\n",
      " 7   retweeted_status_user_id    181 non-null    float64\n",
      " 8   retweeted_status_timestamp  181 non-null    object \n",
      " 9   expanded_urls               2297 non-null   object \n",
      " 10  rating_numerator            2356 non-null   int64  \n",
      " 11  rating_denominator          2356 non-null   int64  \n",
      " 12  name                        2356 non-null   object \n",
      " 13  doggo                       2356 non-null   object \n",
      " 14  floofer                     2356 non-null   object \n",
      " 15  pupper                      2356 non-null   object \n",
      " 16  puppo                       2356 non-null   object \n",
      "dtypes: float64(4), int64(3), object(10)\n",
      "memory usage: 313.0+ KB\n"
     ]
    }
   ],
   "source": [
    "twitter_archive_clean.info()"
   ]
  },
  {
   "cell_type": "code",
   "execution_count": 35,
   "metadata": {},
   "outputs": [],
   "source": [
    "twitter_archive_clean.tweet_id=twitter_archive_clean.tweet_id.astype('str') #changing tweet_id to String\n",
    "twitter_archive_clean.timestamp=twitter_archive_clean.timestamp.astype('datetime64') #Changing Timestamp to Datetime"
   ]
  },
  {
   "cell_type": "code",
   "execution_count": 36,
   "metadata": {},
   "outputs": [],
   "source": [
    "#Making Seprate column for Date and Time.\n",
    "\n",
    "twitter_archive_clean['date'] = twitter_archive_clean['timestamp'].apply(lambda time: time.strftime('%m-%d-%Y'))\n",
    "twitter_archive_clean['time'] = twitter_archive_clean['timestamp'].apply(lambda time: time.strftime('%H:%M:%S'))"
   ]
  },
  {
   "cell_type": "code",
   "execution_count": 37,
   "metadata": {},
   "outputs": [],
   "source": [
    "twitter_archive_clean.date=twitter_archive_clean.date.astype('datetime64')\n",
    "twitter_archive_clean.time=twitter_archive_clean.time.astype('datetime64')"
   ]
  },
  {
   "cell_type": "markdown",
   "metadata": {},
   "source": [
    "#### Test"
   ]
  },
  {
   "cell_type": "code",
   "execution_count": 38,
   "metadata": {},
   "outputs": [
    {
     "name": "stdout",
     "output_type": "stream",
     "text": [
      "<class 'pandas.core.frame.DataFrame'>\n",
      "RangeIndex: 2356 entries, 0 to 2355\n",
      "Data columns (total 19 columns):\n",
      " #   Column                      Non-Null Count  Dtype         \n",
      "---  ------                      --------------  -----         \n",
      " 0   tweet_id                    2356 non-null   object        \n",
      " 1   in_reply_to_status_id       78 non-null     float64       \n",
      " 2   in_reply_to_user_id         78 non-null     float64       \n",
      " 3   timestamp                   2356 non-null   datetime64[ns]\n",
      " 4   source                      2356 non-null   object        \n",
      " 5   text                        2356 non-null   object        \n",
      " 6   retweeted_status_id         181 non-null    float64       \n",
      " 7   retweeted_status_user_id    181 non-null    float64       \n",
      " 8   retweeted_status_timestamp  181 non-null    object        \n",
      " 9   expanded_urls               2297 non-null   object        \n",
      " 10  rating_numerator            2356 non-null   int64         \n",
      " 11  rating_denominator          2356 non-null   int64         \n",
      " 12  name                        2356 non-null   object        \n",
      " 13  doggo                       2356 non-null   object        \n",
      " 14  floofer                     2356 non-null   object        \n",
      " 15  pupper                      2356 non-null   object        \n",
      " 16  puppo                       2356 non-null   object        \n",
      " 17  date                        2356 non-null   datetime64[ns]\n",
      " 18  time                        2356 non-null   datetime64[ns]\n",
      "dtypes: datetime64[ns](3), float64(4), int64(2), object(10)\n",
      "memory usage: 349.8+ KB\n"
     ]
    }
   ],
   "source": [
    "twitter_archive_clean.info()"
   ]
  },
  {
   "cell_type": "code",
   "execution_count": 39,
   "metadata": {},
   "outputs": [
    {
     "data": {
      "text/html": [
       "<div>\n",
       "<style scoped>\n",
       "    .dataframe tbody tr th:only-of-type {\n",
       "        vertical-align: middle;\n",
       "    }\n",
       "\n",
       "    .dataframe tbody tr th {\n",
       "        vertical-align: top;\n",
       "    }\n",
       "\n",
       "    .dataframe thead th {\n",
       "        text-align: right;\n",
       "    }\n",
       "</style>\n",
       "<table border=\"1\" class=\"dataframe\">\n",
       "  <thead>\n",
       "    <tr style=\"text-align: right;\">\n",
       "      <th></th>\n",
       "      <th>in_reply_to_status_id</th>\n",
       "      <th>in_reply_to_user_id</th>\n",
       "      <th>retweeted_status_id</th>\n",
       "      <th>retweeted_status_user_id</th>\n",
       "      <th>rating_numerator</th>\n",
       "      <th>rating_denominator</th>\n",
       "    </tr>\n",
       "  </thead>\n",
       "  <tbody>\n",
       "    <tr>\n",
       "      <th>count</th>\n",
       "      <td>7.800000e+01</td>\n",
       "      <td>7.800000e+01</td>\n",
       "      <td>1.810000e+02</td>\n",
       "      <td>1.810000e+02</td>\n",
       "      <td>2356.000000</td>\n",
       "      <td>2356.000000</td>\n",
       "    </tr>\n",
       "    <tr>\n",
       "      <th>mean</th>\n",
       "      <td>7.455079e+17</td>\n",
       "      <td>2.014171e+16</td>\n",
       "      <td>7.720400e+17</td>\n",
       "      <td>1.241698e+16</td>\n",
       "      <td>13.126486</td>\n",
       "      <td>10.455433</td>\n",
       "    </tr>\n",
       "    <tr>\n",
       "      <th>std</th>\n",
       "      <td>7.582492e+16</td>\n",
       "      <td>1.252797e+17</td>\n",
       "      <td>6.236928e+16</td>\n",
       "      <td>9.599254e+16</td>\n",
       "      <td>45.876648</td>\n",
       "      <td>6.745237</td>\n",
       "    </tr>\n",
       "    <tr>\n",
       "      <th>min</th>\n",
       "      <td>6.658147e+17</td>\n",
       "      <td>1.185634e+07</td>\n",
       "      <td>6.661041e+17</td>\n",
       "      <td>7.832140e+05</td>\n",
       "      <td>0.000000</td>\n",
       "      <td>0.000000</td>\n",
       "    </tr>\n",
       "    <tr>\n",
       "      <th>25%</th>\n",
       "      <td>6.757419e+17</td>\n",
       "      <td>3.086374e+08</td>\n",
       "      <td>7.186315e+17</td>\n",
       "      <td>4.196984e+09</td>\n",
       "      <td>10.000000</td>\n",
       "      <td>10.000000</td>\n",
       "    </tr>\n",
       "    <tr>\n",
       "      <th>50%</th>\n",
       "      <td>7.038708e+17</td>\n",
       "      <td>4.196984e+09</td>\n",
       "      <td>7.804657e+17</td>\n",
       "      <td>4.196984e+09</td>\n",
       "      <td>11.000000</td>\n",
       "      <td>10.000000</td>\n",
       "    </tr>\n",
       "    <tr>\n",
       "      <th>75%</th>\n",
       "      <td>8.257804e+17</td>\n",
       "      <td>4.196984e+09</td>\n",
       "      <td>8.203146e+17</td>\n",
       "      <td>4.196984e+09</td>\n",
       "      <td>12.000000</td>\n",
       "      <td>10.000000</td>\n",
       "    </tr>\n",
       "    <tr>\n",
       "      <th>max</th>\n",
       "      <td>8.862664e+17</td>\n",
       "      <td>8.405479e+17</td>\n",
       "      <td>8.874740e+17</td>\n",
       "      <td>7.874618e+17</td>\n",
       "      <td>1776.000000</td>\n",
       "      <td>170.000000</td>\n",
       "    </tr>\n",
       "  </tbody>\n",
       "</table>\n",
       "</div>"
      ],
      "text/plain": [
       "       in_reply_to_status_id  in_reply_to_user_id  retweeted_status_id  \\\n",
       "count           7.800000e+01         7.800000e+01         1.810000e+02   \n",
       "mean            7.455079e+17         2.014171e+16         7.720400e+17   \n",
       "std             7.582492e+16         1.252797e+17         6.236928e+16   \n",
       "min             6.658147e+17         1.185634e+07         6.661041e+17   \n",
       "25%             6.757419e+17         3.086374e+08         7.186315e+17   \n",
       "50%             7.038708e+17         4.196984e+09         7.804657e+17   \n",
       "75%             8.257804e+17         4.196984e+09         8.203146e+17   \n",
       "max             8.862664e+17         8.405479e+17         8.874740e+17   \n",
       "\n",
       "       retweeted_status_user_id  rating_numerator  rating_denominator  \n",
       "count              1.810000e+02       2356.000000         2356.000000  \n",
       "mean               1.241698e+16         13.126486           10.455433  \n",
       "std                9.599254e+16         45.876648            6.745237  \n",
       "min                7.832140e+05          0.000000            0.000000  \n",
       "25%                4.196984e+09         10.000000           10.000000  \n",
       "50%                4.196984e+09         11.000000           10.000000  \n",
       "75%                4.196984e+09         12.000000           10.000000  \n",
       "max                7.874618e+17       1776.000000          170.000000  "
      ]
     },
     "execution_count": 39,
     "metadata": {},
     "output_type": "execute_result"
    }
   ],
   "source": [
    "twitter_archive_clean.describe()"
   ]
  },
  {
   "cell_type": "markdown",
   "metadata": {},
   "source": [
    "### Issue #3:"
   ]
  },
  {
   "cell_type": "markdown",
   "metadata": {
    "collapsed": true,
    "extensions": {
     "jupyter_dashboards": {
      "version": 1,
      "views": {
       "grid_default": {
        "hidden": true
       },
       "report_default": {
        "hidden": true
       }
      }
     }
    }
   },
   "source": [
    "#### Define\n",
    "\n",
    "> As per requirement we don't need to analysis Retweet data so first we will remove all retweet from dataset after that we will remove all unnecessary columns. \n",
    "> <br>We don't need these columns so removing columns from dataset. \n",
    "> timestamp','in_reply_to_status_id','in_reply_to_user_id','retweeted_status_id', 'retweeted_status_user_id','retweeted_status_timestamp','expanded_urls'"
   ]
  },
  {
   "cell_type": "markdown",
   "metadata": {},
   "source": [
    "#### Code"
   ]
  },
  {
   "cell_type": "code",
   "execution_count": 40,
   "metadata": {},
   "outputs": [
    {
     "name": "stdout",
     "output_type": "stream",
     "text": [
      "Out of 2356, only 181 values are retweeted.\n"
     ]
    }
   ],
   "source": [
    "total_values=twitter_archive_clean.shape[0]\n",
    "retweeted_count=(twitter_archive_clean[twitter_archive_clean['retweeted_status_id'].notnull()== True]).shape[0]\n",
    "print(\"Out of {}, only {} values are retweeted.\".format(total_values,retweeted_count))"
   ]
  },
  {
   "cell_type": "code",
   "execution_count": 41,
   "metadata": {},
   "outputs": [],
   "source": [
    "# removing retweet from dataframe\n",
    "twitter_archive_clean.drop(twitter_archive_clean[twitter_archive_clean['retweeted_status_id'].notnull()== True]\n",
    "                           .index, inplace= True)"
   ]
  },
  {
   "cell_type": "code",
   "execution_count": 42,
   "metadata": {},
   "outputs": [
    {
     "name": "stdout",
     "output_type": "stream",
     "text": [
      "Out of 2175, only 0 values are retweeted.\n"
     ]
    }
   ],
   "source": [
    "total_values=twitter_archive_clean.shape[0]\n",
    "retweeted_count=(twitter_archive_clean[twitter_archive_clean['retweeted_status_id'].notnull()== True]).shape[0]\n",
    "\n",
    "print(\"Out of {}, only {} values are retweeted.\".format(total_values,retweeted_count))"
   ]
  },
  {
   "cell_type": "code",
   "execution_count": 43,
   "metadata": {},
   "outputs": [
    {
     "data": {
      "text/plain": [
       "Index(['tweet_id', 'in_reply_to_status_id', 'in_reply_to_user_id', 'timestamp',\n",
       "       'source', 'text', 'retweeted_status_id', 'retweeted_status_user_id',\n",
       "       'retweeted_status_timestamp', 'expanded_urls', 'rating_numerator',\n",
       "       'rating_denominator', 'name', 'doggo', 'floofer', 'pupper', 'puppo',\n",
       "       'date', 'time'],\n",
       "      dtype='object')"
      ]
     },
     "execution_count": 43,
     "metadata": {},
     "output_type": "execute_result"
    }
   ],
   "source": [
    "twitter_archive_clean.columns"
   ]
  },
  {
   "cell_type": "code",
   "execution_count": 44,
   "metadata": {},
   "outputs": [],
   "source": [
    "unnecessary_columns=['timestamp','in_reply_to_status_id',\n",
    "                     'in_reply_to_user_id',\n",
    "                     'retweeted_status_id', \n",
    "                     'retweeted_status_user_id',\n",
    "                     'retweeted_status_timestamp',\n",
    "                     'expanded_urls']\n",
    "\n",
    "twitter_archive_clean.drop(unnecessary_columns,axis=1,inplace=True)"
   ]
  },
  {
   "cell_type": "markdown",
   "metadata": {},
   "source": [
    "#### Test"
   ]
  },
  {
   "cell_type": "code",
   "execution_count": 45,
   "metadata": {},
   "outputs": [
    {
     "data": {
      "text/plain": [
       "Index(['tweet_id', 'source', 'text', 'rating_numerator', 'rating_denominator',\n",
       "       'name', 'doggo', 'floofer', 'pupper', 'puppo', 'date', 'time'],\n",
       "      dtype='object')"
      ]
     },
     "execution_count": 45,
     "metadata": {},
     "output_type": "execute_result"
    }
   ],
   "source": [
    "twitter_archive_clean.columns"
   ]
  },
  {
   "cell_type": "code",
   "execution_count": 46,
   "metadata": {},
   "outputs": [
    {
     "name": "stdout",
     "output_type": "stream",
     "text": [
      "<class 'pandas.core.frame.DataFrame'>\n",
      "Int64Index: 2175 entries, 0 to 2355\n",
      "Data columns (total 12 columns):\n",
      " #   Column              Non-Null Count  Dtype         \n",
      "---  ------              --------------  -----         \n",
      " 0   tweet_id            2175 non-null   object        \n",
      " 1   source              2175 non-null   object        \n",
      " 2   text                2175 non-null   object        \n",
      " 3   rating_numerator    2175 non-null   int64         \n",
      " 4   rating_denominator  2175 non-null   int64         \n",
      " 5   name                2175 non-null   object        \n",
      " 6   doggo               2175 non-null   object        \n",
      " 7   floofer             2175 non-null   object        \n",
      " 8   pupper              2175 non-null   object        \n",
      " 9   puppo               2175 non-null   object        \n",
      " 10  date                2175 non-null   datetime64[ns]\n",
      " 11  time                2175 non-null   datetime64[ns]\n",
      "dtypes: datetime64[ns](2), int64(2), object(8)\n",
      "memory usage: 220.9+ KB\n"
     ]
    }
   ],
   "source": [
    "twitter_archive_clean.info()"
   ]
  },
  {
   "cell_type": "markdown",
   "metadata": {},
   "source": [
    "### Issue #4:"
   ]
  },
  {
   "cell_type": "markdown",
   "metadata": {
    "collapsed": true,
    "extensions": {
     "jupyter_dashboards": {
      "version": 1,
      "views": {
       "grid_default": {
        "hidden": true
       },
       "report_default": {
        "hidden": true
       }
      }
     }
    }
   },
   "source": [
    "#### Define\n",
    "\n",
    "> In the source column full hyperlink tag information is available which is bit difficult to understand. We can replace hyperlink tag with Link name only."
   ]
  },
  {
   "cell_type": "markdown",
   "metadata": {},
   "source": [
    "#### Code"
   ]
  },
  {
   "cell_type": "code",
   "execution_count": 47,
   "metadata": {},
   "outputs": [
    {
     "data": {
      "text/plain": [
       "<a href=\"http://twitter.com/download/iphone\" rel=\"nofollow\">Twitter for iPhone</a>     2042\n",
       "<a href=\"http://vine.co\" rel=\"nofollow\">Vine - Make a Scene</a>                          91\n",
       "<a href=\"http://twitter.com\" rel=\"nofollow\">Twitter Web Client</a>                       31\n",
       "<a href=\"https://about.twitter.com/products/tweetdeck\" rel=\"nofollow\">TweetDeck</a>      11\n",
       "Name: source, dtype: int64"
      ]
     },
     "execution_count": 47,
     "metadata": {},
     "output_type": "execute_result"
    }
   ],
   "source": [
    "# Source data\n",
    "\n",
    "twitter_archive_clean.source.value_counts()"
   ]
  },
  {
   "cell_type": "code",
   "execution_count": 48,
   "metadata": {},
   "outputs": [
    {
     "name": "stderr",
     "output_type": "stream",
     "text": [
      "C:\\Users\\nihar\\anaconda3\\lib\\site-packages\\pandas\\core\\indexing.py:1732: SettingWithCopyWarning: \n",
      "A value is trying to be set on a copy of a slice from a DataFrame\n",
      "\n",
      "See the caveats in the documentation: https://pandas.pydata.org/pandas-docs/stable/user_guide/indexing.html#returning-a-view-versus-a-copy\n",
      "  self._setitem_single_block(indexer, value, name)\n"
     ]
    }
   ],
   "source": [
    "twitter_for_iPhone = '<a href=\"http://twitter.com/download/iphone\" rel=\"nofollow\">Twitter for iPhone</a>'\n",
    "twitter_web_client= '<a href=\"http://twitter.com\" rel=\"nofollow\">Twitter Web Client</a>'\n",
    "vine_make_a_scene = '<a href=\"http://vine.co\" rel=\"nofollow\">Vine - Make a Scene</a>'\n",
    "tweetDeck = '<a href=\"https://about.twitter.com/products/tweetdeck\" rel=\"nofollow\">TweetDeck</a>'\n",
    "\n",
    "twitter_archive_clean.source.loc[twitter_archive_clean.source == twitter_for_iPhone]='Twitter for iPhone'\n",
    "twitter_archive_clean.source.loc[twitter_archive_clean.source == twitter_web_client]='Twitter Web Client'\n",
    "twitter_archive_clean.source.loc[twitter_archive_clean.source == vine_make_a_scene] ='Vine - Make a Scene'\n",
    "twitter_archive_clean.source.loc[twitter_archive_clean.source == tweetDeck] = 'TweetDeck'"
   ]
  },
  {
   "cell_type": "markdown",
   "metadata": {},
   "source": [
    "#### Test"
   ]
  },
  {
   "cell_type": "code",
   "execution_count": 49,
   "metadata": {},
   "outputs": [
    {
     "data": {
      "text/plain": [
       "Twitter for iPhone     2042\n",
       "Vine - Make a Scene      91\n",
       "Twitter Web Client       31\n",
       "TweetDeck                11\n",
       "Name: source, dtype: int64"
      ]
     },
     "execution_count": 49,
     "metadata": {},
     "output_type": "execute_result"
    }
   ],
   "source": [
    "twitter_archive_clean.source.value_counts()"
   ]
  },
  {
   "cell_type": "markdown",
   "metadata": {},
   "source": [
    "### Issue #5:"
   ]
  },
  {
   "cell_type": "markdown",
   "metadata": {
    "collapsed": true,
    "extensions": {
     "jupyter_dashboards": {
      "version": 1,
      "views": {
       "grid_default": {
        "hidden": true
       },
       "report_default": {
        "hidden": true
       }
      }
     }
    }
   },
   "source": [
    "#### Define\n",
    "\n",
    "> \"Doggo', 'Floofer', 'Pupper', 'Puppo' columns contains None. It should be NaN. With the help of Numpy convertung None Value to NaN."
   ]
  },
  {
   "cell_type": "markdown",
   "metadata": {},
   "source": [
    "#### Code"
   ]
  },
  {
   "cell_type": "code",
   "execution_count": 50,
   "metadata": {},
   "outputs": [
    {
     "name": "stdout",
     "output_type": "stream",
     "text": [
      "There are 2088 entries in the Doggo Column before replacing.\n",
      "There are 2165 entries in the Floofer Column before replacing.\n",
      "There are 1941 entries in the Pupper Column before replacing.\n",
      "There are 2150 entries in the Puppo Column before replacing.\n"
     ]
    }
   ],
   "source": [
    "doggo_count=twitter_archive_clean.doggo.value_counts()\n",
    "print(\"There are {} entries in the Doggo Column before replacing.\".format(doggo_count[0]))\n",
    "\n",
    "floofer_count=twitter_archive_clean.floofer.value_counts()\n",
    "print(\"There are {} entries in the Floofer Column before replacing.\".format(floofer_count[0]))\n",
    "\n",
    "pupper_count=twitter_archive_clean.pupper.value_counts()\n",
    "print(\"There are {} entries in the Pupper Column before replacing.\".format(pupper_count[0]))\n",
    "\n",
    "puppo_count=twitter_archive_clean.puppo.value_counts()\n",
    "print(\"There are {} entries in the Puppo Column before replacing.\".format(puppo_count[0]))"
   ]
  },
  {
   "cell_type": "code",
   "execution_count": 51,
   "metadata": {},
   "outputs": [],
   "source": [
    "twitter_archive_clean.doggo.replace(to_replace='None', value=np.nan, inplace=True)\n",
    "twitter_archive_clean.floofer.replace(to_replace='None', value=np.nan, inplace=True)\n",
    "twitter_archive_clean.pupper.replace(to_replace='None', value=np.nan, inplace=True)\n",
    "twitter_archive_clean.puppo.replace(to_replace='None', value=np.nan, inplace=True)"
   ]
  },
  {
   "cell_type": "markdown",
   "metadata": {},
   "source": [
    "#### Test"
   ]
  },
  {
   "cell_type": "code",
   "execution_count": 52,
   "metadata": {},
   "outputs": [
    {
     "name": "stdout",
     "output_type": "stream",
     "text": [
      "There are 87 entries in the Doggo Column after replacing None to NaN.\n",
      "There are 10 entries in the Floofer Column after replacing None to NaN.\n",
      "There are 234 entries in the Pupper Column after replacing None to NaN.\n",
      "There are 25 entries in the Puppo Column after replacing None to NaN.\n"
     ]
    }
   ],
   "source": [
    "doggo_count=twitter_archive_clean.doggo.value_counts()\n",
    "print(\"There are {} entries in the Doggo Column after replacing None to NaN.\".format(doggo_count[0]))\n",
    "\n",
    "floofer_count=twitter_archive_clean.floofer.value_counts()\n",
    "print(\"There are {} entries in the Floofer Column after replacing None to NaN.\".format(floofer_count[0]))\n",
    "\n",
    "pupper_count=twitter_archive_clean.pupper.value_counts()\n",
    "print(\"There are {} entries in the Pupper Column after replacing None to NaN.\".format(pupper_count[0]))\n",
    "\n",
    "puppo_count=twitter_archive_clean.puppo.value_counts()\n",
    "print(\"There are {} entries in the Puppo Column after replacing None to NaN.\".format(puppo_count[0]))"
   ]
  },
  {
   "cell_type": "code",
   "execution_count": 53,
   "metadata": {},
   "outputs": [
    {
     "data": {
      "text/html": [
       "<div>\n",
       "<style scoped>\n",
       "    .dataframe tbody tr th:only-of-type {\n",
       "        vertical-align: middle;\n",
       "    }\n",
       "\n",
       "    .dataframe tbody tr th {\n",
       "        vertical-align: top;\n",
       "    }\n",
       "\n",
       "    .dataframe thead th {\n",
       "        text-align: right;\n",
       "    }\n",
       "</style>\n",
       "<table border=\"1\" class=\"dataframe\">\n",
       "  <thead>\n",
       "    <tr style=\"text-align: right;\">\n",
       "      <th></th>\n",
       "      <th>tweet_id</th>\n",
       "      <th>source</th>\n",
       "      <th>text</th>\n",
       "      <th>rating_numerator</th>\n",
       "      <th>rating_denominator</th>\n",
       "      <th>name</th>\n",
       "      <th>doggo</th>\n",
       "      <th>floofer</th>\n",
       "      <th>pupper</th>\n",
       "      <th>puppo</th>\n",
       "      <th>date</th>\n",
       "      <th>time</th>\n",
       "    </tr>\n",
       "  </thead>\n",
       "  <tbody>\n",
       "    <tr>\n",
       "      <th>549</th>\n",
       "      <td>805207613751304193</td>\n",
       "      <td>Twitter for iPhone</td>\n",
       "      <td>This is Shooter. He's doing quite the snowy zo...</td>\n",
       "      <td>12</td>\n",
       "      <td>10</td>\n",
       "      <td>Shooter</td>\n",
       "      <td>NaN</td>\n",
       "      <td>NaN</td>\n",
       "      <td>NaN</td>\n",
       "      <td>NaN</td>\n",
       "      <td>2016-12-04</td>\n",
       "      <td>2022-01-11 00:30:29</td>\n",
       "    </tr>\n",
       "    <tr>\n",
       "      <th>2008</th>\n",
       "      <td>672256522047614977</td>\n",
       "      <td>Twitter for iPhone</td>\n",
       "      <td>Mighty rare dogs here. Long smooth necks. Grea...</td>\n",
       "      <td>8</td>\n",
       "      <td>10</td>\n",
       "      <td>None</td>\n",
       "      <td>NaN</td>\n",
       "      <td>NaN</td>\n",
       "      <td>NaN</td>\n",
       "      <td>NaN</td>\n",
       "      <td>2015-12-03</td>\n",
       "      <td>2022-01-11 03:30:19</td>\n",
       "    </tr>\n",
       "    <tr>\n",
       "      <th>1857</th>\n",
       "      <td>675517828909424640</td>\n",
       "      <td>Twitter for iPhone</td>\n",
       "      <td>12/10 stay woke https://t.co/XDiQw4Akiw</td>\n",
       "      <td>12</td>\n",
       "      <td>10</td>\n",
       "      <td>None</td>\n",
       "      <td>NaN</td>\n",
       "      <td>NaN</td>\n",
       "      <td>NaN</td>\n",
       "      <td>NaN</td>\n",
       "      <td>2015-12-12</td>\n",
       "      <td>2022-01-11 03:29:35</td>\n",
       "    </tr>\n",
       "    <tr>\n",
       "      <th>1540</th>\n",
       "      <td>689659372465688576</td>\n",
       "      <td>Twitter for iPhone</td>\n",
       "      <td>This is Ricky. He's being escorted out of the ...</td>\n",
       "      <td>8</td>\n",
       "      <td>10</td>\n",
       "      <td>Ricky</td>\n",
       "      <td>NaN</td>\n",
       "      <td>NaN</td>\n",
       "      <td>NaN</td>\n",
       "      <td>NaN</td>\n",
       "      <td>2016-01-20</td>\n",
       "      <td>2022-01-11 04:03:02</td>\n",
       "    </tr>\n",
       "  </tbody>\n",
       "</table>\n",
       "</div>"
      ],
      "text/plain": [
       "                tweet_id              source  \\\n",
       "549   805207613751304193  Twitter for iPhone   \n",
       "2008  672256522047614977  Twitter for iPhone   \n",
       "1857  675517828909424640  Twitter for iPhone   \n",
       "1540  689659372465688576  Twitter for iPhone   \n",
       "\n",
       "                                                   text  rating_numerator  \\\n",
       "549   This is Shooter. He's doing quite the snowy zo...                12   \n",
       "2008  Mighty rare dogs here. Long smooth necks. Grea...                 8   \n",
       "1857            12/10 stay woke https://t.co/XDiQw4Akiw                12   \n",
       "1540  This is Ricky. He's being escorted out of the ...                 8   \n",
       "\n",
       "      rating_denominator     name doggo floofer pupper puppo       date  \\\n",
       "549                   10  Shooter   NaN     NaN    NaN   NaN 2016-12-04   \n",
       "2008                  10     None   NaN     NaN    NaN   NaN 2015-12-03   \n",
       "1857                  10     None   NaN     NaN    NaN   NaN 2015-12-12   \n",
       "1540                  10    Ricky   NaN     NaN    NaN   NaN 2016-01-20   \n",
       "\n",
       "                    time  \n",
       "549  2022-01-11 00:30:29  \n",
       "2008 2022-01-11 03:30:19  \n",
       "1857 2022-01-11 03:29:35  \n",
       "1540 2022-01-11 04:03:02  "
      ]
     },
     "execution_count": 53,
     "metadata": {},
     "output_type": "execute_result"
    }
   ],
   "source": [
    "twitter_archive_clean.sample(4)"
   ]
  },
  {
   "cell_type": "markdown",
   "metadata": {},
   "source": [
    "### Issue #6:"
   ]
  },
  {
   "cell_type": "markdown",
   "metadata": {
    "collapsed": true,
    "extensions": {
     "jupyter_dashboards": {
      "version": 1,
      "views": {
       "grid_default": {
        "hidden": true
       },
       "report_default": {
        "hidden": true
       }
      }
     }
    }
   },
   "source": [
    "#### Define\n",
    "\n",
    "> As per requirement rating numerator should be between 10-15 and denominator should be 10. But in dataset rating_numerator value range is 0-1776 and denominator values are 0-170.\n",
    "> <br>Text column conatins rating for each dog. We need to extract correct value from Text column. I am doing this activity manually after exporting effected data in excel sheet."
   ]
  },
  {
   "cell_type": "markdown",
   "metadata": {},
   "source": [
    "#### Code"
   ]
  },
  {
   "cell_type": "code",
   "execution_count": 54,
   "metadata": {},
   "outputs": [
    {
     "name": "stdout",
     "output_type": "stream",
     "text": [
      "Min and Max values for Numerators columns are 0, 1776.\n",
      "Min and Max values for Denominator columns are 0, 170.\n"
     ]
    },
    {
     "data": {
      "text/html": [
       "<div>\n",
       "<style scoped>\n",
       "    .dataframe tbody tr th:only-of-type {\n",
       "        vertical-align: middle;\n",
       "    }\n",
       "\n",
       "    .dataframe tbody tr th {\n",
       "        vertical-align: top;\n",
       "    }\n",
       "\n",
       "    .dataframe thead th {\n",
       "        text-align: right;\n",
       "    }\n",
       "</style>\n",
       "<table border=\"1\" class=\"dataframe\">\n",
       "  <thead>\n",
       "    <tr style=\"text-align: right;\">\n",
       "      <th></th>\n",
       "      <th>rating_numerator</th>\n",
       "      <th>rating_denominator</th>\n",
       "    </tr>\n",
       "  </thead>\n",
       "  <tbody>\n",
       "    <tr>\n",
       "      <th>count</th>\n",
       "      <td>2175.000000</td>\n",
       "      <td>2175.000000</td>\n",
       "    </tr>\n",
       "    <tr>\n",
       "      <th>mean</th>\n",
       "      <td>13.215172</td>\n",
       "      <td>10.492874</td>\n",
       "    </tr>\n",
       "    <tr>\n",
       "      <th>std</th>\n",
       "      <td>47.725696</td>\n",
       "      <td>7.019084</td>\n",
       "    </tr>\n",
       "    <tr>\n",
       "      <th>min</th>\n",
       "      <td>0.000000</td>\n",
       "      <td>0.000000</td>\n",
       "    </tr>\n",
       "    <tr>\n",
       "      <th>25%</th>\n",
       "      <td>10.000000</td>\n",
       "      <td>10.000000</td>\n",
       "    </tr>\n",
       "    <tr>\n",
       "      <th>50%</th>\n",
       "      <td>11.000000</td>\n",
       "      <td>10.000000</td>\n",
       "    </tr>\n",
       "    <tr>\n",
       "      <th>75%</th>\n",
       "      <td>12.000000</td>\n",
       "      <td>10.000000</td>\n",
       "    </tr>\n",
       "    <tr>\n",
       "      <th>max</th>\n",
       "      <td>1776.000000</td>\n",
       "      <td>170.000000</td>\n",
       "    </tr>\n",
       "  </tbody>\n",
       "</table>\n",
       "</div>"
      ],
      "text/plain": [
       "       rating_numerator  rating_denominator\n",
       "count       2175.000000         2175.000000\n",
       "mean          13.215172           10.492874\n",
       "std           47.725696            7.019084\n",
       "min            0.000000            0.000000\n",
       "25%           10.000000           10.000000\n",
       "50%           11.000000           10.000000\n",
       "75%           12.000000           10.000000\n",
       "max         1776.000000          170.000000"
      ]
     },
     "execution_count": 54,
     "metadata": {},
     "output_type": "execute_result"
    }
   ],
   "source": [
    "print(\"Min and Max values for Numerators columns are {}, {}.\".\n",
    "      format(twitter_archive_clean.rating_numerator.min(),twitter_archive_clean.rating_numerator.max()))\n",
    "\n",
    "\n",
    "print(\"Min and Max values for Denominator columns are {}, {}.\".\n",
    "      format(twitter_archive_clean.rating_denominator.min(),twitter_archive_clean.rating_denominator.max()))\n",
    "\n",
    "twitter_archive_clean[[\"rating_numerator\", \"rating_denominator\"]].describe()"
   ]
  },
  {
   "cell_type": "code",
   "execution_count": 55,
   "metadata": {},
   "outputs": [
    {
     "name": "stdout",
     "output_type": "stream",
     "text": [
      "Out of 2175, only 22 have incorrect Denominator and 2153 have correct.\n"
     ]
    }
   ],
   "source": [
    "# Checking Denominator Values\n",
    "\n",
    "mismatch_demonirator=twitter_archive_clean[twitter_archive_clean.rating_denominator != 10]\n",
    "correct_demonirator=twitter_archive_clean[twitter_archive_clean.rating_denominator == 10]\n",
    "\n",
    "print(\"Out of {}, only {} have incorrect Denominator and {} have correct.\".format(total_values,mismatch_demonirator.count()[0],correct_demonirator.count()[0]))"
   ]
  },
  {
   "cell_type": "code",
   "execution_count": 56,
   "metadata": {},
   "outputs": [
    {
     "data": {
      "text/html": [
       "<div>\n",
       "<style scoped>\n",
       "    .dataframe tbody tr th:only-of-type {\n",
       "        vertical-align: middle;\n",
       "    }\n",
       "\n",
       "    .dataframe tbody tr th {\n",
       "        vertical-align: top;\n",
       "    }\n",
       "\n",
       "    .dataframe thead th {\n",
       "        text-align: right;\n",
       "    }\n",
       "</style>\n",
       "<table border=\"1\" class=\"dataframe\">\n",
       "  <thead>\n",
       "    <tr style=\"text-align: right;\">\n",
       "      <th></th>\n",
       "      <th>tweet_id</th>\n",
       "      <th>source</th>\n",
       "      <th>text</th>\n",
       "      <th>rating_numerator</th>\n",
       "      <th>rating_denominator</th>\n",
       "      <th>name</th>\n",
       "      <th>doggo</th>\n",
       "      <th>floofer</th>\n",
       "      <th>pupper</th>\n",
       "      <th>puppo</th>\n",
       "      <th>date</th>\n",
       "      <th>time</th>\n",
       "    </tr>\n",
       "  </thead>\n",
       "  <tbody>\n",
       "    <tr>\n",
       "      <th>313</th>\n",
       "      <td>835246439529840640</td>\n",
       "      <td>Twitter for iPhone</td>\n",
       "      <td>@jonnysun @Lin_Manuel ok jomny I know you're e...</td>\n",
       "      <td>960</td>\n",
       "      <td>0</td>\n",
       "      <td>None</td>\n",
       "      <td>NaN</td>\n",
       "      <td>NaN</td>\n",
       "      <td>NaN</td>\n",
       "      <td>NaN</td>\n",
       "      <td>2017-02-24</td>\n",
       "      <td>2022-01-11 21:54:03</td>\n",
       "    </tr>\n",
       "    <tr>\n",
       "      <th>1120</th>\n",
       "      <td>731156023742988288</td>\n",
       "      <td>Twitter for iPhone</td>\n",
       "      <td>Say hello to this unbelievably well behaved sq...</td>\n",
       "      <td>204</td>\n",
       "      <td>170</td>\n",
       "      <td>this</td>\n",
       "      <td>NaN</td>\n",
       "      <td>NaN</td>\n",
       "      <td>NaN</td>\n",
       "      <td>NaN</td>\n",
       "      <td>2016-05-13</td>\n",
       "      <td>2022-01-11 16:15:54</td>\n",
       "    </tr>\n",
       "    <tr>\n",
       "      <th>902</th>\n",
       "      <td>758467244762497024</td>\n",
       "      <td>Twitter for iPhone</td>\n",
       "      <td>Why does this never happen at my front door......</td>\n",
       "      <td>165</td>\n",
       "      <td>150</td>\n",
       "      <td>None</td>\n",
       "      <td>NaN</td>\n",
       "      <td>NaN</td>\n",
       "      <td>NaN</td>\n",
       "      <td>NaN</td>\n",
       "      <td>2016-07-28</td>\n",
       "      <td>2022-01-11 01:00:57</td>\n",
       "    </tr>\n",
       "    <tr>\n",
       "      <th>1779</th>\n",
       "      <td>677716515794329600</td>\n",
       "      <td>Twitter for iPhone</td>\n",
       "      <td>IT'S PUPPERGEDDON. Total of 144/120 ...I think...</td>\n",
       "      <td>144</td>\n",
       "      <td>120</td>\n",
       "      <td>None</td>\n",
       "      <td>NaN</td>\n",
       "      <td>NaN</td>\n",
       "      <td>NaN</td>\n",
       "      <td>NaN</td>\n",
       "      <td>2015-12-18</td>\n",
       "      <td>2022-01-11 05:06:23</td>\n",
       "    </tr>\n",
       "    <tr>\n",
       "      <th>1634</th>\n",
       "      <td>684225744407494656</td>\n",
       "      <td>Twitter for iPhone</td>\n",
       "      <td>Two sneaky puppers were not initially seen, mo...</td>\n",
       "      <td>143</td>\n",
       "      <td>130</td>\n",
       "      <td>None</td>\n",
       "      <td>NaN</td>\n",
       "      <td>NaN</td>\n",
       "      <td>NaN</td>\n",
       "      <td>NaN</td>\n",
       "      <td>2016-01-05</td>\n",
       "      <td>2022-01-11 04:11:44</td>\n",
       "    </tr>\n",
       "    <tr>\n",
       "      <th>1635</th>\n",
       "      <td>684222868335505415</td>\n",
       "      <td>Twitter for iPhone</td>\n",
       "      <td>Someone help the girl is being mugged. Several...</td>\n",
       "      <td>121</td>\n",
       "      <td>110</td>\n",
       "      <td>None</td>\n",
       "      <td>NaN</td>\n",
       "      <td>NaN</td>\n",
       "      <td>NaN</td>\n",
       "      <td>NaN</td>\n",
       "      <td>2016-01-05</td>\n",
       "      <td>2022-01-11 04:00:18</td>\n",
       "    </tr>\n",
       "    <tr>\n",
       "      <th>1228</th>\n",
       "      <td>713900603437621249</td>\n",
       "      <td>Twitter for iPhone</td>\n",
       "      <td>Happy Saturday here's 9 puppers on a bench. 99...</td>\n",
       "      <td>99</td>\n",
       "      <td>90</td>\n",
       "      <td>None</td>\n",
       "      <td>NaN</td>\n",
       "      <td>NaN</td>\n",
       "      <td>NaN</td>\n",
       "      <td>NaN</td>\n",
       "      <td>2016-03-27</td>\n",
       "      <td>2022-01-11 01:29:02</td>\n",
       "    </tr>\n",
       "    <tr>\n",
       "      <th>1843</th>\n",
       "      <td>675853064436391936</td>\n",
       "      <td>Twitter for iPhone</td>\n",
       "      <td>Here we have an entire platoon of puppers. Tot...</td>\n",
       "      <td>88</td>\n",
       "      <td>80</td>\n",
       "      <td>None</td>\n",
       "      <td>NaN</td>\n",
       "      <td>NaN</td>\n",
       "      <td>NaN</td>\n",
       "      <td>NaN</td>\n",
       "      <td>2015-12-13</td>\n",
       "      <td>2022-01-11 01:41:41</td>\n",
       "    </tr>\n",
       "    <tr>\n",
       "      <th>433</th>\n",
       "      <td>820690176645140481</td>\n",
       "      <td>Twitter for iPhone</td>\n",
       "      <td>The floofs have been released I repeat the flo...</td>\n",
       "      <td>84</td>\n",
       "      <td>70</td>\n",
       "      <td>None</td>\n",
       "      <td>NaN</td>\n",
       "      <td>NaN</td>\n",
       "      <td>NaN</td>\n",
       "      <td>NaN</td>\n",
       "      <td>2017-01-15</td>\n",
       "      <td>2022-01-11 17:52:40</td>\n",
       "    </tr>\n",
       "    <tr>\n",
       "      <th>1254</th>\n",
       "      <td>710658690886586372</td>\n",
       "      <td>Twitter for iPhone</td>\n",
       "      <td>Here's a brigade of puppers. All look very pre...</td>\n",
       "      <td>80</td>\n",
       "      <td>80</td>\n",
       "      <td>None</td>\n",
       "      <td>NaN</td>\n",
       "      <td>NaN</td>\n",
       "      <td>NaN</td>\n",
       "      <td>NaN</td>\n",
       "      <td>2016-03-18</td>\n",
       "      <td>2022-01-11 02:46:49</td>\n",
       "    </tr>\n",
       "    <tr>\n",
       "      <th>1351</th>\n",
       "      <td>704054845121142784</td>\n",
       "      <td>Twitter for iPhone</td>\n",
       "      <td>Here is a whole flock of puppers.  60/50 I'll ...</td>\n",
       "      <td>60</td>\n",
       "      <td>50</td>\n",
       "      <td>a</td>\n",
       "      <td>NaN</td>\n",
       "      <td>NaN</td>\n",
       "      <td>NaN</td>\n",
       "      <td>NaN</td>\n",
       "      <td>2016-02-28</td>\n",
       "      <td>2022-01-11 21:25:30</td>\n",
       "    </tr>\n",
       "    <tr>\n",
       "      <th>1202</th>\n",
       "      <td>716439118184652801</td>\n",
       "      <td>Twitter for iPhone</td>\n",
       "      <td>This is Bluebert. He just saw that both #Final...</td>\n",
       "      <td>50</td>\n",
       "      <td>50</td>\n",
       "      <td>Bluebert</td>\n",
       "      <td>NaN</td>\n",
       "      <td>NaN</td>\n",
       "      <td>NaN</td>\n",
       "      <td>NaN</td>\n",
       "      <td>2016-04-03</td>\n",
       "      <td>2022-01-11 01:36:11</td>\n",
       "    </tr>\n",
       "    <tr>\n",
       "      <th>1274</th>\n",
       "      <td>709198395643068416</td>\n",
       "      <td>Twitter for iPhone</td>\n",
       "      <td>From left to right:\\nCletus, Jerome, Alejandro...</td>\n",
       "      <td>45</td>\n",
       "      <td>50</td>\n",
       "      <td>None</td>\n",
       "      <td>NaN</td>\n",
       "      <td>NaN</td>\n",
       "      <td>NaN</td>\n",
       "      <td>NaN</td>\n",
       "      <td>2016-03-14</td>\n",
       "      <td>2022-01-11 02:04:08</td>\n",
       "    </tr>\n",
       "    <tr>\n",
       "      <th>1433</th>\n",
       "      <td>697463031882764288</td>\n",
       "      <td>Twitter for iPhone</td>\n",
       "      <td>Happy Wednesday here's a bucket of pups. 44/40...</td>\n",
       "      <td>44</td>\n",
       "      <td>40</td>\n",
       "      <td>None</td>\n",
       "      <td>NaN</td>\n",
       "      <td>NaN</td>\n",
       "      <td>NaN</td>\n",
       "      <td>NaN</td>\n",
       "      <td>2016-02-10</td>\n",
       "      <td>2022-01-11 16:51:59</td>\n",
       "    </tr>\n",
       "    <tr>\n",
       "      <th>516</th>\n",
       "      <td>810984652412424192</td>\n",
       "      <td>Twitter for iPhone</td>\n",
       "      <td>Meet Sam. She smiles 24/7 &amp;amp; secretly aspir...</td>\n",
       "      <td>24</td>\n",
       "      <td>7</td>\n",
       "      <td>Sam</td>\n",
       "      <td>NaN</td>\n",
       "      <td>NaN</td>\n",
       "      <td>NaN</td>\n",
       "      <td>NaN</td>\n",
       "      <td>2016-12-19</td>\n",
       "      <td>2022-01-11 23:06:23</td>\n",
       "    </tr>\n",
       "    <tr>\n",
       "      <th>1663</th>\n",
       "      <td>682808988178739200</td>\n",
       "      <td>Twitter for iPhone</td>\n",
       "      <td>I'm aware that I could've said 20/16, but here...</td>\n",
       "      <td>20</td>\n",
       "      <td>16</td>\n",
       "      <td>None</td>\n",
       "      <td>NaN</td>\n",
       "      <td>NaN</td>\n",
       "      <td>NaN</td>\n",
       "      <td>NaN</td>\n",
       "      <td>2016-01-01</td>\n",
       "      <td>2022-01-11 06:22:03</td>\n",
       "    </tr>\n",
       "    <tr>\n",
       "      <th>342</th>\n",
       "      <td>832088576586297345</td>\n",
       "      <td>Twitter for iPhone</td>\n",
       "      <td>@docmisterio account started on 11/15/15</td>\n",
       "      <td>11</td>\n",
       "      <td>15</td>\n",
       "      <td>None</td>\n",
       "      <td>NaN</td>\n",
       "      <td>NaN</td>\n",
       "      <td>NaN</td>\n",
       "      <td>NaN</td>\n",
       "      <td>2017-02-16</td>\n",
       "      <td>2022-01-11 04:45:50</td>\n",
       "    </tr>\n",
       "    <tr>\n",
       "      <th>1068</th>\n",
       "      <td>740373189193256964</td>\n",
       "      <td>Twitter for iPhone</td>\n",
       "      <td>After so many requests, this is Bretagne. She ...</td>\n",
       "      <td>9</td>\n",
       "      <td>11</td>\n",
       "      <td>None</td>\n",
       "      <td>NaN</td>\n",
       "      <td>NaN</td>\n",
       "      <td>NaN</td>\n",
       "      <td>NaN</td>\n",
       "      <td>2016-06-08</td>\n",
       "      <td>2022-01-11 02:41:38</td>\n",
       "    </tr>\n",
       "    <tr>\n",
       "      <th>1662</th>\n",
       "      <td>682962037429899265</td>\n",
       "      <td>Twitter for iPhone</td>\n",
       "      <td>This is Darrel. He just robbed a 7/11 and is i...</td>\n",
       "      <td>7</td>\n",
       "      <td>11</td>\n",
       "      <td>Darrel</td>\n",
       "      <td>NaN</td>\n",
       "      <td>NaN</td>\n",
       "      <td>NaN</td>\n",
       "      <td>NaN</td>\n",
       "      <td>2016-01-01</td>\n",
       "      <td>2022-01-11 16:30:13</td>\n",
       "    </tr>\n",
       "    <tr>\n",
       "      <th>1598</th>\n",
       "      <td>686035780142297088</td>\n",
       "      <td>Twitter for iPhone</td>\n",
       "      <td>Yes I do realize a rating of 4/20 would've bee...</td>\n",
       "      <td>4</td>\n",
       "      <td>20</td>\n",
       "      <td>None</td>\n",
       "      <td>NaN</td>\n",
       "      <td>NaN</td>\n",
       "      <td>NaN</td>\n",
       "      <td>NaN</td>\n",
       "      <td>2016-01-10</td>\n",
       "      <td>2022-01-11 04:04:10</td>\n",
       "    </tr>\n",
       "    <tr>\n",
       "      <th>1165</th>\n",
       "      <td>722974582966214656</td>\n",
       "      <td>Twitter for iPhone</td>\n",
       "      <td>Happy 4/20 from the squad! 13/10 for all https...</td>\n",
       "      <td>4</td>\n",
       "      <td>20</td>\n",
       "      <td>None</td>\n",
       "      <td>NaN</td>\n",
       "      <td>NaN</td>\n",
       "      <td>NaN</td>\n",
       "      <td>NaN</td>\n",
       "      <td>2016-04-21</td>\n",
       "      <td>2022-01-11 02:25:47</td>\n",
       "    </tr>\n",
       "    <tr>\n",
       "      <th>2335</th>\n",
       "      <td>666287406224695296</td>\n",
       "      <td>Twitter for iPhone</td>\n",
       "      <td>This is an Albanian 3 1/2 legged  Episcopalian...</td>\n",
       "      <td>1</td>\n",
       "      <td>2</td>\n",
       "      <td>an</td>\n",
       "      <td>NaN</td>\n",
       "      <td>NaN</td>\n",
       "      <td>NaN</td>\n",
       "      <td>NaN</td>\n",
       "      <td>2015-11-16</td>\n",
       "      <td>2022-01-11 16:11:11</td>\n",
       "    </tr>\n",
       "  </tbody>\n",
       "</table>\n",
       "</div>"
      ],
      "text/plain": [
       "                tweet_id              source  \\\n",
       "313   835246439529840640  Twitter for iPhone   \n",
       "1120  731156023742988288  Twitter for iPhone   \n",
       "902   758467244762497024  Twitter for iPhone   \n",
       "1779  677716515794329600  Twitter for iPhone   \n",
       "1634  684225744407494656  Twitter for iPhone   \n",
       "1635  684222868335505415  Twitter for iPhone   \n",
       "1228  713900603437621249  Twitter for iPhone   \n",
       "1843  675853064436391936  Twitter for iPhone   \n",
       "433   820690176645140481  Twitter for iPhone   \n",
       "1254  710658690886586372  Twitter for iPhone   \n",
       "1351  704054845121142784  Twitter for iPhone   \n",
       "1202  716439118184652801  Twitter for iPhone   \n",
       "1274  709198395643068416  Twitter for iPhone   \n",
       "1433  697463031882764288  Twitter for iPhone   \n",
       "516   810984652412424192  Twitter for iPhone   \n",
       "1663  682808988178739200  Twitter for iPhone   \n",
       "342   832088576586297345  Twitter for iPhone   \n",
       "1068  740373189193256964  Twitter for iPhone   \n",
       "1662  682962037429899265  Twitter for iPhone   \n",
       "1598  686035780142297088  Twitter for iPhone   \n",
       "1165  722974582966214656  Twitter for iPhone   \n",
       "2335  666287406224695296  Twitter for iPhone   \n",
       "\n",
       "                                                   text  rating_numerator  \\\n",
       "313   @jonnysun @Lin_Manuel ok jomny I know you're e...               960   \n",
       "1120  Say hello to this unbelievably well behaved sq...               204   \n",
       "902   Why does this never happen at my front door......               165   \n",
       "1779  IT'S PUPPERGEDDON. Total of 144/120 ...I think...               144   \n",
       "1634  Two sneaky puppers were not initially seen, mo...               143   \n",
       "1635  Someone help the girl is being mugged. Several...               121   \n",
       "1228  Happy Saturday here's 9 puppers on a bench. 99...                99   \n",
       "1843  Here we have an entire platoon of puppers. Tot...                88   \n",
       "433   The floofs have been released I repeat the flo...                84   \n",
       "1254  Here's a brigade of puppers. All look very pre...                80   \n",
       "1351  Here is a whole flock of puppers.  60/50 I'll ...                60   \n",
       "1202  This is Bluebert. He just saw that both #Final...                50   \n",
       "1274  From left to right:\\nCletus, Jerome, Alejandro...                45   \n",
       "1433  Happy Wednesday here's a bucket of pups. 44/40...                44   \n",
       "516   Meet Sam. She smiles 24/7 &amp; secretly aspir...                24   \n",
       "1663  I'm aware that I could've said 20/16, but here...                20   \n",
       "342            @docmisterio account started on 11/15/15                11   \n",
       "1068  After so many requests, this is Bretagne. She ...                 9   \n",
       "1662  This is Darrel. He just robbed a 7/11 and is i...                 7   \n",
       "1598  Yes I do realize a rating of 4/20 would've bee...                 4   \n",
       "1165  Happy 4/20 from the squad! 13/10 for all https...                 4   \n",
       "2335  This is an Albanian 3 1/2 legged  Episcopalian...                 1   \n",
       "\n",
       "      rating_denominator      name doggo floofer pupper puppo       date  \\\n",
       "313                    0      None   NaN     NaN    NaN   NaN 2017-02-24   \n",
       "1120                 170      this   NaN     NaN    NaN   NaN 2016-05-13   \n",
       "902                  150      None   NaN     NaN    NaN   NaN 2016-07-28   \n",
       "1779                 120      None   NaN     NaN    NaN   NaN 2015-12-18   \n",
       "1634                 130      None   NaN     NaN    NaN   NaN 2016-01-05   \n",
       "1635                 110      None   NaN     NaN    NaN   NaN 2016-01-05   \n",
       "1228                  90      None   NaN     NaN    NaN   NaN 2016-03-27   \n",
       "1843                  80      None   NaN     NaN    NaN   NaN 2015-12-13   \n",
       "433                   70      None   NaN     NaN    NaN   NaN 2017-01-15   \n",
       "1254                  80      None   NaN     NaN    NaN   NaN 2016-03-18   \n",
       "1351                  50         a   NaN     NaN    NaN   NaN 2016-02-28   \n",
       "1202                  50  Bluebert   NaN     NaN    NaN   NaN 2016-04-03   \n",
       "1274                  50      None   NaN     NaN    NaN   NaN 2016-03-14   \n",
       "1433                  40      None   NaN     NaN    NaN   NaN 2016-02-10   \n",
       "516                    7       Sam   NaN     NaN    NaN   NaN 2016-12-19   \n",
       "1663                  16      None   NaN     NaN    NaN   NaN 2016-01-01   \n",
       "342                   15      None   NaN     NaN    NaN   NaN 2017-02-16   \n",
       "1068                  11      None   NaN     NaN    NaN   NaN 2016-06-08   \n",
       "1662                  11    Darrel   NaN     NaN    NaN   NaN 2016-01-01   \n",
       "1598                  20      None   NaN     NaN    NaN   NaN 2016-01-10   \n",
       "1165                  20      None   NaN     NaN    NaN   NaN 2016-04-21   \n",
       "2335                   2        an   NaN     NaN    NaN   NaN 2015-11-16   \n",
       "\n",
       "                    time  \n",
       "313  2022-01-11 21:54:03  \n",
       "1120 2022-01-11 16:15:54  \n",
       "902  2022-01-11 01:00:57  \n",
       "1779 2022-01-11 05:06:23  \n",
       "1634 2022-01-11 04:11:44  \n",
       "1635 2022-01-11 04:00:18  \n",
       "1228 2022-01-11 01:29:02  \n",
       "1843 2022-01-11 01:41:41  \n",
       "433  2022-01-11 17:52:40  \n",
       "1254 2022-01-11 02:46:49  \n",
       "1351 2022-01-11 21:25:30  \n",
       "1202 2022-01-11 01:36:11  \n",
       "1274 2022-01-11 02:04:08  \n",
       "1433 2022-01-11 16:51:59  \n",
       "516  2022-01-11 23:06:23  \n",
       "1663 2022-01-11 06:22:03  \n",
       "342  2022-01-11 04:45:50  \n",
       "1068 2022-01-11 02:41:38  \n",
       "1662 2022-01-11 16:30:13  \n",
       "1598 2022-01-11 04:04:10  \n",
       "1165 2022-01-11 02:25:47  \n",
       "2335 2022-01-11 16:11:11  "
      ]
     },
     "execution_count": 56,
     "metadata": {},
     "output_type": "execute_result"
    }
   ],
   "source": [
    "mismatch_demonirator.sort_values(by=\"rating_numerator\", ascending=False)"
   ]
  },
  {
   "cell_type": "markdown",
   "metadata": {},
   "source": [
    "> <br>**Note:** After examining the spreadsheet, I could identify 3 error-types within the 18 entries with irregular denominators:\n",
    ">1. 13 entries had rating based on no of dogs\n",
    ">1. 5 entries had incorrect ratings\n",
    ">1. 4 entry had no rating at all\n",
    "\n",
    ">**Cleaning method:** I did not find how to correct programatically so I updated excel sheet manually by add new updated values in new column **\"new_rating_numerator\"** also updating denominator value to 10 under **\"new_rating_denominator\"** column.\n",
    ">1. Use a simple cross-multiplication method (numerator*10/denominator) to normalize the numerator.\n",
    ">1. Manually enter the ratings using text column which has correct data.\n",
    ">1. Manually enter the rating using the median which is 11.0"
   ]
  },
  {
   "cell_type": "code",
   "execution_count": 57,
   "metadata": {},
   "outputs": [],
   "source": [
    "#Fetching only values that are not equal to 10 and exporting in Excel Sheet.\n",
    "\n",
    "twitter_archive_clean_denominator=twitter_archive_clean[twitter_archive_clean.rating_denominator != 10]\n",
    "twitter_archive_clean_denominator.to_excel('incorrect_deno.xlsx')"
   ]
  },
  {
   "cell_type": "code",
   "execution_count": 58,
   "metadata": {},
   "outputs": [],
   "source": [
    "#Importing updated excel sheet after updating all incorrect values manually.\n",
    "\n",
    "corr_denominator = pd.read_excel('incorrect_deno_updated.xlsx', index_col=0)"
   ]
  },
  {
   "cell_type": "code",
   "execution_count": 59,
   "metadata": {},
   "outputs": [],
   "source": [
    "# Only change the values at the corr_denominator index\n",
    "twitter_archive_clean.loc[corr_denominator.index, 'rating_numerator'] = corr_denominator.loc[corr_denominator.index, 'new_rating_numerator']\n",
    "twitter_archive_clean.loc[corr_denominator.index, 'rating_denominator'] = corr_denominator.loc[corr_denominator.index, \"new_rating_denominator\"]"
   ]
  },
  {
   "cell_type": "code",
   "execution_count": 60,
   "metadata": {},
   "outputs": [
    {
     "data": {
      "text/html": [
       "<div>\n",
       "<style scoped>\n",
       "    .dataframe tbody tr th:only-of-type {\n",
       "        vertical-align: middle;\n",
       "    }\n",
       "\n",
       "    .dataframe tbody tr th {\n",
       "        vertical-align: top;\n",
       "    }\n",
       "\n",
       "    .dataframe thead th {\n",
       "        text-align: right;\n",
       "    }\n",
       "</style>\n",
       "<table border=\"1\" class=\"dataframe\">\n",
       "  <thead>\n",
       "    <tr style=\"text-align: right;\">\n",
       "      <th></th>\n",
       "      <th>rating_numerator</th>\n",
       "      <th>rating_denominator</th>\n",
       "    </tr>\n",
       "  </thead>\n",
       "  <tbody>\n",
       "    <tr>\n",
       "      <th>313</th>\n",
       "      <td>13</td>\n",
       "      <td>10</td>\n",
       "    </tr>\n",
       "    <tr>\n",
       "      <th>342</th>\n",
       "      <td>11</td>\n",
       "      <td>10</td>\n",
       "    </tr>\n",
       "    <tr>\n",
       "      <th>433</th>\n",
       "      <td>12</td>\n",
       "      <td>10</td>\n",
       "    </tr>\n",
       "    <tr>\n",
       "      <th>516</th>\n",
       "      <td>11</td>\n",
       "      <td>10</td>\n",
       "    </tr>\n",
       "    <tr>\n",
       "      <th>902</th>\n",
       "      <td>11</td>\n",
       "      <td>10</td>\n",
       "    </tr>\n",
       "    <tr>\n",
       "      <th>1068</th>\n",
       "      <td>14</td>\n",
       "      <td>10</td>\n",
       "    </tr>\n",
       "    <tr>\n",
       "      <th>1120</th>\n",
       "      <td>12</td>\n",
       "      <td>10</td>\n",
       "    </tr>\n",
       "    <tr>\n",
       "      <th>1165</th>\n",
       "      <td>13</td>\n",
       "      <td>10</td>\n",
       "    </tr>\n",
       "    <tr>\n",
       "      <th>1202</th>\n",
       "      <td>10</td>\n",
       "      <td>10</td>\n",
       "    </tr>\n",
       "    <tr>\n",
       "      <th>1228</th>\n",
       "      <td>11</td>\n",
       "      <td>10</td>\n",
       "    </tr>\n",
       "    <tr>\n",
       "      <th>1254</th>\n",
       "      <td>10</td>\n",
       "      <td>10</td>\n",
       "    </tr>\n",
       "    <tr>\n",
       "      <th>1274</th>\n",
       "      <td>9</td>\n",
       "      <td>10</td>\n",
       "    </tr>\n",
       "    <tr>\n",
       "      <th>1351</th>\n",
       "      <td>12</td>\n",
       "      <td>10</td>\n",
       "    </tr>\n",
       "    <tr>\n",
       "      <th>1433</th>\n",
       "      <td>11</td>\n",
       "      <td>10</td>\n",
       "    </tr>\n",
       "    <tr>\n",
       "      <th>1598</th>\n",
       "      <td>11</td>\n",
       "      <td>10</td>\n",
       "    </tr>\n",
       "    <tr>\n",
       "      <th>1634</th>\n",
       "      <td>11</td>\n",
       "      <td>10</td>\n",
       "    </tr>\n",
       "    <tr>\n",
       "      <th>1635</th>\n",
       "      <td>11</td>\n",
       "      <td>10</td>\n",
       "    </tr>\n",
       "    <tr>\n",
       "      <th>1662</th>\n",
       "      <td>10</td>\n",
       "      <td>10</td>\n",
       "    </tr>\n",
       "    <tr>\n",
       "      <th>1663</th>\n",
       "      <td>11</td>\n",
       "      <td>10</td>\n",
       "    </tr>\n",
       "    <tr>\n",
       "      <th>1779</th>\n",
       "      <td>12</td>\n",
       "      <td>10</td>\n",
       "    </tr>\n",
       "    <tr>\n",
       "      <th>1843</th>\n",
       "      <td>11</td>\n",
       "      <td>10</td>\n",
       "    </tr>\n",
       "    <tr>\n",
       "      <th>2335</th>\n",
       "      <td>9</td>\n",
       "      <td>10</td>\n",
       "    </tr>\n",
       "  </tbody>\n",
       "</table>\n",
       "</div>"
      ],
      "text/plain": [
       "      rating_numerator  rating_denominator\n",
       "313                 13                  10\n",
       "342                 11                  10\n",
       "433                 12                  10\n",
       "516                 11                  10\n",
       "902                 11                  10\n",
       "1068                14                  10\n",
       "1120                12                  10\n",
       "1165                13                  10\n",
       "1202                10                  10\n",
       "1228                11                  10\n",
       "1254                10                  10\n",
       "1274                 9                  10\n",
       "1351                12                  10\n",
       "1433                11                  10\n",
       "1598                11                  10\n",
       "1634                11                  10\n",
       "1635                11                  10\n",
       "1662                10                  10\n",
       "1663                11                  10\n",
       "1779                12                  10\n",
       "1843                11                  10\n",
       "2335                 9                  10"
      ]
     },
     "execution_count": 60,
     "metadata": {},
     "output_type": "execute_result"
    }
   ],
   "source": [
    "#Checking all updated value in main dataset\n",
    "twitter_archive_clean.loc[corr_denominator.index, ['rating_numerator','rating_denominator']]"
   ]
  },
  {
   "cell_type": "code",
   "execution_count": 61,
   "metadata": {},
   "outputs": [
    {
     "name": "stdout",
     "output_type": "stream",
     "text": [
      "<class 'pandas.core.frame.DataFrame'>\n",
      "Int64Index: 22 entries, 313 to 2335\n",
      "Data columns (total 12 columns):\n",
      " #   Column                  Non-Null Count  Dtype  \n",
      "---  ------                  --------------  -----  \n",
      " 0   tweet_id                22 non-null     float64\n",
      " 1   source                  22 non-null     object \n",
      " 2   text                    22 non-null     object \n",
      " 3   rating_numerator        22 non-null     int64  \n",
      " 4   rating_denominator      22 non-null     int64  \n",
      " 5   name                    22 non-null     object \n",
      " 6   doggo                   0 non-null      float64\n",
      " 7   floofer                 0 non-null      float64\n",
      " 8   pupper                  0 non-null      float64\n",
      " 9   puppo                   0 non-null      float64\n",
      " 10  new_rating_numerator    22 non-null     int64  \n",
      " 11  new_rating_denominator  22 non-null     int64  \n",
      "dtypes: float64(5), int64(4), object(3)\n",
      "memory usage: 2.8+ KB\n"
     ]
    }
   ],
   "source": [
    "corr_denominator.info()"
   ]
  },
  {
   "cell_type": "code",
   "execution_count": 62,
   "metadata": {},
   "outputs": [
    {
     "name": "stdout",
     "output_type": "stream",
     "text": [
      "After updating incoorect values, Out of 2175, only 0 have incorrect Denominator and 2175 have correct.\n"
     ]
    }
   ],
   "source": [
    "# Checking Denominator Values after updating incorrect values\n",
    "\n",
    "mismatch_demonirator=twitter_archive_clean[twitter_archive_clean.rating_denominator != 10]\n",
    "correct_demonirator=twitter_archive_clean[twitter_archive_clean.rating_denominator == 10]\n",
    "\n",
    "print(\"After updating incoorect values, Out of {}, only {} have incorrect Denominator and {} have correct.\".format(total_values,mismatch_demonirator.count()[0],correct_demonirator.count()[0]))"
   ]
  },
  {
   "cell_type": "code",
   "execution_count": 63,
   "metadata": {},
   "outputs": [
    {
     "name": "stdout",
     "output_type": "stream",
     "text": [
      "Out of 2175, only 9 have incorrect Numerator and 2166 have correct.\n"
     ]
    }
   ],
   "source": [
    "# Checking Numerator Values\n",
    "\n",
    "mismatch_numerator=twitter_archive_clean[(twitter_archive_clean['rating_numerator'] > 15)]\n",
    "correct_numerator=twitter_archive_clean[(twitter_archive_clean['rating_numerator']<=15)]\n",
    "\n",
    "print(\"Out of {}, only {} have incorrect Numerator and {} have correct.\".format(total_values,mismatch_numerator.count()[0],correct_numerator.count()[0]))"
   ]
  },
  {
   "cell_type": "code",
   "execution_count": 64,
   "metadata": {},
   "outputs": [
    {
     "data": {
      "text/html": [
       "<div>\n",
       "<style scoped>\n",
       "    .dataframe tbody tr th:only-of-type {\n",
       "        vertical-align: middle;\n",
       "    }\n",
       "\n",
       "    .dataframe tbody tr th {\n",
       "        vertical-align: top;\n",
       "    }\n",
       "\n",
       "    .dataframe thead th {\n",
       "        text-align: right;\n",
       "    }\n",
       "</style>\n",
       "<table border=\"1\" class=\"dataframe\">\n",
       "  <thead>\n",
       "    <tr style=\"text-align: right;\">\n",
       "      <th></th>\n",
       "      <th>tweet_id</th>\n",
       "      <th>source</th>\n",
       "      <th>text</th>\n",
       "      <th>rating_numerator</th>\n",
       "      <th>rating_denominator</th>\n",
       "      <th>name</th>\n",
       "      <th>doggo</th>\n",
       "      <th>floofer</th>\n",
       "      <th>pupper</th>\n",
       "      <th>puppo</th>\n",
       "      <th>date</th>\n",
       "      <th>time</th>\n",
       "    </tr>\n",
       "  </thead>\n",
       "  <tbody>\n",
       "    <tr>\n",
       "      <th>979</th>\n",
       "      <td>749981277374128128</td>\n",
       "      <td>TweetDeck</td>\n",
       "      <td>This is Atticus. He's quite simply America af....</td>\n",
       "      <td>1776</td>\n",
       "      <td>10</td>\n",
       "      <td>Atticus</td>\n",
       "      <td>NaN</td>\n",
       "      <td>NaN</td>\n",
       "      <td>NaN</td>\n",
       "      <td>NaN</td>\n",
       "      <td>2016-07-04</td>\n",
       "      <td>2022-01-11 15:00:45</td>\n",
       "    </tr>\n",
       "    <tr>\n",
       "      <th>189</th>\n",
       "      <td>855860136149123072</td>\n",
       "      <td>Twitter for iPhone</td>\n",
       "      <td>@s8n You tried very hard to portray this good ...</td>\n",
       "      <td>666</td>\n",
       "      <td>10</td>\n",
       "      <td>None</td>\n",
       "      <td>NaN</td>\n",
       "      <td>NaN</td>\n",
       "      <td>NaN</td>\n",
       "      <td>NaN</td>\n",
       "      <td>2017-04-22</td>\n",
       "      <td>2022-01-11 19:05:32</td>\n",
       "    </tr>\n",
       "    <tr>\n",
       "      <th>188</th>\n",
       "      <td>855862651834028034</td>\n",
       "      <td>Twitter for iPhone</td>\n",
       "      <td>@dhmontgomery We also gave snoop dogg a 420/10...</td>\n",
       "      <td>420</td>\n",
       "      <td>10</td>\n",
       "      <td>None</td>\n",
       "      <td>NaN</td>\n",
       "      <td>NaN</td>\n",
       "      <td>NaN</td>\n",
       "      <td>NaN</td>\n",
       "      <td>2017-04-22</td>\n",
       "      <td>2022-01-11 19:15:32</td>\n",
       "    </tr>\n",
       "    <tr>\n",
       "      <th>2074</th>\n",
       "      <td>670842764863651840</td>\n",
       "      <td>Twitter for iPhone</td>\n",
       "      <td>After so many requests... here you go.\\n\\nGood...</td>\n",
       "      <td>420</td>\n",
       "      <td>10</td>\n",
       "      <td>None</td>\n",
       "      <td>NaN</td>\n",
       "      <td>NaN</td>\n",
       "      <td>NaN</td>\n",
       "      <td>NaN</td>\n",
       "      <td>2015-11-29</td>\n",
       "      <td>2022-01-11 05:52:33</td>\n",
       "    </tr>\n",
       "    <tr>\n",
       "      <th>290</th>\n",
       "      <td>838150277551247360</td>\n",
       "      <td>Twitter for iPhone</td>\n",
       "      <td>@markhoppus 182/10</td>\n",
       "      <td>182</td>\n",
       "      <td>10</td>\n",
       "      <td>None</td>\n",
       "      <td>NaN</td>\n",
       "      <td>NaN</td>\n",
       "      <td>NaN</td>\n",
       "      <td>NaN</td>\n",
       "      <td>2017-03-04</td>\n",
       "      <td>2022-01-11 22:12:52</td>\n",
       "    </tr>\n",
       "    <tr>\n",
       "      <th>695</th>\n",
       "      <td>786709082849828864</td>\n",
       "      <td>Twitter for iPhone</td>\n",
       "      <td>This is Logan, the Chow who lived. He solemnly...</td>\n",
       "      <td>75</td>\n",
       "      <td>10</td>\n",
       "      <td>Logan</td>\n",
       "      <td>NaN</td>\n",
       "      <td>NaN</td>\n",
       "      <td>NaN</td>\n",
       "      <td>NaN</td>\n",
       "      <td>2016-10-13</td>\n",
       "      <td>2022-01-11 23:23:56</td>\n",
       "    </tr>\n",
       "    <tr>\n",
       "      <th>763</th>\n",
       "      <td>778027034220126208</td>\n",
       "      <td>Twitter for iPhone</td>\n",
       "      <td>This is Sophie. She's a Jubilant Bush Pupper. ...</td>\n",
       "      <td>27</td>\n",
       "      <td>10</td>\n",
       "      <td>Sophie</td>\n",
       "      <td>NaN</td>\n",
       "      <td>NaN</td>\n",
       "      <td>pupper</td>\n",
       "      <td>NaN</td>\n",
       "      <td>2016-09-20</td>\n",
       "      <td>2022-01-11 00:24:34</td>\n",
       "    </tr>\n",
       "    <tr>\n",
       "      <th>1712</th>\n",
       "      <td>680494726643068929</td>\n",
       "      <td>Twitter for iPhone</td>\n",
       "      <td>Here we have uncovered an entire battalion of ...</td>\n",
       "      <td>26</td>\n",
       "      <td>10</td>\n",
       "      <td>None</td>\n",
       "      <td>NaN</td>\n",
       "      <td>NaN</td>\n",
       "      <td>NaN</td>\n",
       "      <td>NaN</td>\n",
       "      <td>2015-12-25</td>\n",
       "      <td>2022-01-11 21:06:00</td>\n",
       "    </tr>\n",
       "    <tr>\n",
       "      <th>55</th>\n",
       "      <td>881633300179243008</td>\n",
       "      <td>Twitter for iPhone</td>\n",
       "      <td>@roushfenway These are good dogs but 17/10 is ...</td>\n",
       "      <td>17</td>\n",
       "      <td>10</td>\n",
       "      <td>None</td>\n",
       "      <td>NaN</td>\n",
       "      <td>NaN</td>\n",
       "      <td>NaN</td>\n",
       "      <td>NaN</td>\n",
       "      <td>2017-07-02</td>\n",
       "      <td>2022-01-11 21:58:53</td>\n",
       "    </tr>\n",
       "  </tbody>\n",
       "</table>\n",
       "</div>"
      ],
      "text/plain": [
       "                tweet_id              source  \\\n",
       "979   749981277374128128           TweetDeck   \n",
       "189   855860136149123072  Twitter for iPhone   \n",
       "188   855862651834028034  Twitter for iPhone   \n",
       "2074  670842764863651840  Twitter for iPhone   \n",
       "290   838150277551247360  Twitter for iPhone   \n",
       "695   786709082849828864  Twitter for iPhone   \n",
       "763   778027034220126208  Twitter for iPhone   \n",
       "1712  680494726643068929  Twitter for iPhone   \n",
       "55    881633300179243008  Twitter for iPhone   \n",
       "\n",
       "                                                   text  rating_numerator  \\\n",
       "979   This is Atticus. He's quite simply America af....              1776   \n",
       "189   @s8n You tried very hard to portray this good ...               666   \n",
       "188   @dhmontgomery We also gave snoop dogg a 420/10...               420   \n",
       "2074  After so many requests... here you go.\\n\\nGood...               420   \n",
       "290                                  @markhoppus 182/10               182   \n",
       "695   This is Logan, the Chow who lived. He solemnly...                75   \n",
       "763   This is Sophie. She's a Jubilant Bush Pupper. ...                27   \n",
       "1712  Here we have uncovered an entire battalion of ...                26   \n",
       "55    @roushfenway These are good dogs but 17/10 is ...                17   \n",
       "\n",
       "      rating_denominator     name doggo floofer  pupper puppo       date  \\\n",
       "979                   10  Atticus   NaN     NaN     NaN   NaN 2016-07-04   \n",
       "189                   10     None   NaN     NaN     NaN   NaN 2017-04-22   \n",
       "188                   10     None   NaN     NaN     NaN   NaN 2017-04-22   \n",
       "2074                  10     None   NaN     NaN     NaN   NaN 2015-11-29   \n",
       "290                   10     None   NaN     NaN     NaN   NaN 2017-03-04   \n",
       "695                   10    Logan   NaN     NaN     NaN   NaN 2016-10-13   \n",
       "763                   10   Sophie   NaN     NaN  pupper   NaN 2016-09-20   \n",
       "1712                  10     None   NaN     NaN     NaN   NaN 2015-12-25   \n",
       "55                    10     None   NaN     NaN     NaN   NaN 2017-07-02   \n",
       "\n",
       "                    time  \n",
       "979  2022-01-11 15:00:45  \n",
       "189  2022-01-11 19:05:32  \n",
       "188  2022-01-11 19:15:32  \n",
       "2074 2022-01-11 05:52:33  \n",
       "290  2022-01-11 22:12:52  \n",
       "695  2022-01-11 23:23:56  \n",
       "763  2022-01-11 00:24:34  \n",
       "1712 2022-01-11 21:06:00  \n",
       "55   2022-01-11 21:58:53  "
      ]
     },
     "execution_count": 64,
     "metadata": {},
     "output_type": "execute_result"
    }
   ],
   "source": [
    "mismatch_numerator.sort_values(by=\"rating_numerator\", ascending=False)"
   ]
  },
  {
   "cell_type": "markdown",
   "metadata": {},
   "source": [
    "> <br>**Note:** After examining the spreadsheet, I could identify 3 error-types within the 9 entries with irregular numerator:\n",
    ">1. 5 entries had rating based on no of dogs\n",
    ">1. 4 entries had incorrect ratings\n",
    "\n",
    ">**Cleaning method:** I did not find how to correct programatically so I updated excel sheet manually by add new updated values in new column **\"new_rating_numerator\"**.\n",
    ">1. Use a simple cross-multiplication method (numerator*10/denominator) to normalize the numerator.\n",
    ">1. Manually enter the ratings using text column which has correct data."
   ]
  },
  {
   "cell_type": "code",
   "execution_count": 65,
   "metadata": {},
   "outputs": [],
   "source": [
    "#Fetching only values that are not equal to 10 and exporting in Excel Sheet.\n",
    "\n",
    "twitter_archive_clean_numerator=twitter_archive_clean[(twitter_archive_clean.rating_numerator > 15)]\n",
    "twitter_archive_clean_numerator.to_excel('incorrect_numerator.xlsx')"
   ]
  },
  {
   "cell_type": "code",
   "execution_count": 66,
   "metadata": {},
   "outputs": [],
   "source": [
    "#Importing updated excel sheet after updating all incorrect values manually.\n",
    "\n",
    "corr_numerator = pd.read_excel('incorrect_numerator_updated.xlsx', index_col=0)"
   ]
  },
  {
   "cell_type": "code",
   "execution_count": 67,
   "metadata": {},
   "outputs": [
    {
     "name": "stdout",
     "output_type": "stream",
     "text": [
      "<class 'pandas.core.frame.DataFrame'>\n",
      "Int64Index: 9 entries, 55 to 2074\n",
      "Data columns (total 11 columns):\n",
      " #   Column                Non-Null Count  Dtype  \n",
      "---  ------                --------------  -----  \n",
      " 0   tweet_id              9 non-null      float64\n",
      " 1   source                9 non-null      object \n",
      " 2   text                  9 non-null      object \n",
      " 3   rating_numerator      9 non-null      int64  \n",
      " 4   rating_denominator    9 non-null      int64  \n",
      " 5   name                  9 non-null      object \n",
      " 6   doggo                 0 non-null      float64\n",
      " 7   floofer               0 non-null      float64\n",
      " 8   pupper                1 non-null      object \n",
      " 9   puppo                 0 non-null      float64\n",
      " 10  new_rating_numerator  9 non-null      int64  \n",
      "dtypes: float64(4), int64(3), object(4)\n",
      "memory usage: 864.0+ bytes\n"
     ]
    }
   ],
   "source": [
    "corr_numerator.info()"
   ]
  },
  {
   "cell_type": "code",
   "execution_count": 68,
   "metadata": {},
   "outputs": [],
   "source": [
    "# Only change the values at the corr_numerator index\n",
    "\n",
    "twitter_archive_clean.loc[corr_numerator.index, 'rating_numerator'] = corr_numerator.loc[corr_numerator.index, 'new_rating_numerator']"
   ]
  },
  {
   "cell_type": "code",
   "execution_count": 69,
   "metadata": {},
   "outputs": [
    {
     "data": {
      "text/html": [
       "<div>\n",
       "<style scoped>\n",
       "    .dataframe tbody tr th:only-of-type {\n",
       "        vertical-align: middle;\n",
       "    }\n",
       "\n",
       "    .dataframe tbody tr th {\n",
       "        vertical-align: top;\n",
       "    }\n",
       "\n",
       "    .dataframe thead th {\n",
       "        text-align: right;\n",
       "    }\n",
       "</style>\n",
       "<table border=\"1\" class=\"dataframe\">\n",
       "  <thead>\n",
       "    <tr style=\"text-align: right;\">\n",
       "      <th></th>\n",
       "      <th>rating_numerator</th>\n",
       "      <th>rating_denominator</th>\n",
       "    </tr>\n",
       "  </thead>\n",
       "  <tbody>\n",
       "    <tr>\n",
       "      <th>55</th>\n",
       "      <td>13</td>\n",
       "      <td>10</td>\n",
       "    </tr>\n",
       "    <tr>\n",
       "      <th>188</th>\n",
       "      <td>11</td>\n",
       "      <td>10</td>\n",
       "    </tr>\n",
       "    <tr>\n",
       "      <th>189</th>\n",
       "      <td>11</td>\n",
       "      <td>10</td>\n",
       "    </tr>\n",
       "    <tr>\n",
       "      <th>290</th>\n",
       "      <td>11</td>\n",
       "      <td>10</td>\n",
       "    </tr>\n",
       "    <tr>\n",
       "      <th>695</th>\n",
       "      <td>8</td>\n",
       "      <td>10</td>\n",
       "    </tr>\n",
       "    <tr>\n",
       "      <th>763</th>\n",
       "      <td>11</td>\n",
       "      <td>10</td>\n",
       "    </tr>\n",
       "    <tr>\n",
       "      <th>979</th>\n",
       "      <td>11</td>\n",
       "      <td>10</td>\n",
       "    </tr>\n",
       "    <tr>\n",
       "      <th>1712</th>\n",
       "      <td>11</td>\n",
       "      <td>10</td>\n",
       "    </tr>\n",
       "    <tr>\n",
       "      <th>2074</th>\n",
       "      <td>11</td>\n",
       "      <td>10</td>\n",
       "    </tr>\n",
       "  </tbody>\n",
       "</table>\n",
       "</div>"
      ],
      "text/plain": [
       "      rating_numerator  rating_denominator\n",
       "55                  13                  10\n",
       "188                 11                  10\n",
       "189                 11                  10\n",
       "290                 11                  10\n",
       "695                  8                  10\n",
       "763                 11                  10\n",
       "979                 11                  10\n",
       "1712                11                  10\n",
       "2074                11                  10"
      ]
     },
     "execution_count": 69,
     "metadata": {},
     "output_type": "execute_result"
    }
   ],
   "source": [
    "#Checking all updated value in main dataset\n",
    "\n",
    "twitter_archive_clean.loc[corr_numerator.index, ['rating_numerator','rating_denominator']]"
   ]
  },
  {
   "cell_type": "code",
   "execution_count": 70,
   "metadata": {},
   "outputs": [
    {
     "name": "stdout",
     "output_type": "stream",
     "text": [
      "After updating incoorect values, Out of 2175, only 0 have incorrect Numerator and 2175 have correct.\n"
     ]
    }
   ],
   "source": [
    "# Checking Numerator Values\n",
    "\n",
    "mismatch_numerator=twitter_archive_clean[(twitter_archive_clean['rating_numerator'] > 15)]\n",
    "correct_numerator=twitter_archive_clean[(twitter_archive_clean['rating_numerator']<=15)]\n",
    "\n",
    "print(\"After updating incoorect values, Out of {}, only {} have incorrect Numerator and {} have correct.\".format(total_values,mismatch_numerator.count()[0],correct_numerator.count()[0]))"
   ]
  },
  {
   "cell_type": "markdown",
   "metadata": {},
   "source": [
    "#### Test"
   ]
  },
  {
   "cell_type": "code",
   "execution_count": 71,
   "metadata": {},
   "outputs": [
    {
     "data": {
      "text/html": [
       "<div>\n",
       "<style scoped>\n",
       "    .dataframe tbody tr th:only-of-type {\n",
       "        vertical-align: middle;\n",
       "    }\n",
       "\n",
       "    .dataframe tbody tr th {\n",
       "        vertical-align: top;\n",
       "    }\n",
       "\n",
       "    .dataframe thead th {\n",
       "        text-align: right;\n",
       "    }\n",
       "</style>\n",
       "<table border=\"1\" class=\"dataframe\">\n",
       "  <thead>\n",
       "    <tr style=\"text-align: right;\">\n",
       "      <th></th>\n",
       "      <th>rating_numerator</th>\n",
       "      <th>rating_denominator</th>\n",
       "    </tr>\n",
       "  </thead>\n",
       "  <tbody>\n",
       "    <tr>\n",
       "      <th>count</th>\n",
       "      <td>2175.000000</td>\n",
       "      <td>2175.0</td>\n",
       "    </tr>\n",
       "    <tr>\n",
       "      <th>mean</th>\n",
       "      <td>10.625747</td>\n",
       "      <td>10.0</td>\n",
       "    </tr>\n",
       "    <tr>\n",
       "      <th>std</th>\n",
       "      <td>2.185231</td>\n",
       "      <td>0.0</td>\n",
       "    </tr>\n",
       "    <tr>\n",
       "      <th>min</th>\n",
       "      <td>0.000000</td>\n",
       "      <td>10.0</td>\n",
       "    </tr>\n",
       "    <tr>\n",
       "      <th>25%</th>\n",
       "      <td>10.000000</td>\n",
       "      <td>10.0</td>\n",
       "    </tr>\n",
       "    <tr>\n",
       "      <th>50%</th>\n",
       "      <td>11.000000</td>\n",
       "      <td>10.0</td>\n",
       "    </tr>\n",
       "    <tr>\n",
       "      <th>75%</th>\n",
       "      <td>12.000000</td>\n",
       "      <td>10.0</td>\n",
       "    </tr>\n",
       "    <tr>\n",
       "      <th>max</th>\n",
       "      <td>15.000000</td>\n",
       "      <td>10.0</td>\n",
       "    </tr>\n",
       "  </tbody>\n",
       "</table>\n",
       "</div>"
      ],
      "text/plain": [
       "       rating_numerator  rating_denominator\n",
       "count       2175.000000              2175.0\n",
       "mean          10.625747                10.0\n",
       "std            2.185231                 0.0\n",
       "min            0.000000                10.0\n",
       "25%           10.000000                10.0\n",
       "50%           11.000000                10.0\n",
       "75%           12.000000                10.0\n",
       "max           15.000000                10.0"
      ]
     },
     "execution_count": 71,
     "metadata": {},
     "output_type": "execute_result"
    }
   ],
   "source": [
    "twitter_archive_clean.describe()"
   ]
  },
  {
   "cell_type": "code",
   "execution_count": 72,
   "metadata": {},
   "outputs": [
    {
     "data": {
      "text/html": [
       "<div>\n",
       "<style scoped>\n",
       "    .dataframe tbody tr th:only-of-type {\n",
       "        vertical-align: middle;\n",
       "    }\n",
       "\n",
       "    .dataframe tbody tr th {\n",
       "        vertical-align: top;\n",
       "    }\n",
       "\n",
       "    .dataframe thead th {\n",
       "        text-align: right;\n",
       "    }\n",
       "</style>\n",
       "<table border=\"1\" class=\"dataframe\">\n",
       "  <thead>\n",
       "    <tr style=\"text-align: right;\">\n",
       "      <th></th>\n",
       "      <th>tweet_id</th>\n",
       "      <th>source</th>\n",
       "      <th>text</th>\n",
       "      <th>rating_numerator</th>\n",
       "      <th>rating_denominator</th>\n",
       "      <th>name</th>\n",
       "      <th>doggo</th>\n",
       "      <th>floofer</th>\n",
       "      <th>pupper</th>\n",
       "      <th>puppo</th>\n",
       "      <th>date</th>\n",
       "      <th>time</th>\n",
       "    </tr>\n",
       "  </thead>\n",
       "  <tbody>\n",
       "    <tr>\n",
       "      <th>1480</th>\n",
       "      <td>693486665285931008</td>\n",
       "      <td>Twitter for iPhone</td>\n",
       "      <td>This is Lincoln. He doesn't understand his new...</td>\n",
       "      <td>11</td>\n",
       "      <td>10</td>\n",
       "      <td>Lincoln</td>\n",
       "      <td>NaN</td>\n",
       "      <td>NaN</td>\n",
       "      <td>NaN</td>\n",
       "      <td>NaN</td>\n",
       "      <td>2016-01-30</td>\n",
       "      <td>2022-01-11 17:31:20</td>\n",
       "    </tr>\n",
       "    <tr>\n",
       "      <th>1663</th>\n",
       "      <td>682808988178739200</td>\n",
       "      <td>Twitter for iPhone</td>\n",
       "      <td>I'm aware that I could've said 20/16, but here...</td>\n",
       "      <td>11</td>\n",
       "      <td>10</td>\n",
       "      <td>None</td>\n",
       "      <td>NaN</td>\n",
       "      <td>NaN</td>\n",
       "      <td>NaN</td>\n",
       "      <td>NaN</td>\n",
       "      <td>2016-01-01</td>\n",
       "      <td>2022-01-11 06:22:03</td>\n",
       "    </tr>\n",
       "    <tr>\n",
       "      <th>1578</th>\n",
       "      <td>687317306314240000</td>\n",
       "      <td>Twitter for iPhone</td>\n",
       "      <td>This is Tyrone. He's a leaf wizard. Self-motiv...</td>\n",
       "      <td>11</td>\n",
       "      <td>10</td>\n",
       "      <td>Tyrone</td>\n",
       "      <td>NaN</td>\n",
       "      <td>NaN</td>\n",
       "      <td>NaN</td>\n",
       "      <td>NaN</td>\n",
       "      <td>2016-01-13</td>\n",
       "      <td>2022-01-11 16:56:30</td>\n",
       "    </tr>\n",
       "    <tr>\n",
       "      <th>421</th>\n",
       "      <td>821886076407029760</td>\n",
       "      <td>Twitter for iPhone</td>\n",
       "      <td>This is Jimison. He was just called a good boy...</td>\n",
       "      <td>13</td>\n",
       "      <td>10</td>\n",
       "      <td>Jimison</td>\n",
       "      <td>NaN</td>\n",
       "      <td>NaN</td>\n",
       "      <td>NaN</td>\n",
       "      <td>NaN</td>\n",
       "      <td>2017-01-19</td>\n",
       "      <td>2022-01-11 01:04:45</td>\n",
       "    </tr>\n",
       "  </tbody>\n",
       "</table>\n",
       "</div>"
      ],
      "text/plain": [
       "                tweet_id              source  \\\n",
       "1480  693486665285931008  Twitter for iPhone   \n",
       "1663  682808988178739200  Twitter for iPhone   \n",
       "1578  687317306314240000  Twitter for iPhone   \n",
       "421   821886076407029760  Twitter for iPhone   \n",
       "\n",
       "                                                   text  rating_numerator  \\\n",
       "1480  This is Lincoln. He doesn't understand his new...                11   \n",
       "1663  I'm aware that I could've said 20/16, but here...                11   \n",
       "1578  This is Tyrone. He's a leaf wizard. Self-motiv...                11   \n",
       "421   This is Jimison. He was just called a good boy...                13   \n",
       "\n",
       "      rating_denominator     name doggo floofer pupper puppo       date  \\\n",
       "1480                  10  Lincoln   NaN     NaN    NaN   NaN 2016-01-30   \n",
       "1663                  10     None   NaN     NaN    NaN   NaN 2016-01-01   \n",
       "1578                  10   Tyrone   NaN     NaN    NaN   NaN 2016-01-13   \n",
       "421                   10  Jimison   NaN     NaN    NaN   NaN 2017-01-19   \n",
       "\n",
       "                    time  \n",
       "1480 2022-01-11 17:31:20  \n",
       "1663 2022-01-11 06:22:03  \n",
       "1578 2022-01-11 16:56:30  \n",
       "421  2022-01-11 01:04:45  "
      ]
     },
     "execution_count": 72,
     "metadata": {},
     "output_type": "execute_result"
    }
   ],
   "source": [
    "twitter_archive_clean.sample(4)"
   ]
  },
  {
   "cell_type": "code",
   "execution_count": 73,
   "metadata": {},
   "outputs": [
    {
     "name": "stdout",
     "output_type": "stream",
     "text": [
      "<class 'pandas.core.frame.DataFrame'>\n",
      "Int64Index: 2175 entries, 0 to 2355\n",
      "Data columns (total 12 columns):\n",
      " #   Column              Non-Null Count  Dtype         \n",
      "---  ------              --------------  -----         \n",
      " 0   tweet_id            2175 non-null   object        \n",
      " 1   source              2175 non-null   object        \n",
      " 2   text                2175 non-null   object        \n",
      " 3   rating_numerator    2175 non-null   int64         \n",
      " 4   rating_denominator  2175 non-null   int64         \n",
      " 5   name                2175 non-null   object        \n",
      " 6   doggo               87 non-null     object        \n",
      " 7   floofer             10 non-null     object        \n",
      " 8   pupper              234 non-null    object        \n",
      " 9   puppo               25 non-null     object        \n",
      " 10  date                2175 non-null   datetime64[ns]\n",
      " 11  time                2175 non-null   datetime64[ns]\n",
      "dtypes: datetime64[ns](2), int64(2), object(8)\n",
      "memory usage: 285.4+ KB\n"
     ]
    }
   ],
   "source": [
    "twitter_archive_clean.info()"
   ]
  },
  {
   "cell_type": "markdown",
   "metadata": {},
   "source": [
    "### Issue #7:"
   ]
  },
  {
   "cell_type": "markdown",
   "metadata": {
    "collapsed": true,
    "extensions": {
     "jupyter_dashboards": {
      "version": 1,
      "views": {
       "grid_default": {
        "hidden": true
       },
       "report_default": {
        "hidden": true
       }
      }
     }
    }
   },
   "source": [
    "#### Define\n",
    "\n",
    "> More than 700 Dog Name is 'None' and More than 50 Dogs Name is 'a'\n",
    ">1. First I am replacing 'None' value to 'NaN'\n",
    ">1. Not able to figure out how to update \"a\" so leaving all values like this only."
   ]
  },
  {
   "cell_type": "markdown",
   "metadata": {},
   "source": [
    "#### Code"
   ]
  },
  {
   "cell_type": "code",
   "execution_count": 74,
   "metadata": {},
   "outputs": [
    {
     "name": "stdout",
     "output_type": "stream",
     "text": [
      "There are 680 entries in the Name Column before replacing.\n"
     ]
    }
   ],
   "source": [
    "none_count=twitter_archive_clean[twitter_archive_clean.name == 'None']\n",
    "print(\"There are {} entries in the Name Column before replacing.\".format(none_count.name.count()))"
   ]
  },
  {
   "cell_type": "code",
   "execution_count": 75,
   "metadata": {},
   "outputs": [
    {
     "data": {
      "text/html": [
       "<div>\n",
       "<style scoped>\n",
       "    .dataframe tbody tr th:only-of-type {\n",
       "        vertical-align: middle;\n",
       "    }\n",
       "\n",
       "    .dataframe tbody tr th {\n",
       "        vertical-align: top;\n",
       "    }\n",
       "\n",
       "    .dataframe thead th {\n",
       "        text-align: right;\n",
       "    }\n",
       "</style>\n",
       "<table border=\"1\" class=\"dataframe\">\n",
       "  <thead>\n",
       "    <tr style=\"text-align: right;\">\n",
       "      <th></th>\n",
       "      <th>tweet_id</th>\n",
       "      <th>source</th>\n",
       "      <th>text</th>\n",
       "      <th>rating_numerator</th>\n",
       "      <th>rating_denominator</th>\n",
       "      <th>name</th>\n",
       "      <th>doggo</th>\n",
       "      <th>floofer</th>\n",
       "      <th>pupper</th>\n",
       "      <th>puppo</th>\n",
       "      <th>date</th>\n",
       "      <th>time</th>\n",
       "    </tr>\n",
       "  </thead>\n",
       "  <tbody>\n",
       "    <tr>\n",
       "      <th>56</th>\n",
       "      <td>881536004380872706</td>\n",
       "      <td>Twitter for iPhone</td>\n",
       "      <td>Here is a pupper approaching maximum borkdrive...</td>\n",
       "      <td>14</td>\n",
       "      <td>10</td>\n",
       "      <td>a</td>\n",
       "      <td>NaN</td>\n",
       "      <td>NaN</td>\n",
       "      <td>pupper</td>\n",
       "      <td>NaN</td>\n",
       "      <td>2017-07-02</td>\n",
       "      <td>2022-01-11 15:32:16</td>\n",
       "    </tr>\n",
       "    <tr>\n",
       "      <th>649</th>\n",
       "      <td>792913359805018113</td>\n",
       "      <td>Twitter for iPhone</td>\n",
       "      <td>Here is a perfect example of someone who has t...</td>\n",
       "      <td>13</td>\n",
       "      <td>10</td>\n",
       "      <td>a</td>\n",
       "      <td>NaN</td>\n",
       "      <td>NaN</td>\n",
       "      <td>NaN</td>\n",
       "      <td>NaN</td>\n",
       "      <td>2016-10-31</td>\n",
       "      <td>2022-01-11 02:17:31</td>\n",
       "    </tr>\n",
       "    <tr>\n",
       "      <th>801</th>\n",
       "      <td>772581559778025472</td>\n",
       "      <td>Twitter for iPhone</td>\n",
       "      <td>Guys this is getting so out of hand. We only r...</td>\n",
       "      <td>10</td>\n",
       "      <td>10</td>\n",
       "      <td>a</td>\n",
       "      <td>NaN</td>\n",
       "      <td>NaN</td>\n",
       "      <td>NaN</td>\n",
       "      <td>NaN</td>\n",
       "      <td>2016-09-04</td>\n",
       "      <td>2022-01-11 23:46:12</td>\n",
       "    </tr>\n",
       "    <tr>\n",
       "      <th>1002</th>\n",
       "      <td>747885874273214464</td>\n",
       "      <td>Twitter for iPhone</td>\n",
       "      <td>This is a mighty rare blue-tailed hammer sherk...</td>\n",
       "      <td>8</td>\n",
       "      <td>10</td>\n",
       "      <td>a</td>\n",
       "      <td>NaN</td>\n",
       "      <td>NaN</td>\n",
       "      <td>NaN</td>\n",
       "      <td>NaN</td>\n",
       "      <td>2016-06-28</td>\n",
       "      <td>2022-01-11 20:14:22</td>\n",
       "    </tr>\n",
       "    <tr>\n",
       "      <th>1004</th>\n",
       "      <td>747816857231626240</td>\n",
       "      <td>Twitter for iPhone</td>\n",
       "      <td>Viewer discretion is advised. This is a terrib...</td>\n",
       "      <td>4</td>\n",
       "      <td>10</td>\n",
       "      <td>a</td>\n",
       "      <td>NaN</td>\n",
       "      <td>NaN</td>\n",
       "      <td>NaN</td>\n",
       "      <td>NaN</td>\n",
       "      <td>2016-06-28</td>\n",
       "      <td>2022-01-11 15:40:07</td>\n",
       "    </tr>\n",
       "    <tr>\n",
       "      <th>1017</th>\n",
       "      <td>746872823977771008</td>\n",
       "      <td>Twitter for iPhone</td>\n",
       "      <td>This is a carrot. We only rate dogs. Please on...</td>\n",
       "      <td>11</td>\n",
       "      <td>10</td>\n",
       "      <td>a</td>\n",
       "      <td>NaN</td>\n",
       "      <td>NaN</td>\n",
       "      <td>NaN</td>\n",
       "      <td>NaN</td>\n",
       "      <td>2016-06-26</td>\n",
       "      <td>2022-01-11 01:08:52</td>\n",
       "    </tr>\n",
       "    <tr>\n",
       "      <th>1049</th>\n",
       "      <td>743222593470234624</td>\n",
       "      <td>Twitter for iPhone</td>\n",
       "      <td>This is a very rare Great Alaskan Bush Pupper....</td>\n",
       "      <td>12</td>\n",
       "      <td>10</td>\n",
       "      <td>a</td>\n",
       "      <td>NaN</td>\n",
       "      <td>NaN</td>\n",
       "      <td>pupper</td>\n",
       "      <td>NaN</td>\n",
       "      <td>2016-06-15</td>\n",
       "      <td>2022-01-11 23:24:09</td>\n",
       "    </tr>\n",
       "    <tr>\n",
       "      <th>1193</th>\n",
       "      <td>717537687239008257</td>\n",
       "      <td>Twitter for iPhone</td>\n",
       "      <td>People please. This is a Deadly Mediterranean ...</td>\n",
       "      <td>11</td>\n",
       "      <td>10</td>\n",
       "      <td>a</td>\n",
       "      <td>NaN</td>\n",
       "      <td>NaN</td>\n",
       "      <td>NaN</td>\n",
       "      <td>NaN</td>\n",
       "      <td>2016-04-06</td>\n",
       "      <td>2022-01-11 02:21:30</td>\n",
       "    </tr>\n",
       "    <tr>\n",
       "      <th>1207</th>\n",
       "      <td>715733265223708672</td>\n",
       "      <td>Twitter for iPhone</td>\n",
       "      <td>This is a taco. We only rate dogs. Please only...</td>\n",
       "      <td>10</td>\n",
       "      <td>10</td>\n",
       "      <td>a</td>\n",
       "      <td>NaN</td>\n",
       "      <td>NaN</td>\n",
       "      <td>NaN</td>\n",
       "      <td>NaN</td>\n",
       "      <td>2016-04-01</td>\n",
       "      <td>2022-01-11 02:51:22</td>\n",
       "    </tr>\n",
       "    <tr>\n",
       "      <th>1340</th>\n",
       "      <td>704859558691414016</td>\n",
       "      <td>Twitter for iPhone</td>\n",
       "      <td>Here is a heartbreaking scene of an incredible...</td>\n",
       "      <td>10</td>\n",
       "      <td>10</td>\n",
       "      <td>a</td>\n",
       "      <td>NaN</td>\n",
       "      <td>NaN</td>\n",
       "      <td>pupper</td>\n",
       "      <td>NaN</td>\n",
       "      <td>2016-03-02</td>\n",
       "      <td>2022-01-11 02:43:09</td>\n",
       "    </tr>\n",
       "    <tr>\n",
       "      <th>1351</th>\n",
       "      <td>704054845121142784</td>\n",
       "      <td>Twitter for iPhone</td>\n",
       "      <td>Here is a whole flock of puppers.  60/50 I'll ...</td>\n",
       "      <td>12</td>\n",
       "      <td>10</td>\n",
       "      <td>a</td>\n",
       "      <td>NaN</td>\n",
       "      <td>NaN</td>\n",
       "      <td>NaN</td>\n",
       "      <td>NaN</td>\n",
       "      <td>2016-02-28</td>\n",
       "      <td>2022-01-11 21:25:30</td>\n",
       "    </tr>\n",
       "    <tr>\n",
       "      <th>1361</th>\n",
       "      <td>703079050210877440</td>\n",
       "      <td>Twitter for iPhone</td>\n",
       "      <td>This is a Butternut Cumberfloof. It's not wind...</td>\n",
       "      <td>11</td>\n",
       "      <td>10</td>\n",
       "      <td>a</td>\n",
       "      <td>NaN</td>\n",
       "      <td>NaN</td>\n",
       "      <td>NaN</td>\n",
       "      <td>NaN</td>\n",
       "      <td>2016-02-26</td>\n",
       "      <td>2022-01-11 04:48:02</td>\n",
       "    </tr>\n",
       "    <tr>\n",
       "      <th>1368</th>\n",
       "      <td>702539513671897089</td>\n",
       "      <td>Twitter for iPhone</td>\n",
       "      <td>This is a Wild Tuscan Poofwiggle. Careful not ...</td>\n",
       "      <td>12</td>\n",
       "      <td>10</td>\n",
       "      <td>a</td>\n",
       "      <td>NaN</td>\n",
       "      <td>NaN</td>\n",
       "      <td>NaN</td>\n",
       "      <td>NaN</td>\n",
       "      <td>2016-02-24</td>\n",
       "      <td>2022-01-11 17:04:07</td>\n",
       "    </tr>\n",
       "    <tr>\n",
       "      <th>1382</th>\n",
       "      <td>700864154249383937</td>\n",
       "      <td>Twitter for iPhone</td>\n",
       "      <td>\"Pupper is a present to world. Here is a bow f...</td>\n",
       "      <td>12</td>\n",
       "      <td>10</td>\n",
       "      <td>a</td>\n",
       "      <td>NaN</td>\n",
       "      <td>NaN</td>\n",
       "      <td>pupper</td>\n",
       "      <td>NaN</td>\n",
       "      <td>2016-02-20</td>\n",
       "      <td>2022-01-11 02:06:50</td>\n",
       "    </tr>\n",
       "    <tr>\n",
       "      <th>1499</th>\n",
       "      <td>692187005137076224</td>\n",
       "      <td>Twitter for iPhone</td>\n",
       "      <td>This is a rare Arctic Wubberfloof. Unamused by...</td>\n",
       "      <td>12</td>\n",
       "      <td>10</td>\n",
       "      <td>a</td>\n",
       "      <td>NaN</td>\n",
       "      <td>NaN</td>\n",
       "      <td>NaN</td>\n",
       "      <td>NaN</td>\n",
       "      <td>2016-01-27</td>\n",
       "      <td>2022-01-11 03:26:56</td>\n",
       "    </tr>\n",
       "    <tr>\n",
       "      <th>1737</th>\n",
       "      <td>679530280114372609</td>\n",
       "      <td>Twitter for iPhone</td>\n",
       "      <td>Guys this really needs to stop. We've been ove...</td>\n",
       "      <td>7</td>\n",
       "      <td>10</td>\n",
       "      <td>a</td>\n",
       "      <td>NaN</td>\n",
       "      <td>NaN</td>\n",
       "      <td>NaN</td>\n",
       "      <td>NaN</td>\n",
       "      <td>2015-12-23</td>\n",
       "      <td>2022-01-11 05:13:38</td>\n",
       "    </tr>\n",
       "    <tr>\n",
       "      <th>1785</th>\n",
       "      <td>677644091929329666</td>\n",
       "      <td>Twitter for iPhone</td>\n",
       "      <td>This is a dog swinging. I really enjoyed it so...</td>\n",
       "      <td>11</td>\n",
       "      <td>10</td>\n",
       "      <td>a</td>\n",
       "      <td>NaN</td>\n",
       "      <td>NaN</td>\n",
       "      <td>NaN</td>\n",
       "      <td>NaN</td>\n",
       "      <td>2015-12-18</td>\n",
       "      <td>2022-01-11 00:18:36</td>\n",
       "    </tr>\n",
       "    <tr>\n",
       "      <th>1853</th>\n",
       "      <td>675706639471788032</td>\n",
       "      <td>Twitter for iPhone</td>\n",
       "      <td>This is a Sizzlin Menorah spaniel from Brookly...</td>\n",
       "      <td>10</td>\n",
       "      <td>10</td>\n",
       "      <td>a</td>\n",
       "      <td>NaN</td>\n",
       "      <td>NaN</td>\n",
       "      <td>NaN</td>\n",
       "      <td>NaN</td>\n",
       "      <td>2015-12-12</td>\n",
       "      <td>2022-01-11 15:59:51</td>\n",
       "    </tr>\n",
       "    <tr>\n",
       "      <th>1854</th>\n",
       "      <td>675534494439489536</td>\n",
       "      <td>Twitter for iPhone</td>\n",
       "      <td>Seriously guys?! Only send in dogs. I only rat...</td>\n",
       "      <td>11</td>\n",
       "      <td>10</td>\n",
       "      <td>a</td>\n",
       "      <td>NaN</td>\n",
       "      <td>NaN</td>\n",
       "      <td>NaN</td>\n",
       "      <td>NaN</td>\n",
       "      <td>2015-12-12</td>\n",
       "      <td>2022-01-11 04:35:48</td>\n",
       "    </tr>\n",
       "    <tr>\n",
       "      <th>1877</th>\n",
       "      <td>675109292475830276</td>\n",
       "      <td>Twitter for iPhone</td>\n",
       "      <td>C'mon guys. We've been over this. We only rate...</td>\n",
       "      <td>9</td>\n",
       "      <td>10</td>\n",
       "      <td>a</td>\n",
       "      <td>NaN</td>\n",
       "      <td>NaN</td>\n",
       "      <td>NaN</td>\n",
       "      <td>NaN</td>\n",
       "      <td>2015-12-11</td>\n",
       "      <td>2022-01-11 00:26:12</td>\n",
       "    </tr>\n",
       "    <tr>\n",
       "      <th>1878</th>\n",
       "      <td>675047298674663426</td>\n",
       "      <td>Twitter for iPhone</td>\n",
       "      <td>This is a fluffy albino Bacardi Columbia mix. ...</td>\n",
       "      <td>11</td>\n",
       "      <td>10</td>\n",
       "      <td>a</td>\n",
       "      <td>NaN</td>\n",
       "      <td>NaN</td>\n",
       "      <td>NaN</td>\n",
       "      <td>NaN</td>\n",
       "      <td>2015-12-10</td>\n",
       "      <td>2022-01-11 20:19:52</td>\n",
       "    </tr>\n",
       "    <tr>\n",
       "      <th>1923</th>\n",
       "      <td>674082852460433408</td>\n",
       "      <td>Twitter for iPhone</td>\n",
       "      <td>This is a Sagitariot Baklava mix. Loves her ne...</td>\n",
       "      <td>11</td>\n",
       "      <td>10</td>\n",
       "      <td>a</td>\n",
       "      <td>NaN</td>\n",
       "      <td>NaN</td>\n",
       "      <td>NaN</td>\n",
       "      <td>NaN</td>\n",
       "      <td>2015-12-08</td>\n",
       "      <td>2022-01-11 04:27:30</td>\n",
       "    </tr>\n",
       "    <tr>\n",
       "      <th>1941</th>\n",
       "      <td>673715861853720576</td>\n",
       "      <td>Twitter for iPhone</td>\n",
       "      <td>This is a heavily opinionated dog. Loves walls...</td>\n",
       "      <td>4</td>\n",
       "      <td>10</td>\n",
       "      <td>a</td>\n",
       "      <td>NaN</td>\n",
       "      <td>NaN</td>\n",
       "      <td>NaN</td>\n",
       "      <td>NaN</td>\n",
       "      <td>2015-12-07</td>\n",
       "      <td>2022-01-11 04:09:13</td>\n",
       "    </tr>\n",
       "    <tr>\n",
       "      <th>1955</th>\n",
       "      <td>673636718965334016</td>\n",
       "      <td>Twitter for iPhone</td>\n",
       "      <td>This is a Lofted Aphrodisiac Terrier named Kip...</td>\n",
       "      <td>10</td>\n",
       "      <td>10</td>\n",
       "      <td>a</td>\n",
       "      <td>NaN</td>\n",
       "      <td>NaN</td>\n",
       "      <td>NaN</td>\n",
       "      <td>NaN</td>\n",
       "      <td>2015-12-06</td>\n",
       "      <td>2022-01-11 22:54:44</td>\n",
       "    </tr>\n",
       "    <tr>\n",
       "      <th>1994</th>\n",
       "      <td>672604026190569472</td>\n",
       "      <td>Twitter for iPhone</td>\n",
       "      <td>This is a baby Rand Paul. Curls for days. 11/1...</td>\n",
       "      <td>11</td>\n",
       "      <td>10</td>\n",
       "      <td>a</td>\n",
       "      <td>NaN</td>\n",
       "      <td>NaN</td>\n",
       "      <td>NaN</td>\n",
       "      <td>NaN</td>\n",
       "      <td>2015-12-04</td>\n",
       "      <td>2022-01-11 02:31:10</td>\n",
       "    </tr>\n",
       "    <tr>\n",
       "      <th>2034</th>\n",
       "      <td>671743150407421952</td>\n",
       "      <td>Twitter for iPhone</td>\n",
       "      <td>This is a Tuscaloosa Alcatraz named Jacob (Yac...</td>\n",
       "      <td>11</td>\n",
       "      <td>10</td>\n",
       "      <td>a</td>\n",
       "      <td>NaN</td>\n",
       "      <td>NaN</td>\n",
       "      <td>NaN</td>\n",
       "      <td>NaN</td>\n",
       "      <td>2015-12-01</td>\n",
       "      <td>2022-01-11 17:30:22</td>\n",
       "    </tr>\n",
       "    <tr>\n",
       "      <th>2066</th>\n",
       "      <td>671147085991960577</td>\n",
       "      <td>Twitter for iPhone</td>\n",
       "      <td>This is a Helvetica Listerine named Rufus. Thi...</td>\n",
       "      <td>9</td>\n",
       "      <td>10</td>\n",
       "      <td>a</td>\n",
       "      <td>NaN</td>\n",
       "      <td>NaN</td>\n",
       "      <td>NaN</td>\n",
       "      <td>NaN</td>\n",
       "      <td>2015-11-30</td>\n",
       "      <td>2022-01-11 02:01:49</td>\n",
       "    </tr>\n",
       "    <tr>\n",
       "      <th>2116</th>\n",
       "      <td>670427002554466305</td>\n",
       "      <td>Twitter for iPhone</td>\n",
       "      <td>This is a Deciduous Trimester mix named Spork....</td>\n",
       "      <td>9</td>\n",
       "      <td>10</td>\n",
       "      <td>a</td>\n",
       "      <td>NaN</td>\n",
       "      <td>NaN</td>\n",
       "      <td>NaN</td>\n",
       "      <td>NaN</td>\n",
       "      <td>2015-11-28</td>\n",
       "      <td>2022-01-11 02:20:27</td>\n",
       "    </tr>\n",
       "    <tr>\n",
       "      <th>2125</th>\n",
       "      <td>670361874861563904</td>\n",
       "      <td>Twitter for iPhone</td>\n",
       "      <td>This is a Rich Mahogany Seltzer named Cherokee...</td>\n",
       "      <td>9</td>\n",
       "      <td>10</td>\n",
       "      <td>a</td>\n",
       "      <td>NaN</td>\n",
       "      <td>NaN</td>\n",
       "      <td>NaN</td>\n",
       "      <td>NaN</td>\n",
       "      <td>2015-11-27</td>\n",
       "      <td>2022-01-11 22:01:40</td>\n",
       "    </tr>\n",
       "    <tr>\n",
       "      <th>2128</th>\n",
       "      <td>670303360680108032</td>\n",
       "      <td>Twitter for iPhone</td>\n",
       "      <td>This is a Speckled Cauliflower Yosemite named ...</td>\n",
       "      <td>9</td>\n",
       "      <td>10</td>\n",
       "      <td>a</td>\n",
       "      <td>NaN</td>\n",
       "      <td>NaN</td>\n",
       "      <td>NaN</td>\n",
       "      <td>NaN</td>\n",
       "      <td>2015-11-27</td>\n",
       "      <td>2022-01-11 18:09:09</td>\n",
       "    </tr>\n",
       "    <tr>\n",
       "      <th>2146</th>\n",
       "      <td>669923323644657664</td>\n",
       "      <td>Twitter for iPhone</td>\n",
       "      <td>This is a spotted Lipitor Rumpelstiltskin name...</td>\n",
       "      <td>10</td>\n",
       "      <td>10</td>\n",
       "      <td>a</td>\n",
       "      <td>NaN</td>\n",
       "      <td>NaN</td>\n",
       "      <td>NaN</td>\n",
       "      <td>NaN</td>\n",
       "      <td>2015-11-26</td>\n",
       "      <td>2022-01-11 16:59:01</td>\n",
       "    </tr>\n",
       "    <tr>\n",
       "      <th>2153</th>\n",
       "      <td>669661792646373376</td>\n",
       "      <td>Twitter for iPhone</td>\n",
       "      <td>This is a brave dog. Excellent free climber. T...</td>\n",
       "      <td>5</td>\n",
       "      <td>10</td>\n",
       "      <td>a</td>\n",
       "      <td>NaN</td>\n",
       "      <td>NaN</td>\n",
       "      <td>NaN</td>\n",
       "      <td>NaN</td>\n",
       "      <td>2015-11-25</td>\n",
       "      <td>2022-01-11 23:39:47</td>\n",
       "    </tr>\n",
       "    <tr>\n",
       "      <th>2161</th>\n",
       "      <td>669564461267722241</td>\n",
       "      <td>Twitter for iPhone</td>\n",
       "      <td>This is a Coriander Baton Rouge named Alfredo....</td>\n",
       "      <td>10</td>\n",
       "      <td>10</td>\n",
       "      <td>a</td>\n",
       "      <td>NaN</td>\n",
       "      <td>NaN</td>\n",
       "      <td>NaN</td>\n",
       "      <td>NaN</td>\n",
       "      <td>2015-11-25</td>\n",
       "      <td>2022-01-11 17:13:02</td>\n",
       "    </tr>\n",
       "    <tr>\n",
       "      <th>2191</th>\n",
       "      <td>668955713004314625</td>\n",
       "      <td>Twitter for iPhone</td>\n",
       "      <td>This is a Slovakian Helter Skelter Feta named ...</td>\n",
       "      <td>10</td>\n",
       "      <td>10</td>\n",
       "      <td>a</td>\n",
       "      <td>NaN</td>\n",
       "      <td>NaN</td>\n",
       "      <td>NaN</td>\n",
       "      <td>NaN</td>\n",
       "      <td>2015-11-24</td>\n",
       "      <td>2022-01-11 00:54:05</td>\n",
       "    </tr>\n",
       "    <tr>\n",
       "      <th>2198</th>\n",
       "      <td>668815180734689280</td>\n",
       "      <td>Twitter for iPhone</td>\n",
       "      <td>This is a wild Toblerone from Papua New Guinea...</td>\n",
       "      <td>7</td>\n",
       "      <td>10</td>\n",
       "      <td>a</td>\n",
       "      <td>NaN</td>\n",
       "      <td>NaN</td>\n",
       "      <td>NaN</td>\n",
       "      <td>NaN</td>\n",
       "      <td>2015-11-23</td>\n",
       "      <td>2022-01-11 15:35:39</td>\n",
       "    </tr>\n",
       "    <tr>\n",
       "      <th>2211</th>\n",
       "      <td>668614819948453888</td>\n",
       "      <td>Twitter for iPhone</td>\n",
       "      <td>Here is a horned dog. Much grace. Can jump ove...</td>\n",
       "      <td>7</td>\n",
       "      <td>10</td>\n",
       "      <td>a</td>\n",
       "      <td>NaN</td>\n",
       "      <td>NaN</td>\n",
       "      <td>NaN</td>\n",
       "      <td>NaN</td>\n",
       "      <td>2015-11-23</td>\n",
       "      <td>2022-01-11 02:19:29</td>\n",
       "    </tr>\n",
       "    <tr>\n",
       "      <th>2218</th>\n",
       "      <td>668507509523615744</td>\n",
       "      <td>Twitter for iPhone</td>\n",
       "      <td>This is a Birmingham Quagmire named Chuk. Love...</td>\n",
       "      <td>10</td>\n",
       "      <td>10</td>\n",
       "      <td>a</td>\n",
       "      <td>NaN</td>\n",
       "      <td>NaN</td>\n",
       "      <td>NaN</td>\n",
       "      <td>NaN</td>\n",
       "      <td>2015-11-22</td>\n",
       "      <td>2022-01-11 19:13:05</td>\n",
       "    </tr>\n",
       "    <tr>\n",
       "      <th>2222</th>\n",
       "      <td>668466899341221888</td>\n",
       "      <td>Twitter for iPhone</td>\n",
       "      <td>Here is a mother dog caring for her pups. Snaz...</td>\n",
       "      <td>4</td>\n",
       "      <td>10</td>\n",
       "      <td>a</td>\n",
       "      <td>NaN</td>\n",
       "      <td>NaN</td>\n",
       "      <td>NaN</td>\n",
       "      <td>NaN</td>\n",
       "      <td>2015-11-22</td>\n",
       "      <td>2022-01-11 16:31:42</td>\n",
       "    </tr>\n",
       "    <tr>\n",
       "      <th>2235</th>\n",
       "      <td>668171859951755264</td>\n",
       "      <td>Twitter for iPhone</td>\n",
       "      <td>This is a Trans Siberian Kellogg named Alfonso...</td>\n",
       "      <td>7</td>\n",
       "      <td>10</td>\n",
       "      <td>a</td>\n",
       "      <td>NaN</td>\n",
       "      <td>NaN</td>\n",
       "      <td>NaN</td>\n",
       "      <td>NaN</td>\n",
       "      <td>2015-11-21</td>\n",
       "      <td>2022-01-11 20:59:20</td>\n",
       "    </tr>\n",
       "    <tr>\n",
       "      <th>2249</th>\n",
       "      <td>667861340749471744</td>\n",
       "      <td>Twitter for iPhone</td>\n",
       "      <td>This is a Shotokon Macadamia mix named Cheryl....</td>\n",
       "      <td>9</td>\n",
       "      <td>10</td>\n",
       "      <td>a</td>\n",
       "      <td>NaN</td>\n",
       "      <td>NaN</td>\n",
       "      <td>NaN</td>\n",
       "      <td>NaN</td>\n",
       "      <td>2015-11-21</td>\n",
       "      <td>2022-01-11 00:25:26</td>\n",
       "    </tr>\n",
       "    <tr>\n",
       "      <th>2255</th>\n",
       "      <td>667773195014021121</td>\n",
       "      <td>Twitter Web Client</td>\n",
       "      <td>This is a rare Hungarian Pinot named Jessiga. ...</td>\n",
       "      <td>8</td>\n",
       "      <td>10</td>\n",
       "      <td>a</td>\n",
       "      <td>NaN</td>\n",
       "      <td>NaN</td>\n",
       "      <td>NaN</td>\n",
       "      <td>NaN</td>\n",
       "      <td>2015-11-20</td>\n",
       "      <td>2022-01-11 18:35:10</td>\n",
       "    </tr>\n",
       "    <tr>\n",
       "      <th>2264</th>\n",
       "      <td>667538891197542400</td>\n",
       "      <td>Twitter Web Client</td>\n",
       "      <td>This is a southwest Coriander named Klint. Hat...</td>\n",
       "      <td>9</td>\n",
       "      <td>10</td>\n",
       "      <td>a</td>\n",
       "      <td>NaN</td>\n",
       "      <td>NaN</td>\n",
       "      <td>NaN</td>\n",
       "      <td>NaN</td>\n",
       "      <td>2015-11-20</td>\n",
       "      <td>2022-01-11 03:04:08</td>\n",
       "    </tr>\n",
       "    <tr>\n",
       "      <th>2273</th>\n",
       "      <td>667470559035432960</td>\n",
       "      <td>Twitter Web Client</td>\n",
       "      <td>This is a northern Wahoo named Kohl. He runs t...</td>\n",
       "      <td>11</td>\n",
       "      <td>10</td>\n",
       "      <td>a</td>\n",
       "      <td>NaN</td>\n",
       "      <td>NaN</td>\n",
       "      <td>NaN</td>\n",
       "      <td>NaN</td>\n",
       "      <td>2015-11-19</td>\n",
       "      <td>2022-01-11 22:32:36</td>\n",
       "    </tr>\n",
       "    <tr>\n",
       "      <th>2287</th>\n",
       "      <td>667177989038297088</td>\n",
       "      <td>Twitter for iPhone</td>\n",
       "      <td>This is a Dasani Kingfisher from Maine. His na...</td>\n",
       "      <td>8</td>\n",
       "      <td>10</td>\n",
       "      <td>a</td>\n",
       "      <td>NaN</td>\n",
       "      <td>NaN</td>\n",
       "      <td>NaN</td>\n",
       "      <td>NaN</td>\n",
       "      <td>2015-11-19</td>\n",
       "      <td>2022-01-11 03:10:02</td>\n",
       "    </tr>\n",
       "    <tr>\n",
       "      <th>2304</th>\n",
       "      <td>666983947667116034</td>\n",
       "      <td>Twitter for iPhone</td>\n",
       "      <td>This is a curly Ticonderoga named Pepe. No fee...</td>\n",
       "      <td>11</td>\n",
       "      <td>10</td>\n",
       "      <td>a</td>\n",
       "      <td>NaN</td>\n",
       "      <td>NaN</td>\n",
       "      <td>NaN</td>\n",
       "      <td>NaN</td>\n",
       "      <td>2015-11-18</td>\n",
       "      <td>2022-01-11 14:18:59</td>\n",
       "    </tr>\n",
       "    <tr>\n",
       "      <th>2311</th>\n",
       "      <td>666781792255496192</td>\n",
       "      <td>Twitter for iPhone</td>\n",
       "      <td>This is a purebred Bacardi named Octaviath. Ca...</td>\n",
       "      <td>10</td>\n",
       "      <td>10</td>\n",
       "      <td>a</td>\n",
       "      <td>NaN</td>\n",
       "      <td>NaN</td>\n",
       "      <td>NaN</td>\n",
       "      <td>NaN</td>\n",
       "      <td>2015-11-18</td>\n",
       "      <td>2022-01-11 00:55:42</td>\n",
       "    </tr>\n",
       "    <tr>\n",
       "      <th>2314</th>\n",
       "      <td>666701168228331520</td>\n",
       "      <td>Twitter for iPhone</td>\n",
       "      <td>This is a golden Buckminsterfullerene named Jo...</td>\n",
       "      <td>8</td>\n",
       "      <td>10</td>\n",
       "      <td>a</td>\n",
       "      <td>NaN</td>\n",
       "      <td>NaN</td>\n",
       "      <td>NaN</td>\n",
       "      <td>NaN</td>\n",
       "      <td>2015-11-17</td>\n",
       "      <td>2022-01-11 19:35:19</td>\n",
       "    </tr>\n",
       "    <tr>\n",
       "      <th>2327</th>\n",
       "      <td>666407126856765440</td>\n",
       "      <td>Twitter for iPhone</td>\n",
       "      <td>This is a southern Vesuvius bumblegruff. Can d...</td>\n",
       "      <td>7</td>\n",
       "      <td>10</td>\n",
       "      <td>a</td>\n",
       "      <td>NaN</td>\n",
       "      <td>NaN</td>\n",
       "      <td>NaN</td>\n",
       "      <td>NaN</td>\n",
       "      <td>2015-11-17</td>\n",
       "      <td>2022-01-11 00:06:54</td>\n",
       "    </tr>\n",
       "    <tr>\n",
       "      <th>2334</th>\n",
       "      <td>666293911632134144</td>\n",
       "      <td>Twitter for iPhone</td>\n",
       "      <td>This is a funny dog. Weird toes. Won't come do...</td>\n",
       "      <td>3</td>\n",
       "      <td>10</td>\n",
       "      <td>a</td>\n",
       "      <td>NaN</td>\n",
       "      <td>NaN</td>\n",
       "      <td>NaN</td>\n",
       "      <td>NaN</td>\n",
       "      <td>2015-11-16</td>\n",
       "      <td>2022-01-11 16:37:02</td>\n",
       "    </tr>\n",
       "    <tr>\n",
       "      <th>2347</th>\n",
       "      <td>666057090499244032</td>\n",
       "      <td>Twitter for iPhone</td>\n",
       "      <td>My oh my. This is a rare blond Canadian terrie...</td>\n",
       "      <td>9</td>\n",
       "      <td>10</td>\n",
       "      <td>a</td>\n",
       "      <td>NaN</td>\n",
       "      <td>NaN</td>\n",
       "      <td>NaN</td>\n",
       "      <td>NaN</td>\n",
       "      <td>2015-11-16</td>\n",
       "      <td>2022-01-11 00:55:59</td>\n",
       "    </tr>\n",
       "    <tr>\n",
       "      <th>2348</th>\n",
       "      <td>666055525042405380</td>\n",
       "      <td>Twitter for iPhone</td>\n",
       "      <td>Here is a Siberian heavily armored polar bear ...</td>\n",
       "      <td>10</td>\n",
       "      <td>10</td>\n",
       "      <td>a</td>\n",
       "      <td>NaN</td>\n",
       "      <td>NaN</td>\n",
       "      <td>NaN</td>\n",
       "      <td>NaN</td>\n",
       "      <td>2015-11-16</td>\n",
       "      <td>2022-01-11 00:49:46</td>\n",
       "    </tr>\n",
       "    <tr>\n",
       "      <th>2350</th>\n",
       "      <td>666050758794694657</td>\n",
       "      <td>Twitter for iPhone</td>\n",
       "      <td>This is a truly beautiful English Wilson Staff...</td>\n",
       "      <td>10</td>\n",
       "      <td>10</td>\n",
       "      <td>a</td>\n",
       "      <td>NaN</td>\n",
       "      <td>NaN</td>\n",
       "      <td>NaN</td>\n",
       "      <td>NaN</td>\n",
       "      <td>2015-11-16</td>\n",
       "      <td>2022-01-11 00:30:50</td>\n",
       "    </tr>\n",
       "    <tr>\n",
       "      <th>2352</th>\n",
       "      <td>666044226329800704</td>\n",
       "      <td>Twitter for iPhone</td>\n",
       "      <td>This is a purebred Piers Morgan. Loves to Netf...</td>\n",
       "      <td>6</td>\n",
       "      <td>10</td>\n",
       "      <td>a</td>\n",
       "      <td>NaN</td>\n",
       "      <td>NaN</td>\n",
       "      <td>NaN</td>\n",
       "      <td>NaN</td>\n",
       "      <td>2015-11-16</td>\n",
       "      <td>2022-01-11 00:04:52</td>\n",
       "    </tr>\n",
       "    <tr>\n",
       "      <th>2353</th>\n",
       "      <td>666033412701032449</td>\n",
       "      <td>Twitter for iPhone</td>\n",
       "      <td>Here is a very happy pup. Big fan of well-main...</td>\n",
       "      <td>9</td>\n",
       "      <td>10</td>\n",
       "      <td>a</td>\n",
       "      <td>NaN</td>\n",
       "      <td>NaN</td>\n",
       "      <td>NaN</td>\n",
       "      <td>NaN</td>\n",
       "      <td>2015-11-15</td>\n",
       "      <td>2022-01-11 23:21:54</td>\n",
       "    </tr>\n",
       "    <tr>\n",
       "      <th>2354</th>\n",
       "      <td>666029285002620928</td>\n",
       "      <td>Twitter for iPhone</td>\n",
       "      <td>This is a western brown Mitsubishi terrier. Up...</td>\n",
       "      <td>7</td>\n",
       "      <td>10</td>\n",
       "      <td>a</td>\n",
       "      <td>NaN</td>\n",
       "      <td>NaN</td>\n",
       "      <td>NaN</td>\n",
       "      <td>NaN</td>\n",
       "      <td>2015-11-15</td>\n",
       "      <td>2022-01-11 23:05:30</td>\n",
       "    </tr>\n",
       "  </tbody>\n",
       "</table>\n",
       "</div>"
      ],
      "text/plain": [
       "                tweet_id              source  \\\n",
       "56    881536004380872706  Twitter for iPhone   \n",
       "649   792913359805018113  Twitter for iPhone   \n",
       "801   772581559778025472  Twitter for iPhone   \n",
       "1002  747885874273214464  Twitter for iPhone   \n",
       "1004  747816857231626240  Twitter for iPhone   \n",
       "1017  746872823977771008  Twitter for iPhone   \n",
       "1049  743222593470234624  Twitter for iPhone   \n",
       "1193  717537687239008257  Twitter for iPhone   \n",
       "1207  715733265223708672  Twitter for iPhone   \n",
       "1340  704859558691414016  Twitter for iPhone   \n",
       "1351  704054845121142784  Twitter for iPhone   \n",
       "1361  703079050210877440  Twitter for iPhone   \n",
       "1368  702539513671897089  Twitter for iPhone   \n",
       "1382  700864154249383937  Twitter for iPhone   \n",
       "1499  692187005137076224  Twitter for iPhone   \n",
       "1737  679530280114372609  Twitter for iPhone   \n",
       "1785  677644091929329666  Twitter for iPhone   \n",
       "1853  675706639471788032  Twitter for iPhone   \n",
       "1854  675534494439489536  Twitter for iPhone   \n",
       "1877  675109292475830276  Twitter for iPhone   \n",
       "1878  675047298674663426  Twitter for iPhone   \n",
       "1923  674082852460433408  Twitter for iPhone   \n",
       "1941  673715861853720576  Twitter for iPhone   \n",
       "1955  673636718965334016  Twitter for iPhone   \n",
       "1994  672604026190569472  Twitter for iPhone   \n",
       "2034  671743150407421952  Twitter for iPhone   \n",
       "2066  671147085991960577  Twitter for iPhone   \n",
       "2116  670427002554466305  Twitter for iPhone   \n",
       "2125  670361874861563904  Twitter for iPhone   \n",
       "2128  670303360680108032  Twitter for iPhone   \n",
       "2146  669923323644657664  Twitter for iPhone   \n",
       "2153  669661792646373376  Twitter for iPhone   \n",
       "2161  669564461267722241  Twitter for iPhone   \n",
       "2191  668955713004314625  Twitter for iPhone   \n",
       "2198  668815180734689280  Twitter for iPhone   \n",
       "2211  668614819948453888  Twitter for iPhone   \n",
       "2218  668507509523615744  Twitter for iPhone   \n",
       "2222  668466899341221888  Twitter for iPhone   \n",
       "2235  668171859951755264  Twitter for iPhone   \n",
       "2249  667861340749471744  Twitter for iPhone   \n",
       "2255  667773195014021121  Twitter Web Client   \n",
       "2264  667538891197542400  Twitter Web Client   \n",
       "2273  667470559035432960  Twitter Web Client   \n",
       "2287  667177989038297088  Twitter for iPhone   \n",
       "2304  666983947667116034  Twitter for iPhone   \n",
       "2311  666781792255496192  Twitter for iPhone   \n",
       "2314  666701168228331520  Twitter for iPhone   \n",
       "2327  666407126856765440  Twitter for iPhone   \n",
       "2334  666293911632134144  Twitter for iPhone   \n",
       "2347  666057090499244032  Twitter for iPhone   \n",
       "2348  666055525042405380  Twitter for iPhone   \n",
       "2350  666050758794694657  Twitter for iPhone   \n",
       "2352  666044226329800704  Twitter for iPhone   \n",
       "2353  666033412701032449  Twitter for iPhone   \n",
       "2354  666029285002620928  Twitter for iPhone   \n",
       "\n",
       "                                                   text  rating_numerator  \\\n",
       "56    Here is a pupper approaching maximum borkdrive...                14   \n",
       "649   Here is a perfect example of someone who has t...                13   \n",
       "801   Guys this is getting so out of hand. We only r...                10   \n",
       "1002  This is a mighty rare blue-tailed hammer sherk...                 8   \n",
       "1004  Viewer discretion is advised. This is a terrib...                 4   \n",
       "1017  This is a carrot. We only rate dogs. Please on...                11   \n",
       "1049  This is a very rare Great Alaskan Bush Pupper....                12   \n",
       "1193  People please. This is a Deadly Mediterranean ...                11   \n",
       "1207  This is a taco. We only rate dogs. Please only...                10   \n",
       "1340  Here is a heartbreaking scene of an incredible...                10   \n",
       "1351  Here is a whole flock of puppers.  60/50 I'll ...                12   \n",
       "1361  This is a Butternut Cumberfloof. It's not wind...                11   \n",
       "1368  This is a Wild Tuscan Poofwiggle. Careful not ...                12   \n",
       "1382  \"Pupper is a present to world. Here is a bow f...                12   \n",
       "1499  This is a rare Arctic Wubberfloof. Unamused by...                12   \n",
       "1737  Guys this really needs to stop. We've been ove...                 7   \n",
       "1785  This is a dog swinging. I really enjoyed it so...                11   \n",
       "1853  This is a Sizzlin Menorah spaniel from Brookly...                10   \n",
       "1854  Seriously guys?! Only send in dogs. I only rat...                11   \n",
       "1877  C'mon guys. We've been over this. We only rate...                 9   \n",
       "1878  This is a fluffy albino Bacardi Columbia mix. ...                11   \n",
       "1923  This is a Sagitariot Baklava mix. Loves her ne...                11   \n",
       "1941  This is a heavily opinionated dog. Loves walls...                 4   \n",
       "1955  This is a Lofted Aphrodisiac Terrier named Kip...                10   \n",
       "1994  This is a baby Rand Paul. Curls for days. 11/1...                11   \n",
       "2034  This is a Tuscaloosa Alcatraz named Jacob (Yac...                11   \n",
       "2066  This is a Helvetica Listerine named Rufus. Thi...                 9   \n",
       "2116  This is a Deciduous Trimester mix named Spork....                 9   \n",
       "2125  This is a Rich Mahogany Seltzer named Cherokee...                 9   \n",
       "2128  This is a Speckled Cauliflower Yosemite named ...                 9   \n",
       "2146  This is a spotted Lipitor Rumpelstiltskin name...                10   \n",
       "2153  This is a brave dog. Excellent free climber. T...                 5   \n",
       "2161  This is a Coriander Baton Rouge named Alfredo....                10   \n",
       "2191  This is a Slovakian Helter Skelter Feta named ...                10   \n",
       "2198  This is a wild Toblerone from Papua New Guinea...                 7   \n",
       "2211  Here is a horned dog. Much grace. Can jump ove...                 7   \n",
       "2218  This is a Birmingham Quagmire named Chuk. Love...                10   \n",
       "2222  Here is a mother dog caring for her pups. Snaz...                 4   \n",
       "2235  This is a Trans Siberian Kellogg named Alfonso...                 7   \n",
       "2249  This is a Shotokon Macadamia mix named Cheryl....                 9   \n",
       "2255  This is a rare Hungarian Pinot named Jessiga. ...                 8   \n",
       "2264  This is a southwest Coriander named Klint. Hat...                 9   \n",
       "2273  This is a northern Wahoo named Kohl. He runs t...                11   \n",
       "2287  This is a Dasani Kingfisher from Maine. His na...                 8   \n",
       "2304  This is a curly Ticonderoga named Pepe. No fee...                11   \n",
       "2311  This is a purebred Bacardi named Octaviath. Ca...                10   \n",
       "2314  This is a golden Buckminsterfullerene named Jo...                 8   \n",
       "2327  This is a southern Vesuvius bumblegruff. Can d...                 7   \n",
       "2334  This is a funny dog. Weird toes. Won't come do...                 3   \n",
       "2347  My oh my. This is a rare blond Canadian terrie...                 9   \n",
       "2348  Here is a Siberian heavily armored polar bear ...                10   \n",
       "2350  This is a truly beautiful English Wilson Staff...                10   \n",
       "2352  This is a purebred Piers Morgan. Loves to Netf...                 6   \n",
       "2353  Here is a very happy pup. Big fan of well-main...                 9   \n",
       "2354  This is a western brown Mitsubishi terrier. Up...                 7   \n",
       "\n",
       "      rating_denominator name doggo floofer  pupper puppo       date  \\\n",
       "56                    10    a   NaN     NaN  pupper   NaN 2017-07-02   \n",
       "649                   10    a   NaN     NaN     NaN   NaN 2016-10-31   \n",
       "801                   10    a   NaN     NaN     NaN   NaN 2016-09-04   \n",
       "1002                  10    a   NaN     NaN     NaN   NaN 2016-06-28   \n",
       "1004                  10    a   NaN     NaN     NaN   NaN 2016-06-28   \n",
       "1017                  10    a   NaN     NaN     NaN   NaN 2016-06-26   \n",
       "1049                  10    a   NaN     NaN  pupper   NaN 2016-06-15   \n",
       "1193                  10    a   NaN     NaN     NaN   NaN 2016-04-06   \n",
       "1207                  10    a   NaN     NaN     NaN   NaN 2016-04-01   \n",
       "1340                  10    a   NaN     NaN  pupper   NaN 2016-03-02   \n",
       "1351                  10    a   NaN     NaN     NaN   NaN 2016-02-28   \n",
       "1361                  10    a   NaN     NaN     NaN   NaN 2016-02-26   \n",
       "1368                  10    a   NaN     NaN     NaN   NaN 2016-02-24   \n",
       "1382                  10    a   NaN     NaN  pupper   NaN 2016-02-20   \n",
       "1499                  10    a   NaN     NaN     NaN   NaN 2016-01-27   \n",
       "1737                  10    a   NaN     NaN     NaN   NaN 2015-12-23   \n",
       "1785                  10    a   NaN     NaN     NaN   NaN 2015-12-18   \n",
       "1853                  10    a   NaN     NaN     NaN   NaN 2015-12-12   \n",
       "1854                  10    a   NaN     NaN     NaN   NaN 2015-12-12   \n",
       "1877                  10    a   NaN     NaN     NaN   NaN 2015-12-11   \n",
       "1878                  10    a   NaN     NaN     NaN   NaN 2015-12-10   \n",
       "1923                  10    a   NaN     NaN     NaN   NaN 2015-12-08   \n",
       "1941                  10    a   NaN     NaN     NaN   NaN 2015-12-07   \n",
       "1955                  10    a   NaN     NaN     NaN   NaN 2015-12-06   \n",
       "1994                  10    a   NaN     NaN     NaN   NaN 2015-12-04   \n",
       "2034                  10    a   NaN     NaN     NaN   NaN 2015-12-01   \n",
       "2066                  10    a   NaN     NaN     NaN   NaN 2015-11-30   \n",
       "2116                  10    a   NaN     NaN     NaN   NaN 2015-11-28   \n",
       "2125                  10    a   NaN     NaN     NaN   NaN 2015-11-27   \n",
       "2128                  10    a   NaN     NaN     NaN   NaN 2015-11-27   \n",
       "2146                  10    a   NaN     NaN     NaN   NaN 2015-11-26   \n",
       "2153                  10    a   NaN     NaN     NaN   NaN 2015-11-25   \n",
       "2161                  10    a   NaN     NaN     NaN   NaN 2015-11-25   \n",
       "2191                  10    a   NaN     NaN     NaN   NaN 2015-11-24   \n",
       "2198                  10    a   NaN     NaN     NaN   NaN 2015-11-23   \n",
       "2211                  10    a   NaN     NaN     NaN   NaN 2015-11-23   \n",
       "2218                  10    a   NaN     NaN     NaN   NaN 2015-11-22   \n",
       "2222                  10    a   NaN     NaN     NaN   NaN 2015-11-22   \n",
       "2235                  10    a   NaN     NaN     NaN   NaN 2015-11-21   \n",
       "2249                  10    a   NaN     NaN     NaN   NaN 2015-11-21   \n",
       "2255                  10    a   NaN     NaN     NaN   NaN 2015-11-20   \n",
       "2264                  10    a   NaN     NaN     NaN   NaN 2015-11-20   \n",
       "2273                  10    a   NaN     NaN     NaN   NaN 2015-11-19   \n",
       "2287                  10    a   NaN     NaN     NaN   NaN 2015-11-19   \n",
       "2304                  10    a   NaN     NaN     NaN   NaN 2015-11-18   \n",
       "2311                  10    a   NaN     NaN     NaN   NaN 2015-11-18   \n",
       "2314                  10    a   NaN     NaN     NaN   NaN 2015-11-17   \n",
       "2327                  10    a   NaN     NaN     NaN   NaN 2015-11-17   \n",
       "2334                  10    a   NaN     NaN     NaN   NaN 2015-11-16   \n",
       "2347                  10    a   NaN     NaN     NaN   NaN 2015-11-16   \n",
       "2348                  10    a   NaN     NaN     NaN   NaN 2015-11-16   \n",
       "2350                  10    a   NaN     NaN     NaN   NaN 2015-11-16   \n",
       "2352                  10    a   NaN     NaN     NaN   NaN 2015-11-16   \n",
       "2353                  10    a   NaN     NaN     NaN   NaN 2015-11-15   \n",
       "2354                  10    a   NaN     NaN     NaN   NaN 2015-11-15   \n",
       "\n",
       "                    time  \n",
       "56   2022-01-11 15:32:16  \n",
       "649  2022-01-11 02:17:31  \n",
       "801  2022-01-11 23:46:12  \n",
       "1002 2022-01-11 20:14:22  \n",
       "1004 2022-01-11 15:40:07  \n",
       "1017 2022-01-11 01:08:52  \n",
       "1049 2022-01-11 23:24:09  \n",
       "1193 2022-01-11 02:21:30  \n",
       "1207 2022-01-11 02:51:22  \n",
       "1340 2022-01-11 02:43:09  \n",
       "1351 2022-01-11 21:25:30  \n",
       "1361 2022-01-11 04:48:02  \n",
       "1368 2022-01-11 17:04:07  \n",
       "1382 2022-01-11 02:06:50  \n",
       "1499 2022-01-11 03:26:56  \n",
       "1737 2022-01-11 05:13:38  \n",
       "1785 2022-01-11 00:18:36  \n",
       "1853 2022-01-11 15:59:51  \n",
       "1854 2022-01-11 04:35:48  \n",
       "1877 2022-01-11 00:26:12  \n",
       "1878 2022-01-11 20:19:52  \n",
       "1923 2022-01-11 04:27:30  \n",
       "1941 2022-01-11 04:09:13  \n",
       "1955 2022-01-11 22:54:44  \n",
       "1994 2022-01-11 02:31:10  \n",
       "2034 2022-01-11 17:30:22  \n",
       "2066 2022-01-11 02:01:49  \n",
       "2116 2022-01-11 02:20:27  \n",
       "2125 2022-01-11 22:01:40  \n",
       "2128 2022-01-11 18:09:09  \n",
       "2146 2022-01-11 16:59:01  \n",
       "2153 2022-01-11 23:39:47  \n",
       "2161 2022-01-11 17:13:02  \n",
       "2191 2022-01-11 00:54:05  \n",
       "2198 2022-01-11 15:35:39  \n",
       "2211 2022-01-11 02:19:29  \n",
       "2218 2022-01-11 19:13:05  \n",
       "2222 2022-01-11 16:31:42  \n",
       "2235 2022-01-11 20:59:20  \n",
       "2249 2022-01-11 00:25:26  \n",
       "2255 2022-01-11 18:35:10  \n",
       "2264 2022-01-11 03:04:08  \n",
       "2273 2022-01-11 22:32:36  \n",
       "2287 2022-01-11 03:10:02  \n",
       "2304 2022-01-11 14:18:59  \n",
       "2311 2022-01-11 00:55:42  \n",
       "2314 2022-01-11 19:35:19  \n",
       "2327 2022-01-11 00:06:54  \n",
       "2334 2022-01-11 16:37:02  \n",
       "2347 2022-01-11 00:55:59  \n",
       "2348 2022-01-11 00:49:46  \n",
       "2350 2022-01-11 00:30:50  \n",
       "2352 2022-01-11 00:04:52  \n",
       "2353 2022-01-11 23:21:54  \n",
       "2354 2022-01-11 23:05:30  "
      ]
     },
     "execution_count": 75,
     "metadata": {},
     "output_type": "execute_result"
    }
   ],
   "source": [
    "twitter_archive_clean[twitter_archive_clean.name == 'a']"
   ]
  },
  {
   "cell_type": "code",
   "execution_count": 76,
   "metadata": {},
   "outputs": [],
   "source": [
    "twitter_archive_clean['name'] = twitter_archive_clean['name'].replace('None', np.nan)"
   ]
  },
  {
   "cell_type": "markdown",
   "metadata": {},
   "source": [
    "#### Test"
   ]
  },
  {
   "cell_type": "code",
   "execution_count": 77,
   "metadata": {},
   "outputs": [
    {
     "name": "stdout",
     "output_type": "stream",
     "text": [
      "There are 0 entries in the Name Column after replacing.\n"
     ]
    }
   ],
   "source": [
    "none_count=twitter_archive_clean[twitter_archive_clean.name == 'None']\n",
    "print(\"There are {} entries in the Name Column after replacing.\".format(none_count.name.count()))"
   ]
  },
  {
   "cell_type": "code",
   "execution_count": 78,
   "metadata": {},
   "outputs": [
    {
     "data": {
      "text/plain": [
       "a             55\n",
       "Charlie       11\n",
       "Lucy          11\n",
       "Oliver        10\n",
       "Cooper        10\n",
       "              ..\n",
       "Wishes         1\n",
       "Rose           1\n",
       "Theo           1\n",
       "Fido           1\n",
       "Christoper     1\n",
       "Name: name, Length: 955, dtype: int64"
      ]
     },
     "execution_count": 78,
     "metadata": {},
     "output_type": "execute_result"
    }
   ],
   "source": [
    "twitter_archive_clean.name.value_counts()"
   ]
  },
  {
   "cell_type": "code",
   "execution_count": 79,
   "metadata": {},
   "outputs": [
    {
     "data": {
      "text/html": [
       "<div>\n",
       "<style scoped>\n",
       "    .dataframe tbody tr th:only-of-type {\n",
       "        vertical-align: middle;\n",
       "    }\n",
       "\n",
       "    .dataframe tbody tr th {\n",
       "        vertical-align: top;\n",
       "    }\n",
       "\n",
       "    .dataframe thead th {\n",
       "        text-align: right;\n",
       "    }\n",
       "</style>\n",
       "<table border=\"1\" class=\"dataframe\">\n",
       "  <thead>\n",
       "    <tr style=\"text-align: right;\">\n",
       "      <th></th>\n",
       "      <th>tweet_id</th>\n",
       "      <th>source</th>\n",
       "      <th>text</th>\n",
       "      <th>rating_numerator</th>\n",
       "      <th>rating_denominator</th>\n",
       "      <th>name</th>\n",
       "      <th>doggo</th>\n",
       "      <th>floofer</th>\n",
       "      <th>pupper</th>\n",
       "      <th>puppo</th>\n",
       "      <th>date</th>\n",
       "      <th>time</th>\n",
       "    </tr>\n",
       "  </thead>\n",
       "  <tbody>\n",
       "    <tr>\n",
       "      <th>1035</th>\n",
       "      <td>744995568523612160</td>\n",
       "      <td>Twitter for iPhone</td>\n",
       "      <td>This is Abby. She got her face stuck in a glas...</td>\n",
       "      <td>9</td>\n",
       "      <td>10</td>\n",
       "      <td>Abby</td>\n",
       "      <td>NaN</td>\n",
       "      <td>NaN</td>\n",
       "      <td>NaN</td>\n",
       "      <td>puppo</td>\n",
       "      <td>2016-06-20</td>\n",
       "      <td>2022-01-11 20:49:19</td>\n",
       "    </tr>\n",
       "    <tr>\n",
       "      <th>248</th>\n",
       "      <td>845397057150107648</td>\n",
       "      <td>Twitter for iPhone</td>\n",
       "      <td>Say hello to Mimosa. She's an emotional suppor...</td>\n",
       "      <td>13</td>\n",
       "      <td>10</td>\n",
       "      <td>Mimosa</td>\n",
       "      <td>doggo</td>\n",
       "      <td>NaN</td>\n",
       "      <td>NaN</td>\n",
       "      <td>NaN</td>\n",
       "      <td>2017-03-24</td>\n",
       "      <td>2022-01-11 22:08:59</td>\n",
       "    </tr>\n",
       "    <tr>\n",
       "      <th>2199</th>\n",
       "      <td>668779399630725120</td>\n",
       "      <td>Twitter for iPhone</td>\n",
       "      <td>This is Kevon. He is not physically or mentall...</td>\n",
       "      <td>10</td>\n",
       "      <td>10</td>\n",
       "      <td>Kevon</td>\n",
       "      <td>NaN</td>\n",
       "      <td>NaN</td>\n",
       "      <td>NaN</td>\n",
       "      <td>NaN</td>\n",
       "      <td>2015-11-23</td>\n",
       "      <td>2022-01-11 13:13:28</td>\n",
       "    </tr>\n",
       "    <tr>\n",
       "      <th>1705</th>\n",
       "      <td>680836378243002368</td>\n",
       "      <td>Twitter for iPhone</td>\n",
       "      <td>This is Ellie. She's secretly ferocious. 12/10...</td>\n",
       "      <td>12</td>\n",
       "      <td>10</td>\n",
       "      <td>Ellie</td>\n",
       "      <td>NaN</td>\n",
       "      <td>NaN</td>\n",
       "      <td>pupper</td>\n",
       "      <td>NaN</td>\n",
       "      <td>2015-12-26</td>\n",
       "      <td>2022-01-11 19:43:36</td>\n",
       "    </tr>\n",
       "    <tr>\n",
       "      <th>1594</th>\n",
       "      <td>686377065986265092</td>\n",
       "      <td>Twitter for iPhone</td>\n",
       "      <td>Meet Birf. He thinks he's gone blind. 10/10 ve...</td>\n",
       "      <td>10</td>\n",
       "      <td>10</td>\n",
       "      <td>Birf</td>\n",
       "      <td>NaN</td>\n",
       "      <td>NaN</td>\n",
       "      <td>pupper</td>\n",
       "      <td>NaN</td>\n",
       "      <td>2016-01-11</td>\n",
       "      <td>2022-01-11 02:40:19</td>\n",
       "    </tr>\n",
       "    <tr>\n",
       "      <th>12</th>\n",
       "      <td>889665388333682689</td>\n",
       "      <td>Twitter for iPhone</td>\n",
       "      <td>Here's a puppo that seems to be on the fence a...</td>\n",
       "      <td>13</td>\n",
       "      <td>10</td>\n",
       "      <td>NaN</td>\n",
       "      <td>NaN</td>\n",
       "      <td>NaN</td>\n",
       "      <td>NaN</td>\n",
       "      <td>puppo</td>\n",
       "      <td>2017-07-25</td>\n",
       "      <td>2022-01-11 01:55:32</td>\n",
       "    </tr>\n",
       "    <tr>\n",
       "      <th>417</th>\n",
       "      <td>822489057087389700</td>\n",
       "      <td>Twitter for iPhone</td>\n",
       "      <td>This is Paisley. She really wanted to be presi...</td>\n",
       "      <td>13</td>\n",
       "      <td>10</td>\n",
       "      <td>Paisley</td>\n",
       "      <td>NaN</td>\n",
       "      <td>NaN</td>\n",
       "      <td>NaN</td>\n",
       "      <td>NaN</td>\n",
       "      <td>2017-01-20</td>\n",
       "      <td>2022-01-11 17:00:46</td>\n",
       "    </tr>\n",
       "  </tbody>\n",
       "</table>\n",
       "</div>"
      ],
      "text/plain": [
       "                tweet_id              source  \\\n",
       "1035  744995568523612160  Twitter for iPhone   \n",
       "248   845397057150107648  Twitter for iPhone   \n",
       "2199  668779399630725120  Twitter for iPhone   \n",
       "1705  680836378243002368  Twitter for iPhone   \n",
       "1594  686377065986265092  Twitter for iPhone   \n",
       "12    889665388333682689  Twitter for iPhone   \n",
       "417   822489057087389700  Twitter for iPhone   \n",
       "\n",
       "                                                   text  rating_numerator  \\\n",
       "1035  This is Abby. She got her face stuck in a glas...                 9   \n",
       "248   Say hello to Mimosa. She's an emotional suppor...                13   \n",
       "2199  This is Kevon. He is not physically or mentall...                10   \n",
       "1705  This is Ellie. She's secretly ferocious. 12/10...                12   \n",
       "1594  Meet Birf. He thinks he's gone blind. 10/10 ve...                10   \n",
       "12    Here's a puppo that seems to be on the fence a...                13   \n",
       "417   This is Paisley. She really wanted to be presi...                13   \n",
       "\n",
       "      rating_denominator     name  doggo floofer  pupper  puppo       date  \\\n",
       "1035                  10     Abby    NaN     NaN     NaN  puppo 2016-06-20   \n",
       "248                   10   Mimosa  doggo     NaN     NaN    NaN 2017-03-24   \n",
       "2199                  10    Kevon    NaN     NaN     NaN    NaN 2015-11-23   \n",
       "1705                  10    Ellie    NaN     NaN  pupper    NaN 2015-12-26   \n",
       "1594                  10     Birf    NaN     NaN  pupper    NaN 2016-01-11   \n",
       "12                    10      NaN    NaN     NaN     NaN  puppo 2017-07-25   \n",
       "417                   10  Paisley    NaN     NaN     NaN    NaN 2017-01-20   \n",
       "\n",
       "                    time  \n",
       "1035 2022-01-11 20:49:19  \n",
       "248  2022-01-11 22:08:59  \n",
       "2199 2022-01-11 13:13:28  \n",
       "1705 2022-01-11 19:43:36  \n",
       "1594 2022-01-11 02:40:19  \n",
       "12   2022-01-11 01:55:32  \n",
       "417  2022-01-11 17:00:46  "
      ]
     },
     "execution_count": 79,
     "metadata": {},
     "output_type": "execute_result"
    }
   ],
   "source": [
    "twitter_archive_clean.sample(7)"
   ]
  },
  {
   "cell_type": "code",
   "execution_count": 80,
   "metadata": {},
   "outputs": [
    {
     "name": "stdout",
     "output_type": "stream",
     "text": [
      "<class 'pandas.core.frame.DataFrame'>\n",
      "Int64Index: 2175 entries, 0 to 2355\n",
      "Data columns (total 12 columns):\n",
      " #   Column              Non-Null Count  Dtype         \n",
      "---  ------              --------------  -----         \n",
      " 0   tweet_id            2175 non-null   object        \n",
      " 1   source              2175 non-null   object        \n",
      " 2   text                2175 non-null   object        \n",
      " 3   rating_numerator    2175 non-null   int64         \n",
      " 4   rating_denominator  2175 non-null   int64         \n",
      " 5   name                1495 non-null   object        \n",
      " 6   doggo               87 non-null     object        \n",
      " 7   floofer             10 non-null     object        \n",
      " 8   pupper              234 non-null    object        \n",
      " 9   puppo               25 non-null     object        \n",
      " 10  date                2175 non-null   datetime64[ns]\n",
      " 11  time                2175 non-null   datetime64[ns]\n",
      "dtypes: datetime64[ns](2), int64(2), object(8)\n",
      "memory usage: 285.4+ KB\n"
     ]
    }
   ],
   "source": [
    "twitter_archive_clean.info()"
   ]
  },
  {
   "cell_type": "markdown",
   "metadata": {},
   "source": [
    "### Issue #8:"
   ]
  },
  {
   "cell_type": "markdown",
   "metadata": {
    "collapsed": true,
    "extensions": {
     "jupyter_dashboards": {
      "version": 1,
      "views": {
       "grid_default": {
        "hidden": true
       },
       "report_default": {
        "hidden": true
       }
      }
     }
    }
   },
   "source": [
    "#### Define\n",
    "\n",
    "##### Image Predictions:\n",
    "> tweet_id column datatype need to be change to sting."
   ]
  },
  {
   "cell_type": "markdown",
   "metadata": {},
   "source": [
    "#### Code"
   ]
  },
  {
   "cell_type": "code",
   "execution_count": 81,
   "metadata": {},
   "outputs": [],
   "source": [
    "image_predictions_clean = image_predictions.copy()"
   ]
  },
  {
   "cell_type": "code",
   "execution_count": 82,
   "metadata": {},
   "outputs": [
    {
     "name": "stdout",
     "output_type": "stream",
     "text": [
      "Datatype of Tweet Id column is: int64\n"
     ]
    }
   ],
   "source": [
    "dataType=image_predictions_clean.dtypes['tweet_id']\n",
    "print(\"Datatype of Tweet Id column is: {}\".format(dataType))"
   ]
  },
  {
   "cell_type": "code",
   "execution_count": 83,
   "metadata": {},
   "outputs": [],
   "source": [
    "image_predictions_clean=image_predictions_clean.astype({'tweet_id':str})"
   ]
  },
  {
   "cell_type": "markdown",
   "metadata": {},
   "source": [
    "#### Test"
   ]
  },
  {
   "cell_type": "code",
   "execution_count": 84,
   "metadata": {},
   "outputs": [
    {
     "name": "stdout",
     "output_type": "stream",
     "text": [
      "Datatype of Tweet Id column after changing datatype is: object\n",
      "<class 'pandas.core.frame.DataFrame'>\n",
      "RangeIndex: 2075 entries, 0 to 2074\n",
      "Data columns (total 12 columns):\n",
      " #   Column    Non-Null Count  Dtype  \n",
      "---  ------    --------------  -----  \n",
      " 0   tweet_id  2075 non-null   object \n",
      " 1   jpg_url   2075 non-null   object \n",
      " 2   img_num   2075 non-null   int64  \n",
      " 3   p1        2075 non-null   object \n",
      " 4   p1_conf   2075 non-null   float64\n",
      " 5   p1_dog    2075 non-null   bool   \n",
      " 6   p2        2075 non-null   object \n",
      " 7   p2_conf   2075 non-null   float64\n",
      " 8   p2_dog    2075 non-null   bool   \n",
      " 9   p3        2075 non-null   object \n",
      " 10  p3_conf   2075 non-null   float64\n",
      " 11  p3_dog    2075 non-null   bool   \n",
      "dtypes: bool(3), float64(3), int64(1), object(5)\n",
      "memory usage: 152.1+ KB\n"
     ]
    }
   ],
   "source": [
    "dataType=image_predictions_clean.dtypes['tweet_id']\n",
    "print(\"Datatype of Tweet Id column after changing datatype is: {}\".format(dataType))\n",
    "\n",
    "image_predictions_clean.info()"
   ]
  },
  {
   "cell_type": "markdown",
   "metadata": {},
   "source": [
    "### Issue #9:"
   ]
  },
  {
   "cell_type": "markdown",
   "metadata": {
    "collapsed": true,
    "extensions": {
     "jupyter_dashboards": {
      "version": 1,
      "views": {
       "grid_default": {
        "hidden": true
       },
       "report_default": {
        "hidden": true
       }
      }
     }
    }
   },
   "source": [
    "#### Define\n",
    "\n",
    "##### Image Predictions:\n",
    ">p1_conf, p1_dog, p2, p2_donf, p2_dog, p3, p3_conf, p3_dog columns are not required.\n"
   ]
  },
  {
   "cell_type": "markdown",
   "metadata": {},
   "source": [
    "#### Code"
   ]
  },
  {
   "cell_type": "code",
   "execution_count": 85,
   "metadata": {},
   "outputs": [
    {
     "data": {
      "text/plain": [
       "['tweet_id',\n",
       " 'jpg_url',\n",
       " 'img_num',\n",
       " 'p1',\n",
       " 'p1_conf',\n",
       " 'p1_dog',\n",
       " 'p2',\n",
       " 'p2_conf',\n",
       " 'p2_dog',\n",
       " 'p3',\n",
       " 'p3_conf',\n",
       " 'p3_dog']"
      ]
     },
     "execution_count": 85,
     "metadata": {},
     "output_type": "execute_result"
    }
   ],
   "source": [
    "list(image_predictions_clean.columns)"
   ]
  },
  {
   "cell_type": "code",
   "execution_count": 86,
   "metadata": {},
   "outputs": [],
   "source": [
    "unused_columns=[ 'img_num', \n",
    "                'p1_conf','p1_dog',\n",
    "                'p2','p2_conf','p2_dog',\n",
    "                'p3','p3_conf', 'p3_dog']\n",
    "\n",
    "image_predictions_clean=image_predictions_clean.drop(unused_columns,axis=1)"
   ]
  },
  {
   "cell_type": "markdown",
   "metadata": {},
   "source": [
    "#### Test"
   ]
  },
  {
   "cell_type": "code",
   "execution_count": 87,
   "metadata": {},
   "outputs": [
    {
     "data": {
      "text/plain": [
       "['tweet_id', 'jpg_url', 'p1']"
      ]
     },
     "execution_count": 87,
     "metadata": {},
     "output_type": "execute_result"
    }
   ],
   "source": [
    "list(image_predictions_clean.columns)"
   ]
  },
  {
   "cell_type": "code",
   "execution_count": 88,
   "metadata": {},
   "outputs": [
    {
     "name": "stdout",
     "output_type": "stream",
     "text": [
      "<class 'pandas.core.frame.DataFrame'>\n",
      "RangeIndex: 2075 entries, 0 to 2074\n",
      "Data columns (total 3 columns):\n",
      " #   Column    Non-Null Count  Dtype \n",
      "---  ------    --------------  ----- \n",
      " 0   tweet_id  2075 non-null   object\n",
      " 1   jpg_url   2075 non-null   object\n",
      " 2   p1        2075 non-null   object\n",
      "dtypes: object(3)\n",
      "memory usage: 48.8+ KB\n"
     ]
    }
   ],
   "source": [
    "image_predictions_clean.info()"
   ]
  },
  {
   "cell_type": "code",
   "execution_count": 89,
   "metadata": {},
   "outputs": [
    {
     "data": {
      "text/html": [
       "<div>\n",
       "<style scoped>\n",
       "    .dataframe tbody tr th:only-of-type {\n",
       "        vertical-align: middle;\n",
       "    }\n",
       "\n",
       "    .dataframe tbody tr th {\n",
       "        vertical-align: top;\n",
       "    }\n",
       "\n",
       "    .dataframe thead th {\n",
       "        text-align: right;\n",
       "    }\n",
       "</style>\n",
       "<table border=\"1\" class=\"dataframe\">\n",
       "  <thead>\n",
       "    <tr style=\"text-align: right;\">\n",
       "      <th></th>\n",
       "      <th>tweet_id</th>\n",
       "      <th>jpg_url</th>\n",
       "      <th>p1</th>\n",
       "    </tr>\n",
       "  </thead>\n",
       "  <tbody>\n",
       "    <tr>\n",
       "      <th>18</th>\n",
       "      <td>666268910803644416</td>\n",
       "      <td>https://pbs.twimg.com/media/CT8QCd1WEAADXws.jpg</td>\n",
       "      <td>desktop_computer</td>\n",
       "    </tr>\n",
       "    <tr>\n",
       "      <th>239</th>\n",
       "      <td>670435821946826752</td>\n",
       "      <td>https://pbs.twimg.com/media/CU3d0azWUAA38FD.jpg</td>\n",
       "      <td>sorrel</td>\n",
       "    </tr>\n",
       "    <tr>\n",
       "      <th>1961</th>\n",
       "      <td>866450705531457537</td>\n",
       "      <td>https://pbs.twimg.com/media/DAZAUfBXcAAG_Nn.jpg</td>\n",
       "      <td>French_bulldog</td>\n",
       "    </tr>\n",
       "  </tbody>\n",
       "</table>\n",
       "</div>"
      ],
      "text/plain": [
       "                tweet_id                                          jpg_url  \\\n",
       "18    666268910803644416  https://pbs.twimg.com/media/CT8QCd1WEAADXws.jpg   \n",
       "239   670435821946826752  https://pbs.twimg.com/media/CU3d0azWUAA38FD.jpg   \n",
       "1961  866450705531457537  https://pbs.twimg.com/media/DAZAUfBXcAAG_Nn.jpg   \n",
       "\n",
       "                    p1  \n",
       "18    desktop_computer  \n",
       "239             sorrel  \n",
       "1961    French_bulldog  "
      ]
     },
     "execution_count": 89,
     "metadata": {},
     "output_type": "execute_result"
    }
   ],
   "source": [
    "image_predictions_clean.sample(3)"
   ]
  },
  {
   "cell_type": "markdown",
   "metadata": {},
   "source": [
    "### Issue #10:"
   ]
  },
  {
   "cell_type": "markdown",
   "metadata": {
    "collapsed": true,
    "extensions": {
     "jupyter_dashboards": {
      "version": 1,
      "views": {
       "grid_default": {
        "hidden": true
       },
       "report_default": {
        "hidden": true
       }
      }
     }
    }
   },
   "source": [
    "#### Define\n",
    "\n",
    "> jpg_url have more than 60 entries with dupliacte values. So removing all duplicate values from dataset."
   ]
  },
  {
   "cell_type": "markdown",
   "metadata": {},
   "source": [
    "#### Code"
   ]
  },
  {
   "cell_type": "code",
   "execution_count": 90,
   "metadata": {},
   "outputs": [
    {
     "name": "stdout",
     "output_type": "stream",
     "text": [
      "There are 66 duplicate jpg_url in Image Predictions dataset.\n"
     ]
    }
   ],
   "source": [
    "duplicateValue_count=image_predictions_clean[image_predictions_clean.jpg_url.duplicated()].tweet_id.count()\n",
    "print(\"There are {} duplicate jpg_url in Image Predictions dataset.\".format(duplicateValue_count))"
   ]
  },
  {
   "cell_type": "code",
   "execution_count": 91,
   "metadata": {},
   "outputs": [],
   "source": [
    "image_predictions_clean = image_predictions_clean.drop_duplicates(subset=['jpg_url'], keep='last')"
   ]
  },
  {
   "cell_type": "markdown",
   "metadata": {},
   "source": [
    "#### Test"
   ]
  },
  {
   "cell_type": "code",
   "execution_count": 92,
   "metadata": {},
   "outputs": [
    {
     "name": "stdout",
     "output_type": "stream",
     "text": [
      "There are 0 duplicate jpg_url in Image Predictions dataset.\n"
     ]
    }
   ],
   "source": [
    "duplicateValue_count=image_predictions_clean[image_predictions_clean.jpg_url.duplicated()].tweet_id.count()\n",
    "print(\"There are {} duplicate jpg_url in Image Predictions dataset.\".format(duplicateValue_count))"
   ]
  },
  {
   "cell_type": "markdown",
   "metadata": {},
   "source": [
    "### Issue #11:"
   ]
  },
  {
   "cell_type": "markdown",
   "metadata": {
    "collapsed": true,
    "extensions": {
     "jupyter_dashboards": {
      "version": 1,
      "views": {
       "grid_default": {
        "hidden": true
       },
       "report_default": {
        "hidden": true
       }
      }
     }
    }
   },
   "source": [
    "#### Define\n",
    "\n",
    "> P1 has inconsisitent capital words.\n",
    "> <br>P1 has unnessary underscore instead of space."
   ]
  },
  {
   "cell_type": "markdown",
   "metadata": {},
   "source": [
    "#### Code"
   ]
  },
  {
   "cell_type": "code",
   "execution_count": 93,
   "metadata": {},
   "outputs": [
    {
     "data": {
      "text/html": [
       "<div>\n",
       "<style scoped>\n",
       "    .dataframe tbody tr th:only-of-type {\n",
       "        vertical-align: middle;\n",
       "    }\n",
       "\n",
       "    .dataframe tbody tr th {\n",
       "        vertical-align: top;\n",
       "    }\n",
       "\n",
       "    .dataframe thead th {\n",
       "        text-align: right;\n",
       "    }\n",
       "</style>\n",
       "<table border=\"1\" class=\"dataframe\">\n",
       "  <thead>\n",
       "    <tr style=\"text-align: right;\">\n",
       "      <th></th>\n",
       "      <th>tweet_id</th>\n",
       "      <th>jpg_url</th>\n",
       "      <th>p1</th>\n",
       "    </tr>\n",
       "  </thead>\n",
       "  <tbody>\n",
       "    <tr>\n",
       "      <th>503</th>\n",
       "      <td>675878199931371520</td>\n",
       "      <td>https://pbs.twimg.com/media/CWEzo19WoAEiOCj.jpg</td>\n",
       "      <td>wood_rabbit</td>\n",
       "    </tr>\n",
       "    <tr>\n",
       "      <th>1628</th>\n",
       "      <td>804738756058218496</td>\n",
       "      <td>https://pbs.twimg.com/media/CysBn-lWIAAoRx1.jpg</td>\n",
       "      <td>Tibetan_mastiff</td>\n",
       "    </tr>\n",
       "    <tr>\n",
       "      <th>1029</th>\n",
       "      <td>711008018775851008</td>\n",
       "      <td>https://pbs.twimg.com/media/Cd4CBQFW8AAY3ND.jpg</td>\n",
       "      <td>French_bulldog</td>\n",
       "    </tr>\n",
       "    <tr>\n",
       "      <th>157</th>\n",
       "      <td>668852170888998912</td>\n",
       "      <td>https://pbs.twimg.com/media/CUg9gBvWoAAmx-2.jpg</td>\n",
       "      <td>golden_retriever</td>\n",
       "    </tr>\n",
       "    <tr>\n",
       "      <th>863</th>\n",
       "      <td>697259378236399616</td>\n",
       "      <td>https://pbs.twimg.com/media/Ca0ps3AXEAAnp9m.jpg</td>\n",
       "      <td>Great_Dane</td>\n",
       "    </tr>\n",
       "  </tbody>\n",
       "</table>\n",
       "</div>"
      ],
      "text/plain": [
       "                tweet_id                                          jpg_url  \\\n",
       "503   675878199931371520  https://pbs.twimg.com/media/CWEzo19WoAEiOCj.jpg   \n",
       "1628  804738756058218496  https://pbs.twimg.com/media/CysBn-lWIAAoRx1.jpg   \n",
       "1029  711008018775851008  https://pbs.twimg.com/media/Cd4CBQFW8AAY3ND.jpg   \n",
       "157   668852170888998912  https://pbs.twimg.com/media/CUg9gBvWoAAmx-2.jpg   \n",
       "863   697259378236399616  https://pbs.twimg.com/media/Ca0ps3AXEAAnp9m.jpg   \n",
       "\n",
       "                    p1  \n",
       "503        wood_rabbit  \n",
       "1628   Tibetan_mastiff  \n",
       "1029    French_bulldog  \n",
       "157   golden_retriever  \n",
       "863         Great_Dane  "
      ]
     },
     "execution_count": 93,
     "metadata": {},
     "output_type": "execute_result"
    }
   ],
   "source": [
    "image_predictions_clean.sample(5)"
   ]
  },
  {
   "cell_type": "code",
   "execution_count": 94,
   "metadata": {},
   "outputs": [],
   "source": [
    "image_predictions_clean['p1'] = image_predictions_clean['p1'].str.replace(\"_\",\" \")\n",
    "image_predictions_clean['p1'] = image_predictions_clean['p1'].str.title()"
   ]
  },
  {
   "cell_type": "markdown",
   "metadata": {},
   "source": [
    "#### Test"
   ]
  },
  {
   "cell_type": "code",
   "execution_count": 95,
   "metadata": {},
   "outputs": [
    {
     "data": {
      "text/plain": [
       "Golden Retriever      139\n",
       "Labrador Retriever     95\n",
       "Pembroke               88\n",
       "Chihuahua              79\n",
       "Pug                    55\n",
       "                     ... \n",
       "Lorikeet                1\n",
       "Fire Engine             1\n",
       "Carousel                1\n",
       "Ibex                    1\n",
       "Orange                  1\n",
       "Name: p1, Length: 378, dtype: int64"
      ]
     },
     "execution_count": 95,
     "metadata": {},
     "output_type": "execute_result"
    }
   ],
   "source": [
    "image_predictions_clean.p1.value_counts()"
   ]
  },
  {
   "cell_type": "markdown",
   "metadata": {},
   "source": [
    "### Issue #12:"
   ]
  },
  {
   "cell_type": "markdown",
   "metadata": {
    "collapsed": true,
    "extensions": {
     "jupyter_dashboards": {
      "version": 1,
      "views": {
       "grid_default": {
        "hidden": true
       },
       "report_default": {
        "hidden": true
       }
      }
     }
    }
   },
   "source": [
    "#### Define\n",
    "\n",
    "> p1 name is not descriptive. These are the breed of dogs so changing column name to 'breed'."
   ]
  },
  {
   "cell_type": "markdown",
   "metadata": {},
   "source": [
    "#### Code"
   ]
  },
  {
   "cell_type": "code",
   "execution_count": 96,
   "metadata": {},
   "outputs": [
    {
     "name": "stdout",
     "output_type": "stream",
     "text": [
      "<class 'pandas.core.frame.DataFrame'>\n",
      "Int64Index: 2009 entries, 0 to 2074\n",
      "Data columns (total 3 columns):\n",
      " #   Column    Non-Null Count  Dtype \n",
      "---  ------    --------------  ----- \n",
      " 0   tweet_id  2009 non-null   object\n",
      " 1   jpg_url   2009 non-null   object\n",
      " 2   p1        2009 non-null   object\n",
      "dtypes: object(3)\n",
      "memory usage: 62.8+ KB\n"
     ]
    }
   ],
   "source": [
    "image_predictions_clean.info()"
   ]
  },
  {
   "cell_type": "code",
   "execution_count": 97,
   "metadata": {},
   "outputs": [],
   "source": [
    "image_predictions_clean = image_predictions_clean.rename(columns={\"p1\":\"breed\"})"
   ]
  },
  {
   "cell_type": "markdown",
   "metadata": {},
   "source": [
    "#### Test"
   ]
  },
  {
   "cell_type": "code",
   "execution_count": 98,
   "metadata": {},
   "outputs": [
    {
     "name": "stdout",
     "output_type": "stream",
     "text": [
      "<class 'pandas.core.frame.DataFrame'>\n",
      "Int64Index: 2009 entries, 0 to 2074\n",
      "Data columns (total 3 columns):\n",
      " #   Column    Non-Null Count  Dtype \n",
      "---  ------    --------------  ----- \n",
      " 0   tweet_id  2009 non-null   object\n",
      " 1   jpg_url   2009 non-null   object\n",
      " 2   breed     2009 non-null   object\n",
      "dtypes: object(3)\n",
      "memory usage: 62.8+ KB\n"
     ]
    }
   ],
   "source": [
    "image_predictions_clean.info()"
   ]
  },
  {
   "cell_type": "markdown",
   "metadata": {},
   "source": [
    "### Tidiness #1:"
   ]
  },
  {
   "cell_type": "markdown",
   "metadata": {
    "collapsed": true,
    "extensions": {
     "jupyter_dashboards": {
      "version": 1,
      "views": {
       "grid_default": {
        "hidden": true
       },
       "report_default": {
        "hidden": true
       }
      }
     }
    }
   },
   "source": [
    "#### Define\n",
    "\n",
    "> Need to combine 4 Columns(dog stages) and Make it one. (Twitter Archive)\n",
    "> Join Tweet Json table with the twitter_archive table. (Tweet Json)"
   ]
  },
  {
   "cell_type": "markdown",
   "metadata": {},
   "source": [
    "#### Code"
   ]
  },
  {
   "cell_type": "code",
   "execution_count": 99,
   "metadata": {},
   "outputs": [
    {
     "data": {
      "text/plain": [
       "(2175, 12)"
      ]
     },
     "execution_count": 99,
     "metadata": {},
     "output_type": "execute_result"
    }
   ],
   "source": [
    "list(twitter_archive_clean.columns)\n",
    "\n",
    "twitter_archive_clean.shape"
   ]
  },
  {
   "cell_type": "code",
   "execution_count": 100,
   "metadata": {},
   "outputs": [],
   "source": [
    "twitter_archive_clean['dog_stages'] = twitter_archive_clean.text.str.extract('(doggo|floofer|pupper|puppo)', expand = True)"
   ]
  },
  {
   "cell_type": "markdown",
   "metadata": {},
   "source": [
    "Reference: https://knowledge.udacity.com/questions/111929"
   ]
  },
  {
   "cell_type": "code",
   "execution_count": 101,
   "metadata": {},
   "outputs": [
    {
     "data": {
      "text/plain": [
       "pupper     244\n",
       "doggo       84\n",
       "puppo       32\n",
       "floofer      4\n",
       "Name: dog_stages, dtype: int64"
      ]
     },
     "execution_count": 101,
     "metadata": {},
     "output_type": "execute_result"
    }
   ],
   "source": [
    "twitter_archive_clean.dog_stages.value_counts()"
   ]
  },
  {
   "cell_type": "code",
   "execution_count": 102,
   "metadata": {},
   "outputs": [],
   "source": [
    "# Drop unnecessary columns\n",
    "twitter_archive_clean.drop(['doggo','floofer','pupper','puppo'], axis=1, inplace = True)"
   ]
  },
  {
   "cell_type": "code",
   "execution_count": 103,
   "metadata": {},
   "outputs": [
    {
     "data": {
      "text/plain": [
       "Index(['tweet_id', 'source', 'text', 'rating_numerator', 'rating_denominator',\n",
       "       'name', 'date', 'time', 'dog_stages'],\n",
       "      dtype='object')"
      ]
     },
     "execution_count": 103,
     "metadata": {},
     "output_type": "execute_result"
    }
   ],
   "source": [
    "twitter_archive_clean.columns"
   ]
  },
  {
   "cell_type": "markdown",
   "metadata": {},
   "source": [
    "#### Test"
   ]
  },
  {
   "cell_type": "code",
   "execution_count": 104,
   "metadata": {},
   "outputs": [
    {
     "data": {
      "text/plain": [
       "pupper     244\n",
       "doggo       84\n",
       "puppo       32\n",
       "floofer      4\n",
       "Name: dog_stages, dtype: int64"
      ]
     },
     "execution_count": 104,
     "metadata": {},
     "output_type": "execute_result"
    }
   ],
   "source": [
    "twitter_archive_clean.dog_stages.value_counts()"
   ]
  },
  {
   "cell_type": "code",
   "execution_count": 105,
   "metadata": {},
   "outputs": [
    {
     "data": {
      "text/html": [
       "<div>\n",
       "<style scoped>\n",
       "    .dataframe tbody tr th:only-of-type {\n",
       "        vertical-align: middle;\n",
       "    }\n",
       "\n",
       "    .dataframe tbody tr th {\n",
       "        vertical-align: top;\n",
       "    }\n",
       "\n",
       "    .dataframe thead th {\n",
       "        text-align: right;\n",
       "    }\n",
       "</style>\n",
       "<table border=\"1\" class=\"dataframe\">\n",
       "  <thead>\n",
       "    <tr style=\"text-align: right;\">\n",
       "      <th></th>\n",
       "      <th>tweet_id</th>\n",
       "      <th>source</th>\n",
       "      <th>text</th>\n",
       "      <th>rating_numerator</th>\n",
       "      <th>rating_denominator</th>\n",
       "      <th>name</th>\n",
       "      <th>date</th>\n",
       "      <th>time</th>\n",
       "      <th>dog_stages</th>\n",
       "    </tr>\n",
       "  </thead>\n",
       "  <tbody>\n",
       "    <tr>\n",
       "      <th>0</th>\n",
       "      <td>892420643555336193</td>\n",
       "      <td>Twitter for iPhone</td>\n",
       "      <td>This is Phineas. He's a mystical boy. Only eve...</td>\n",
       "      <td>13</td>\n",
       "      <td>10</td>\n",
       "      <td>Phineas</td>\n",
       "      <td>2017-08-01</td>\n",
       "      <td>2022-01-11 16:23:56</td>\n",
       "      <td>NaN</td>\n",
       "    </tr>\n",
       "    <tr>\n",
       "      <th>1</th>\n",
       "      <td>892177421306343426</td>\n",
       "      <td>Twitter for iPhone</td>\n",
       "      <td>This is Tilly. She's just checking pup on you....</td>\n",
       "      <td>13</td>\n",
       "      <td>10</td>\n",
       "      <td>Tilly</td>\n",
       "      <td>2017-08-01</td>\n",
       "      <td>2022-01-11 00:17:27</td>\n",
       "      <td>NaN</td>\n",
       "    </tr>\n",
       "    <tr>\n",
       "      <th>2</th>\n",
       "      <td>891815181378084864</td>\n",
       "      <td>Twitter for iPhone</td>\n",
       "      <td>This is Archie. He is a rare Norwegian Pouncin...</td>\n",
       "      <td>12</td>\n",
       "      <td>10</td>\n",
       "      <td>Archie</td>\n",
       "      <td>2017-07-31</td>\n",
       "      <td>2022-01-11 00:18:03</td>\n",
       "      <td>NaN</td>\n",
       "    </tr>\n",
       "    <tr>\n",
       "      <th>3</th>\n",
       "      <td>891689557279858688</td>\n",
       "      <td>Twitter for iPhone</td>\n",
       "      <td>This is Darla. She commenced a snooze mid meal...</td>\n",
       "      <td>13</td>\n",
       "      <td>10</td>\n",
       "      <td>Darla</td>\n",
       "      <td>2017-07-30</td>\n",
       "      <td>2022-01-11 15:58:51</td>\n",
       "      <td>NaN</td>\n",
       "    </tr>\n",
       "    <tr>\n",
       "      <th>4</th>\n",
       "      <td>891327558926688256</td>\n",
       "      <td>Twitter for iPhone</td>\n",
       "      <td>This is Franklin. He would like you to stop ca...</td>\n",
       "      <td>12</td>\n",
       "      <td>10</td>\n",
       "      <td>Franklin</td>\n",
       "      <td>2017-07-29</td>\n",
       "      <td>2022-01-11 16:00:24</td>\n",
       "      <td>NaN</td>\n",
       "    </tr>\n",
       "  </tbody>\n",
       "</table>\n",
       "</div>"
      ],
      "text/plain": [
       "             tweet_id              source  \\\n",
       "0  892420643555336193  Twitter for iPhone   \n",
       "1  892177421306343426  Twitter for iPhone   \n",
       "2  891815181378084864  Twitter for iPhone   \n",
       "3  891689557279858688  Twitter for iPhone   \n",
       "4  891327558926688256  Twitter for iPhone   \n",
       "\n",
       "                                                text  rating_numerator  \\\n",
       "0  This is Phineas. He's a mystical boy. Only eve...                13   \n",
       "1  This is Tilly. She's just checking pup on you....                13   \n",
       "2  This is Archie. He is a rare Norwegian Pouncin...                12   \n",
       "3  This is Darla. She commenced a snooze mid meal...                13   \n",
       "4  This is Franklin. He would like you to stop ca...                12   \n",
       "\n",
       "   rating_denominator      name       date                time dog_stages  \n",
       "0                  10   Phineas 2017-08-01 2022-01-11 16:23:56        NaN  \n",
       "1                  10     Tilly 2017-08-01 2022-01-11 00:17:27        NaN  \n",
       "2                  10    Archie 2017-07-31 2022-01-11 00:18:03        NaN  \n",
       "3                  10     Darla 2017-07-30 2022-01-11 15:58:51        NaN  \n",
       "4                  10  Franklin 2017-07-29 2022-01-11 16:00:24        NaN  "
      ]
     },
     "execution_count": 105,
     "metadata": {},
     "output_type": "execute_result"
    }
   ],
   "source": [
    "twitter_archive_clean.head()"
   ]
  },
  {
   "cell_type": "markdown",
   "metadata": {},
   "source": [
    "### Tidiness #2:"
   ]
  },
  {
   "cell_type": "markdown",
   "metadata": {
    "collapsed": true,
    "extensions": {
     "jupyter_dashboards": {
      "version": 1,
      "views": {
       "grid_default": {
        "hidden": true
       },
       "report_default": {
        "hidden": true
       }
      }
     }
    }
   },
   "source": [
    "#### Define\n",
    "\n",
    ">Join Tweet Json & Image Predictions datasets with the twitter_archive. (Tweet Json)"
   ]
  },
  {
   "cell_type": "markdown",
   "metadata": {},
   "source": [
    "#### Code"
   ]
  },
  {
   "cell_type": "code",
   "execution_count": 106,
   "metadata": {},
   "outputs": [
    {
     "name": "stdout",
     "output_type": "stream",
     "text": [
      "<class 'pandas.core.frame.DataFrame'>\n",
      "Int64Index: 2175 entries, 0 to 2355\n",
      "Data columns (total 9 columns):\n",
      " #   Column              Non-Null Count  Dtype         \n",
      "---  ------              --------------  -----         \n",
      " 0   tweet_id            2175 non-null   object        \n",
      " 1   source              2175 non-null   object        \n",
      " 2   text                2175 non-null   object        \n",
      " 3   rating_numerator    2175 non-null   int64         \n",
      " 4   rating_denominator  2175 non-null   int64         \n",
      " 5   name                1495 non-null   object        \n",
      " 6   date                2175 non-null   datetime64[ns]\n",
      " 7   time                2175 non-null   datetime64[ns]\n",
      " 8   dog_stages          364 non-null    object        \n",
      "dtypes: datetime64[ns](2), int64(2), object(5)\n",
      "memory usage: 234.5+ KB\n",
      "<class 'pandas.core.frame.DataFrame'>\n",
      "RangeIndex: 2328 entries, 0 to 2327\n",
      "Data columns (total 3 columns):\n",
      " #   Column           Non-Null Count  Dtype \n",
      "---  ------           --------------  ----- \n",
      " 0   tweet_id         2328 non-null   object\n",
      " 1   retweet_count    2328 non-null   int64 \n",
      " 2   favourite_count  2328 non-null   int64 \n",
      "dtypes: int64(2), object(1)\n",
      "memory usage: 54.7+ KB\n",
      "<class 'pandas.core.frame.DataFrame'>\n",
      "Int64Index: 2009 entries, 0 to 2074\n",
      "Data columns (total 3 columns):\n",
      " #   Column    Non-Null Count  Dtype \n",
      "---  ------    --------------  ----- \n",
      " 0   tweet_id  2009 non-null   object\n",
      " 1   jpg_url   2009 non-null   object\n",
      " 2   breed     2009 non-null   object\n",
      "dtypes: object(3)\n",
      "memory usage: 62.8+ KB\n"
     ]
    },
    {
     "data": {
      "text/plain": [
       "(None, None, None)"
      ]
     },
     "execution_count": 106,
     "metadata": {},
     "output_type": "execute_result"
    }
   ],
   "source": [
    "twitter_archive_clean.info(), tweet_json_clean.info(), image_predictions_clean.info()"
   ]
  },
  {
   "cell_type": "code",
   "execution_count": 107,
   "metadata": {},
   "outputs": [],
   "source": [
    "# Merge all dataset together.\n",
    "\n",
    "twitter_archive_master = pd.merge(twitter_archive_clean, tweet_json_clean, how=\"inner\", on = \"tweet_id\")\n",
    "twitter_archive_master = pd.merge(twitter_archive_master, image_predictions_clean, how=\"inner\", on = \"tweet_id\")\n",
    "twitter_archive_master.reset_index(drop=True, inplace=True)"
   ]
  },
  {
   "cell_type": "markdown",
   "metadata": {},
   "source": [
    "#### Test"
   ]
  },
  {
   "cell_type": "code",
   "execution_count": 108,
   "metadata": {},
   "outputs": [
    {
     "name": "stdout",
     "output_type": "stream",
     "text": [
      "<class 'pandas.core.frame.DataFrame'>\n",
      "RangeIndex: 1921 entries, 0 to 1920\n",
      "Data columns (total 13 columns):\n",
      " #   Column              Non-Null Count  Dtype         \n",
      "---  ------              --------------  -----         \n",
      " 0   tweet_id            1921 non-null   object        \n",
      " 1   source              1921 non-null   object        \n",
      " 2   text                1921 non-null   object        \n",
      " 3   rating_numerator    1921 non-null   int64         \n",
      " 4   rating_denominator  1921 non-null   int64         \n",
      " 5   name                1393 non-null   object        \n",
      " 6   date                1921 non-null   datetime64[ns]\n",
      " 7   time                1921 non-null   datetime64[ns]\n",
      " 8   dog_stages          316 non-null    object        \n",
      " 9   retweet_count       1921 non-null   int64         \n",
      " 10  favourite_count     1921 non-null   int64         \n",
      " 11  jpg_url             1921 non-null   object        \n",
      " 12  breed               1921 non-null   object        \n",
      "dtypes: datetime64[ns](2), int64(4), object(7)\n",
      "memory usage: 195.2+ KB\n"
     ]
    }
   ],
   "source": [
    "twitter_archive_master.info()"
   ]
  },
  {
   "cell_type": "code",
   "execution_count": 109,
   "metadata": {},
   "outputs": [
    {
     "data": {
      "text/html": [
       "<div>\n",
       "<style scoped>\n",
       "    .dataframe tbody tr th:only-of-type {\n",
       "        vertical-align: middle;\n",
       "    }\n",
       "\n",
       "    .dataframe tbody tr th {\n",
       "        vertical-align: top;\n",
       "    }\n",
       "\n",
       "    .dataframe thead th {\n",
       "        text-align: right;\n",
       "    }\n",
       "</style>\n",
       "<table border=\"1\" class=\"dataframe\">\n",
       "  <thead>\n",
       "    <tr style=\"text-align: right;\">\n",
       "      <th></th>\n",
       "      <th>rating_numerator</th>\n",
       "      <th>rating_denominator</th>\n",
       "      <th>retweet_count</th>\n",
       "      <th>favourite_count</th>\n",
       "    </tr>\n",
       "  </thead>\n",
       "  <tbody>\n",
       "    <tr>\n",
       "      <th>count</th>\n",
       "      <td>1921.000000</td>\n",
       "      <td>1921.0</td>\n",
       "      <td>1921.000000</td>\n",
       "      <td>1921.000000</td>\n",
       "    </tr>\n",
       "    <tr>\n",
       "      <th>mean</th>\n",
       "      <td>10.502343</td>\n",
       "      <td>10.0</td>\n",
       "      <td>2069.638730</td>\n",
       "      <td>7286.499219</td>\n",
       "    </tr>\n",
       "    <tr>\n",
       "      <th>std</th>\n",
       "      <td>2.191394</td>\n",
       "      <td>0.0</td>\n",
       "      <td>3664.860017</td>\n",
       "      <td>10743.854359</td>\n",
       "    </tr>\n",
       "    <tr>\n",
       "      <th>min</th>\n",
       "      <td>0.000000</td>\n",
       "      <td>10.0</td>\n",
       "      <td>11.000000</td>\n",
       "      <td>67.000000</td>\n",
       "    </tr>\n",
       "    <tr>\n",
       "      <th>25%</th>\n",
       "      <td>10.000000</td>\n",
       "      <td>10.0</td>\n",
       "      <td>490.000000</td>\n",
       "      <td>1596.000000</td>\n",
       "    </tr>\n",
       "    <tr>\n",
       "      <th>50%</th>\n",
       "      <td>11.000000</td>\n",
       "      <td>10.0</td>\n",
       "      <td>1049.000000</td>\n",
       "      <td>3323.000000</td>\n",
       "    </tr>\n",
       "    <tr>\n",
       "      <th>75%</th>\n",
       "      <td>12.000000</td>\n",
       "      <td>10.0</td>\n",
       "      <td>2366.000000</td>\n",
       "      <td>8793.000000</td>\n",
       "    </tr>\n",
       "    <tr>\n",
       "      <th>max</th>\n",
       "      <td>14.000000</td>\n",
       "      <td>10.0</td>\n",
       "      <td>71858.000000</td>\n",
       "      <td>146597.000000</td>\n",
       "    </tr>\n",
       "  </tbody>\n",
       "</table>\n",
       "</div>"
      ],
      "text/plain": [
       "       rating_numerator  rating_denominator  retweet_count  favourite_count\n",
       "count       1921.000000              1921.0    1921.000000      1921.000000\n",
       "mean          10.502343                10.0    2069.638730      7286.499219\n",
       "std            2.191394                 0.0    3664.860017     10743.854359\n",
       "min            0.000000                10.0      11.000000        67.000000\n",
       "25%           10.000000                10.0     490.000000      1596.000000\n",
       "50%           11.000000                10.0    1049.000000      3323.000000\n",
       "75%           12.000000                10.0    2366.000000      8793.000000\n",
       "max           14.000000                10.0   71858.000000    146597.000000"
      ]
     },
     "execution_count": 109,
     "metadata": {},
     "output_type": "execute_result"
    }
   ],
   "source": [
    "twitter_archive_master.describe()"
   ]
  },
  {
   "cell_type": "code",
   "execution_count": 110,
   "metadata": {},
   "outputs": [
    {
     "data": {
      "text/html": [
       "<div>\n",
       "<style scoped>\n",
       "    .dataframe tbody tr th:only-of-type {\n",
       "        vertical-align: middle;\n",
       "    }\n",
       "\n",
       "    .dataframe tbody tr th {\n",
       "        vertical-align: top;\n",
       "    }\n",
       "\n",
       "    .dataframe thead th {\n",
       "        text-align: right;\n",
       "    }\n",
       "</style>\n",
       "<table border=\"1\" class=\"dataframe\">\n",
       "  <thead>\n",
       "    <tr style=\"text-align: right;\">\n",
       "      <th></th>\n",
       "      <th>tweet_id</th>\n",
       "      <th>source</th>\n",
       "      <th>text</th>\n",
       "      <th>rating_numerator</th>\n",
       "      <th>rating_denominator</th>\n",
       "      <th>name</th>\n",
       "      <th>date</th>\n",
       "      <th>time</th>\n",
       "      <th>dog_stages</th>\n",
       "      <th>retweet_count</th>\n",
       "      <th>favourite_count</th>\n",
       "      <th>jpg_url</th>\n",
       "      <th>breed</th>\n",
       "    </tr>\n",
       "  </thead>\n",
       "  <tbody>\n",
       "    <tr>\n",
       "      <th>186</th>\n",
       "      <td>845677943972139009</td>\n",
       "      <td>Twitter for iPhone</td>\n",
       "      <td>C'mon guys. Please only send in dogs. We only ...</td>\n",
       "      <td>12</td>\n",
       "      <td>10</td>\n",
       "      <td>NaN</td>\n",
       "      <td>2017-03-25</td>\n",
       "      <td>2022-01-11 16:45:08</td>\n",
       "      <td>NaN</td>\n",
       "      <td>4440</td>\n",
       "      <td>23780</td>\n",
       "      <td>https://pbs.twimg.com/media/C7xzmngWkAAAp9C.jpg</td>\n",
       "      <td>Chow</td>\n",
       "    </tr>\n",
       "    <tr>\n",
       "      <th>168</th>\n",
       "      <td>849776966551130114</td>\n",
       "      <td>Twitter for iPhone</td>\n",
       "      <td>Seriously guys? Again? We only rate dogs. Plea...</td>\n",
       "      <td>12</td>\n",
       "      <td>10</td>\n",
       "      <td>NaN</td>\n",
       "      <td>2017-04-06</td>\n",
       "      <td>2022-01-11 00:13:11</td>\n",
       "      <td>NaN</td>\n",
       "      <td>6931</td>\n",
       "      <td>28310</td>\n",
       "      <td>https://pbs.twimg.com/media/C8sDpDWWsAE5P08.jpg</td>\n",
       "      <td>Chihuahua</td>\n",
       "    </tr>\n",
       "    <tr>\n",
       "      <th>516</th>\n",
       "      <td>778039087836069888</td>\n",
       "      <td>Twitter for iPhone</td>\n",
       "      <td>Evolution of a pupper yawn featuring Max. 12/1...</td>\n",
       "      <td>12</td>\n",
       "      <td>10</td>\n",
       "      <td>NaN</td>\n",
       "      <td>2016-09-20</td>\n",
       "      <td>2022-01-11 01:12:28</td>\n",
       "      <td>pupper</td>\n",
       "      <td>2501</td>\n",
       "      <td>8088</td>\n",
       "      <td>https://pbs.twimg.com/media/CswmaHmWAAAbdY9.jpg</td>\n",
       "      <td>German Shepherd</td>\n",
       "    </tr>\n",
       "    <tr>\n",
       "      <th>1469</th>\n",
       "      <td>674790488185167872</td>\n",
       "      <td>Twitter for iPhone</td>\n",
       "      <td>ER... MER... GERD 13/10 https://t.co/L1puJISV1a</td>\n",
       "      <td>13</td>\n",
       "      <td>10</td>\n",
       "      <td>NaN</td>\n",
       "      <td>2015-12-10</td>\n",
       "      <td>2022-01-11 03:19:24</td>\n",
       "      <td>NaN</td>\n",
       "      <td>220</td>\n",
       "      <td>1005</td>\n",
       "      <td>https://pbs.twimg.com/media/CV1WXsmWcAAgQ56.jpg</td>\n",
       "      <td>Labrador Retriever</td>\n",
       "    </tr>\n",
       "  </tbody>\n",
       "</table>\n",
       "</div>"
      ],
      "text/plain": [
       "                tweet_id              source  \\\n",
       "186   845677943972139009  Twitter for iPhone   \n",
       "168   849776966551130114  Twitter for iPhone   \n",
       "516   778039087836069888  Twitter for iPhone   \n",
       "1469  674790488185167872  Twitter for iPhone   \n",
       "\n",
       "                                                   text  rating_numerator  \\\n",
       "186   C'mon guys. Please only send in dogs. We only ...                12   \n",
       "168   Seriously guys? Again? We only rate dogs. Plea...                12   \n",
       "516   Evolution of a pupper yawn featuring Max. 12/1...                12   \n",
       "1469    ER... MER... GERD 13/10 https://t.co/L1puJISV1a                13   \n",
       "\n",
       "      rating_denominator name       date                time dog_stages  \\\n",
       "186                   10  NaN 2017-03-25 2022-01-11 16:45:08        NaN   \n",
       "168                   10  NaN 2017-04-06 2022-01-11 00:13:11        NaN   \n",
       "516                   10  NaN 2016-09-20 2022-01-11 01:12:28     pupper   \n",
       "1469                  10  NaN 2015-12-10 2022-01-11 03:19:24        NaN   \n",
       "\n",
       "      retweet_count  favourite_count  \\\n",
       "186            4440            23780   \n",
       "168            6931            28310   \n",
       "516            2501             8088   \n",
       "1469            220             1005   \n",
       "\n",
       "                                              jpg_url               breed  \n",
       "186   https://pbs.twimg.com/media/C7xzmngWkAAAp9C.jpg                Chow  \n",
       "168   https://pbs.twimg.com/media/C8sDpDWWsAE5P08.jpg           Chihuahua  \n",
       "516   https://pbs.twimg.com/media/CswmaHmWAAAbdY9.jpg     German Shepherd  \n",
       "1469  https://pbs.twimg.com/media/CV1WXsmWcAAgQ56.jpg  Labrador Retriever  "
      ]
     },
     "execution_count": 110,
     "metadata": {},
     "output_type": "execute_result"
    }
   ],
   "source": [
    "twitter_archive_master.sample(4)"
   ]
  },
  {
   "cell_type": "markdown",
   "metadata": {},
   "source": [
    "## Storing Data\n",
    "Save gathered, assessed, and cleaned master dataset to a CSV file named \"twitter_archive_master.csv\"."
   ]
  },
  {
   "cell_type": "code",
   "execution_count": 111,
   "metadata": {},
   "outputs": [],
   "source": [
    "twitter_archive_master.to_csv(\"twitter_archive_master.csv\")"
   ]
  },
  {
   "cell_type": "markdown",
   "metadata": {},
   "source": [
    "## Analyzing and Visualizing Data\n",
    "In this section, analyze and visualize your wrangled data. You must produce at least **three (3) insights and one (1) visualization.**"
   ]
  },
  {
   "cell_type": "markdown",
   "metadata": {},
   "source": [
    "### Insights:\n",
    "1. What is the most retweeted tweet?\n",
    "\n",
    "1. What is the most common rating?\n",
    "\n",
    "1. What are the most common breeds found by the neural network?\n",
    "\n",
    "1. What is the most Popular Twitter Source?\n",
    "\n",
    "1. Find out Top 5 Average Ratings, Favorite, Retweet Count By Dog Breed"
   ]
  },
  {
   "cell_type": "code",
   "execution_count": 112,
   "metadata": {},
   "outputs": [
    {
     "name": "stdout",
     "output_type": "stream",
     "text": [
      "<class 'pandas.core.frame.DataFrame'>\n",
      "RangeIndex: 1921 entries, 0 to 1920\n",
      "Data columns (total 13 columns):\n",
      " #   Column              Non-Null Count  Dtype         \n",
      "---  ------              --------------  -----         \n",
      " 0   tweet_id            1921 non-null   object        \n",
      " 1   source              1921 non-null   object        \n",
      " 2   text                1921 non-null   object        \n",
      " 3   rating_numerator    1921 non-null   int64         \n",
      " 4   rating_denominator  1921 non-null   int64         \n",
      " 5   name                1393 non-null   object        \n",
      " 6   date                1921 non-null   datetime64[ns]\n",
      " 7   time                1921 non-null   datetime64[ns]\n",
      " 8   dog_stages          316 non-null    object        \n",
      " 9   retweet_count       1921 non-null   int64         \n",
      " 10  favourite_count     1921 non-null   int64         \n",
      " 11  jpg_url             1921 non-null   object        \n",
      " 12  breed               1921 non-null   object        \n",
      "dtypes: datetime64[ns](2), int64(4), object(7)\n",
      "memory usage: 195.2+ KB\n"
     ]
    }
   ],
   "source": [
    "twitter_archive_master.info()"
   ]
  },
  {
   "cell_type": "code",
   "execution_count": 113,
   "metadata": {},
   "outputs": [
    {
     "data": {
      "text/html": [
       "<div>\n",
       "<style scoped>\n",
       "    .dataframe tbody tr th:only-of-type {\n",
       "        vertical-align: middle;\n",
       "    }\n",
       "\n",
       "    .dataframe tbody tr th {\n",
       "        vertical-align: top;\n",
       "    }\n",
       "\n",
       "    .dataframe thead th {\n",
       "        text-align: right;\n",
       "    }\n",
       "</style>\n",
       "<table border=\"1\" class=\"dataframe\">\n",
       "  <thead>\n",
       "    <tr style=\"text-align: right;\">\n",
       "      <th></th>\n",
       "      <th>tweet_id</th>\n",
       "      <th>source</th>\n",
       "      <th>text</th>\n",
       "      <th>rating_numerator</th>\n",
       "      <th>rating_denominator</th>\n",
       "      <th>name</th>\n",
       "      <th>date</th>\n",
       "      <th>time</th>\n",
       "      <th>dog_stages</th>\n",
       "      <th>retweet_count</th>\n",
       "      <th>favourite_count</th>\n",
       "      <th>jpg_url</th>\n",
       "      <th>breed</th>\n",
       "    </tr>\n",
       "  </thead>\n",
       "  <tbody>\n",
       "    <tr>\n",
       "      <th>1800</th>\n",
       "      <td>668226093875376128</td>\n",
       "      <td>Twitter for iPhone</td>\n",
       "      <td>Sneaky dog here. Tuba player has no clue. 10/1...</td>\n",
       "      <td>10</td>\n",
       "      <td>10</td>\n",
       "      <td>NaN</td>\n",
       "      <td>2015-11-22</td>\n",
       "      <td>2022-01-11 00:34:50</td>\n",
       "      <td>NaN</td>\n",
       "      <td>88</td>\n",
       "      <td>259</td>\n",
       "      <td>https://pbs.twimg.com/media/CUYEFlQXAAUkPGm.jpg</td>\n",
       "      <td>Trombone</td>\n",
       "    </tr>\n",
       "    <tr>\n",
       "      <th>843</th>\n",
       "      <td>720415127506415616</td>\n",
       "      <td>Twitter for iPhone</td>\n",
       "      <td>Garden's coming in nice this year. 10/10 https...</td>\n",
       "      <td>10</td>\n",
       "      <td>10</td>\n",
       "      <td>NaN</td>\n",
       "      <td>2016-04-14</td>\n",
       "      <td>2022-01-11 00:55:25</td>\n",
       "      <td>NaN</td>\n",
       "      <td>1386</td>\n",
       "      <td>3862</td>\n",
       "      <td>https://pbs.twimg.com/media/Cf9tuHUWsAAHSrV.jpg</td>\n",
       "      <td>Rottweiler</td>\n",
       "    </tr>\n",
       "    <tr>\n",
       "      <th>227</th>\n",
       "      <td>835297930240217089</td>\n",
       "      <td>Twitter for iPhone</td>\n",
       "      <td>Meet Ash. He's a Benebop Cumberplop. Quite rar...</td>\n",
       "      <td>12</td>\n",
       "      <td>10</td>\n",
       "      <td>Ash</td>\n",
       "      <td>2017-02-25</td>\n",
       "      <td>2022-01-11 01:18:40</td>\n",
       "      <td>NaN</td>\n",
       "      <td>2789</td>\n",
       "      <td>15685</td>\n",
       "      <td>https://pbs.twimg.com/media/C5eTCOVUsAAWhvc.jpg</td>\n",
       "      <td>Rottweiler</td>\n",
       "    </tr>\n",
       "    <tr>\n",
       "      <th>1396</th>\n",
       "      <td>676936541936185344</td>\n",
       "      <td>Twitter for iPhone</td>\n",
       "      <td>Here we see a rare pouched pupper. Ample stora...</td>\n",
       "      <td>8</td>\n",
       "      <td>10</td>\n",
       "      <td>NaN</td>\n",
       "      <td>2015-12-16</td>\n",
       "      <td>2022-01-11 01:27:03</td>\n",
       "      <td>pupper</td>\n",
       "      <td>4505</td>\n",
       "      <td>11782</td>\n",
       "      <td>https://pbs.twimg.com/media/CWT2MUgWIAECWig.jpg</td>\n",
       "      <td>Chesapeake Bay Retriever</td>\n",
       "    </tr>\n",
       "  </tbody>\n",
       "</table>\n",
       "</div>"
      ],
      "text/plain": [
       "                tweet_id              source  \\\n",
       "1800  668226093875376128  Twitter for iPhone   \n",
       "843   720415127506415616  Twitter for iPhone   \n",
       "227   835297930240217089  Twitter for iPhone   \n",
       "1396  676936541936185344  Twitter for iPhone   \n",
       "\n",
       "                                                   text  rating_numerator  \\\n",
       "1800  Sneaky dog here. Tuba player has no clue. 10/1...                10   \n",
       "843   Garden's coming in nice this year. 10/10 https...                10   \n",
       "227   Meet Ash. He's a Benebop Cumberplop. Quite rar...                12   \n",
       "1396  Here we see a rare pouched pupper. Ample stora...                 8   \n",
       "\n",
       "      rating_denominator name       date                time dog_stages  \\\n",
       "1800                  10  NaN 2015-11-22 2022-01-11 00:34:50        NaN   \n",
       "843                   10  NaN 2016-04-14 2022-01-11 00:55:25        NaN   \n",
       "227                   10  Ash 2017-02-25 2022-01-11 01:18:40        NaN   \n",
       "1396                  10  NaN 2015-12-16 2022-01-11 01:27:03     pupper   \n",
       "\n",
       "      retweet_count  favourite_count  \\\n",
       "1800             88              259   \n",
       "843            1386             3862   \n",
       "227            2789            15685   \n",
       "1396           4505            11782   \n",
       "\n",
       "                                              jpg_url  \\\n",
       "1800  https://pbs.twimg.com/media/CUYEFlQXAAUkPGm.jpg   \n",
       "843   https://pbs.twimg.com/media/Cf9tuHUWsAAHSrV.jpg   \n",
       "227   https://pbs.twimg.com/media/C5eTCOVUsAAWhvc.jpg   \n",
       "1396  https://pbs.twimg.com/media/CWT2MUgWIAECWig.jpg   \n",
       "\n",
       "                         breed  \n",
       "1800                  Trombone  \n",
       "843                 Rottweiler  \n",
       "227                 Rottweiler  \n",
       "1396  Chesapeake Bay Retriever  "
      ]
     },
     "execution_count": 113,
     "metadata": {},
     "output_type": "execute_result"
    }
   ],
   "source": [
    "twitter_archive_master.sample(4)"
   ]
  },
  {
   "cell_type": "code",
   "execution_count": 114,
   "metadata": {},
   "outputs": [
    {
     "data": {
      "text/html": [
       "<div>\n",
       "<style scoped>\n",
       "    .dataframe tbody tr th:only-of-type {\n",
       "        vertical-align: middle;\n",
       "    }\n",
       "\n",
       "    .dataframe tbody tr th {\n",
       "        vertical-align: top;\n",
       "    }\n",
       "\n",
       "    .dataframe thead th {\n",
       "        text-align: right;\n",
       "    }\n",
       "</style>\n",
       "<table border=\"1\" class=\"dataframe\">\n",
       "  <thead>\n",
       "    <tr style=\"text-align: right;\">\n",
       "      <th></th>\n",
       "      <th>tweet_id</th>\n",
       "      <th>source</th>\n",
       "      <th>text</th>\n",
       "      <th>rating_numerator</th>\n",
       "      <th>rating_denominator</th>\n",
       "      <th>name</th>\n",
       "      <th>date</th>\n",
       "      <th>time</th>\n",
       "      <th>dog_stages</th>\n",
       "      <th>retweet_count</th>\n",
       "      <th>favourite_count</th>\n",
       "      <th>jpg_url</th>\n",
       "      <th>breed</th>\n",
       "    </tr>\n",
       "  </thead>\n",
       "  <tbody>\n",
       "    <tr>\n",
       "      <th>727</th>\n",
       "      <td>744234799360020481</td>\n",
       "      <td>Twitter for iPhone</td>\n",
       "      <td>Here's a doggo realizing you can stand in a po...</td>\n",
       "      <td>13</td>\n",
       "      <td>10</td>\n",
       "      <td>NaN</td>\n",
       "      <td>2016-06-18</td>\n",
       "      <td>2022-01-11 18:26:18</td>\n",
       "      <td>doggo</td>\n",
       "      <td>71858</td>\n",
       "      <td>146597</td>\n",
       "      <td>https://pbs.twimg.com/ext_tw_video_thumb/74423...</td>\n",
       "      <td>Labrador Retriever</td>\n",
       "    </tr>\n",
       "  </tbody>\n",
       "</table>\n",
       "</div>"
      ],
      "text/plain": [
       "               tweet_id              source  \\\n",
       "727  744234799360020481  Twitter for iPhone   \n",
       "\n",
       "                                                  text  rating_numerator  \\\n",
       "727  Here's a doggo realizing you can stand in a po...                13   \n",
       "\n",
       "     rating_denominator name       date                time dog_stages  \\\n",
       "727                  10  NaN 2016-06-18 2022-01-11 18:26:18      doggo   \n",
       "\n",
       "     retweet_count  favourite_count  \\\n",
       "727          71858           146597   \n",
       "\n",
       "                                               jpg_url               breed  \n",
       "727  https://pbs.twimg.com/ext_tw_video_thumb/74423...  Labrador Retriever  "
      ]
     },
     "execution_count": 114,
     "metadata": {},
     "output_type": "execute_result"
    }
   ],
   "source": [
    "# 1. What is the most retweeted tweet?\n",
    "most_retweeted = twitter_archive_master[twitter_archive_master[\"retweet_count\"] == twitter_archive_master[\"retweet_count\"].max()]\n",
    "most_retweeted"
   ]
  },
  {
   "cell_type": "code",
   "execution_count": 115,
   "metadata": {},
   "outputs": [
    {
     "data": {
      "text/plain": [
       "('most_retweeted_twitter_handle.jpg',\n",
       " <http.client.HTTPMessage at 0x1a26a3c78e0>)"
      ]
     },
     "execution_count": 115,
     "metadata": {},
     "output_type": "execute_result"
    }
   ],
   "source": [
    "import urllib.request\n",
    "\n",
    "image_file=list(most_retweeted['jpg_url'])[0]\n",
    "\n",
    "urllib.request.urlretrieve(image_file, \"most_retweeted_twitter_handle.jpg\")"
   ]
  },
  {
   "cell_type": "code",
   "execution_count": 116,
   "metadata": {},
   "outputs": [
    {
     "data": {
      "image/jpeg": "[encoded data removed]",
      "text/plain": [
       "<IPython.core.display.Image object>"
      ]
     },
     "execution_count": 116,
     "metadata": {
      "image/jpeg": {
       "width": 500
      }
     },
     "output_type": "execute_result"
    }
   ],
   "source": [
    "from IPython.display import Image\n",
    "Image(filename='most_retweeted_twitter_handle.jpg', width=500) "
   ]
  },
  {
   "cell_type": "code",
   "execution_count": 117,
   "metadata": {},
   "outputs": [
    {
     "name": "stdout",
     "output_type": "stream",
     "text": [
      "Most Retweetd 'Labrador Retriever' breed with 744234799360020481 tweet id has 71858 retweet count & 146597 favorite count.\n"
     ]
    }
   ],
   "source": [
    "breed=list(most_retweeted['breed'])[0]\n",
    "tweet_id=list(most_retweeted['tweet_id'])[0]\n",
    "retweet_count=list(most_retweeted['retweet_count'])[0]\n",
    "favourite_count=list(most_retweeted['favourite_count'])[0]\n",
    "\n",
    "print(\"Most Retweetd '{}' breed with {} tweet id has {} retweet count & {} favorite count.\"\n",
    "      .format(breed,tweet_id,retweet_count,favourite_count))"
   ]
  },
  {
   "cell_type": "code",
   "execution_count": 118,
   "metadata": {},
   "outputs": [
    {
     "data": {
      "text/plain": [
       "12    433\n",
       "10    412\n",
       "11    391\n",
       "13    239\n",
       "9     152\n",
       "Name: rating_numerator, dtype: int64"
      ]
     },
     "execution_count": 118,
     "metadata": {},
     "output_type": "execute_result"
    }
   ],
   "source": [
    "# 2. What is the most common rating? (Top 5)\n",
    "most_common_rating = twitter_archive_master['rating_numerator'].value_counts().sort_values(ascending=False)\n",
    "most_common_rating.head()"
   ]
  },
  {
   "cell_type": "code",
   "execution_count": 119,
   "metadata": {},
   "outputs": [
    {
     "name": "stdout",
     "output_type": "stream",
     "text": [
      "Most common rating is 12 which has given to 433 dogs.\n"
     ]
    }
   ],
   "source": [
    "value=most_common_rating.index.tolist()[0]\n",
    "\n",
    "print(\"Most common rating is {} which has given to {} dogs.\".\n",
    "      format(value,most_common_rating[value]))"
   ]
  },
  {
   "cell_type": "code",
   "execution_count": 120,
   "metadata": {},
   "outputs": [
    {
     "data": {
      "text/plain": [
       "Golden Retriever      128\n",
       "Pembroke               87\n",
       "Labrador Retriever     87\n",
       "Chihuahua              75\n",
       "Pug                    52\n",
       "Name: breed, dtype: int64"
      ]
     },
     "execution_count": 120,
     "metadata": {},
     "output_type": "execute_result"
    }
   ],
   "source": [
    "#3. What are the most common breeds? (Top 5)\n",
    "most_common_breed = twitter_archive_master['breed'].value_counts()\n",
    "most_common_breed[:5]"
   ]
  },
  {
   "cell_type": "code",
   "execution_count": 121,
   "metadata": {},
   "outputs": [
    {
     "name": "stdout",
     "output_type": "stream",
     "text": [
      "Most Common Breed is 'Golden Retriever' with 128 count.\n",
      "Top 5 common breeds are ['Golden Retriever', 'Pembroke', 'Labrador Retriever', 'Chihuahua', 'Pug'].\n"
     ]
    }
   ],
   "source": [
    "print(\"Most Common Breed is '{}' with {} count.\".\n",
    "      format(most_common_breed.index.tolist()[0],most_common_breed[0]))\n",
    "\n",
    "print(\"Top 5 common breeds are {}.\".\n",
    "      format(most_common_breed.index.tolist()[:5]))"
   ]
  },
  {
   "cell_type": "code",
   "execution_count": 122,
   "metadata": {},
   "outputs": [
    {
     "data": {
      "text/plain": [
       "Twitter for iPhone    1885\n",
       "Twitter Web Client      26\n",
       "TweetDeck               10\n",
       "Name: source, dtype: int64"
      ]
     },
     "execution_count": 122,
     "metadata": {},
     "output_type": "execute_result"
    }
   ],
   "source": [
    "#4. What is the most Popular Twitter Source?\n",
    "most_popular_source = twitter_archive_master['source'].value_counts()\n",
    "most_popular_source"
   ]
  },
  {
   "cell_type": "code",
   "execution_count": 123,
   "metadata": {},
   "outputs": [
    {
     "name": "stdout",
     "output_type": "stream",
     "text": [
      "Most Popular Twitter Souce is 'Twitter for iPhone' with 1885 count.\n"
     ]
    }
   ],
   "source": [
    "print(\"Most Popular Twitter Souce is '{}' with {} count.\".format(most_popular_source.index.tolist()[0],most_popular_source[0]))"
   ]
  },
  {
   "cell_type": "code",
   "execution_count": 124,
   "metadata": {},
   "outputs": [
    {
     "data": {
      "text/plain": [
       "breed\n",
       "Conch        41788.0\n",
       "Limousine    41262.0\n",
       "Angora       41035.0\n",
       "Fountain     39586.0\n",
       "Bubble       35933.0\n",
       "Name: favourite_count, dtype: float64"
      ]
     },
     "execution_count": 124,
     "metadata": {},
     "output_type": "execute_result"
    }
   ],
   "source": [
    "#5a. Find out Top 5 Average Favorite Count By Dog Breed.\n",
    "favorite_count=twitter_archive_master.groupby('breed')['favourite_count'].mean().sort_values(ascending=False)\n",
    "favorite_count[:5]"
   ]
  },
  {
   "cell_type": "code",
   "execution_count": 125,
   "metadata": {},
   "outputs": [
    {
     "name": "stdout",
     "output_type": "stream",
     "text": [
      "In Top 5 Average Favorite Count is '41788.0' for Conch breed.\n",
      "Top 5 Average Favorite Dog Breeds by favorite count are ['Conch', 'Limousine', 'Angora', 'Fountain', 'Bubble'].\n"
     ]
    }
   ],
   "source": [
    "print(\"In Top 5 Average Favorite Count is '{}' for {} breed.\".\n",
    "      format(favorite_count[0],favorite_count.index.tolist()[0]))\n",
    "\n",
    "print(\"Top 5 Average Favorite Dog Breeds by favorite count are {}.\".\n",
    "      format(favorite_count.index.tolist()[:5]))"
   ]
  },
  {
   "cell_type": "code",
   "execution_count": 126,
   "metadata": {},
   "outputs": [
    {
     "data": {
      "text/plain": [
       "breed\n",
       "Conch      16552.0\n",
       "Bubble     14181.0\n",
       "Gondola    13677.0\n",
       "Angora     13456.0\n",
       "Beaver     13292.0\n",
       "Name: retweet_count, dtype: float64"
      ]
     },
     "execution_count": 126,
     "metadata": {},
     "output_type": "execute_result"
    }
   ],
   "source": [
    "#5b. Find out Top 5 Average Retweet Count By Dog Breed.\n",
    "retweet_count=twitter_archive_master.groupby('breed')['retweet_count'].mean().sort_values(ascending=False)\n",
    "retweet_count[:5]"
   ]
  },
  {
   "cell_type": "code",
   "execution_count": 127,
   "metadata": {},
   "outputs": [
    {
     "name": "stdout",
     "output_type": "stream",
     "text": [
      "In Top 5 Average Retweet Count is '16552.0' for Conch breed.\n",
      "Top 5 Average Favorite Dog Breeds by Retweet count are ['Conch', 'Bubble', 'Gondola', 'Angora', 'Beaver'].\n"
     ]
    }
   ],
   "source": [
    "print(\"In Top 5 Average Retweet Count is '{}' for {} breed.\".\n",
    "      format(retweet_count[0],retweet_count.index.tolist()[0]))\n",
    "\n",
    "print(\"Top 5 Average Favorite Dog Breeds by Retweet count are {}.\".\n",
    "      format(retweet_count.index.tolist()[:5]))"
   ]
  },
  {
   "cell_type": "code",
   "execution_count": 128,
   "metadata": {},
   "outputs": [
    {
     "data": {
      "text/plain": [
       "breed\n",
       "Prison              14.0\n",
       "Pedestal            14.0\n",
       "Military Uniform    14.0\n",
       "Limousine           14.0\n",
       "Pole                14.0\n",
       "Name: rating_numerator, dtype: float64"
      ]
     },
     "execution_count": 128,
     "metadata": {},
     "output_type": "execute_result"
    }
   ],
   "source": [
    "#5c. Find out Top 5 Average Retweet Count By Dog Breed.\n",
    "rating_numerator=twitter_archive_master.groupby('breed')['rating_numerator'].mean().sort_values(ascending=False)\n",
    "rating_numerator.head()"
   ]
  },
  {
   "cell_type": "code",
   "execution_count": 129,
   "metadata": {},
   "outputs": [
    {
     "name": "stdout",
     "output_type": "stream",
     "text": [
      "In Top 5 Average Rating Count is '14.0' for Prison breed.\n",
      "Top 5 Average Favorite Dog Breeds by Rating are ['Prison', 'Pedestal', 'Military Uniform', 'Limousine', 'Pole'].\n"
     ]
    }
   ],
   "source": [
    "print(\"In Top 5 Average Rating Count is '{}' for {} breed.\".\n",
    "      format(rating_numerator[0],rating_numerator.index.tolist()[0]))\n",
    "\n",
    "print(\"Top 5 Average Favorite Dog Breeds by Rating are {}.\".\n",
    "      format(rating_numerator.index.tolist()[:5]))"
   ]
  },
  {
   "cell_type": "markdown",
   "metadata": {
    "collapsed": true
   },
   "source": [
    "### Visualization 1: What is the average retweet count for each rating?"
   ]
  },
  {
   "cell_type": "code",
   "execution_count": 130,
   "metadata": {},
   "outputs": [],
   "source": [
    "def plotGrapgh(title,xlabel,ylabel,xrotation):\n",
    "    plt.title(title,size=20)\n",
    "    plt.xlabel(xlabel, fontsize=18)\n",
    "    plt.ylabel(ylabel, fontsize=18)\n",
    "    plt.xticks(rotation=xrotation, fontsize=16)\n",
    "    plt.yticks(fontsize=16)"
   ]
  },
  {
   "cell_type": "code",
   "execution_count": 131,
   "metadata": {},
   "outputs": [
    {
     "data": {
      "image/png": "[encoded data removed]",
      "text/plain": [
       "<Figure size 1080x648 with 1 Axes>"
      ]
     },
     "metadata": {
      "needs_background": "light"
     },
     "output_type": "display_data"
    }
   ],
   "source": [
    "plt.figure(figsize = (15,9))\n",
    "\n",
    "# Plot the results of Retweet Count\n",
    "rating_mean = twitter_archive_master.groupby(\"rating_numerator\")[\"retweet_count\"].mean()\n",
    "rating_mean.plot.bar(color=\"y\")\n",
    "\n",
    "# Print value on each bar\n",
    "for i in range(rating_mean.shape[0]):\n",
    "    if i <= 14:\n",
    "        count = int(rating_mean[i])\n",
    "        plt.text(i, count+250, count, ha = 'center', va='top', size=15)\n",
    "        \n",
    "# Customize plot title and labels\n",
    "plotGrapgh(\"DOG RATING VS AVERAGE NUMBER OF RETWEETS\",'RATING OUR OF 10.0','NUMBER OF REWEETS',0)\n",
    "\n",
    "# Save figure\n",
    "plt.savefig(\"Dog Rating vs Average Number of Retweets\") \n",
    "\n",
    "# Show figure\n",
    "plt.show()"
   ]
  },
  {
   "cell_type": "markdown",
   "metadata": {},
   "source": [
    "###  Visualization 2 - (Top 10 Dog Breed)"
   ]
  },
  {
   "cell_type": "code",
   "execution_count": 132,
   "metadata": {},
   "outputs": [
    {
     "data": {
      "image/png": "[encoded data removed]",
      "text/plain": [
       "<Figure size 1080x648 with 1 Axes>"
      ]
     },
     "metadata": {
      "needs_background": "light"
     },
     "output_type": "display_data"
    }
   ],
   "source": [
    "plt.figure(figsize = (15,9))\n",
    "\n",
    "# Plot the results of Top 10 Dog Breed\n",
    "breed_prediction_count = twitter_archive_master['breed'].value_counts().head(10)\n",
    "breed_prediction_count.plot.bar(color=\"b\")\n",
    "\n",
    "# Print value on each bar\n",
    "for i in range(breed_prediction_count.shape[0]):\n",
    "    count = int(breed_prediction_count[i])\n",
    "    plt.text(i, count+1, count, ha = 'center', size=15)\n",
    "        \n",
    "plotGrapgh(\"TOP 10 DOG BREED\",'DOG BREED','COUNT',90)\n",
    "\n",
    "# Save figure\n",
    "plt.savefig(\"Top 10 Dog Breed\") \n",
    "\n",
    "# Show figure\n",
    "plt.show()"
   ]
  },
  {
   "cell_type": "markdown",
   "metadata": {},
   "source": [
    "###  Visualization 3 - (Which dog breed are most rated)"
   ]
  },
  {
   "cell_type": "code",
   "execution_count": 133,
   "metadata": {},
   "outputs": [
    {
     "data": {
      "image/png": "[encoded data removed]",
      "text/plain": [
       "<Figure size 1080x648 with 1 Axes>"
      ]
     },
     "metadata": {
      "needs_background": "light"
     },
     "output_type": "display_data"
    }
   ],
   "source": [
    "plt.figure(figsize = (15,9))\n",
    "\n",
    "# Plot the results of Retweet Count\n",
    "most_rated_breed =  twitter_archive_master.groupby(\"breed\")[\"rating_numerator\"].mean().sort_values(ascending=False).head(10)\n",
    "most_rated_breed.plot.bar(color=(0.2, 0.4, 0.6, 0.6))\n",
    "\n",
    "# Print value on each bar\n",
    "for i in range(most_rated_breed.shape[0]):\n",
    "    if i <= 14:\n",
    "        count = int(most_rated_breed[i])\n",
    "        plt.text(i, count+.5, count, ha = 'center', va='top', size=15)\n",
    "        \n",
    "# Customize plot title and labels\n",
    "plotGrapgh(\"DOG BREED VS AVERAGE RATING\",'DOG BREED','RATING',50)\n",
    "\n",
    "# Save figure\n",
    "plt.savefig(\"Most rated Dog Breed\") \n",
    "\n",
    "# Show figure\n",
    "plt.show()"
   ]
  },
  {
   "cell_type": "markdown",
   "metadata": {},
   "source": [
    "###  Visualization 4 - (The most favourite dog type?)"
   ]
  },
  {
   "cell_type": "code",
   "execution_count": 134,
   "metadata": {},
   "outputs": [
    {
     "data": {
      "image/png": "[encoded data removed]",
      "text/plain": [
       "<Figure size 1080x648 with 1 Axes>"
      ]
     },
     "metadata": {
      "needs_background": "light"
     },
     "output_type": "display_data"
    }
   ],
   "source": [
    "plt.figure(figsize = (15,9))\n",
    "\n",
    "# Plot the results of Top 10 Dog Breed\n",
    "fav_dog_type = twitter_archive_master['dog_stages'].value_counts()\n",
    "fav_dog_type.plot.bar(color=['green','blue','black','red'])\n",
    "\n",
    "# Print value on each bar\n",
    "for i in range(fav_dog_type.shape[0]):\n",
    "    count = int(fav_dog_type[i])\n",
    "    plt.text(i, count+1, count, ha = 'center', size=15)\n",
    "\n",
    "plotGrapgh('MOST FAVORITE DOG TYPE','DOG TYPE','COUNT',0)\n",
    "\n",
    "# Save figure\n",
    "plt.savefig(\"Most Favorite Dog Type\") \n",
    "\n",
    "# Show figure\n",
    "plt.show()"
   ]
  },
  {
   "cell_type": "code",
   "execution_count": 2,
   "metadata": {},
   "outputs": [
    {
     "ename": "SyntaxError",
     "evalue": "invalid syntax (Temp/ipykernel_12248/1253106783.py, line 1)",
     "output_type": "error",
     "traceback": [
      "\u001b[1;36m  File \u001b[1;32m\"C:\\Users\\nihar\\AppData\\Local\\Temp/ipykernel_12248/1253106783.py\"\u001b[1;36m, line \u001b[1;32m1\u001b[0m\n\u001b[1;33m    jupyter nbconvert wrangle_act.ipynb --to pdf\u001b[0m\n\u001b[1;37m            ^\u001b[0m\n\u001b[1;31mSyntaxError\u001b[0m\u001b[1;31m:\u001b[0m invalid syntax\n"
     ]
    }
   ],
   "source": [
    " jupyter nbconvert wrangle_act.ipynb --to pdf"
   ]
  }
 ],
 "metadata": {
  "extensions": {
   "jupyter_dashboards": {
    "activeView": "report_default",
    "version": 1,
    "views": {
     "grid_default": {
      "cellMargin": 10,
      "defaultCellHeight": 20,
      "maxColumns": 12,
      "name": "grid",
      "type": "grid"
     },
     "report_default": {
      "name": "report",
      "type": "report"
     }
    }
   }
  },
  "kernelspec": {
   "display_name": "Python 3 (ipykernel)",
   "language": "python",
   "name": "python3"
  },
  "language_info": {
   "codemirror_mode": {
    "name": "ipython",
    "version": 3
   },
   "file_extension": ".py",
   "mimetype": "text/x-python",
   "name": "python",
   "nbconvert_exporter": "python",
   "pygments_lexer": "ipython3",
   "version": "3.8.12"
  }
 },
 "nbformat": 4,
 "nbformat_minor": 2
}
